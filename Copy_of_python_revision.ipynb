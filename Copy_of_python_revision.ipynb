{
  "nbformat": 4,
  "nbformat_minor": 0,
  "metadata": {
    "colab": {
      "provenance": [],
      "include_colab_link": true
    },
    "kernelspec": {
      "name": "python3",
      "display_name": "Python 3"
    },
    "language_info": {
      "name": "python"
    }
  },
  "cells": [
    {
      "cell_type": "markdown",
      "metadata": {
        "id": "view-in-github",
        "colab_type": "text"
      },
      "source": [
        "<a href=\"https://colab.research.google.com/github/sw01-prog/python_coding_practice/blob/main/Copy_of_python_revision.ipynb\" target=\"_parent\"><img src=\"https://colab.research.google.com/assets/colab-badge.svg\" alt=\"Open In Colab\"/></a>"
      ]
    },
    {
      "cell_type": "code",
      "execution_count": null,
      "metadata": {
        "id": "W2D61EB1W8m4"
      },
      "outputs": [],
      "source": [
        " X = [1,5,9,0]\n",
        " Y = [3,0,2,9]"
      ]
    },
    {
      "cell_type": "code",
      "source": [
        "# prompt: intersection of both th esets\n",
        "\n",
        "X = [1,5,9,0]\n",
        "Y = [3,0,2,9]\n",
        "\n",
        "intersection = list(set(X) & set(Y))\n",
        "intersection\n"
      ],
      "metadata": {
        "colab": {
          "base_uri": "https://localhost:8080/"
        },
        "id": "8zKpY3UBqowN",
        "outputId": "fefd103a-24a1-4e07-b189-2fccb66158dc"
      },
      "execution_count": null,
      "outputs": [
        {
          "output_type": "execute_result",
          "data": {
            "text/plain": [
              "[0, 9]"
            ]
          },
          "metadata": {},
          "execution_count": 2
        }
      ]
    },
    {
      "cell_type": "markdown",
      "source": [
        " Given an array, find all the duplicates in this array? For example: input: [1,2,3,1,3,6,5] output: [1,3]"
      ],
      "metadata": {
        "id": "NjUORtDpYWjT"
      }
    },
    {
      "cell_type": "code",
      "source": [
        "X=[1,2,3,1,3,6,5]"
      ],
      "metadata": {
        "id": "-Sk5EclJYP2z"
      },
      "execution_count": null,
      "outputs": []
    },
    {
      "cell_type": "code",
      "source": [
        "s=[]\n",
        "dup=[]\n",
        "for n in X:\n",
        " if n in s:\n",
        "   dup.append(n)\n",
        " else:\n",
        "    s.append(n)"
      ],
      "metadata": {
        "id": "7-a-sDXIZ1JM"
      },
      "execution_count": null,
      "outputs": []
    },
    {
      "cell_type": "code",
      "source": [
        "print(dup)"
      ],
      "metadata": {
        "colab": {
          "base_uri": "https://localhost:8080/"
        },
        "id": "x0F4-KfQfrKt",
        "outputId": "daa7e2b0-1a7b-4fb1-de9a-3cc0194405eb"
      },
      "execution_count": null,
      "outputs": [
        {
          "output_type": "stream",
          "name": "stdout",
          "text": [
            "[1, 3]\n"
          ]
        }
      ]
    },
    {
      "cell_type": "markdown",
      "source": [
        "set as empty list - unique feature as it cannot contain duplicate values."
      ],
      "metadata": {
        "id": "xNH-aLnkLgRC"
      }
    },
    {
      "cell_type": "code",
      "source": [
        "X=[10,5,8,7,2]"
      ],
      "metadata": {
        "id": "8thPXiPJGIiD"
      },
      "execution_count": null,
      "outputs": []
    },
    {
      "cell_type": "code",
      "source": [
        "def max_prod(x):\n",
        " x.sort()\n",
        " return(x[-1]*x[-2]*x[-3])"
      ],
      "metadata": {
        "id": "I889TYOzybSb"
      },
      "execution_count": null,
      "outputs": []
    },
    {
      "cell_type": "code",
      "source": [
        "57"
      ],
      "metadata": {
        "id": "u0z1PZitjOEq"
      },
      "execution_count": null,
      "outputs": []
    },
    {
      "cell_type": "markdown",
      "source": [
        "prime nos"
      ],
      "metadata": {
        "id": "YzuyChZCRxxR"
      }
    },
    {
      "cell_type": "code",
      "source": [
        "x= int(input())\n",
        "for d in range(2, x):\n",
        "    if x%d== 0:\n",
        "      print(False)\n",
        "    else:\n",
        "      print(True)"
      ],
      "metadata": {
        "colab": {
          "base_uri": "https://localhost:8080/"
        },
        "id": "0b1OoJUmZtBQ",
        "outputId": "fd02fefc-3bb5-44ba-c660-cec44fbebfa1"
      },
      "execution_count": null,
      "outputs": [
        {
          "output_type": "stream",
          "name": "stdout",
          "text": [
            "87\n",
            "True\n",
            "False\n",
            "True\n",
            "True\n",
            "True\n",
            "True\n",
            "True\n",
            "True\n",
            "True\n",
            "True\n",
            "True\n",
            "True\n",
            "True\n",
            "True\n",
            "True\n",
            "True\n",
            "True\n",
            "True\n",
            "True\n",
            "True\n",
            "True\n",
            "True\n",
            "True\n",
            "True\n",
            "True\n",
            "True\n",
            "True\n",
            "False\n",
            "True\n",
            "True\n",
            "True\n",
            "True\n",
            "True\n",
            "True\n",
            "True\n",
            "True\n",
            "True\n",
            "True\n",
            "True\n",
            "True\n",
            "True\n",
            "True\n",
            "True\n",
            "True\n",
            "True\n",
            "True\n",
            "True\n",
            "True\n",
            "True\n",
            "True\n",
            "True\n",
            "True\n",
            "True\n",
            "True\n",
            "True\n",
            "True\n",
            "True\n",
            "True\n",
            "True\n",
            "True\n",
            "True\n",
            "True\n",
            "True\n",
            "True\n",
            "True\n",
            "True\n",
            "True\n",
            "True\n",
            "True\n",
            "True\n",
            "True\n",
            "True\n",
            "True\n",
            "True\n",
            "True\n",
            "True\n",
            "True\n",
            "True\n",
            "True\n",
            "True\n",
            "True\n",
            "True\n",
            "True\n",
            "True\n",
            "True\n"
          ]
        }
      ]
    },
    {
      "cell_type": "code",
      "source": [
        "x= int(input())\n",
        "x= int(input())\n",
        "n = x # Assuming you want to iterate up to x.  If not, replace x with the intended limit.\n",
        "for d in range(2, n):\n",
        "    if x%d== 0:\n",
        "        print(False) # Use print to display the boolean value\n",
        "        break #Exit loop after finding a divisor\n",
        "else:\n",
        "    print(True) # Execute if loop completes without finding divisors\n",
        "\n"
      ],
      "metadata": {
        "id": "glbsuqrNmf-z",
        "colab": {
          "base_uri": "https://localhost:8080/",
          "height": 124
        },
        "outputId": "8102d3b4-5b7a-4788-df30-bdc799587a67"
      },
      "execution_count": null,
      "outputs": [
        {
          "name": "stdout",
          "output_type": "stream",
          "text": [
            "8\n"
          ]
        },
        {
          "output_type": "error",
          "ename": "SyntaxError",
          "evalue": "'return' outside function (<ipython-input-3-16964a90331b>, line 4)",
          "traceback": [
            "\u001b[0;36m  File \u001b[0;32m\"<ipython-input-3-16964a90331b>\"\u001b[0;36m, line \u001b[0;32m4\u001b[0m\n\u001b[0;31m    return false\u001b[0m\n\u001b[0m    ^\u001b[0m\n\u001b[0;31mSyntaxError\u001b[0m\u001b[0;31m:\u001b[0m 'return' outside function\n"
          ]
        }
      ]
    },
    {
      "cell_type": "code",
      "source": [
        "def is_prime(x):  # give the function a more descriptive name\n",
        "  x = int(input(\"Enter a number: \"))  # move input prompt inside function for clarity\n",
        "  for d in range(2, x):  # change n to x, iterate till x (exclusive)\n",
        "    if x % d == 0:\n",
        "      return False  # use boolean False, correct indentation\n",
        "  else:\n",
        "    return True  # use boolean True, correct indentation"
      ],
      "metadata": {
        "id": "FiWPG9AAX9oi"
      },
      "execution_count": null,
      "outputs": []
    },
    {
      "cell_type": "code",
      "source": [
        "x = int(input())\n",
        "for d in range(2, x):\n",
        "  if x%d==0:\n",
        "   print(false)\n",
        "   .break\n",
        "\n",
        "  else:\n",
        "    print(true)"
      ],
      "metadata": {
        "colab": {
          "base_uri": "https://localhost:8080/",
          "height": 228
        },
        "id": "CvKI1KMJh7S2",
        "outputId": "db20b676-26bb-4661-d22c-4ec982d13ac6"
      },
      "execution_count": null,
      "outputs": [
        {
          "name": "stdout",
          "output_type": "stream",
          "text": [
            "6\n"
          ]
        },
        {
          "output_type": "error",
          "ename": "NameError",
          "evalue": "name 'false' is not defined",
          "traceback": [
            "\u001b[0;31m---------------------------------------------------------------------------\u001b[0m",
            "\u001b[0;31mNameError\u001b[0m                                 Traceback (most recent call last)",
            "\u001b[0;32m<ipython-input-8-bb982dfb5176>\u001b[0m in \u001b[0;36m<cell line: 0>\u001b[0;34m()\u001b[0m\n\u001b[1;32m      2\u001b[0m \u001b[0;32mfor\u001b[0m \u001b[0md\u001b[0m \u001b[0;32min\u001b[0m \u001b[0mrange\u001b[0m\u001b[0;34m(\u001b[0m\u001b[0;36m2\u001b[0m\u001b[0;34m,\u001b[0m \u001b[0mx\u001b[0m\u001b[0;34m)\u001b[0m\u001b[0;34m:\u001b[0m\u001b[0;34m\u001b[0m\u001b[0;34m\u001b[0m\u001b[0m\n\u001b[1;32m      3\u001b[0m   \u001b[0;32mif\u001b[0m \u001b[0mx\u001b[0m\u001b[0;34m%\u001b[0m\u001b[0md\u001b[0m\u001b[0;34m==\u001b[0m\u001b[0;36m0\u001b[0m\u001b[0;34m:\u001b[0m\u001b[0;34m\u001b[0m\u001b[0;34m\u001b[0m\u001b[0m\n\u001b[0;32m----> 4\u001b[0;31m    \u001b[0mprint\u001b[0m\u001b[0;34m(\u001b[0m\u001b[0mfalse\u001b[0m\u001b[0;34m)\u001b[0m\u001b[0;34m\u001b[0m\u001b[0;34m\u001b[0m\u001b[0m\n\u001b[0m\u001b[1;32m      5\u001b[0m    \u001b[0;32mbreak\u001b[0m\u001b[0;34m\u001b[0m\u001b[0;34m\u001b[0m\u001b[0m\n\u001b[1;32m      6\u001b[0m \u001b[0;34m\u001b[0m\u001b[0m\n",
            "\u001b[0;31mNameError\u001b[0m: name 'false' is not defined"
          ]
        }
      ]
    },
    {
      "cell_type": "markdown",
      "source": [
        "Given an integer array, find the sum of the largest contiguous subarray within the array. For example, given the array A = [0,-1,-5,-2,3,14] it should return 17 because of [3,14]. Note that if all the elements are negative it should return zero."
      ],
      "metadata": {
        "id": "nB-kBGce_Ty4"
      }
    },
    {
      "cell_type": "markdown",
      "source": [
        "Numpy function np if the below function generate random numbers."
      ],
      "metadata": {
        "id": "mS8HbTL3yUPX"
      }
    },
    {
      "cell_type": "code",
      "source": [
        "import numpy as np\n",
        "a= np.empty((3), dtype=float)\n",
        "print(a)"
      ],
      "metadata": {
        "id": "R_i4tiGX_Uvl",
        "colab": {
          "base_uri": "https://localhost:8080/"
        },
        "outputId": "a2f0ef82-0e18-4ecc-a292-21e16baf6396"
      },
      "execution_count": null,
      "outputs": [
        {
          "output_type": "stream",
          "name": "stdout",
          "text": [
            "[0.  0.5 1. ]\n"
          ]
        }
      ]
    },
    {
      "cell_type": "code",
      "source": [
        "import numpy as np\n",
        "a= np.empty((2,2), dtype=int)\n",
        "print(a)"
      ],
      "metadata": {
        "colab": {
          "base_uri": "https://localhost:8080/"
        },
        "id": "Jmcm2W90yfGD",
        "outputId": "4d79e585-9cc5-4572-b1fd-51fbb0c708cd"
      },
      "execution_count": null,
      "outputs": [
        {
          "output_type": "stream",
          "name": "stdout",
          "text": [
            "[[          827675652                   0]\n",
            " [7738144531864184948          4294979187]]\n"
          ]
        }
      ]
    },
    {
      "cell_type": "code",
      "source": [
        "a = np.arange(0,40,3, dtype=float)\n",
        "print(a)"
      ],
      "metadata": {
        "colab": {
          "base_uri": "https://localhost:8080/"
        },
        "id": "5KoV_8Uq3Rsc",
        "outputId": "96e24609-a89e-4c52-f0fd-0a6d15d7e49f"
      },
      "execution_count": null,
      "outputs": [
        {
          "output_type": "stream",
          "name": "stdout",
          "text": [
            "[ 0.  3.  6.  9. 12. 15. 18. 21. 24. 27. 30. 33. 36. 39.]\n"
          ]
        }
      ]
    },
    {
      "cell_type": "code",
      "source": [
        "np.linspace(5,10,20, endpoint= False, retstep=True)"
      ],
      "metadata": {
        "colab": {
          "base_uri": "https://localhost:8080/"
        },
        "id": "JLGdDiQR9aD1",
        "outputId": "7c66b12f-64d6-4189-d1d1-8500a7683371"
      },
      "execution_count": null,
      "outputs": [
        {
          "output_type": "execute_result",
          "data": {
            "text/plain": [
              "(array([5.  , 5.25, 5.5 , 5.75, 6.  , 6.25, 6.5 , 6.75, 7.  , 7.25, 7.5 ,\n",
              "        7.75, 8.  , 8.25, 8.5 , 8.75, 9.  , 9.25, 9.5 , 9.75]),\n",
              " np.float64(0.25))"
            ]
          },
          "metadata": {},
          "execution_count": 8
        }
      ]
    },
    {
      "cell_type": "markdown",
      "source": [
        "euclidean distance code - manual\n",
        "\n"
      ],
      "metadata": {
        "id": "Tj3M6zGv_kHm"
      }
    },
    {
      "cell_type": "code",
      "source": [
        "x1= int(input())\n",
        "y1= int(input())\n",
        "x2= int(input())\n",
        "y2= int(input())"
      ],
      "metadata": {
        "colab": {
          "base_uri": "https://localhost:8080/"
        },
        "id": "ALrNbWRqZmFF",
        "outputId": "a03e0aff-d5f9-412d-df58-bbe220fd0425"
      },
      "execution_count": null,
      "outputs": [
        {
          "name": "stdout",
          "output_type": "stream",
          "text": [
            "5\n",
            "3\n",
            "6\n",
            "9\n"
          ]
        }
      ]
    },
    {
      "cell_type": "code",
      "source": [
        "import math"
      ],
      "metadata": {
        "id": "2uHSOdp8aEBe"
      },
      "execution_count": null,
      "outputs": []
    },
    {
      "cell_type": "code",
      "source": [
        "a = math.sqrt((x1-x2)**2+(y2-y1)**2)"
      ],
      "metadata": {
        "id": "mEsM4N3N9xPF"
      },
      "execution_count": null,
      "outputs": []
    },
    {
      "cell_type": "code",
      "source": [
        "print(a)"
      ],
      "metadata": {
        "colab": {
          "base_uri": "https://localhost:8080/"
        },
        "id": "ErWtJYzEaMwH",
        "outputId": "b1677be9-439f-40a8-e5ce-e24b0f9103f2"
      },
      "execution_count": null,
      "outputs": [
        {
          "output_type": "stream",
          "name": "stdout",
          "text": [
            "6.082762530298219\n"
          ]
        }
      ]
    },
    {
      "cell_type": "code",
      "source": [
        "import numpy as np\n",
        "a= np.array([2,6,9])\n",
        "b= np.array([9,1,3])\n",
        "d= np.linalg.norm(a-b)\n",
        "print(d)"
      ],
      "metadata": {
        "colab": {
          "base_uri": "https://localhost:8080/"
        },
        "id": "7JEvHmRRac61",
        "outputId": "7ce4a6c9-541c-40ea-da70-8ae61b013668"
      },
      "execution_count": null,
      "outputs": [
        {
          "output_type": "stream",
          "name": "stdout",
          "text": [
            "10.488088481701515\n"
          ]
        }
      ]
    },
    {
      "cell_type": "markdown",
      "source": [
        "numpy eye function"
      ],
      "metadata": {
        "id": "nkBqMLxcOiQf"
      }
    },
    {
      "cell_type": "code",
      "source": [
        "import numpy as np\n",
        "a= np.eye(3,4,k=-1, dtype=int)"
      ],
      "metadata": {
        "id": "o6yzjAuJpqXk"
      },
      "execution_count": null,
      "outputs": []
    },
    {
      "cell_type": "code",
      "source": [
        "print(a)"
      ],
      "metadata": {
        "colab": {
          "base_uri": "https://localhost:8080/"
        },
        "id": "7yqXztzsODOU",
        "outputId": "81571062-e464-4022-8fc8-b966a2c6a805"
      },
      "execution_count": null,
      "outputs": [
        {
          "output_type": "stream",
          "name": "stdout",
          "text": [
            "[[0 0 0 0]\n",
            " [1 0 0 0]\n",
            " [0 1 0 0]]\n"
          ]
        }
      ]
    },
    {
      "cell_type": "code",
      "source": [
        "a= np.eye(3,4,k=3, dtype=int)"
      ],
      "metadata": {
        "id": "1D4bvDJXOIeU"
      },
      "execution_count": null,
      "outputs": []
    },
    {
      "cell_type": "code",
      "source": [
        "print(a)"
      ],
      "metadata": {
        "colab": {
          "base_uri": "https://localhost:8080/"
        },
        "id": "BfF9z83FOLQQ",
        "outputId": "0049b684-1e15-4104-fab4-e628b9f91c71"
      },
      "execution_count": null,
      "outputs": [
        {
          "output_type": "stream",
          "name": "stdout",
          "text": [
            "[[0 0 0 1]\n",
            " [0 0 0 0]\n",
            " [0 0 0 0]]\n"
          ]
        }
      ]
    },
    {
      "cell_type": "code",
      "source": [
        "a= np.eye(3,4,k=0, dtype=int)\n",
        "print(a)"
      ],
      "metadata": {
        "colab": {
          "base_uri": "https://localhost:8080/"
        },
        "id": "3nYJG8i9OPEm",
        "outputId": "ef9f1c3c-002f-42d6-8079-00a491861eb7"
      },
      "execution_count": null,
      "outputs": [
        {
          "output_type": "stream",
          "name": "stdout",
          "text": [
            "[[1 0 0 0]\n",
            " [0 1 0 0]\n",
            " [0 0 1 0]]\n"
          ]
        }
      ]
    },
    {
      "cell_type": "markdown",
      "source": [
        "Generate random nos"
      ],
      "metadata": {
        "id": "loyVdEKGT_pF"
      }
    },
    {
      "cell_type": "code",
      "source": [
        "np.random.rand(3,4)"
      ],
      "metadata": {
        "colab": {
          "base_uri": "https://localhost:8080/"
        },
        "id": "utxgTyxjOmC1",
        "outputId": "eb232b9c-f1e1-4b95-d7fe-5e4e4a16d1cb"
      },
      "execution_count": null,
      "outputs": [
        {
          "output_type": "execute_result",
          "data": {
            "text/plain": [
              "array([[0.37160523, 0.76164014, 0.43221795, 0.35137149],\n",
              "       [0.50182874, 0.19629064, 0.11890291, 0.73826663],\n",
              "       [0.76331689, 0.44380562, 0.68559355, 0.28742635]])"
            ]
          },
          "metadata": {},
          "execution_count": 20
        }
      ]
    },
    {
      "cell_type": "code",
      "source": [
        "np.random.randint(0,10,size=(3,4))\n",
        "#np.random.randint(low, high, size)"
      ],
      "metadata": {
        "colab": {
          "base_uri": "https://localhost:8080/"
        },
        "id": "Vf7iyJjVTJjy",
        "outputId": "3e2eefd1-ce1d-4570-c99d-3c836c22c225"
      },
      "execution_count": null,
      "outputs": [
        {
          "output_type": "execute_result",
          "data": {
            "text/plain": [
              "array([[1, 4, 3, 6],\n",
              "       [9, 9, 8, 2],\n",
              "       [3, 0, 1, 4]])"
            ]
          },
          "metadata": {},
          "execution_count": 21
        }
      ]
    },
    {
      "cell_type": "markdown",
      "source": [
        "Given an integer n and an integer K, output a list of all of the combination of k numbers chosen from 1 to n. For example, if n=3 and k=2, return [1,2],[1,3],[2,3]\n"
      ],
      "metadata": {
        "id": "6PT3uC3OQqkN"
      }
    },
    {
      "cell_type": "code",
      "source": [
        "from itertools import combinations\n",
        "def find_combinations (n,k):\n",
        " return list(combinations(range(1,n+1),k))\n",
        " find_combinations(3,2)"
      ],
      "metadata": {
        "id": "60KLZGAlUc--"
      },
      "execution_count": null,
      "outputs": []
    },
    {
      "cell_type": "code",
      "source": [
        "print(find_combinations(5,2))"
      ],
      "metadata": {
        "colab": {
          "base_uri": "https://localhost:8080/"
        },
        "id": "morCDTgXwLAz",
        "outputId": "fd1755f8-289e-4d1b-cedc-3aa3e28f1a0e"
      },
      "execution_count": null,
      "outputs": [
        {
          "output_type": "stream",
          "name": "stdout",
          "text": [
            "[(1, 2), (1, 3), (1, 4), (1, 5), (2, 3), (2, 4), (2, 5), (3, 4), (3, 5), (4, 5)]\n"
          ]
        }
      ]
    },
    {
      "cell_type": "markdown",
      "source": [
        "Write a function to generate N samples from a normal distribution"
      ],
      "metadata": {
        "id": "Yky0fjAgSkd2"
      }
    },
    {
      "cell_type": "code",
      "source": [
        "# prompt:  generate N samples from a normal distribution\n",
        "\n",
        "import numpy as np\n",
        "\n",
        "def generate_normal_samples(n, mean=0, std_dev=1):\n",
        "  \"\"\"Generates N samples from a normal distribution.\n",
        "\n",
        "  Args:\n",
        "    n: The number of samples to generate.\n",
        "    mean: The mean of the normal distribution.\n",
        "    std_dev: The standard deviation of the normal distribution.\n",
        "\n",
        "  Returns:\n",
        "    A NumPy array containing the generated samples.\n",
        "  \"\"\"\n",
        "  return np.random.normal(loc=mean, scale=std_dev, size=n)\n"
      ],
      "metadata": {
        "id": "cgTgWHfBSkBT"
      },
      "execution_count": null,
      "outputs": []
    },
    {
      "cell_type": "code",
      "source": [
        "import numpy as np\n",
        "def generate_n_samples (n, mean=0, std_dev=1):\n",
        "  return np.random.normal(loc=mean, scale=std_dev, size=n)\n",
        "print(generate_n_samples(5))"
      ],
      "metadata": {
        "colab": {
          "base_uri": "https://localhost:8080/"
        },
        "id": "X0lM5qDYw3e2",
        "outputId": "8fa43bfc-ddf1-4010-c9c1-c9ef3594e5ad"
      },
      "execution_count": null,
      "outputs": [
        {
          "output_type": "stream",
          "name": "stdout",
          "text": [
            "[ 1.13979196 -0.53488709  1.14007354 -1.08026784  0.10107608]\n"
          ]
        }
      ]
    },
    {
      "cell_type": "markdown",
      "source": [
        "Given a string, return the first recurring character in it, or “None” if there is no recurring character. Example: input = \"pythoninterviewquestion\" , output = \"n\""
      ],
      "metadata": {
        "id": "BuMGvzLX5orL"
      }
    },
    {
      "cell_type": "code",
      "source": [
        "def repeat_python_string(s):\n",
        " seen=set()\n",
        " for char in s:\n",
        "  if char in seen:\n",
        "   return char\n",
        "  seen.add(char)\n",
        " return \"None\"\n"
      ],
      "metadata": {
        "id": "PTwfQE-td4HI"
      },
      "execution_count": null,
      "outputs": []
    },
    {
      "cell_type": "code",
      "source": [
        "input_str = \"pythoninterviewquestion\"\n",
        "result = repeat_python_string(input_str)\n",
        "print(result)"
      ],
      "metadata": {
        "id": "IJdNUTqI9Ro6",
        "outputId": "5258f338-a4e8-41f2-d9f1-b9b74310b3c7",
        "colab": {
          "base_uri": "https://localhost:8080/"
        }
      },
      "execution_count": null,
      "outputs": [
        {
          "output_type": "stream",
          "name": "stdout",
          "text": [
            "n\n"
          ]
        }
      ]
    },
    {
      "cell_type": "markdown",
      "source": [
        "Given a string, return the recurring characters in it, or “None” if there is no recurring character. Example: input = \"pythoninterviewquestion\" , output = \"n\""
      ],
      "metadata": {
        "id": "54Yi689mOh8e"
      }
    },
    {
      "cell_type": "code",
      "source": [
        "\n",
        "def recurring_characters(s):\n",
        " seen=set()\n",
        " recur=set()\n",
        " for char in s:\n",
        "  if char in seen:\n",
        "   recur.add(char)\n",
        "  else:\n",
        "    seen.add(char)\n",
        " return list(recur) if recur else \"None\"\n",
        "\n"
      ],
      "metadata": {
        "id": "BrTUrqFqOoOt"
      },
      "execution_count": null,
      "outputs": []
    },
    {
      "cell_type": "code",
      "source": [
        "input_str= \"pythoninterviewquestion\"\n",
        "result= recurring_characters(input_str)\n",
        "print(result)"
      ],
      "metadata": {
        "colab": {
          "base_uri": "https://localhost:8080/"
        },
        "id": "jX8taBKCPxUI",
        "outputId": "9f288a42-240a-40ff-e300-d2a1db875fcc"
      },
      "execution_count": null,
      "outputs": [
        {
          "output_type": "stream",
          "name": "stdout",
          "text": [
            "['e', 'o', 't', 'i', 'n']\n"
          ]
        }
      ]
    },
    {
      "cell_type": "markdown",
      "source": [
        " Given a positive integer X return an integer that is a factorial of X. If a negative integer is provided, return -1. Implement the solution by using a recursive function."
      ],
      "metadata": {
        "id": "PhrIVH49ZE2U"
      }
    },
    {
      "cell_type": "code",
      "source": [
        "def factorial (x):\n",
        " if x<0:\n",
        "  return -1\n",
        " elif x==0 or x==1:\n",
        "  return 1\n",
        " else:\n",
        "  return x*factorial(x-1)"
      ],
      "metadata": {
        "id": "dMObM2mODHrq"
      },
      "execution_count": null,
      "outputs": []
    },
    {
      "cell_type": "code",
      "source": [
        "x=int(input())\n",
        "print(factorial(x))\n",
        "\n"
      ],
      "metadata": {
        "colab": {
          "base_uri": "https://localhost:8080/"
        },
        "id": "9c6lgNSNYF-b",
        "outputId": "f6dff6bb-5e36-472d-da82-6fc3731c6997"
      },
      "execution_count": null,
      "outputs": [
        {
          "output_type": "stream",
          "name": "stdout",
          "text": [
            "-2\n",
            "-1\n"
          ]
        }
      ]
    },
    {
      "cell_type": "markdown",
      "source": [
        "for factorial how to write it in code- x*factorial(x-1)(this is recursive logic)\n"
      ],
      "metadata": {
        "id": "bQWIfCRqEdqI"
      }
    },
    {
      "cell_type": "markdown",
      "source": [
        "webscraping"
      ],
      "metadata": {
        "id": "y1t9f_cWpGIM"
      }
    },
    {
      "cell_type": "code",
      "source": [
        "import requests\n",
        "from bs4 import BeautifulSoup\n",
        "#requests: to send HTTP requests and get webpage content.\n",
        "\n",
        "#BeautifulSoup: to parse the HTML content and extract information from it.\n",
        "\n",
        "\n",
        "url = 'http://books.toscrape.com/'\n",
        "response = requests.get(url)\n",
        "#url: the website's homepage containing a list of book categories.\n",
        "\n",
        "#requests.get(url): sends a GET request to the site and stores the server's response in response.\n",
        "\n",
        "\n",
        "if response.status_code == 200:\n",
        "  #Checks if the request was successful (HTTP status code 200 means OK).\n",
        "\n",
        "#If the site is reachable and the page is fetched correctly, we proceed.\n",
        "\n",
        "\n",
        "    soup = BeautifulSoup(response.text, 'html.parser')\n",
        "    #Parses the page content (response.text) into a navigable tree structure using BeautifulSoup.\n",
        "\n",
        "#'html.parser': built-in parser for processing HTML.\n",
        "\n",
        "\n",
        "    ul_element= soup.find('ul', class_='nav-list')\n",
        "    #Finds the first <ul> (unordered list) element with class \"nav-list\".\n",
        "\n",
        "#This <ul> contains the category links on the sidebar.\n",
        "\n",
        "\n",
        "    category_links = ul_element.find_all('a')[1:]\n",
        "    #Finds all <a> tags (hyperlinks) inside the ul_element.\n",
        "\n",
        "#[1:] skips the first link, which is usually “Books” (a header, not a real category).\n",
        "\n",
        "\n",
        "    for link in category_links:\n",
        "        category_name= link.get_text(strip=True)\n",
        "        print(category_name)\n",
        "       # Loops over each category <a> tag.\n",
        "\n",
        "#link.get_text(strip=True) extracts the visible text (category name) and removes whitespace.\n",
        "\n",
        "#print(category_name) displays the list of categories.\n",
        "\n",
        "\n",
        "else:\n",
        "    print('failed:',response.status_code)\n",
        "    #If the request fails (e.g., status code 404, 500), print an error message.\n",
        "\n",
        "\n"
      ],
      "metadata": {
        "id": "jR_t5386pFkP",
        "colab": {
          "base_uri": "https://localhost:8080/"
        },
        "outputId": "85a1b0bd-0b9b-43c1-e223-7b2ed5660f01"
      },
      "execution_count": null,
      "outputs": [
        {
          "output_type": "stream",
          "name": "stdout",
          "text": [
            "Travel\n",
            "Mystery\n",
            "Historical Fiction\n",
            "Sequential Art\n",
            "Classics\n",
            "Philosophy\n",
            "Romance\n",
            "Womens Fiction\n",
            "Fiction\n",
            "Childrens\n",
            "Religion\n",
            "Nonfiction\n",
            "Music\n",
            "Default\n",
            "Science Fiction\n",
            "Sports and Games\n",
            "Add a comment\n",
            "Fantasy\n",
            "New Adult\n",
            "Young Adult\n",
            "Science\n",
            "Poetry\n",
            "Paranormal\n",
            "Art\n",
            "Psychology\n",
            "Autobiography\n",
            "Parenting\n",
            "Adult Fiction\n",
            "Humor\n",
            "Horror\n",
            "History\n",
            "Food and Drink\n",
            "Christian Fiction\n",
            "Business\n",
            "Biography\n",
            "Thriller\n",
            "Contemporary\n",
            "Spirituality\n",
            "Academic\n",
            "Self Help\n",
            "Historical\n",
            "Christian\n",
            "Suspense\n",
            "Short Stories\n",
            "Novels\n",
            "Health\n",
            "Politics\n",
            "Cultural\n",
            "Erotica\n",
            "Crime\n"
          ]
        }
      ]
    },
    {
      "cell_type": "markdown",
      "source": [
        "When web scraping, figuring out the ul and its class (or any tag and attribute) is about inspecting the HTML structure of the webpage. There's an inspect option when you right click on the content that you want from where you can identify out its class and ul. Here's how you can do it step-by-step:\n",
        "\n",
        "1. Open Developer Tools in Your Browser\n",
        "Right-click on the element you want to scrape (e.g., a list on the page).\n",
        "\n",
        "Click Inspect or press Ctrl+Shift+I (Cmd+Option+I on Mac).\n",
        "\n",
        "🔍 2. Locate the <ul> (unordered list) Tag\n",
        "In the HTML pane that opens:\n",
        "\n",
        "Look for the structure like this:\n",
        "\n",
        "html\n",
        "Copy\n",
        "Edit\n",
        "<ul class=\"some-class-name\">\n",
        "    <li>Item 1</li>\n",
        "    <li>Item 2</li>\n",
        "</ul>\n",
        "The class is what helps uniquely identify the tag for scraping.\n",
        "\n",
        "🔍 3. Note Down Tag and Class\n",
        "Example:\n",
        "\n",
        "Tag: ul\n",
        "\n",
        "Class: some-class-name\n",
        "\n",
        "You’ll use this in your scraping code:\n",
        "\n",
        "python\n",
        "Copy\n",
        "Edit\n",
        "soup.find('ul', class_='some-class-name')\n"
      ],
      "metadata": {
        "id": "TlIF17Ri1aqZ"
      }
    },
    {
      "cell_type": "code",
      "source": [
        "html = '<!DOCTYPE html><html><head><title>Learning Beautiful Soup</title></head>\\\n",
        "<body><h1> About Us </h1><div class = \"first_div\"><p>Coding Ninjas Website</p>\\\n",
        "<a href=\"https://www.codingninjas.in/\">Link to Coding Ninjas Website</a>\\\n",
        "<ul><li>This</li><li>is</li><li>an</li><li>unordered</li><li>list.</li></ul>\\\n",
        "</div><p id = \"template_p\">This is a template paragraph tag</p>\\\n",
        "<a href = \"https://www.facebook.com/codingninjas/\">\\\n",
        "This is the link of our Facebook Page</a></body></html>'"
      ],
      "metadata": {
        "id": "AxO_ZIen6iRe"
      },
      "execution_count": null,
      "outputs": []
    },
    {
      "cell_type": "code",
      "source": [
        "from bs4 import BeautifulSoup as bp\n",
        "data=bp(html, 'html.parser')\n",
        "arr= data.div.attrs\n",
        "print(arr)\n"
      ],
      "metadata": {
        "id": "U9YqrKnc6jWN",
        "colab": {
          "base_uri": "https://localhost:8080/"
        },
        "outputId": "e57ec9a4-b5f4-42c1-b941-b2c77ea8660f"
      },
      "execution_count": null,
      "outputs": [
        {
          "output_type": "stream",
          "name": "stdout",
          "text": [
            "{'class': ['first_div']}\n"
          ]
        }
      ]
    },
    {
      "cell_type": "code",
      "source": [
        "for i in arr:\n",
        "  print(i)"
      ],
      "metadata": {
        "colab": {
          "base_uri": "https://localhost:8080/"
        },
        "id": "L1QJa-vd70Bw",
        "outputId": "a85bfbe2-c256-4a64-e724-bb4d7f3ca12c"
      },
      "execution_count": null,
      "outputs": [
        {
          "output_type": "stream",
          "name": "stdout",
          "text": [
            "class\n"
          ]
        }
      ]
    },
    {
      "cell_type": "markdown",
      "source": [
        "Problem Statement:\n",
        "You are given the HTML content of a webpage, your task is to:\n",
        "\n",
        "Print the difference between the number of descendants and the number of children of the html tag\n",
        "\n",
        "NOTE : You are provided the HTML content inside variable html"
      ],
      "metadata": {
        "id": "UBMe2yxu92o0"
      }
    },
    {
      "cell_type": "code",
      "source": [
        "## HTML Code is provided in variable html\n",
        "\n",
        "html = '<!DOCTYPE html><html><head><title>Navigate Parse Tree</title></head>\\\n",
        "<body><h1>This is your Assignment</h1><a href = \"https://www.google.com\">This is a link that will take you to Google</a>\\\n",
        "<ul><li><p> This question is given to test your knowledge of <b>Web Scraping</b></p>\\\n",
        "<p>Web scraping is a term used to describe the use of a program or algorithm to extract and process large amounts of data from the web.</p></li>\\\n",
        "<li id = \"li2\">This is an li tag given to you for scraping</li>\\\n",
        "<li>This li tag gives you the various ways to get data from a website\\\n",
        "<ol><li class = \"list_or\">Using API of the website</li><li>Scrape data using BeautifulSoup</li><li>Scrape data using Selenium</li>\\\n",
        "<li>Scrape data using Scrapy</li></ol></li>\\\n",
        "<li class = \"list_or\"><a href=\"https://www.crummy.com/software/BeautifulSoup/bs4/doc/\">\\\n",
        "Clicking on this takes you to the documentation of BeautifulSoup</a>\\\n",
        "<a href=\"https://selenium-python.readthedocs.io/\" id=\"anchor\">Clicking on this takes you to the documentation of Selenium</a>\\\n",
        "</li></ul></body></html>'\n",
        "\n",
        "## Print the required output in given format"
      ],
      "metadata": {
        "id": "bW40PIW293kX"
      },
      "execution_count": null,
      "outputs": []
    },
    {
      "cell_type": "code",
      "source": [
        "from bs4 import Beautifulsoup as bp\n",
        "data=bp(html, 'html.parser')\n",
        "descendents=list(data.html.descendents)\n",
        "children=list(data.html.children)\n",
        "print(len(descendents)-len(children))\n"
      ],
      "metadata": {
        "colab": {
          "base_uri": "https://localhost:8080/",
          "height": 383
        },
        "id": "kONve5SW-KZ4",
        "outputId": "7cb20995-1527-4a7b-e613-fe0d49fedf07"
      },
      "execution_count": null,
      "outputs": [
        {
          "output_type": "error",
          "ename": "ImportError",
          "evalue": "cannot import name 'Beautifulsoup' from 'bs4' (/usr/local/lib/python3.11/dist-packages/bs4/__init__.py)",
          "traceback": [
            "\u001b[0;31m---------------------------------------------------------------------------\u001b[0m",
            "\u001b[0;31mImportError\u001b[0m                               Traceback (most recent call last)",
            "\u001b[0;32m/tmp/ipython-input-10-201318645.py\u001b[0m in \u001b[0;36m<cell line: 0>\u001b[0;34m()\u001b[0m\n\u001b[0;32m----> 1\u001b[0;31m \u001b[0;32mfrom\u001b[0m \u001b[0mbs4\u001b[0m \u001b[0;32mimport\u001b[0m \u001b[0mBeautifulsoup\u001b[0m \u001b[0;32mas\u001b[0m \u001b[0mbp\u001b[0m\u001b[0;34m\u001b[0m\u001b[0;34m\u001b[0m\u001b[0m\n\u001b[0m\u001b[1;32m      2\u001b[0m \u001b[0mdata\u001b[0m\u001b[0;34m=\u001b[0m\u001b[0mbp\u001b[0m\u001b[0;34m(\u001b[0m\u001b[0mhtml\u001b[0m\u001b[0;34m,\u001b[0m \u001b[0;34m'html.parser'\u001b[0m\u001b[0;34m)\u001b[0m\u001b[0;34m\u001b[0m\u001b[0;34m\u001b[0m\u001b[0m\n\u001b[1;32m      3\u001b[0m \u001b[0mdescendents\u001b[0m\u001b[0;34m=\u001b[0m\u001b[0mlist\u001b[0m\u001b[0;34m(\u001b[0m\u001b[0mdata\u001b[0m\u001b[0;34m.\u001b[0m\u001b[0mhtml\u001b[0m\u001b[0;34m.\u001b[0m\u001b[0mdescendents\u001b[0m\u001b[0;34m)\u001b[0m\u001b[0;34m\u001b[0m\u001b[0;34m\u001b[0m\u001b[0m\n\u001b[1;32m      4\u001b[0m \u001b[0mchildren\u001b[0m\u001b[0;34m=\u001b[0m\u001b[0mlist\u001b[0m\u001b[0;34m(\u001b[0m\u001b[0mdata\u001b[0m\u001b[0;34m.\u001b[0m\u001b[0mhtml\u001b[0m\u001b[0;34m.\u001b[0m\u001b[0mchildren\u001b[0m\u001b[0;34m)\u001b[0m\u001b[0;34m\u001b[0m\u001b[0;34m\u001b[0m\u001b[0m\n\u001b[1;32m      5\u001b[0m \u001b[0mprint\u001b[0m\u001b[0;34m(\u001b[0m\u001b[0mlen\u001b[0m\u001b[0;34m(\u001b[0m\u001b[0mdescendents\u001b[0m\u001b[0;34m)\u001b[0m\u001b[0;34m-\u001b[0m\u001b[0mlen\u001b[0m\u001b[0;34m(\u001b[0m\u001b[0mchildren\u001b[0m\u001b[0;34m)\u001b[0m\u001b[0;34m)\u001b[0m\u001b[0;34m\u001b[0m\u001b[0;34m\u001b[0m\u001b[0m\n",
            "\u001b[0;31mImportError\u001b[0m: cannot import name 'Beautifulsoup' from 'bs4' (/usr/local/lib/python3.11/dist-packages/bs4/__init__.py)",
            "",
            "\u001b[0;31m---------------------------------------------------------------------------\u001b[0;32m\nNOTE: If your import is failing due to a missing package, you can\nmanually install dependencies using either !pip or !apt.\n\nTo view examples of installing some common dependencies, click the\n\"Open Examples\" button below.\n\u001b[0;31m---------------------------------------------------------------------------\u001b[0m\n"
          ],
          "errorDetails": {
            "actions": [
              {
                "action": "open_url",
                "actionText": "Open Examples",
                "url": "/notebooks/snippets/importing_libraries.ipynb"
              }
            ]
          }
        }
      ]
    },
    {
      "cell_type": "markdown",
      "source": [
        "Problem Statement:\n",
        "You are given the HTML content of a webpage, your task is to:\n",
        "\n",
        "Print the name of all the tags in different lines that have an id attribute.\n",
        "\n",
        "NOTE : You are provided the HTML content inside variable html\n",
        "\n",
        "Output Format :\n",
        "tag1\n",
        "tag2\n",
        ".\n",
        "."
      ],
      "metadata": {
        "id": "b2u7Cp9oJUQC"
      }
    },
    {
      "cell_type": "code",
      "source": [
        "## HTML Code is provided in variable html\n",
        "\n",
        "html = '<!DOCTYPE html><html><head><title>Navigate Parse Tree</title></head>\\\n",
        "<body><h1>This is your Assignment</h1><a href = \"https://www.google.com\">This is a link that will take you to Google</a>\\\n",
        "<ul><li><p> This question is given to test your knowledge of <b>Web Scraping</b></p>\\\n",
        "<p>Web scraping is a term used to describe the use of a program or algorithm to extract and process large amounts of data from the web.</p></li>\\\n",
        "<li id = \"li2\">This is an li tag given to you for scraping</li>\\\n",
        "<li>This li tag gives you the various ways to get data from a website\\\n",
        "<ol><li class = \"list_or\">Using API of the website</li><li>Scrape data using BeautifulSoup</li><li>Scrape data using Selenium</li>\\\n",
        "<li>Scrape data using Scrapy</li></ol></li>\\\n",
        "<li class = \"list_or\"><a href=\"https://www.crummy.com/software/BeautifulSoup/bs4/doc/\">\\\n",
        "Clicking on this takes you to the documentation of BeautifulSoup</a>\\\n",
        "<a href=\"https://selenium-python.readthedocs.io/\" id=\"anchor\">Clicking on this takes you to the documentation of Selenium</a>\\\n",
        "</li></ul></body></html>'\n",
        "\n",
        "## Print the required output in given format"
      ],
      "metadata": {
        "id": "SKpd298ZLY-v"
      },
      "execution_count": null,
      "outputs": []
    },
    {
      "cell_type": "markdown",
      "source": [
        " Explanation\n",
        "data: This is a BeautifulSoup object, likely created from HTML content (e.g., soup, or a smaller HTML section).\n",
        "\n",
        ".find_all(...): This method searches for all tags that match certain criteria.\n",
        "\n",
        "id=True: This is a filter — it tells BeautifulSoup to find all tags that have an id attribute, regardless of the tag name."
      ],
      "metadata": {
        "id": "NFskw-S2hmZ3"
      }
    },
    {
      "cell_type": "code",
      "source": [
        "from bs4 import Beautifulsoup as bp\n",
        "data=(html, 'html.parser')\n",
        "at=data.find_all(id=True)\n",
        "for i in at:\n",
        "  print(i)"
      ],
      "metadata": {
        "colab": {
          "base_uri": "https://localhost:8080/",
          "height": 383
        },
        "id": "El2NWihOME20",
        "outputId": "56f22615-466a-436d-e244-fd28c5381ad5"
      },
      "execution_count": null,
      "outputs": [
        {
          "output_type": "error",
          "ename": "ImportError",
          "evalue": "cannot import name 'Beautifulsoup' from 'bs4' (/usr/local/lib/python3.11/dist-packages/bs4/__init__.py)",
          "traceback": [
            "\u001b[0;31m---------------------------------------------------------------------------\u001b[0m",
            "\u001b[0;31mImportError\u001b[0m                               Traceback (most recent call last)",
            "\u001b[0;32m/tmp/ipython-input-12-2561842251.py\u001b[0m in \u001b[0;36m<cell line: 0>\u001b[0;34m()\u001b[0m\n\u001b[0;32m----> 1\u001b[0;31m \u001b[0;32mfrom\u001b[0m \u001b[0mbs4\u001b[0m \u001b[0;32mimport\u001b[0m \u001b[0mBeautifulsoup\u001b[0m \u001b[0;32mas\u001b[0m \u001b[0mbp\u001b[0m\u001b[0;34m\u001b[0m\u001b[0;34m\u001b[0m\u001b[0m\n\u001b[0m\u001b[1;32m      2\u001b[0m \u001b[0mdata\u001b[0m\u001b[0;34m=\u001b[0m\u001b[0;34m(\u001b[0m\u001b[0mhtml\u001b[0m\u001b[0;34m,\u001b[0m \u001b[0;34m'html.parser'\u001b[0m\u001b[0;34m)\u001b[0m\u001b[0;34m\u001b[0m\u001b[0;34m\u001b[0m\u001b[0m\n\u001b[1;32m      3\u001b[0m \u001b[0mat\u001b[0m\u001b[0;34m=\u001b[0m\u001b[0mdata\u001b[0m\u001b[0;34m.\u001b[0m\u001b[0mfind_all\u001b[0m\u001b[0;34m(\u001b[0m\u001b[0mid\u001b[0m\u001b[0;34m=\u001b[0m\u001b[0;32mTrue\u001b[0m\u001b[0;34m)\u001b[0m\u001b[0;34m\u001b[0m\u001b[0;34m\u001b[0m\u001b[0m\n\u001b[1;32m      4\u001b[0m \u001b[0;32mfor\u001b[0m \u001b[0mi\u001b[0m \u001b[0;32min\u001b[0m \u001b[0mat\u001b[0m\u001b[0;34m:\u001b[0m\u001b[0;34m\u001b[0m\u001b[0;34m\u001b[0m\u001b[0m\n\u001b[1;32m      5\u001b[0m   \u001b[0mprint\u001b[0m\u001b[0;34m(\u001b[0m\u001b[0mi\u001b[0m\u001b[0;34m)\u001b[0m\u001b[0;34m\u001b[0m\u001b[0;34m\u001b[0m\u001b[0m\n",
            "\u001b[0;31mImportError\u001b[0m: cannot import name 'Beautifulsoup' from 'bs4' (/usr/local/lib/python3.11/dist-packages/bs4/__init__.py)",
            "",
            "\u001b[0;31m---------------------------------------------------------------------------\u001b[0;32m\nNOTE: If your import is failing due to a missing package, you can\nmanually install dependencies using either !pip or !apt.\n\nTo view examples of installing some common dependencies, click the\n\"Open Examples\" button below.\n\u001b[0;31m---------------------------------------------------------------------------\u001b[0m\n"
          ],
          "errorDetails": {
            "actions": [
              {
                "action": "open_url",
                "actionText": "Open Examples",
                "url": "/notebooks/snippets/importing_libraries.ipynb"
              }
            ]
          }
        }
      ]
    },
    {
      "cell_type": "markdown",
      "source": [
        "airflow project"
      ],
      "metadata": {
        "id": "4dmF8V-Ph6bq"
      }
    },
    {
      "cell_type": "code",
      "source": [
        "from airflow import dag\n",
        "from airflow.operators.python import pythonoperator\n",
        "from datetime import datetime, timedelta\n",
        "import pandas as pd"
      ],
      "metadata": {
        "id": "rOnUXZZGh6M2"
      },
      "execution_count": null,
      "outputs": []
    },
    {
      "cell_type": "markdown",
      "source": [
        "from airflow import DAG:\n",
        "\n",
        "This line imports the DAG class from the airflow package.\n",
        "A DAG (Directed Acyclic Graph) is the fundamental unit of workflow definition in Airflow. It represents a series of tasks with their dependencies and scheduling information.\n",
        "2. from airflow.operators.python import PythonOperator:\n",
        "\n",
        "This line imports the PythonOperator class from the airflow.operators.python module.\n",
        "A PythonOperator is a type of task that executes a Python function. It's commonly used to perform custom data processing or integrations within your Airflow DAG.\n",
        "3. from datetime import datetime, timedelta:\n",
        "\n",
        "This line imports the datetime and timedelta classes from the built-in datetime module.\n",
        "The datetime class represents a specific point in time, while the timedelta class represents a duration of time. These are essential for defining schedules and time-based conditions in your DAG.\n",
        "4. import pandas as pd:\n",
        "\n",
        "This line imports the pandas library, which is a powerful data analysis and manipulation tool for Python.\n",
        "Pandas provides data structures like DataFrames and Series, which are widely used for handling and transforming data efficiently."
      ],
      "metadata": {
        "id": "r-am4fY0uB6Q"
      }
    },
    {
      "cell_type": "code",
      "source": [
        "file_path= \"\""
      ],
      "metadata": {
        "id": "vsx1Nu-QtSkT"
      },
      "execution_count": null,
      "outputs": []
    },
    {
      "cell_type": "code",
      "source": [
        "default argument= {'owner':'airflow',\n",
        "'depends_on_past': False,\n",
        "                   'start_date': datetime(2025, 07, 08),\n",
        "                   'retries':1,\n",
        "                   'retry_delay': timedelta(min=2),}"
      ],
      "metadata": {
        "id": "yZBTIo2HvYeQ"
      },
      "execution_count": null,
      "outputs": []
    },
    {
      "cell_type": "markdown",
      "source": [
        "Breakdown of the arguments:\n",
        "\n",
        "owner: 'airflow'`\n",
        "Sets the owner of the DAG to “airflow”. This is a useful metadata field for tracking who created or is responsible for the DAG.\n",
        "depends_on_past: False`\n",
        "\n",
        "Specifies that tasks in this DAG do not depend on the successful completion of their predecessors. If set to True, a task will only run if all previous tasks in the DAG have completed successfully.\n",
        "start_date: datetime(2024, 8, 12)`\n",
        "\n",
        "Sets the starting date for the DAG to August 12, 2024. This determines when the DAG will first be scheduled for execution.\n",
        "retries: 1`\n",
        "\n",
        "Configures the maximum number of times a task can be retried if it fails. In this case, a task will be retried once if it fails.\n",
        "retry_delay: timedelta(minutes=2)`\n",
        "Sets the delay between retries for failed tasks. If a task fails, it will be retried after a delay of 2 minutes."
      ],
      "metadata": {
        "id": "iNovk1JJxzXS"
      }
    },
    {
      "cell_type": "markdown",
      "source": [
        "Automation in airflow"
      ],
      "metadata": {
        "id": "ycfs4z4v5SJn"
      }
    },
    {
      "cell_type": "code",
      "source": [
        "from airflow import dag\n",
        "from airflow.operatot.python import pythonoperator\n",
        "from datetime import datetime, timedelta\n",
        "import pandas as pd\n"
      ],
      "metadata": {
        "id": "RGsZzxvIxGoD"
      },
      "execution_count": null,
      "outputs": []
    },
    {
      "cell_type": "code",
      "source": [
        "default_args= {'owner'='airflow'\n",
        "'startdate'= datetime(2025,07,09)\n",
        "'depends_on_past'=False\n",
        "               'retries'=1\n",
        "               'retry_time'=datetime.timedelta(min=2)}"
      ],
      "metadata": {
        "id": "0llO2XEXHqYH"
      },
      "execution_count": null,
      "outputs": []
    },
    {
      "cell_type": "markdown",
      "source": [
        "Defining Dag"
      ],
      "metadata": {
        "id": "cnQJAnY2fGlh"
      }
    },
    {
      "cell_type": "code",
      "source": [
        "dag = DAG('bhav_copy_downloader',      # 🏷️ DAG ID: Unique name of the DAG\n",
        "          default_args=default_args    # 📦 Default arguments applied to all tasks\n",
        "          schedule_interval= 30 16 ** 1-5   # ⏰ Cron schedule: 4:30 PM Mon–Fri\n",
        "          catch_up = False)                    # 🚫 Prevents backfilling old missed dates"
      ],
      "metadata": {
        "id": "OK22UbEkSnP7"
      },
      "execution_count": null,
      "outputs": []
    },
    {
      "cell_type": "markdown",
      "source": [
        "🕒 Run Schedule Explained\n",
        "Field\tValue\tMeaning\n",
        "Minute\t30\tAt minute 30\n",
        "Hour\t16\tAt 4 PM (16:00)\n",
        "Day of month\t*\tEvery day\n",
        "Month\t*\tEvery month\n",
        "Day of week\t1-5\tMonday to Friday only\n",
        "\n"
      ],
      "metadata": {
        "id": "845dkuj1igZn"
      }
    },
    {
      "cell_type": "markdown",
      "source": [
        "check if today is a trading day"
      ],
      "metadata": {
        "id": "bfyNRsrZikCN"
      }
    },
    {
      "cell_type": "code",
      "source": [
        "Holiday_file= \"/home/airflow/config/nse_holidays.csv\"\n",
        " (# Read CSV and convert to date objects\n",
        "    holidays_df = pd.read_csv(HOLIDAY_FILE, parse_dates=[\"date\"])\n",
        "    holiday_dates = holidays_df[\"date\"].dt.date.tolist()#will have to check if this is needed or not)\n",
        "def is_trading_day():\n",
        "  today= datetime.date.today()\n",
        "  #This gets the current date in the format YYYY-MM-DD (e.g., 2025-07-08).\n",
        "#datetime.date.today() returns a date object (not datetime with time).\n",
        "  weekday= today.weekday()\n",
        "   if weekday=>5:\n",
        "    raise valueError('nt')\n",
        "   elif today in Holiday_file:\n",
        "    raise valueError('nt')\n",
        "   else:\n",
        "    print('trading day')\n",
        "\n"
      ],
      "metadata": {
        "id": "ojZmABL3i5PR"
      },
      "execution_count": null,
      "outputs": []
    },
    {
      "cell_type": "markdown",
      "source": [
        "weekday() returns an integer:\n",
        "\n",
        "0 = Monday\n",
        "\n",
        "1 = Tuesday\n",
        "\n",
        "...\n",
        "\n",
        "5 = Saturday\n",
        "\n",
        "6 = Sunday\n",
        "\n",
        "So if weekday >= 5 means:\n",
        "\n",
        "Saturday (5)\n",
        "\n",
        "or Sunday (6)\n",
        "\n",
        "👉 If true, it raises an exception to stop the DAG, with the message:\n",
        "\"Today is a weekend — no trading.\"\n",
        "\n"
      ],
      "metadata": {
        "id": "FTaraFoJqeMt"
      }
    },
    {
      "cell_type": "markdown",
      "source": [],
      "metadata": {
        "id": "qDrow_vcsPx0"
      }
    },
    {
      "cell_type": "code",
      "source": [
        "def download_bhav_copy():\n",
        "  #get today's date\n",
        "  today=datetime.datetime.now()\n",
        "  date_str= today.strftime('%d%b%Y').upper()\n",
        "  month= today.strftime(\"%b\").upper()\n",
        "  year= today.strftime(%Y).upper()\n"
      ],
      "metadata": {
        "id": "92s7qrO5sHCr"
      },
      "execution_count": null,
      "outputs": []
    },
    {
      "cell_type": "markdown",
      "source": [
        "datetime.datetime.now() → gets the current date and time.\n",
        "\n",
        "strftime(\"%d%b%Y\") → formats it like 08JUL2025 (required by NSE URL).\n",
        "\n",
        ".upper() → ensures the month is capitalized (JUL, not Jul).\n",
        "\n",
        "These are used to construct the Bhav Copy file URL."
      ],
      "metadata": {
        "id": "wLXrdwFPyq7-"
      }
    },
    {
      "cell_type": "markdown",
      "source": [
        "Step 2: Construct NSE Bhav Copy URL"
      ],
      "metadata": {
        "id": "YVB80-XKztuU"
      }
    },
    {
      "cell_type": "code",
      "source": [
        "url = f\"https://www1.nseindia.com/content/historical/EQUITIES/{year}/{month}/cm{date_str}bhav.csv.zip\"\n",
        "headers = {\"User-Agent\": \"Mozilla/5.0\"}"
      ],
      "metadata": {
        "id": "kcxK4ZbrysZd"
      },
      "execution_count": null,
      "outputs": []
    },
    {
      "cell_type": "markdown",
      "source": [
        "Constructs the download URL based on today's date.\n",
        "\n",
        "Example for July 8, 2025:\n",
        "https://www1.nseindia.com/content/historical/EQUITIES/2025/JUL/cm08JUL2025bhav.csv.zip\n",
        "\n",
        "The User-Agent header is needed because NSE blocks some requests if it doesn't detect a browser-like client.\n",
        "\n"
      ],
      "metadata": {
        "id": "Dv_m5ZLpzdOy"
      }
    },
    {
      "cell_type": "markdown",
      "source": [
        "Step 3: Create a Save Directory"
      ],
      "metadata": {
        "id": "7lzxSZODzw-q"
      }
    },
    {
      "cell_type": "code",
      "source": [
        "save_path = f\"/home/airflow/bhavcopy/{year}-{month}-{today.day}\"\n",
        "os.makedirs(save_path, exist_ok=True)"
      ],
      "metadata": {
        "id": "i4wNdm6rzgXW"
      },
      "execution_count": null,
      "outputs": []
    },
    {
      "cell_type": "markdown",
      "source": [
        "Constructs a path like /home/airflow/bhavcopy/2025-JUL-8\n",
        "\n",
        "os.makedirs(..., exist_ok=True) ensures the folder is created if it doesn’t exist."
      ],
      "metadata": {
        "id": "tJkn2R-zz4hr"
      }
    },
    {
      "cell_type": "markdown",
      "source": [
        "Step 4: Download the ZIP File"
      ],
      "metadata": {
        "id": "LZCRaVAyz7rR"
      }
    },
    {
      "cell_type": "code",
      "source": [
        "response = requests.get(url, headers=headers)\n",
        "if response.status_code != 200:\n",
        "    raise Exception(\"File not found or NSE site error.\")"
      ],
      "metadata": {
        "id": "uJZEKtb70De-"
      },
      "execution_count": null,
      "outputs": []
    },
    {
      "cell_type": "markdown",
      "source": [
        "Downloads the ZIP file from NSE.\n",
        "\n",
        "If the status code is not 200 OK, it raises an exception — i.e., something went wrong (file not available, holiday, etc.)."
      ],
      "metadata": {
        "id": "sNMf5WBI0NS6"
      }
    },
    {
      "cell_type": "markdown",
      "source": [
        " Save the ZIP Locally"
      ],
      "metadata": {
        "id": "jiDI1EyM0XPc"
      }
    },
    {
      "cell_type": "code",
      "source": [
        "zip_path = os.path.join(save_path, \"bhav_copy.zip\")\n",
        "with open(zip_path, \"wb\") as f:\n",
        "    f.write(response.content)"
      ],
      "metadata": {
        "id": "XpgZH2xU0bOK"
      },
      "execution_count": null,
      "outputs": []
    },
    {
      "cell_type": "markdown",
      "source": [
        "Saves the ZIP file as bhav_copy.zip inside the folder created above."
      ],
      "metadata": {
        "id": "PBkMqu1T0fFt"
      }
    },
    {
      "cell_type": "markdown",
      "source": [
        " Extract ZIP File"
      ],
      "metadata": {
        "id": "TBPQ82_A0izc"
      }
    },
    {
      "cell_type": "code",
      "source": [
        "with ZipFile(zip_path, 'r') as zip_ref:\n",
        "    zip_ref.extractall(save_path)"
      ],
      "metadata": {
        "id": "vqS9h06Y0o3I"
      },
      "execution_count": null,
      "outputs": []
    },
    {
      "cell_type": "markdown",
      "source": [
        "Opens the zip file.\n",
        "\n",
        "Extracts its contents (usually one CSV file) into the same folder."
      ],
      "metadata": {
        "id": "tSWiiFfI0u98"
      }
    },
    {
      "cell_type": "code",
      "source": [
        "    print(\"✅ Bhav Copy downloaded and extracted.\")\n",
        "\n",
        "    except Exception as e:\n",
        "        print(f\"❌ Download failed: {e}\")\n"
      ],
      "metadata": {
        "id": "rT_XqC5L0sen"
      },
      "execution_count": null,
      "outputs": []
    },
    {
      "cell_type": "code",
      "source": [
        "# DAG tasks\n",
        "check_trading_day = PythonOperator(\n",
        "    task_id='check_trading_day',\n",
        "    python_callable=is_trading_day_from_file,\n",
        "    dag=dag,"
      ],
      "metadata": {
        "id": "BBdzSoIh1Cwk"
      },
      "execution_count": null,
      "outputs": []
    },
    {
      "cell_type": "markdown",
      "source": [
        "This defines an Airflow task:\n",
        "\n",
        "Element\tValue\n",
        "task_id\t'check_trading_day'\n",
        "python_callable\tis_trading_day_from_file\n",
        "dag\tdag object (previously defined)\n",
        "\n",
        "🔗 This is likely the first task in your DAG that ensures the Bhav Copy will only be downloaded if today is a trading day."
      ],
      "metadata": {
        "id": "rZwSV3oh1Jiy"
      }
    },
    {
      "cell_type": "code",
      "source": [
        "download_task = PythonOperator(\n",
        "    task_id='download_bhav_copy',\n",
        "    python_callable=download_bhav_copy,\n",
        "    dag=dag,\n",
        ")\n",
        "\n",
        "# DAG flow\n",
        "check_trading_day >> download_task"
      ],
      "metadata": {
        "id": "BckDaNvv1K_k"
      },
      "execution_count": null,
      "outputs": []
    },
    {
      "cell_type": "markdown",
      "source": [],
      "metadata": {
        "id": "SUaHrs6bGkXF"
      }
    },
    {
      "cell_type": "markdown",
      "source": [
        "Write  a program to check string1 and string2 are same based on number of charaters and length."
      ],
      "metadata": {
        "id": "FiO_93La3bu0"
      }
    },
    {
      "cell_type": "code",
      "source": [
        "string1= 'abd'\n",
        "string2='dba'\n",
        "if len(string1)==len(string2):\n",
        " print(True)\n",
        "else:\n",
        " print(False)"
      ],
      "metadata": {
        "id": "HSGXcIUSGj6g",
        "colab": {
          "base_uri": "https://localhost:8080/"
        },
        "outputId": "1a214a7e-04c7-4f51-9e99-4b3eb43780dd"
      },
      "execution_count": null,
      "outputs": [
        {
          "output_type": "stream",
          "name": "stdout",
          "text": [
            "True\n"
          ]
        }
      ]
    },
    {
      "cell_type": "code",
      "source": [
        "if string1 == string2:\n",
        " print(True)\n",
        "else:\n",
        "  print(False)"
      ],
      "metadata": {
        "colab": {
          "base_uri": "https://localhost:8080/"
        },
        "id": "XqopYnYp3Trf",
        "outputId": "b3af6821-14a2-41fa-ef41-854d19a14280"
      },
      "execution_count": null,
      "outputs": [
        {
          "output_type": "stream",
          "name": "stdout",
          "text": [
            "False\n"
          ]
        }
      ]
    },
    {
      "cell_type": "markdown",
      "source": [
        "# string1==string2 finds out if the string are identical in the same order if they are in different order then it wont give us the desired result.\n",
        " but using sorted(string1) = sorted(string2) it would first arrange in an order then it would tell us if they are identical or not."
      ],
      "metadata": {
        "id": "GiEXVFTtGoT2"
      }
    },
    {
      "cell_type": "code",
      "source": [
        "if sorted(string1)==sorted(string2):\n",
        "  print(True)\n",
        "else:\n",
        "  print(False)"
      ],
      "metadata": {
        "id": "1UgZT1GFHbJI"
      },
      "execution_count": null,
      "outputs": []
    },
    {
      "cell_type": "markdown",
      "source": [
        "# we can also use count(string1)"
      ],
      "metadata": {
        "id": "-5nhNVQBJTbk"
      }
    },
    {
      "cell_type": "markdown",
      "source": [
        "# we cannot use counter directly on integer or float we have to convert it to string first"
      ],
      "metadata": {
        "id": "IGXCJ2CkLdmq"
      }
    },
    {
      "cell_type": "code",
      "source": [
        "from collections import Counter # Import Counter from collections\n",
        "num1 = 348\n",
        "num2 = 834\n",
        "if counter(num1) == counter(num2): # Convert integers to strings\n",
        "  print(True)\n",
        "else:\n",
        "  print(False)"
      ],
      "metadata": {
        "colab": {
          "base_uri": "https://localhost:8080/",
          "height": 211
        },
        "id": "rfELA7t5JlPN",
        "outputId": "18162d76-87b5-4a47-cfc5-3451e0a055da"
      },
      "execution_count": null,
      "outputs": [
        {
          "output_type": "error",
          "ename": "NameError",
          "evalue": "name 'Sorted' is not defined",
          "traceback": [
            "\u001b[0;31m---------------------------------------------------------------------------\u001b[0m",
            "\u001b[0;31mNameError\u001b[0m                                 Traceback (most recent call last)",
            "\u001b[0;32m/tmp/ipython-input-3843912473.py\u001b[0m in \u001b[0;36m<cell line: 0>\u001b[0;34m()\u001b[0m\n\u001b[1;32m      2\u001b[0m \u001b[0mnum1\u001b[0m \u001b[0;34m=\u001b[0m \u001b[0;36m348\u001b[0m\u001b[0;34m\u001b[0m\u001b[0;34m\u001b[0m\u001b[0m\n\u001b[1;32m      3\u001b[0m \u001b[0mnum2\u001b[0m \u001b[0;34m=\u001b[0m \u001b[0;36m834\u001b[0m\u001b[0;34m\u001b[0m\u001b[0;34m\u001b[0m\u001b[0m\n\u001b[0;32m----> 4\u001b[0;31m \u001b[0;32mif\u001b[0m \u001b[0mSorted\u001b[0m\u001b[0;34m(\u001b[0m\u001b[0mnum1\u001b[0m\u001b[0;34m)\u001b[0m \u001b[0;34m==\u001b[0m \u001b[0mSorted\u001b[0m\u001b[0;34m(\u001b[0m\u001b[0mnum2\u001b[0m\u001b[0;34m)\u001b[0m\u001b[0;34m:\u001b[0m \u001b[0;31m# Convert integers to strings\u001b[0m\u001b[0;34m\u001b[0m\u001b[0;34m\u001b[0m\u001b[0m\n\u001b[0m\u001b[1;32m      5\u001b[0m   \u001b[0mprint\u001b[0m\u001b[0;34m(\u001b[0m\u001b[0;32mTrue\u001b[0m\u001b[0;34m)\u001b[0m\u001b[0;34m\u001b[0m\u001b[0;34m\u001b[0m\u001b[0m\n\u001b[1;32m      6\u001b[0m \u001b[0;32melse\u001b[0m\u001b[0;34m:\u001b[0m\u001b[0;34m\u001b[0m\u001b[0;34m\u001b[0m\u001b[0m\n",
            "\u001b[0;31mNameError\u001b[0m: name 'Sorted' is not defined"
          ]
        }
      ]
    },
    {
      "cell_type": "markdown",
      "source": [
        "Use Cases of Comparison Operators:\n",
        "Equality Comparison (==) or < , >:\n",
        "Conditional Statements:\n",
        "Used in if, elif\n",
        "Loops:\n",
        "\n"
      ],
      "metadata": {
        "id": "EkeM7CTCRmcW"
      }
    },
    {
      "cell_type": "markdown",
      "source": [
        "# Get the minimum value from list without using comparision operator\n"
      ],
      "metadata": {
        "id": "M8yGK3OiR4ys"
      }
    },
    {
      "cell_type": "code",
      "source": [
        "list= [1, 2,7, 4, 3]"
      ],
      "metadata": {
        "id": "mVWTuVvLU3BX"
      },
      "execution_count": null,
      "outputs": []
    },
    {
      "cell_type": "code",
      "source": [
        "\n",
        "print(sorted(list)[0])"
      ],
      "metadata": {
        "colab": {
          "base_uri": "https://localhost:8080/"
        },
        "id": "tRmPWJBoSBBa",
        "outputId": "c31957e9-2296-4fb7-a8cc-dce744e0f259"
      },
      "execution_count": null,
      "outputs": [
        {
          "output_type": "stream",
          "name": "stdout",
          "text": [
            "1\n"
          ]
        }
      ]
    },
    {
      "cell_type": "markdown",
      "source": [
        "# Lambda (Reverse list)"
      ],
      "metadata": {
        "id": "paXdfgSzSfCQ"
      }
    },
    {
      "cell_type": "code",
      "source": [
        "print(sorted(list, key=lambda x:-x))  #sorting in reverse direction"
      ],
      "metadata": {
        "colab": {
          "base_uri": "https://localhost:8080/"
        },
        "id": "BfYdX68CSqBL",
        "outputId": "298ed147-3690-41e9-d00f-5b76e66c8f79"
      },
      "execution_count": null,
      "outputs": [
        {
          "output_type": "stream",
          "name": "stdout",
          "text": [
            "[7, 4, 3, 2, 1]\n"
          ]
        }
      ]
    },
    {
      "cell_type": "markdown",
      "source": [
        "Can also use slice to reverse a list"
      ],
      "metadata": {
        "id": "aLAb4QbAUROb"
      }
    },
    {
      "cell_type": "code",
      "source": [
        "print(list[::-1])"
      ],
      "metadata": {
        "colab": {
          "base_uri": "https://localhost:8080/"
        },
        "id": "Lrf8sQv4UTpa",
        "outputId": "2814b604-3101-4caa-e74f-1d946077d624"
      },
      "execution_count": null,
      "outputs": [
        {
          "output_type": "stream",
          "name": "stdout",
          "text": [
            "[3, 4, 7, 2, 1]\n"
          ]
        }
      ]
    },
    {
      "cell_type": "markdown",
      "source": [
        "not giving good result"
      ],
      "metadata": {
        "id": "pLWbn3p2VDO0"
      }
    },
    {
      "cell_type": "markdown",
      "source": [
        "# Implement string reversal , what are different ways you can do that\n",
        "\n"
      ],
      "metadata": {
        "id": "AziJ0WmlVNc4"
      }
    },
    {
      "cell_type": "markdown",
      "source": [
        "slicing"
      ],
      "metadata": {
        "id": "uo9vhqV_raif"
      }
    },
    {
      "cell_type": "code",
      "source": [
        "string = 'swayista'\n",
        "print(string[::-1])"
      ],
      "metadata": {
        "colab": {
          "base_uri": "https://localhost:8080/"
        },
        "id": "cb5qbglJVGHV",
        "outputId": "faf1e7f3-5137-48a3-e8b8-f4d22ea8ad62"
      },
      "execution_count": null,
      "outputs": [
        {
          "output_type": "stream",
          "name": "stdout",
          "text": [
            "atsiyaws\n"
          ]
        }
      ]
    },
    {
      "cell_type": "markdown",
      "source": [
        "using reverse function"
      ],
      "metadata": {
        "id": "IQJYXcjorcHe"
      }
    },
    {
      "cell_type": "code",
      "source": [
        "string = 'swayista'\n",
        "r_v = ''.join(reversed(string))\n",
        "print(r_v)"
      ],
      "metadata": {
        "colab": {
          "base_uri": "https://localhost:8080/"
        },
        "id": "rBfHtG3MWWsn",
        "outputId": "9308a79e-b590-4f5a-ff15-590e6080772d"
      },
      "execution_count": null,
      "outputs": [
        {
          "output_type": "stream",
          "name": "stdout",
          "text": [
            "atsiyaws\n"
          ]
        }
      ]
    },
    {
      "cell_type": "markdown",
      "source": [
        "Print total occurence of a word in each line print line text with number\n"
      ],
      "metadata": {
        "id": "zorIvpaVxyYG"
      }
    },
    {
      "cell_type": "code",
      "source": [
        "text = \"\"\"This is a test line.\n",
        "Another test line with the word test twice: test.\n",
        "No matches here.\n",
        "Test is at the beginning.\n",
        "Ending with test.\"\"\""
      ],
      "metadata": {
        "id": "FXq4eX6prfBJ"
      },
      "execution_count": null,
      "outputs": []
    },
    {
      "cell_type": "code",
      "source": [
        "lines = text.split('\\n')\n",
        "word = 'test'"
      ],
      "metadata": {
        "id": "pmOSjWU-L_X0"
      },
      "execution_count": null,
      "outputs": []
    },
    {
      "cell_type": "code",
      "source": [
        "print(lines)"
      ],
      "metadata": {
        "colab": {
          "base_uri": "https://localhost:8080/"
        },
        "id": "QQlUwfXCZEIm",
        "outputId": "4856f004-f758-40a1-995a-aa13b9272529"
      },
      "execution_count": null,
      "outputs": [
        {
          "output_type": "stream",
          "name": "stdout",
          "text": [
            "['This is a test line.', 'Another test line with the word test twice: test.', 'No matches here.', 'Test is at the beginning.', 'Ending with test.']\n"
          ]
        }
      ]
    },
    {
      "cell_type": "code",
      "source": [
        "word_lower = word.lower()\n",
        "for i, line in enumerate(lines):\n",
        "  line_lower = line.lower()\n",
        "  count = line_lower.count(word_lower)\n",
        "  print(f\"Line {i+1}: {line} (Count: {count})\")"
      ],
      "metadata": {
        "colab": {
          "base_uri": "https://localhost:8080/",
          "height": 141
        },
        "id": "gJyraA23N8Re",
        "outputId": "fa438f0b-b2ea-4c63-b003-822db4b66dc2"
      },
      "execution_count": null,
      "outputs": [
        {
          "output_type": "error",
          "ename": "NameError",
          "evalue": "name 'lower' is not defined",
          "traceback": [
            "\u001b[0;31m---------------------------------------------------------------------------\u001b[0m",
            "\u001b[0;31mNameError\u001b[0m                                 Traceback (most recent call last)",
            "\u001b[0;32m/tmp/ipython-input-1729606178.py\u001b[0m in \u001b[0;36m<cell line: 0>\u001b[0;34m()\u001b[0m\n\u001b[0;32m----> 1\u001b[0;31m \u001b[0mtw\u001b[0m\u001b[0;34m=\u001b[0m \u001b[0mlines\u001b[0m\u001b[0;34m.\u001b[0m\u001b[0mcount\u001b[0m\u001b[0;34m(\u001b[0m\u001b[0mword\u001b[0m\u001b[0;34m(\u001b[0m\u001b[0mlower\u001b[0m\u001b[0;34m)\u001b[0m\u001b[0;34m)\u001b[0m\u001b[0;34m\u001b[0m\u001b[0;34m\u001b[0m\u001b[0m\n\u001b[0m",
            "\u001b[0;31mNameError\u001b[0m: name 'lower' is not defined"
          ]
        }
      ]
    },
    {
      "cell_type": "markdown",
      "source": [
        "This is the correct code copied from chatgpt"
      ],
      "metadata": {
        "id": "IlgBhShqQ17q"
      }
    },
    {
      "cell_type": "code",
      "source": [
        "text= ''\n",
        "lines= text.splitlines()\n",
        "for line_numbers, line_text enumerates(starts, 1)\n",
        "words_in_line= line_text.lower().split()\n",
        "wor_count= word_in_line.count(word_find.lower())\n",
        "# Print the result\n",
        "    print(f\"Line {line_number}: {line_text} (Occurrences of '{word_to_find}': {word_count})\")\n"
      ],
      "metadata": {
        "id": "HDwqBy-xOHAD"
      },
      "execution_count": null,
      "outputs": []
    },
    {
      "cell_type": "markdown",
      "source": [
        "Reverse the word order in a sentence"
      ],
      "metadata": {
        "id": "r3NYcHmRn0-F"
      }
    },
    {
      "cell_type": "code",
      "source": [
        "sentence= ''\n",
        "def reverse_word(sentence)\n",
        " return.''join(sentence.split()[::-1])"
      ],
      "metadata": {
        "id": "lOw7aVmkn2jT"
      },
      "execution_count": null,
      "outputs": []
    },
    {
      "cell_type": "code",
      "source": [
        "print(reverse_word(sentence))"
      ],
      "metadata": {
        "id": "k1MML8WtoWJP"
      },
      "execution_count": null,
      "outputs": []
    },
    {
      "cell_type": "markdown",
      "source": [
        "Count the number of unique words in a string array\n"
      ],
      "metadata": {
        "id": "dnAV7_SAZe6d"
      }
    },
    {
      "cell_type": "code",
      "source": [
        "words=[]\n",
        "def count_unique_words(words):\n",
        "  return len(set(words))"
      ],
      "metadata": {
        "id": "gFCoCOoqo8t9"
      },
      "execution_count": null,
      "outputs": []
    },
    {
      "cell_type": "markdown",
      "source": [
        "set(words) — converts the list of words into a set, which automatically removes duplicates.\n",
        "\n",
        "len(...) — returns the number of unique elements in that set.\n",
        "\n"
      ],
      "metadata": {
        "id": "RwdFZTIhspb0"
      }
    },
    {
      "cell_type": "markdown",
      "source": [
        "Write a program to print the first non-repeating character in a string.\n"
      ],
      "metadata": {
        "id": "Ze80maLbeMGs"
      }
    },
    {
      "cell_type": "code",
      "source": [
        "char_count = {}\n",
        "def first_non_repeating_char(string):\n",
        "\n",
        "  for char in string:\n",
        "    if char in char_count:\n",
        "      char_count[char] += 1\n",
        "\n",
        "    else:\n",
        "\n",
        "      char_count[char] = 1\n",
        "print(first_non_repeating_char('Manshuu'))\n",
        "print(char_count)"
      ],
      "metadata": {
        "colab": {
          "base_uri": "https://localhost:8080/"
        },
        "id": "yHQ8MRyquo_d",
        "outputId": "0df61b05-efcf-42e2-abb9-ed247f1474a2"
      },
      "execution_count": null,
      "outputs": [
        {
          "output_type": "stream",
          "name": "stdout",
          "text": [
            "None\n",
            "{'M': 1, 'a': 1, 'n': 1, 's': 1, 'h': 1, 'u': 2}\n"
          ]
        }
      ]
    },
    {
      "cell_type": "code",
      "source": [
        "s = \"swiss\"\n",
        "\n",
        "for ch in s:\n",
        "    if s.count(ch) == 1:\n",
        "        print(\"First non-repeating character:\", ch)\n",
        "        break\n",
        "else:\n",
        "    print(\"No non-repeating character found.\")\n"
      ],
      "metadata": {
        "id": "VAzo1VeTy23Q"
      },
      "execution_count": null,
      "outputs": []
    },
    {
      "cell_type": "markdown",
      "source": [
        "Module- A file containing somebody else's code which can be implemented in our project."
      ],
      "metadata": {
        "id": "GBqP5ktF8Yer"
      }
    },
    {
      "cell_type": "markdown",
      "source": [
        "Pip is a package manager in python it is uesd to install modules.\n",
        "Thre are two types of modules\n",
        "1. built in e.g. os, re\n",
        "2. external ones e.g.- flask"
      ],
      "metadata": {
        "id": "ocgJKlw09AOs"
      }
    },
    {
      "cell_type": "markdown",
      "source": [
        "REPL- READ, EVALUATE, PRINT, LOOP"
      ],
      "metadata": {
        "id": "-TrPgkQq92wr"
      }
    },
    {
      "cell_type": "code",
      "source": [
        "pip install pyjokes"
      ],
      "metadata": {
        "colab": {
          "base_uri": "https://localhost:8080/"
        },
        "id": "VeqOLNDF-ZTV",
        "outputId": "d842533e-362d-486e-8735-16b3a7cb11b5"
      },
      "execution_count": null,
      "outputs": [
        {
          "output_type": "stream",
          "name": "stdout",
          "text": [
            "Collecting pyjokes\n",
            "  Downloading pyjokes-0.8.3-py3-none-any.whl.metadata (3.4 kB)\n",
            "Downloading pyjokes-0.8.3-py3-none-any.whl (47 kB)\n",
            "\u001b[?25l   \u001b[90m━━━━━━━━━━━━━━━━━━━━━━━━━━━━━━━━━━━━━━━━\u001b[0m \u001b[32m0.0/47.6 kB\u001b[0m \u001b[31m?\u001b[0m eta \u001b[36m-:--:--\u001b[0m\r\u001b[2K   \u001b[90m━━━━━━━━━━━━━━━━━━━━━━━━━━━━━━━━━━━━━━━━\u001b[0m \u001b[32m47.6/47.6 kB\u001b[0m \u001b[31m2.3 MB/s\u001b[0m eta \u001b[36m0:00:00\u001b[0m\n",
            "\u001b[?25hInstalling collected packages: pyjokes\n",
            "Successfully installed pyjokes-0.8.3\n"
          ]
        }
      ]
    },
    {
      "cell_type": "code",
      "source": [
        "import pyjokes\n",
        "Jokes= pyjokes.get_joke()\n",
        "print(Jokes)"
      ],
      "metadata": {
        "colab": {
          "base_uri": "https://localhost:8080/"
        },
        "id": "QTRyKL-_0N3I",
        "outputId": "a54d2519-2e0d-43c5-af5a-2f160516c79e"
      },
      "execution_count": null,
      "outputs": [
        {
          "output_type": "stream",
          "name": "stdout",
          "text": [
            "Debugging is like being the detective in a crime drama where you are also the murderer.\n"
          ]
        }
      ]
    },
    {
      "cell_type": "markdown",
      "source": [
        "We can print multiple lines(strings) by using ('''    ''') triple quotes"
      ],
      "metadata": {
        "id": "w9VPpm4oePAK"
      }
    },
    {
      "cell_type": "code",
      "source": [
        "print(''' When I was young,\n",
        "Nostalgia was a tiny, tiny stamp,\n",
        "Me on this side,\n",
        "Mother on the other side.\n",
        "When I grew up,\n",
        "Nostalgia was a narrow boat ticket,\n",
        "Me on this side,\n",
        "Bride on the other side.\n",
        "But later on,\n",
        "Nostalgia was a lowly grave,\n",
        "Me on the outside,\n",
        "Mother on the inside.\n",
        "And at present,\n",
        "Nostalgia becomes a shallow strait,\n",
        "Me on this side,\n",
        "Mainland on the other side.\n",
        "\n",
        "''')"
      ],
      "metadata": {
        "colab": {
          "base_uri": "https://localhost:8080/"
        },
        "id": "ivIyCw0R_tRC",
        "outputId": "65616552-e643-4ff1-9cf8-c8c54145bea3"
      },
      "execution_count": null,
      "outputs": [
        {
          "output_type": "stream",
          "name": "stdout",
          "text": [
            " When I was young,\n",
            "Nostalgia was a tiny, tiny stamp,\n",
            "Me on this side,\n",
            "Mother on the other side.\n",
            "When I grew up,\n",
            "Nostalgia was a narrow boat ticket,\n",
            "Me on this side,\n",
            "Bride on the other side.\n",
            "But later on,\n",
            "Nostalgia was a lowly grave,\n",
            "Me on the outside,\n",
            "Mother on the inside.\n",
            "And at present,\n",
            "Nostalgia becomes a shallow strait,\n",
            "Me on this side,\n",
            "Mainland on the other side.\n",
            "\n",
            "\n"
          ]
        }
      ]
    },
    {
      "cell_type": "code",
      "source": [
        "pip install pyttsx3"
      ],
      "metadata": {
        "colab": {
          "base_uri": "https://localhost:8080/"
        },
        "id": "AE3sBbI_FcmD",
        "outputId": "286b227a-8a8b-4893-d84a-6fd367014d30"
      },
      "execution_count": null,
      "outputs": [
        {
          "output_type": "stream",
          "name": "stdout",
          "text": [
            "Collecting pyttsx3\n",
            "  Downloading pyttsx3-2.99-py3-none-any.whl.metadata (6.2 kB)\n",
            "Downloading pyttsx3-2.99-py3-none-any.whl (32 kB)\n",
            "Installing collected packages: pyttsx3\n",
            "Successfully installed pyttsx3-2.99\n"
          ]
        }
      ]
    },
    {
      "cell_type": "code",
      "source": [
        "import pyttsx3\n",
        "engine = pyttsx3.init()\n",
        "\n",
        "# For Mac, If you face error related to \"pyobjc\" when running the `init()` method :\n",
        "# Install 9.0.1 version of pyobjc : \"pip install pyobjc>=9.0.1\"\n",
        "\n",
        "engine.say(\"I will speak this text\")\n",
        "engine.runAndWait()"
      ],
      "metadata": {
        "colab": {
          "base_uri": "https://localhost:8080/",
          "height": 408
        },
        "id": "YLh1KruiFiQm",
        "outputId": "37874130-96b4-414e-a72d-32010b4b43f0"
      },
      "execution_count": null,
      "outputs": [
        {
          "output_type": "error",
          "ename": "RuntimeError",
          "evalue": "This means you probably do not have eSpeak or eSpeak-ng installed!",
          "traceback": [
            "\u001b[0;31m---------------------------------------------------------------------------\u001b[0m",
            "\u001b[0;31mKeyError\u001b[0m                                  Traceback (most recent call last)",
            "\u001b[0;32m/usr/local/lib/python3.11/dist-packages/pyttsx3/__init__.py\u001b[0m in \u001b[0;36minit\u001b[0;34m(driverName, debug)\u001b[0m\n\u001b[1;32m     21\u001b[0m     \u001b[0;32mtry\u001b[0m\u001b[0;34m:\u001b[0m\u001b[0;34m\u001b[0m\u001b[0;34m\u001b[0m\u001b[0m\n\u001b[0;32m---> 22\u001b[0;31m         \u001b[0meng\u001b[0m \u001b[0;34m=\u001b[0m \u001b[0m_activeEngines\u001b[0m\u001b[0;34m[\u001b[0m\u001b[0mdriverName\u001b[0m\u001b[0;34m]\u001b[0m\u001b[0;34m\u001b[0m\u001b[0;34m\u001b[0m\u001b[0m\n\u001b[0m\u001b[1;32m     23\u001b[0m     \u001b[0;32mexcept\u001b[0m \u001b[0mKeyError\u001b[0m\u001b[0;34m:\u001b[0m\u001b[0;34m\u001b[0m\u001b[0;34m\u001b[0m\u001b[0m\n",
            "\u001b[0;32m/usr/lib/python3.11/weakref.py\u001b[0m in \u001b[0;36m__getitem__\u001b[0;34m(self, key)\u001b[0m\n\u001b[1;32m    135\u001b[0m             \u001b[0mself\u001b[0m\u001b[0;34m.\u001b[0m\u001b[0m_commit_removals\u001b[0m\u001b[0;34m(\u001b[0m\u001b[0;34m)\u001b[0m\u001b[0;34m\u001b[0m\u001b[0;34m\u001b[0m\u001b[0m\n\u001b[0;32m--> 136\u001b[0;31m         \u001b[0mo\u001b[0m \u001b[0;34m=\u001b[0m \u001b[0mself\u001b[0m\u001b[0;34m.\u001b[0m\u001b[0mdata\u001b[0m\u001b[0;34m[\u001b[0m\u001b[0mkey\u001b[0m\u001b[0;34m]\u001b[0m\u001b[0;34m(\u001b[0m\u001b[0;34m)\u001b[0m\u001b[0;34m\u001b[0m\u001b[0;34m\u001b[0m\u001b[0m\n\u001b[0m\u001b[1;32m    137\u001b[0m         \u001b[0;32mif\u001b[0m \u001b[0mo\u001b[0m \u001b[0;32mis\u001b[0m \u001b[0;32mNone\u001b[0m\u001b[0;34m:\u001b[0m\u001b[0;34m\u001b[0m\u001b[0;34m\u001b[0m\u001b[0m\n",
            "\u001b[0;31mKeyError\u001b[0m: None",
            "\nDuring handling of the above exception, another exception occurred:\n",
            "\u001b[0;31mRuntimeError\u001b[0m                              Traceback (most recent call last)",
            "\u001b[0;32m/tmp/ipython-input-1157261189.py\u001b[0m in \u001b[0;36m<cell line: 0>\u001b[0;34m()\u001b[0m\n\u001b[1;32m      1\u001b[0m \u001b[0;32mimport\u001b[0m \u001b[0mpyttsx3\u001b[0m\u001b[0;34m\u001b[0m\u001b[0;34m\u001b[0m\u001b[0m\n\u001b[0;32m----> 2\u001b[0;31m \u001b[0mengine\u001b[0m \u001b[0;34m=\u001b[0m \u001b[0mpyttsx3\u001b[0m\u001b[0;34m.\u001b[0m\u001b[0minit\u001b[0m\u001b[0;34m(\u001b[0m\u001b[0;34m)\u001b[0m\u001b[0;34m\u001b[0m\u001b[0;34m\u001b[0m\u001b[0m\n\u001b[0m\u001b[1;32m      3\u001b[0m \u001b[0;34m\u001b[0m\u001b[0m\n\u001b[1;32m      4\u001b[0m \u001b[0;31m# For Mac, If you face error related to \"pyobjc\" when running the `init()` method :\u001b[0m\u001b[0;34m\u001b[0m\u001b[0;34m\u001b[0m\u001b[0m\n\u001b[1;32m      5\u001b[0m \u001b[0;31m# Install 9.0.1 version of pyobjc : \"pip install pyobjc>=9.0.1\"\u001b[0m\u001b[0;34m\u001b[0m\u001b[0;34m\u001b[0m\u001b[0m\n",
            "\u001b[0;32m/usr/local/lib/python3.11/dist-packages/pyttsx3/__init__.py\u001b[0m in \u001b[0;36minit\u001b[0;34m(driverName, debug)\u001b[0m\n\u001b[1;32m     22\u001b[0m         \u001b[0meng\u001b[0m \u001b[0;34m=\u001b[0m \u001b[0m_activeEngines\u001b[0m\u001b[0;34m[\u001b[0m\u001b[0mdriverName\u001b[0m\u001b[0;34m]\u001b[0m\u001b[0;34m\u001b[0m\u001b[0;34m\u001b[0m\u001b[0m\n\u001b[1;32m     23\u001b[0m     \u001b[0;32mexcept\u001b[0m \u001b[0mKeyError\u001b[0m\u001b[0;34m:\u001b[0m\u001b[0;34m\u001b[0m\u001b[0;34m\u001b[0m\u001b[0m\n\u001b[0;32m---> 24\u001b[0;31m         \u001b[0meng\u001b[0m \u001b[0;34m=\u001b[0m \u001b[0mEngine\u001b[0m\u001b[0;34m(\u001b[0m\u001b[0mdriverName\u001b[0m\u001b[0;34m,\u001b[0m \u001b[0mdebug\u001b[0m\u001b[0;34m)\u001b[0m\u001b[0;34m\u001b[0m\u001b[0;34m\u001b[0m\u001b[0m\n\u001b[0m\u001b[1;32m     25\u001b[0m         \u001b[0m_activeEngines\u001b[0m\u001b[0;34m[\u001b[0m\u001b[0mdriverName\u001b[0m\u001b[0;34m]\u001b[0m \u001b[0;34m=\u001b[0m \u001b[0meng\u001b[0m\u001b[0;34m\u001b[0m\u001b[0;34m\u001b[0m\u001b[0m\n\u001b[1;32m     26\u001b[0m     \u001b[0;32mreturn\u001b[0m \u001b[0meng\u001b[0m\u001b[0;34m\u001b[0m\u001b[0;34m\u001b[0m\u001b[0m\n",
            "\u001b[0;32m/usr/local/lib/python3.11/dist-packages/pyttsx3/engine.py\u001b[0m in \u001b[0;36m__init__\u001b[0;34m(self, driverName, debug)\u001b[0m\n\u001b[1;32m     57\u001b[0m         \"\"\"\n\u001b[1;32m     58\u001b[0m         \u001b[0mself\u001b[0m\u001b[0;34m.\u001b[0m\u001b[0mdriver_name\u001b[0m \u001b[0;34m=\u001b[0m \u001b[0mdriverName\u001b[0m \u001b[0;32mor\u001b[0m \u001b[0mdefault_engine_by_sys_platform\u001b[0m\u001b[0;34m(\u001b[0m\u001b[0;34m)\u001b[0m\u001b[0;34m\u001b[0m\u001b[0;34m\u001b[0m\u001b[0m\n\u001b[0;32m---> 59\u001b[0;31m         \u001b[0mself\u001b[0m\u001b[0;34m.\u001b[0m\u001b[0mproxy\u001b[0m \u001b[0;34m=\u001b[0m \u001b[0mdriver\u001b[0m\u001b[0;34m.\u001b[0m\u001b[0mDriverProxy\u001b[0m\u001b[0;34m(\u001b[0m\u001b[0mweakref\u001b[0m\u001b[0;34m.\u001b[0m\u001b[0mproxy\u001b[0m\u001b[0;34m(\u001b[0m\u001b[0mself\u001b[0m\u001b[0;34m)\u001b[0m\u001b[0;34m,\u001b[0m \u001b[0mself\u001b[0m\u001b[0;34m.\u001b[0m\u001b[0mdriver_name\u001b[0m\u001b[0;34m,\u001b[0m \u001b[0mdebug\u001b[0m\u001b[0;34m)\u001b[0m\u001b[0;34m\u001b[0m\u001b[0;34m\u001b[0m\u001b[0m\n\u001b[0m\u001b[1;32m     60\u001b[0m         \u001b[0mself\u001b[0m\u001b[0;34m.\u001b[0m\u001b[0m_connects\u001b[0m \u001b[0;34m=\u001b[0m \u001b[0;34m{\u001b[0m\u001b[0;34m}\u001b[0m\u001b[0;34m\u001b[0m\u001b[0;34m\u001b[0m\u001b[0m\n\u001b[1;32m     61\u001b[0m         \u001b[0mself\u001b[0m\u001b[0;34m.\u001b[0m\u001b[0m_debug\u001b[0m \u001b[0;34m=\u001b[0m \u001b[0mdebug\u001b[0m\u001b[0;34m\u001b[0m\u001b[0;34m\u001b[0m\u001b[0m\n",
            "\u001b[0;32m/usr/local/lib/python3.11/dist-packages/pyttsx3/driver.py\u001b[0m in \u001b[0;36m__init__\u001b[0;34m(self, engine, driverName, debug)\u001b[0m\n\u001b[1;32m     39\u001b[0m         \u001b[0;32massert\u001b[0m \u001b[0mdriverName\u001b[0m\u001b[0;34m\u001b[0m\u001b[0;34m\u001b[0m\u001b[0m\n\u001b[1;32m     40\u001b[0m         \u001b[0;31m# import driver module\u001b[0m\u001b[0;34m\u001b[0m\u001b[0;34m\u001b[0m\u001b[0m\n\u001b[0;32m---> 41\u001b[0;31m         \u001b[0mself\u001b[0m\u001b[0;34m.\u001b[0m\u001b[0m_module\u001b[0m \u001b[0;34m=\u001b[0m \u001b[0mimportlib\u001b[0m\u001b[0;34m.\u001b[0m\u001b[0mimport_module\u001b[0m\u001b[0;34m(\u001b[0m\u001b[0;34mf\"pyttsx3.drivers.{driverName}\"\u001b[0m\u001b[0;34m)\u001b[0m\u001b[0;34m\u001b[0m\u001b[0;34m\u001b[0m\u001b[0m\n\u001b[0m\u001b[1;32m     42\u001b[0m         \u001b[0;31m# build driver instance\u001b[0m\u001b[0;34m\u001b[0m\u001b[0;34m\u001b[0m\u001b[0m\n\u001b[1;32m     43\u001b[0m         \u001b[0mself\u001b[0m\u001b[0;34m.\u001b[0m\u001b[0m_driver\u001b[0m \u001b[0;34m=\u001b[0m \u001b[0mself\u001b[0m\u001b[0;34m.\u001b[0m\u001b[0m_module\u001b[0m\u001b[0;34m.\u001b[0m\u001b[0mbuildDriver\u001b[0m\u001b[0;34m(\u001b[0m\u001b[0mweakref\u001b[0m\u001b[0;34m.\u001b[0m\u001b[0mproxy\u001b[0m\u001b[0;34m(\u001b[0m\u001b[0mself\u001b[0m\u001b[0;34m)\u001b[0m\u001b[0;34m)\u001b[0m\u001b[0;34m\u001b[0m\u001b[0;34m\u001b[0m\u001b[0m\n",
            "\u001b[0;32m/usr/lib/python3.11/importlib/__init__.py\u001b[0m in \u001b[0;36mimport_module\u001b[0;34m(name, package)\u001b[0m\n\u001b[1;32m    124\u001b[0m                 \u001b[0;32mbreak\u001b[0m\u001b[0;34m\u001b[0m\u001b[0;34m\u001b[0m\u001b[0m\n\u001b[1;32m    125\u001b[0m             \u001b[0mlevel\u001b[0m \u001b[0;34m+=\u001b[0m \u001b[0;36m1\u001b[0m\u001b[0;34m\u001b[0m\u001b[0;34m\u001b[0m\u001b[0m\n\u001b[0;32m--> 126\u001b[0;31m     \u001b[0;32mreturn\u001b[0m \u001b[0m_bootstrap\u001b[0m\u001b[0;34m.\u001b[0m\u001b[0m_gcd_import\u001b[0m\u001b[0;34m(\u001b[0m\u001b[0mname\u001b[0m\u001b[0;34m[\u001b[0m\u001b[0mlevel\u001b[0m\u001b[0;34m:\u001b[0m\u001b[0;34m]\u001b[0m\u001b[0;34m,\u001b[0m \u001b[0mpackage\u001b[0m\u001b[0;34m,\u001b[0m \u001b[0mlevel\u001b[0m\u001b[0;34m)\u001b[0m\u001b[0;34m\u001b[0m\u001b[0;34m\u001b[0m\u001b[0m\n\u001b[0m\u001b[1;32m    127\u001b[0m \u001b[0;34m\u001b[0m\u001b[0m\n\u001b[1;32m    128\u001b[0m \u001b[0;34m\u001b[0m\u001b[0m\n",
            "\u001b[0;32m/usr/lib/python3.11/importlib/_bootstrap.py\u001b[0m in \u001b[0;36m_gcd_import\u001b[0;34m(name, package, level)\u001b[0m\n",
            "\u001b[0;32m/usr/lib/python3.11/importlib/_bootstrap.py\u001b[0m in \u001b[0;36m_find_and_load\u001b[0;34m(name, import_)\u001b[0m\n",
            "\u001b[0;32m/usr/lib/python3.11/importlib/_bootstrap.py\u001b[0m in \u001b[0;36m_find_and_load_unlocked\u001b[0;34m(name, import_)\u001b[0m\n",
            "\u001b[0;32m/usr/lib/python3.11/importlib/_bootstrap.py\u001b[0m in \u001b[0;36m_load_unlocked\u001b[0;34m(spec)\u001b[0m\n",
            "\u001b[0;32m/usr/lib/python3.11/importlib/_bootstrap_external.py\u001b[0m in \u001b[0;36mexec_module\u001b[0;34m(self, module)\u001b[0m\n",
            "\u001b[0;32m/usr/lib/python3.11/importlib/_bootstrap.py\u001b[0m in \u001b[0;36m_call_with_frames_removed\u001b[0;34m(f, *args, **kwds)\u001b[0m\n",
            "\u001b[0;32m/usr/local/lib/python3.11/dist-packages/pyttsx3/drivers/espeak.py\u001b[0m in \u001b[0;36m<module>\u001b[0;34m\u001b[0m\n\u001b[1;32m     13\u001b[0m \u001b[0;32mfrom\u001b[0m \u001b[0mpyttsx3\u001b[0m\u001b[0;34m.\u001b[0m\u001b[0mvoice\u001b[0m \u001b[0;32mimport\u001b[0m \u001b[0mVoice\u001b[0m\u001b[0;34m\u001b[0m\u001b[0;34m\u001b[0m\u001b[0m\n\u001b[1;32m     14\u001b[0m \u001b[0;34m\u001b[0m\u001b[0m\n\u001b[0;32m---> 15\u001b[0;31m \u001b[0;32mfrom\u001b[0m \u001b[0;34m.\u001b[0m \u001b[0;32mimport\u001b[0m \u001b[0m_espeak\u001b[0m\u001b[0;34m\u001b[0m\u001b[0;34m\u001b[0m\u001b[0m\n\u001b[0m\u001b[1;32m     16\u001b[0m \u001b[0;34m\u001b[0m\u001b[0m\n\u001b[1;32m     17\u001b[0m \u001b[0;34m\u001b[0m\u001b[0m\n",
            "\u001b[0;32m/usr/local/lib/python3.11/dist-packages/pyttsx3/drivers/_espeak.py\u001b[0m in \u001b[0;36m<module>\u001b[0;34m\u001b[0m\n\u001b[1;32m     59\u001b[0m     \u001b[0;32mif\u001b[0m \u001b[0;32mnot\u001b[0m \u001b[0mload_library\u001b[0m\u001b[0;34m(\u001b[0m\u001b[0;34m)\u001b[0m\u001b[0;34m:\u001b[0m\u001b[0;34m\u001b[0m\u001b[0;34m\u001b[0m\u001b[0m\n\u001b[1;32m     60\u001b[0m         \u001b[0mmsg\u001b[0m \u001b[0;34m=\u001b[0m \u001b[0;34m\"This means you probably do not have eSpeak or eSpeak-ng installed!\"\u001b[0m\u001b[0;34m\u001b[0m\u001b[0;34m\u001b[0m\u001b[0m\n\u001b[0;32m---> 61\u001b[0;31m         \u001b[0;32mraise\u001b[0m \u001b[0mRuntimeError\u001b[0m\u001b[0;34m(\u001b[0m\u001b[0mmsg\u001b[0m\u001b[0;34m)\u001b[0m\u001b[0;34m\u001b[0m\u001b[0;34m\u001b[0m\u001b[0m\n\u001b[0m\u001b[1;32m     62\u001b[0m \u001b[0;32mexcept\u001b[0m \u001b[0mException\u001b[0m\u001b[0;34m:\u001b[0m\u001b[0;34m\u001b[0m\u001b[0;34m\u001b[0m\u001b[0m\n\u001b[1;32m     63\u001b[0m     \u001b[0;32mraise\u001b[0m\u001b[0;34m\u001b[0m\u001b[0;34m\u001b[0m\u001b[0m\n",
            "\u001b[0;31mRuntimeError\u001b[0m: This means you probably do not have eSpeak or eSpeak-ng installed!"
          ]
        }
      ]
    },
    {
      "cell_type": "markdown",
      "source": [
        "The os module in Python is a built-in standard library module that provides a way to interact with the operating system."
      ],
      "metadata": {
        "id": "Z93jxNlPMqhP"
      }
    },
    {
      "cell_type": "code",
      "source": [
        "import os\n",
        "\n",
        "# Get the current working directory\n",
        "current_directory = os.getcwd()\n",
        "\n",
        "# Print the directory\n",
        "print(\"The current working directory is:\", current_directory)"
      ],
      "metadata": {
        "colab": {
          "base_uri": "https://localhost:8080/"
        },
        "id": "lUITYIYLFqZ4",
        "outputId": "d52db462-6411-452e-c4f5-cabc11658502"
      },
      "execution_count": null,
      "outputs": [
        {
          "output_type": "stream",
          "name": "stdout",
          "text": [
            "The current working directory is: /content\n"
          ]
        }
      ]
    },
    {
      "cell_type": "markdown",
      "source": [
        "A variable is a name given to the memory location of python."
      ],
      "metadata": {
        "id": "JpqOtuWyOJsO"
      }
    },
    {
      "cell_type": "markdown",
      "source": [
        "Data types in python-\n",
        "#String\n",
        "#Integer\n",
        "#Float\n",
        "#Boolean\n",
        "#None"
      ],
      "metadata": {
        "id": "kz2hGGHzQz3M"
      }
    },
    {
      "cell_type": "markdown",
      "source": [
        "Operators in python\n",
        "\n",
        "1.   Arithmatic operator:+,-,*./ etc\n",
        "2.   Assignment operators: =,+=,-= etc.\n",
        "3.   Comparison operators: ==, <, >=, != etc.\n",
        "4. Logical operators: and, or, not\n",
        "\n",
        "\n"
      ],
      "metadata": {
        "id": "7jAQe1DvRQ95"
      }
    },
    {
      "cell_type": "code",
      "source": [
        "x = 10\n",
        "x += 5  # x is now 15\n",
        "print(x)"
      ],
      "metadata": {
        "colab": {
          "base_uri": "https://localhost:8080/"
        },
        "id": "w3EEWny2TxQZ",
        "outputId": "f3a9525f-b4cf-4e49-a16d-c179f93c181c"
      },
      "execution_count": null,
      "outputs": [
        {
          "output_type": "stream",
          "name": "stdout",
          "text": [
            "15\n"
          ]
        }
      ]
    },
    {
      "cell_type": "markdown",
      "source": [
        "Type and type casting- used to find the data type"
      ],
      "metadata": {
        "id": "rGBU_nv_aHgP"
      }
    },
    {
      "cell_type": "markdown",
      "source": [
        "Converting one data type to another"
      ],
      "metadata": {
        "id": "P_0_Qq7RaxlE"
      }
    },
    {
      "cell_type": "code",
      "source": [
        "s=str(32)\n",
        "i=int(42.9)\n",
        "f=float(56)\n",
        "print(s,i,f)"
      ],
      "metadata": {
        "colab": {
          "base_uri": "https://localhost:8080/"
        },
        "id": "eAV4uUyMa2gz",
        "outputId": "b914802f-8ce2-412b-8a01-5de7ee0383c5"
      },
      "execution_count": null,
      "outputs": [
        {
          "output_type": "stream",
          "name": "stdout",
          "text": [
            "32 42 56.0\n"
          ]
        }
      ]
    },
    {
      "cell_type": "code",
      "source": [
        "str(32)"
      ],
      "metadata": {
        "colab": {
          "base_uri": "https://localhost:8080/",
          "height": 35
        },
        "id": "xr-PC8lEbiWf",
        "outputId": "cd8eb748-a8f8-475f-b7d9-8468fe16ed92"
      },
      "execution_count": null,
      "outputs": [
        {
          "output_type": "execute_result",
          "data": {
            "text/plain": [
              "'32'"
            ],
            "application/vnd.google.colaboratory.intrinsic+json": {
              "type": "string"
            }
          },
          "metadata": {},
          "execution_count": 15
        }
      ]
    },
    {
      "cell_type": "code",
      "source": [
        "a=(int(input()))"
      ],
      "metadata": {
        "colab": {
          "base_uri": "https://localhost:8080/"
        },
        "id": "LILEK5Odb98-",
        "outputId": "3da09dcb-5923-4919-fe1a-f86e07f213d3"
      },
      "execution_count": null,
      "outputs": [
        {
          "name": "stdout",
          "output_type": "stream",
          "text": [
            "30\n"
          ]
        }
      ]
    },
    {
      "cell_type": "code",
      "source": [
        "a= input()\n",
        "b= input()\n",
        "def sum_num(a,b):\n",
        " return a+b"
      ],
      "metadata": {
        "id": "DiGd2eG1cLxS"
      },
      "execution_count": null,
      "outputs": []
    },
    {
      "cell_type": "code",
      "source": [
        "print(sum_num(a,b))"
      ],
      "metadata": {
        "id": "9qXLJ33NqWIs"
      },
      "execution_count": null,
      "outputs": []
    },
    {
      "cell_type": "code",
      "source": [
        "a=str(input())\n",
        "b= str(input())\n",
        "def string_add(a,b):\n",
        " return a+b"
      ],
      "metadata": {
        "colab": {
          "base_uri": "https://localhost:8080/"
        },
        "id": "yVzdZSVJqfeQ",
        "outputId": "657f4fae-6889-49b6-8268-48642f584ecf"
      },
      "execution_count": null,
      "outputs": [
        {
          "name": "stdout",
          "output_type": "stream",
          "text": [
            "manshu\n",
            "bakra\n"
          ]
        }
      ]
    },
    {
      "cell_type": "code",
      "source": [
        "print(string_add(a,b))"
      ],
      "metadata": {
        "colab": {
          "base_uri": "https://localhost:8080/"
        },
        "id": "egHfADwvto_P",
        "outputId": "bb8b3ae1-8959-46d4-d793-a2bc91e1bfdd"
      },
      "execution_count": null,
      "outputs": [
        {
          "output_type": "stream",
          "name": "stdout",
          "text": [
            "manshubakra\n"
          ]
        }
      ]
    },
    {
      "cell_type": "markdown",
      "source": [
        "write a program to find the remainder when a number is didvided by z"
      ],
      "metadata": {
        "id": "HeQaYmRZxasr"
      }
    },
    {
      "cell_type": "code",
      "source": [
        "a= int(input())\n",
        "z= int(input())\n",
        "def remainder(a,z):\n",
        " return a%z"
      ],
      "metadata": {
        "id": "fftW-AlSaMmh"
      },
      "execution_count": null,
      "outputs": []
    },
    {
      "cell_type": "code",
      "source": [
        "print(remainder(a,z))"
      ],
      "metadata": {
        "id": "Iz198vp0xltO"
      },
      "execution_count": null,
      "outputs": []
    },
    {
      "cell_type": "markdown",
      "source": [
        "check the type of variable assigned using input function"
      ],
      "metadata": {
        "id": "b4CfXn3mxp69"
      }
    },
    {
      "cell_type": "code",
      "source": [
        "a= int(input())\n",
        "print(type(a))"
      ],
      "metadata": {
        "id": "H-2Yu4VRyAi3"
      },
      "execution_count": null,
      "outputs": []
    },
    {
      "cell_type": "markdown",
      "source": [
        "Use comparison parameter to find out whether a given variable a is greater than b or not. a= 34 b= 80"
      ],
      "metadata": {
        "id": "RLJ6Y5UExaGU"
      }
    },
    {
      "cell_type": "code",
      "source": [
        "a=34\n",
        "b=80\n",
        "def comparison(a,b):\n",
        " if a>=b:\n",
        "  return True\n",
        " else:\n",
        "  return False"
      ],
      "metadata": {
        "id": "fTrXLMNYZobg"
      },
      "execution_count": null,
      "outputs": []
    },
    {
      "cell_type": "code",
      "source": [
        "print(comparison(a,b))"
      ],
      "metadata": {
        "colab": {
          "base_uri": "https://localhost:8080/"
        },
        "id": "hP6-UhD_02xV",
        "outputId": "0d20e1c8-a12c-4572-a51e-ad5dc896c4e9"
      },
      "execution_count": null,
      "outputs": [
        {
          "output_type": "stream",
          "name": "stdout",
          "text": [
            "False\n"
          ]
        }
      ]
    },
    {
      "cell_type": "markdown",
      "source": [
        "To calculate square and avg of numbers inputed  by users"
      ],
      "metadata": {
        "id": "03cLoo781ARH"
      }
    },
    {
      "cell_type": "code",
      "source": [
        "a= float(input())\n",
        "b=float(input())\n",
        "def square_avg(a,b)\n",
        " return a**b\n",
        " return (a+b)/2"
      ],
      "metadata": {
        "id": "BA6zBgPM1KQi"
      },
      "execution_count": null,
      "outputs": []
    },
    {
      "cell_type": "markdown",
      "source": [
        "correct one if you want to do so many task in the function"
      ],
      "metadata": {
        "id": "8pdlgXaL3rGm"
      }
    },
    {
      "cell_type": "code",
      "source": [
        "a = float(input(\"Enter first number: \"))\n",
        "b = float(input(\"Enter second number: \"))\n",
        "\n",
        "def square_avg(a, b):\n",
        "    square_a = a ** 2\n",
        "    square_b = b ** 2\n",
        "    average = (a + b) / 2\n",
        "    return square_a, square_b, average"
      ],
      "metadata": {
        "id": "LxgCVJtv3qQA"
      },
      "execution_count": null,
      "outputs": []
    },
    {
      "cell_type": "markdown",
      "source": [
        "sl= name[ind_start:ind_end]\n",
        "\n",
        "\n",
        "*   first index included\n",
        "*   last index not included\n",
        "\n"
      ],
      "metadata": {
        "id": "2o4UeB65d580"
      }
    },
    {
      "cell_type": "markdown",
      "source": [
        "# s1[0:3] returns 'har' characters from 0 to 3\n",
        "# s1[1:3] returns 'ar' characters from 1 to 3"
      ],
      "metadata": {
        "id": "wIr_lw6fitZf"
      }
    },
    {
      "cell_type": "markdown",
      "source": [
        "letters[:4]\n",
        "Means: Start from the beginning, and stop before index 4"
      ],
      "metadata": {
        "id": "eRuwNP6_lnWp"
      }
    },
    {
      "cell_type": "markdown",
      "source": [
        "letters[1:]\n",
        "Means: Start from index 1, and go to the end"
      ],
      "metadata": {
        "id": "jCwdvssxlqZ1"
      }
    },
    {
      "cell_type": "markdown",
      "source": [
        "Slicing with skip value-\n",
        "\n",
        "\n",
        "*   letters[0:4:2]\n",
        "*   the last value tells us how much would we skip\n",
        "\n"
      ],
      "metadata": {
        "id": "99IjHIcLl9Sb"
      }
    },
    {
      "cell_type": "markdown",
      "source": [
        "#len('harry')\n",
        "#string.endswith('s')\n",
        "#string.count('c')\n",
        "#string.capitalize()\n",
        "#strig.find('world')\n",
        "#string.replace('world','python')\n"
      ],
      "metadata": {
        "id": "xcvQkA79n8lo"
      }
    },
    {
      "cell_type": "markdown",
      "source": [
        "# \\n- newline,\n",
        "# \\t-tab"
      ],
      "metadata": {
        "id": "u5DScm0Xp42E"
      }
    },
    {
      "cell_type": "markdown",
      "source": [
        "write a python program to display a user eneterd name followed by good afternoon using input function"
      ],
      "metadata": {
        "id": "E6ocbtDcr6nh"
      }
    },
    {
      "cell_type": "code",
      "source": [
        "s= str(input())\n",
        "print(f'goodafternoon: {s}')"
      ],
      "metadata": {
        "colab": {
          "base_uri": "https://localhost:8080/"
        },
        "id": "apZ9Uwotslgr",
        "outputId": "35c0bfeb-5fb3-4705-a15b-14022d4e5dea"
      },
      "execution_count": null,
      "outputs": [
        {
          "output_type": "stream",
          "name": "stdout",
          "text": [
            "montu\n",
            "goodafternoon: montu\n"
          ]
        }
      ]
    },
    {
      "cell_type": "markdown",
      "source": [
        "to detect double space in a string"
      ],
      "metadata": {
        "id": "4_DzGevIH_DZ"
      }
    },
    {
      "cell_type": "code",
      "source": [
        "s= input()\n",
        "if \" \" in s:\n",
        "  print(True)\n",
        "else:\n",
        "  print(False)"
      ],
      "metadata": {
        "colab": {
          "base_uri": "https://localhost:8080/"
        },
        "id": "xa-LtPe_3wAg",
        "outputId": "b87d4ef7-62a7-4357-f993-524d358fa4a7"
      },
      "execution_count": null,
      "outputs": [
        {
          "output_type": "stream",
          "name": "stdout",
          "text": [
            "masugoodstead\n",
            "False\n"
          ]
        }
      ]
    },
    {
      "cell_type": "code",
      "source": [
        "# An original string with single spaces\n",
        "es = \"This sentence has single spaces.\"\n",
        "\n",
        "# Use the replace() method to change single spaces to double spaces\n",
        "modified_sentence = es.replace(\" \", \"  \")\n",
        "\n",
        "\n",
        "print(\"Modified sentence:\", modified_sentence)"
      ],
      "metadata": {
        "colab": {
          "base_uri": "https://localhost:8080/"
        },
        "id": "RwAl2x5OJ69Y",
        "outputId": "9edd674f-bd7d-4608-f954-81d43f29a008"
      },
      "execution_count": null,
      "outputs": [
        {
          "output_type": "stream",
          "name": "stdout",
          "text": [
            "Modified sentence: This  sentence  has  single  spaces.\n"
          ]
        }
      ]
    },
    {
      "cell_type": "code",
      "source": [
        "es= ' i want you'\n",
        "mod= es.replace('','')\n",
        "print(mod)"
      ],
      "metadata": {
        "colab": {
          "base_uri": "https://localhost:8080/"
        },
        "id": "0lv6albJKJPH",
        "outputId": "af666252-8e3e-4657-9210-a60fd103c071"
      },
      "execution_count": null,
      "outputs": [
        {
          "output_type": "stream",
          "name": "stdout",
          "text": [
            " i want you\n"
          ]
        }
      ]
    },
    {
      "cell_type": "markdown",
      "source": [
        "add or remove space"
      ],
      "metadata": {
        "id": "uC2nHJiBaygj"
      }
    },
    {
      "cell_type": "code",
      "source": [
        "s= input()\n",
        "mod_s= ''.join(s.split()) # Split the string into words and rejoin with single space"
      ],
      "metadata": {
        "colab": {
          "base_uri": "https://localhost:8080/"
        },
        "id": "JvBpPe2fRVyt",
        "outputId": "273050d2-ee0c-4ce7-aa58-5f03b3ddfaf8"
      },
      "execution_count": null,
      "outputs": [
        {
          "name": "stdout",
          "output_type": "stream",
          "text": [
            "ugami sin\n"
          ]
        }
      ]
    },
    {
      "cell_type": "code",
      "source": [
        "print(mod_s)"
      ],
      "metadata": {
        "colab": {
          "base_uri": "https://localhost:8080/"
        },
        "id": "bsI0YNwHbKt6",
        "outputId": "c43b4678-cb26-489d-b271-316db8d3a19d"
      },
      "execution_count": null,
      "outputs": [
        {
          "output_type": "stream",
          "name": "stdout",
          "text": [
            "ugamisin\n"
          ]
        }
      ]
    },
    {
      "cell_type": "code",
      "source": [
        "s= input()\n",
        "mod_s= '  '.join(s.split()) # Add two spaces between each word"
      ],
      "metadata": {
        "colab": {
          "base_uri": "https://localhost:8080/"
        },
        "id": "bFx4ypALbJ8L",
        "outputId": "fbbf284e-c823-4ab8-a1d7-46cab9a1ff3e"
      },
      "execution_count": null,
      "outputs": [
        {
          "name": "stdout",
          "output_type": "stream",
          "text": [
            "uli min\n"
          ]
        }
      ]
    },
    {
      "cell_type": "code",
      "source": [
        "print(mod_s)"
      ],
      "metadata": {
        "colab": {
          "base_uri": "https://localhost:8080/"
        },
        "id": "19oF4-zRbXb0",
        "outputId": "d82d66e8-f38d-4467-c1eb-50caf5121fc8"
      },
      "execution_count": null,
      "outputs": [
        {
          "output_type": "stream",
          "name": "stdout",
          "text": [
            "uli  min\n"
          ]
        }
      ]
    },
    {
      "cell_type": "markdown",
      "source": [
        "# L= [8, 9.0, 'hry']\n",
        "# l.sort()\n",
        "# l.reverse()\n",
        "# l.append(2)- appends 2 at the end of the list\n",
        "# l.insert(3,8)- add 8 at 3 index\n",
        "# l.pop(2)- delete elemets at index 2\n",
        "# l.remove(21)- from the list"
      ],
      "metadata": {
        "id": "JmHhPvL9dkSd"
      }
    },
    {
      "cell_type": "markdown",
      "source": [
        "write a program to list seven fruits"
      ],
      "metadata": {
        "id": "SHY3oRappini"
      }
    },
    {
      "cell_type": "code",
      "source": [
        "fruit= []\n",
        "f1= input()\n",
        "fruit.append(f1)\n",
        "f2= input()\n",
        "...# like this we append it\n"
      ],
      "metadata": {
        "id": "8VQUgtDvp2ba"
      },
      "execution_count": null,
      "outputs": []
    },
    {
      "cell_type": "code",
      "source": [
        "marks=[]\n",
        "print(marks.sort())"
      ],
      "metadata": {
        "id": "5P-YOQrssiYt"
      },
      "execution_count": null,
      "outputs": []
    },
    {
      "cell_type": "markdown",
      "source": [
        "To prove tuple is immutable"
      ],
      "metadata": {
        "id": "ozjLrQbBs9Q4"
      }
    },
    {
      "cell_type": "code",
      "source": [
        "tuple=(1,2.0, 'harry')\n",
        "tuple[2]='larry'\n",
        "print(tuple)"
      ],
      "metadata": {
        "colab": {
          "base_uri": "https://localhost:8080/",
          "height": 176
        },
        "id": "e-HP4-5gtABU",
        "outputId": "53a97f55-d57f-44fc-e3f1-31cecf7ddad3"
      },
      "execution_count": null,
      "outputs": [
        {
          "output_type": "error",
          "ename": "TypeError",
          "evalue": "'tuple' object does not support item assignment",
          "traceback": [
            "\u001b[0;31m---------------------------------------------------------------------------\u001b[0m",
            "\u001b[0;31mTypeError\u001b[0m                                 Traceback (most recent call last)",
            "\u001b[0;32m/tmp/ipython-input-779469415.py\u001b[0m in \u001b[0;36m<cell line: 0>\u001b[0;34m()\u001b[0m\n\u001b[1;32m      1\u001b[0m \u001b[0mtuple\u001b[0m\u001b[0;34m=\u001b[0m\u001b[0;34m(\u001b[0m\u001b[0;36m1\u001b[0m\u001b[0;34m,\u001b[0m\u001b[0;36m2.0\u001b[0m\u001b[0;34m,\u001b[0m \u001b[0;34m'harry'\u001b[0m\u001b[0;34m)\u001b[0m\u001b[0;34m\u001b[0m\u001b[0;34m\u001b[0m\u001b[0m\n\u001b[0;32m----> 2\u001b[0;31m \u001b[0mtuple\u001b[0m\u001b[0;34m[\u001b[0m\u001b[0;36m2\u001b[0m\u001b[0;34m]\u001b[0m\u001b[0;34m=\u001b[0m\u001b[0;34m'larry'\u001b[0m\u001b[0;34m\u001b[0m\u001b[0;34m\u001b[0m\u001b[0m\n\u001b[0m\u001b[1;32m      3\u001b[0m \u001b[0mprint\u001b[0m\u001b[0;34m(\u001b[0m\u001b[0mtuple\u001b[0m\u001b[0;34m)\u001b[0m\u001b[0;34m\u001b[0m\u001b[0;34m\u001b[0m\u001b[0m\n",
            "\u001b[0;31mTypeError\u001b[0m: 'tuple' object does not support item assignment"
          ]
        }
      ]
    },
    {
      "cell_type": "markdown",
      "source": [
        "using list to replace"
      ],
      "metadata": {
        "id": "i7qHsjRyvPgV"
      }
    },
    {
      "cell_type": "code",
      "source": [
        "list=[1,2.0,'klit']\n",
        "list[2]='kite'\n",
        "print(list)"
      ],
      "metadata": {
        "colab": {
          "base_uri": "https://localhost:8080/"
        },
        "id": "fwyIJniJvAav",
        "outputId": "a62ee853-99d5-46c5-f18a-4b80b8c91248"
      },
      "execution_count": null,
      "outputs": [
        {
          "output_type": "stream",
          "name": "stdout",
          "text": [
            "[1, 2.0, 'kite']\n"
          ]
        }
      ]
    },
    {
      "cell_type": "markdown",
      "source": [
        "to count the no of zeros in a list"
      ],
      "metadata": {
        "id": "BYEHAMIHvWjr"
      }
    },
    {
      "cell_type": "code",
      "source": [
        "list= [7, 0, 8, 0, 0, 9]\n",
        "print(list.count(0))"
      ],
      "metadata": {
        "colab": {
          "base_uri": "https://localhost:8080/"
        },
        "id": "LhtbtnzSzREd",
        "outputId": "f351fdd1-8e2c-4bfa-facc-add9863ed5c6"
      },
      "execution_count": null,
      "outputs": [
        {
          "output_type": "stream",
          "name": "stdout",
          "text": [
            "3\n"
          ]
        }
      ]
    },
    {
      "cell_type": "markdown",
      "source": [
        "dictionary"
      ],
      "metadata": {
        "id": "Jt-2chKfzzTK"
      }
    },
    {
      "cell_type": "code",
      "source": [
        "dict= {\"name\": \"madhu\", \"from\": \"india\", \"marks\": [92,98,96]}\n",
        "dict.items()"
      ],
      "metadata": {
        "colab": {
          "base_uri": "https://localhost:8080/"
        },
        "id": "89sMrkSkz1OR",
        "outputId": "df9b0b02-5acf-44da-b9e3-ba2a9ff7a2e9"
      },
      "execution_count": null,
      "outputs": [
        {
          "output_type": "execute_result",
          "data": {
            "text/plain": [
              "dict_items([('name', 'madhu'), ('from', 'india'), ('marks', [92, 98, 96])])"
            ]
          },
          "metadata": {},
          "execution_count": 22
        }
      ]
    },
    {
      "cell_type": "markdown",
      "source": [
        "returns a list of key, value tuples"
      ],
      "metadata": {
        "id": "yA89dkgu1sRL"
      }
    },
    {
      "cell_type": "code",
      "source": [
        "dict.keys()"
      ],
      "metadata": {
        "colab": {
          "base_uri": "https://localhost:8080/"
        },
        "id": "PmBG2p8910L2",
        "outputId": "50c9e0cc-7c50-45fa-aa67-c4cd41eaf8ac"
      },
      "execution_count": null,
      "outputs": [
        {
          "output_type": "execute_result",
          "data": {
            "text/plain": [
              "dict_keys(['name', 'from', 'marks'])"
            ]
          },
          "metadata": {},
          "execution_count": 23
        }
      ]
    },
    {
      "cell_type": "code",
      "source": [
        "dict.update({'friends':})"
      ],
      "metadata": {
        "colab": {
          "base_uri": "https://localhost:8080/",
          "height": 106
        },
        "id": "_1ySxJC413_I",
        "outputId": "11c311df-b94d-469b-f999-0d4cc6e7805c"
      },
      "execution_count": null,
      "outputs": [
        {
          "output_type": "error",
          "ename": "SyntaxError",
          "evalue": "expression expected after dictionary key and ':' (ipython-input-3091912573.py, line 1)",
          "traceback": [
            "\u001b[0;36m  File \u001b[0;32m\"/tmp/ipython-input-3091912573.py\"\u001b[0;36m, line \u001b[0;32m1\u001b[0m\n\u001b[0;31m    dict.update({'friends':})\u001b[0m\n\u001b[0m                          ^\u001b[0m\n\u001b[0;31mSyntaxError\u001b[0m\u001b[0;31m:\u001b[0m expression expected after dictionary key and ':'\n"
          ]
        }
      ]
    },
    {
      "cell_type": "code",
      "source": [
        "dict.get('name')"
      ],
      "metadata": {
        "colab": {
          "base_uri": "https://localhost:8080/",
          "height": 35
        },
        "id": "dAHelVLA2Gn-",
        "outputId": "47bd2f49-962b-4518-ac9e-35ea32606b13"
      },
      "execution_count": null,
      "outputs": [
        {
          "output_type": "execute_result",
          "data": {
            "text/plain": [
              "'madhu'"
            ],
            "application/vnd.google.colaboratory.intrinsic+json": {
              "type": "string"
            }
          },
          "metadata": {},
          "execution_count": 27
        }
      ]
    },
    {
      "cell_type": "markdown",
      "source": [
        "#sets cannot conatin duplicate values\n",
        "#sets are unindexed"
      ],
      "metadata": {
        "id": "pzgt-gE82a2S"
      }
    },
    {
      "cell_type": "code",
      "source": [
        "s= {1,2,8,6}"
      ],
      "metadata": {
        "id": "Monrk64i2noS"
      },
      "execution_count": null,
      "outputs": []
    },
    {
      "cell_type": "markdown",
      "source": [
        "len(s)\n",
        "s.remove(8)\n",
        "s.pop()- ?\n",
        "s.clear()\n",
        "s.union({8,11})\n",
        "s.intersection({8,11})"
      ],
      "metadata": {
        "id": "mR_jXkq28jg7"
      }
    },
    {
      "cell_type": "markdown",
      "source": [
        "to get unique numbers"
      ],
      "metadata": {
        "id": "JnvAyPogPAm3"
      }
    },
    {
      "cell_type": "code",
      "source": [
        "numbers = [1, 2, 2, 3, 4, 4, 5, 1]\n",
        "un= set(numbers)\n",
        "print(un)"
      ],
      "metadata": {
        "colab": {
          "base_uri": "https://localhost:8080/"
        },
        "id": "e5pMsmyB8i5Y",
        "outputId": "541008e2-edf2-4445-e4c6-efc92e5121bc"
      },
      "execution_count": null,
      "outputs": [
        {
          "output_type": "stream",
          "name": "stdout",
          "text": [
            "{1, 2, 3, 4, 5}\n"
          ]
        }
      ]
    },
    {
      "cell_type": "markdown",
      "source": [
        "Yes — a set in Python can contain different types of data, as long as all elements are hashable (immutable).\n"
      ],
      "metadata": {
        "id": "CTNw60txQDey"
      }
    },
    {
      "cell_type": "code",
      "source": [
        "my_set = {42, \"hello\", 3.14, True, (1, 2)}\n",
        "print(my_set)"
      ],
      "metadata": {
        "id": "ZuAIiXPTQEj0"
      },
      "execution_count": null,
      "outputs": []
    },
    {
      "cell_type": "markdown",
      "source": [
        "invalid_set = {1, [2, 3], {\"a\": 1}}\n",
        "# that will cause an error"
      ],
      "metadata": {
        "id": "R3ii1LvJQRvS"
      }
    },
    {
      "cell_type": "code",
      "source": [
        "s={}\n",
        "print(type(s))"
      ],
      "metadata": {
        "colab": {
          "base_uri": "https://localhost:8080/"
        },
        "id": "cPBzsxvdS_ka",
        "outputId": "62978633-d7dc-4ba2-c9eb-e3c784674325"
      },
      "execution_count": null,
      "outputs": [
        {
          "output_type": "stream",
          "name": "stdout",
          "text": [
            "<class 'dict'>\n"
          ]
        }
      ]
    },
    {
      "cell_type": "markdown",
      "source": [
        "to add elements in set, list, tuple and dictionary we use diff commands- dict use update, set use add, list and tuple use update"
      ],
      "metadata": {
        "id": "-B9R2LsnU9aq"
      }
    },
    {
      "cell_type": "code",
      "source": [
        "d = {}\n",
        "\n",
        "name = input(\"Enter friends name: \")\n",
        "lang = input(\"Enter Language name: \")\n",
        "d.update({name: lang})\n",
        "\n",
        "name = input(\"Enter friends name: \")\n",
        "lang = input(\"Enter Language name: \")\n",
        "d.update({name: lang})\n",
        "\n",
        "name = input(\"Enter friends name: \")\n",
        "lang = input(\"Enter Language name: \")\n",
        "d.update({name: lang})\n",
        "\n",
        "name = input(\"Enter friends name: \")\n",
        "lang = input(\"Enter Language name: \")\n",
        "d.update({name: lang})\n",
        "\n",
        "\n",
        "print(d)"
      ],
      "metadata": {
        "id": "1Evl0zwbVL6-"
      },
      "execution_count": null,
      "outputs": []
    },
    {
      "cell_type": "code",
      "source": [
        "s = {8, 7, 12, \"Harry\", [1,2]}\n",
        "\n",
        "s[4] = 9"
      ],
      "metadata": {
        "colab": {
          "base_uri": "https://localhost:8080/",
          "height": 176
        },
        "id": "jeZzbIN9XOI7",
        "outputId": "b3f846fd-9000-471a-bbf2-08419a02bdef"
      },
      "execution_count": null,
      "outputs": [
        {
          "output_type": "error",
          "ename": "TypeError",
          "evalue": "unhashable type: 'list'",
          "traceback": [
            "\u001b[0;31m---------------------------------------------------------------------------\u001b[0m",
            "\u001b[0;31mTypeError\u001b[0m                                 Traceback (most recent call last)",
            "\u001b[0;32m/tmp/ipython-input-2529205213.py\u001b[0m in \u001b[0;36m<cell line: 0>\u001b[0;34m()\u001b[0m\n\u001b[0;32m----> 1\u001b[0;31m \u001b[0ms\u001b[0m \u001b[0;34m=\u001b[0m \u001b[0;34m{\u001b[0m\u001b[0;36m8\u001b[0m\u001b[0;34m,\u001b[0m \u001b[0;36m7\u001b[0m\u001b[0;34m,\u001b[0m \u001b[0;36m12\u001b[0m\u001b[0;34m,\u001b[0m \u001b[0;34m\"Harry\"\u001b[0m\u001b[0;34m,\u001b[0m \u001b[0;34m[\u001b[0m\u001b[0;36m1\u001b[0m\u001b[0;34m,\u001b[0m\u001b[0;36m2\u001b[0m\u001b[0;34m]\u001b[0m\u001b[0;34m}\u001b[0m\u001b[0;34m\u001b[0m\u001b[0;34m\u001b[0m\u001b[0m\n\u001b[0m\u001b[1;32m      2\u001b[0m \u001b[0;34m\u001b[0m\u001b[0m\n\u001b[1;32m      3\u001b[0m \u001b[0ms\u001b[0m\u001b[0;34m[\u001b[0m\u001b[0;36m4\u001b[0m\u001b[0;34m]\u001b[0m \u001b[0;34m=\u001b[0m \u001b[0;36m9\u001b[0m\u001b[0;34m\u001b[0m\u001b[0;34m\u001b[0m\u001b[0m\n",
            "\u001b[0;31mTypeError\u001b[0m: unhashable type: 'list'"
          ]
        }
      ]
    },
    {
      "cell_type": "markdown",
      "source": [
        "why inside a set () this is acceptd not {} or []"
      ],
      "metadata": {
        "id": "0Zo_o_1HXcxg"
      }
    },
    {
      "cell_type": "markdown",
      "source": [
        "sum of n numbers"
      ],
      "metadata": {
        "id": "DGPGCBdscJ32"
      }
    },
    {
      "cell_type": "code",
      "source": [
        "def running_total(m)\n",
        " return m(m+1)/2\n",
        "print(running_total(m))"
      ],
      "metadata": {
        "id": "oXvGQQaUn3-k"
      },
      "execution_count": null,
      "outputs": []
    },
    {
      "cell_type": "markdown",
      "source": [
        "is their any other way, i did this because i remember the formula"
      ],
      "metadata": {
        "id": "9nZ24A5VoRnh"
      }
    },
    {
      "cell_type": "markdown",
      "source": [
        "given marks of three subjects define a function to compare total passing marks"
      ],
      "metadata": {
        "id": "Y46PMUEhpdPy"
      }
    },
    {
      "cell_type": "code",
      "source": [
        "mark1= input()\n",
        "mark2= input()\n",
        "mark3= input()\n",
        "\n",
        "total_percen= (100*(mark1+mark2+mark3))/300\n",
        "def compare(total_percen):\n",
        "  if (total_percen>=40 and mark1>=33 and mark2>=33 and mark3>=33):\n",
        "    return True\n",
        "  else:\n",
        "    return False"
      ],
      "metadata": {
        "id": "gyvsDavwp9Xa"
      },
      "execution_count": null,
      "outputs": []
    },
    {
      "cell_type": "markdown",
      "source": [
        "spam content is given p1,p2, p3 and p4"
      ],
      "metadata": {
        "id": "Ti3p2iNTsREZ"
      }
    },
    {
      "cell_type": "code",
      "source": [
        "p1 = \"Make a lot of money\"\n",
        "p2 = \"buy now\"\n",
        "p3 = \"subscribe this\"\n",
        "p4 = \"click this\"\n",
        "comment= input()\n",
        "\n",
        "def detect_spam(comment):\n",
        "  if ((p1 in comment) or (p2 in comment) or (p3 in comment) or (p4 in comment)):\n",
        "    print ('True')\n",
        "\n",
        "  else:\n",
        "    print ('False')"
      ],
      "metadata": {
        "colab": {
          "base_uri": "https://localhost:8080/"
        },
        "id": "3LDJBYSwtxwV",
        "outputId": "2f5c53b2-c826-412e-e89f-b495c577e137"
      },
      "execution_count": null,
      "outputs": [
        {
          "name": "stdout",
          "output_type": "stream",
          "text": [
            "buy now\n"
          ]
        }
      ]
    },
    {
      "cell_type": "code",
      "source": [
        "p1 = \"Make a lot of money\"\n",
        "p2 = \"buy now\"\n",
        "p3 = \"subscribe this\"\n",
        "p4 = \"click this\"\n",
        "\n",
        "message = input(\"Enter your comment: \")\n",
        "\n",
        "if((p1 in message) or (p2 in message )or (p3 in message) or (p4 in message)):\n",
        "    print(\"This comment is a spam\")\n",
        "\n",
        "else:\n",
        "    print(\"This comment is not a spam\")"
      ],
      "metadata": {
        "colab": {
          "base_uri": "https://localhost:8080/"
        },
        "id": "oHEqj5duwJnv",
        "outputId": "bdcc7cb2-7fc0-43a0-a22e-1d881a9c1518"
      },
      "execution_count": null,
      "outputs": [
        {
          "output_type": "stream",
          "name": "stdout",
          "text": [
            "Enter your comment: buy now\n",
            "This comment is a spam\n"
          ]
        }
      ]
    },
    {
      "cell_type": "markdown",
      "source": [
        "compare why upper one did not work"
      ],
      "metadata": {
        "id": "pgWFJPSYwS4I"
      }
    },
    {
      "cell_type": "markdown",
      "source": [
        "When to use count and len?"
      ],
      "metadata": {
        "id": "JkVfcLaCwmXu"
      }
    },
    {
      "cell_type": "markdown",
      "source": [
        "write to find out whether a given username has lees than 10"
      ],
      "metadata": {
        "id": "8ouoBKyCwr1n"
      }
    },
    {
      "cell_type": "code",
      "source": [
        "charac= input()\n",
        "\n",
        "if len(charac)>=10:\n",
        " print('yes')\n",
        "else:\n",
        "  print('no')"
      ],
      "metadata": {
        "colab": {
          "base_uri": "https://localhost:8080/"
        },
        "id": "Chfmotxnxqiq",
        "outputId": "31a0f678-f453-440a-a788-d71e127fe89e"
      },
      "execution_count": null,
      "outputs": [
        {
          "output_type": "stream",
          "name": "stdout",
          "text": [
            "swa@87ytr\n",
            "no\n"
          ]
        }
      ]
    },
    {
      "cell_type": "markdown",
      "source": [
        "Check if your name is in the list"
      ],
      "metadata": {
        "id": "GgAC1EhezJGV"
      }
    },
    {
      "cell_type": "code",
      "source": [
        "l = [\"Harry\", \"Rohan\", \"Shubham\", \"Divya\"]\n",
        "nam= input()\n",
        "if nam in l:\n",
        "  print('yes')\n",
        "else:\n",
        "  print('no')"
      ],
      "metadata": {
        "colab": {
          "base_uri": "https://localhost:8080/"
        },
        "id": "jZvBcYJd04T_",
        "outputId": "ff41f9e1-2064-429f-9002-70fac3a0cfd3"
      },
      "execution_count": null,
      "outputs": [
        {
          "output_type": "stream",
          "name": "stdout",
          "text": [
            "diva\n",
            "no\n"
          ]
        }
      ]
    },
    {
      "cell_type": "markdown",
      "source": [
        "write a program to grade your marks"
      ],
      "metadata": {
        "id": "xaYggXKB1hvR"
      }
    },
    {
      "cell_type": "code",
      "source": [
        "marks= input()\n",
        "if (marks<=100 and marks>=90):\n",
        "  print('ex')"
      ],
      "metadata": {
        "id": "edzTj-fD1l3-"
      },
      "execution_count": null,
      "outputs": []
    },
    {
      "cell_type": "code",
      "source": [
        "marks = int(input(\"Enter your marks: \"))\n",
        "\n",
        "if(marks<=100 and marks>=90):\n",
        "    grade = \"Ex\"\n",
        "elif(marks<90 and marks>=80):\n",
        "    grade = \"A\"\n",
        "elif(marks<80 and marks>=70):\n",
        "    grade = \"B\"\n",
        "elif(marks<70 and marks>=60):\n",
        "    grade = \"C\"\n",
        "elif(marks<60 and marks>=50):\n",
        "    grade = \"D\"\n",
        "elif(marks<50):\n",
        "    grade = \"F\"\n",
        "\n",
        "print(\"Your grade is:\", grade)"
      ],
      "metadata": {
        "id": "wZ9kGR0Z141P"
      },
      "execution_count": null,
      "outputs": []
    },
    {
      "cell_type": "markdown",
      "source": [
        "write a program to find out if a post is talking about harry or not"
      ],
      "metadata": {
        "id": "6lcSQCeXzInV"
      }
    },
    {
      "cell_type": "code",
      "source": [
        "post = input()\n",
        "\n",
        "if ('harry' in post.lower()):\n",
        "  print('yes')\n",
        "else:\n",
        "  print('no')"
      ],
      "metadata": {
        "colab": {
          "base_uri": "https://localhost:8080/"
        },
        "id": "ci3uFdht2csa",
        "outputId": "25613b89-1ebd-4653-a70a-8d0dee1b2aeb"
      },
      "execution_count": null,
      "outputs": [
        {
          "output_type": "stream",
          "name": "stdout",
          "text": [
            "i like harry potters\n",
            "yes\n"
          ]
        }
      ]
    },
    {
      "cell_type": "markdown",
      "source": [
        "While loop- this block keeps executing until the condition is true\n",
        "-body of the loop"
      ],
      "metadata": {
        "id": "Zq2bYgu2--HZ"
      }
    },
    {
      "cell_type": "markdown",
      "source": [
        "in while loop, condition is executed first if the evaluation is true then the body of the loop is executed otherwise not."
      ],
      "metadata": {
        "id": "ptQ_0AKHAel6"
      }
    },
    {
      "cell_type": "code",
      "source": [
        "i = 1\n",
        "while (i <6):\n",
        "  print(i)\n",
        "  i +=1\n"
      ],
      "metadata": {
        "colab": {
          "base_uri": "https://localhost:8080/"
        },
        "id": "KNj3KgOdBqHa",
        "outputId": "04673925-8b59-4ba3-9335-1b75a269fe9b"
      },
      "execution_count": null,
      "outputs": [
        {
          "output_type": "stream",
          "name": "stdout",
          "text": [
            "1\n",
            "2\n",
            "3\n",
            "4\n",
            "5\n"
          ]
        }
      ]
    },
    {
      "cell_type": "code",
      "source": [
        "l= []\n",
        "i =0\n",
        "while(i<len(l))\n",
        " print(l[i])\n",
        " i +=1"
      ],
      "metadata": {
        "id": "vcZipdcSmzcX"
      },
      "execution_count": null,
      "outputs": []
    },
    {
      "cell_type": "markdown",
      "source": [
        "for loop is used to iterate through sequence like list, tuples etc"
      ],
      "metadata": {
        "id": "O-B0H4FKn5qg"
      }
    },
    {
      "cell_type": "markdown",
      "source": [
        "range function is used in python to generate a sequence of numbers\n",
        "# range(start, stop, step_size)"
      ],
      "metadata": {
        "id": "OZGl_ITVoYDM"
      }
    },
    {
      "cell_type": "markdown",
      "source": [
        "an optional else can be used with for loop if the loop is to be executed after it gets exhausted"
      ],
      "metadata": {
        "id": "Jfq1tYq9pXPb"
      }
    },
    {
      "cell_type": "markdown",
      "source": [
        "write a program to print multiplication table of a given number using for loop."
      ],
      "metadata": {
        "id": "KkfdUcHnyPhX"
      }
    },
    {
      "cell_type": "code",
      "source": [
        "n= int(input())\n",
        "for i in range(1,10):\n",
        "   print(n*i)"
      ],
      "metadata": {
        "colab": {
          "base_uri": "https://localhost:8080/"
        },
        "id": "mvoujAy9yP0b",
        "outputId": "80207421-b686-48dd-e01a-1fa7db553b7d"
      },
      "execution_count": null,
      "outputs": [
        {
          "output_type": "stream",
          "name": "stdout",
          "text": [
            "2\n",
            "2\n",
            "4\n",
            "6\n",
            "8\n",
            "10\n",
            "12\n",
            "14\n",
            "16\n",
            "18\n"
          ]
        }
      ]
    },
    {
      "cell_type": "markdown",
      "source": [
        "it excludes the stop range, gets us theresult before the mentioned stop range"
      ],
      "metadata": {
        "id": "3puFO94Q3tZp"
      }
    },
    {
      "cell_type": "markdown",
      "source": [
        "writa program to greet all the person's name in the list starting with s"
      ],
      "metadata": {
        "id": "Lzdc81wu384Y"
      }
    },
    {
      "cell_type": "code",
      "source": [
        "l = [\"Harry\", \"Soham\", \"Sachin\", \"Rahul\"]\n",
        "for i in l:\n",
        "  if (i.startswith('s')):\n",
        "   print(f'hello{i}')"
      ],
      "metadata": {
        "id": "NSTKMjzX4f0o"
      },
      "execution_count": null,
      "outputs": []
    },
    {
      "cell_type": "code",
      "source": [
        "l = [\"Harry\", \"Soham\", \"Sachin\", \"Rahul\"]\n",
        "\n",
        "for name in l:\n",
        "    if(name.startswith(\"S\")):\n",
        "        print(f\"Hello {name}\")"
      ],
      "metadata": {
        "colab": {
          "base_uri": "https://localhost:8080/"
        },
        "id": "q7hrUYmrU57n",
        "outputId": "caba568f-2dcd-4235-80c2-57f2d8b58a8b"
      },
      "execution_count": null,
      "outputs": [
        {
          "output_type": "stream",
          "name": "stdout",
          "text": [
            "Hello Soham\n",
            "Hello Sachin\n"
          ]
        }
      ]
    },
    {
      "cell_type": "markdown",
      "source": [
        "i think diff between the above and below code is that of case sensitiveness"
      ],
      "metadata": {
        "id": "wNH_A77dU-jz"
      }
    },
    {
      "cell_type": "markdown",
      "source": [
        "use to code to print a multiplication table. tried with the above code replacing for with while- didnt work out"
      ],
      "metadata": {
        "id": "0WHLEhVuVldO"
      }
    },
    {
      "cell_type": "code",
      "source": [
        "n= int(input())\n",
        "for i in range(1,10):\n",
        "   print(n*i)"
      ],
      "metadata": {
        "colab": {
          "base_uri": "https://localhost:8080/"
        },
        "id": "YCZ8cizCVNvL",
        "outputId": "40d72954-6086-4be7-d575-3e2af940d2ad"
      },
      "execution_count": null,
      "outputs": [
        {
          "output_type": "stream",
          "name": "stdout",
          "text": [
            "3\n",
            "3\n",
            "6\n",
            "9\n",
            "12\n",
            "15\n",
            "18\n",
            "21\n",
            "24\n",
            "27\n"
          ]
        }
      ]
    },
    {
      "cell_type": "code",
      "source": [
        "n = int(input(\"Enter a number: \"))\n",
        "\n",
        "i = 1\n",
        "\n",
        "while(i<11):\n",
        "    print(f\"{n} X {i} = {n * i}\")\n",
        "    i += 1"
      ],
      "metadata": {
        "colab": {
          "base_uri": "https://localhost:8080/"
        },
        "id": "hOB1rcJoVkE6",
        "outputId": "794f661c-ddcb-4cf4-f188-01051232259c"
      },
      "execution_count": null,
      "outputs": [
        {
          "output_type": "stream",
          "name": "stdout",
          "text": [
            "Enter a number: 10\n",
            "10 X 1 = 10\n",
            "10 X 2 = 20\n",
            "10 X 3 = 30\n",
            "10 X 4 = 40\n",
            "10 X 5 = 50\n",
            "10 X 6 = 60\n",
            "10 X 7 = 70\n",
            "10 X 8 = 80\n",
            "10 X 9 = 90\n",
            "10 X 10 = 100\n"
          ]
        }
      ]
    },
    {
      "cell_type": "markdown",
      "source": [
        "write a program to find out i the given number is prime or not"
      ],
      "metadata": {
        "id": "XGkjYNIMWCSy"
      }
    },
    {
      "cell_type": "code",
      "source": [
        "n = int(input())\n",
        "for i in range(2,n):\n",
        " if i%2==0:\n",
        "  print(\"no is not prime\")\n",
        "  break\n",
        " else:\n",
        "  print('no is prime')"
      ],
      "metadata": {
        "id": "2fxSrzfiWKPG",
        "colab": {
          "base_uri": "https://localhost:8080/"
        },
        "outputId": "a196305a-037f-4f1b-ea3a-c25c0052a825"
      },
      "execution_count": null,
      "outputs": [
        {
          "output_type": "stream",
          "name": "stdout",
          "text": [
            "10\n",
            "no is not prime\n"
          ]
        }
      ]
    },
    {
      "cell_type": "markdown",
      "source": [
        "write a program to find the sum of first n natural numbers using while loop."
      ],
      "metadata": {
        "id": "7ElEcuoV6SZV"
      }
    },
    {
      "cell_type": "code",
      "source": [
        "n= int(input())\n",
        "i = 1\n",
        "sum=0\n",
        "while(i<n+1)\n",
        " sum +=i\n",
        " i +=1\n",
        "print(sum)"
      ],
      "metadata": {
        "id": "G1jhcFiaAnCq"
      },
      "execution_count": null,
      "outputs": []
    },
    {
      "cell_type": "code",
      "source": [
        "n= int(input())\n",
        "for i in range(1,n+1):\n",
        "  i+1\n",
        "  print(i)"
      ],
      "metadata": {
        "colab": {
          "base_uri": "https://localhost:8080/"
        },
        "id": "w_XgfU1QY4O7",
        "outputId": "65b5546b-3cff-4286-9afd-7e97afd0800a"
      },
      "execution_count": null,
      "outputs": [
        {
          "output_type": "stream",
          "name": "stdout",
          "text": [
            "3\n",
            "1\n",
            "2\n",
            "3\n"
          ]
        }
      ]
    },
    {
      "cell_type": "markdown",
      "source": [
        "i+1 does nothing — it calculates i+1 but doesn’t store it anywhere. In Python, integers are immutable, so you need i += 1 to actually increment."
      ],
      "metadata": {
        "id": "6GbXuDxEaHAV"
      }
    },
    {
      "cell_type": "markdown",
      "source": [
        "but there;s also a one liner formula"
      ],
      "metadata": {
        "id": "GcweVelqawe_"
      }
    },
    {
      "cell_type": "code",
      "source": [
        "n= int(input())\n",
        "sum=0\n",
        "for i in range(1,n+1):\n",
        "  sum+=i\n",
        "  print(sum)"
      ],
      "metadata": {
        "colab": {
          "base_uri": "https://localhost:8080/"
        },
        "id": "J89sc8Z7aH5Z",
        "outputId": "8c42841d-1960-4b3e-ffde-2edef40a182a"
      },
      "execution_count": null,
      "outputs": [
        {
          "output_type": "stream",
          "name": "stdout",
          "text": [
            "3\n",
            "1\n",
            "3\n",
            "6\n"
          ]
        }
      ]
    },
    {
      "cell_type": "markdown",
      "source": [
        "to calculate the factorial of a given no"
      ],
      "metadata": {
        "id": "-_7iwztQa-Uo"
      }
    },
    {
      "cell_type": "code",
      "source": [
        "n= int(input())\n",
        "fact=1\n",
        "for i in range(1,n+1)\n",
        "  fact*=i\n",
        "  print(i)"
      ],
      "metadata": {
        "id": "sRK5odTgbC-A"
      },
      "execution_count": null,
      "outputs": []
    },
    {
      "cell_type": "code",
      "source": [
        "import math\n",
        "\n",
        "def factorial(n):\n",
        "    return(math.factorial(n))\n",
        "\n",
        "# Driver Code\n",
        "num = 5\n",
        "print(factorial(num))"
      ],
      "metadata": {
        "id": "czw-f2vVkhz9"
      },
      "execution_count": null,
      "outputs": []
    },
    {
      "cell_type": "markdown",
      "source": [
        "write a program using functions to find the greatest of three numbers"
      ],
      "metadata": {
        "id": "wzRVhs-j7zqv"
      }
    },
    {
      "cell_type": "code",
      "source": [
        "a= int(input())\n",
        "b=int(input())\n",
        "c=int(input())\n",
        "\n",
        "def greatest_no(a,b,c):\n",
        "   if a>b and a>c:\n",
        "    print(a)\n",
        "   if b>a and b>c:\n",
        "    print(b)\n",
        "   else:\n",
        "    print(c)"
      ],
      "metadata": {
        "id": "GaRwwXK_8DgB"
      },
      "execution_count": null,
      "outputs": []
    },
    {
      "cell_type": "code",
      "source": [
        "list=[]\n",
        "list.sort()\n",
        "def great_three(list):\n",
        "  return list[-1:-4]"
      ],
      "metadata": {
        "id": "k-xk1rCTAgHP"
      },
      "execution_count": null,
      "outputs": []
    },
    {
      "cell_type": "markdown",
      "source": [
        "write a function to convrt celsius to fahrenheit"
      ],
      "metadata": {
        "id": "0bZ2PwO1TvKh"
      }
    },
    {
      "cell_type": "code",
      "source": [
        "c= float(input())\n",
        "def convert_f(c):\n",
        " return((c*(9/5))+32)"
      ],
      "metadata": {
        "colab": {
          "base_uri": "https://localhost:8080/"
        },
        "id": "Pxqyw_SMULW4",
        "outputId": "2de38532-bae2-41b8-80f0-9b52595a6bfe"
      },
      "execution_count": null,
      "outputs": [
        {
          "name": "stdout",
          "output_type": "stream",
          "text": [
            "73.6\n"
          ]
        }
      ]
    },
    {
      "cell_type": "code",
      "source": [
        "print(convert_f(c))"
      ],
      "metadata": {
        "colab": {
          "base_uri": "https://localhost:8080/"
        },
        "id": "Appg6C99VIOl",
        "outputId": "628e70a5-48c9-4f08-936b-92287818ecf4"
      },
      "execution_count": null,
      "outputs": [
        {
          "output_type": "stream",
          "name": "stdout",
          "text": [
            "164.48\n"
          ]
        }
      ]
    },
    {
      "cell_type": "markdown",
      "source": [
        "checked the answer it is correct"
      ],
      "metadata": {
        "id": "HvxOSP1OVbZ4"
      }
    },
    {
      "cell_type": "markdown",
      "source": [
        "how do you prevent a python print function to print a line in the end."
      ],
      "metadata": {
        "id": "xrF8P4v4VfU6"
      }
    },
    {
      "cell_type": "code",
      "source": [
        "print(\"Hello, \", end='')\n",
        "print(\"world!\")"
      ],
      "metadata": {
        "colab": {
          "base_uri": "https://localhost:8080/"
        },
        "id": "167ho2SPVe2_",
        "outputId": "e7a693b6-4dd7-4596-c9ef-0d518e3cc9cc"
      },
      "execution_count": null,
      "outputs": [
        {
          "output_type": "stream",
          "name": "stdout",
          "text": [
            "Hello, world!\n"
          ]
        }
      ]
    },
    {
      "cell_type": "markdown",
      "source": [
        "removing the end"
      ],
      "metadata": {
        "id": "qvfz-aarWAU1"
      }
    },
    {
      "cell_type": "code",
      "source": [
        "print(\"Hello\")\n",
        "print(\"world!\")"
      ],
      "metadata": {
        "colab": {
          "base_uri": "https://localhost:8080/"
        },
        "id": "9UIIMaZmV_gX",
        "outputId": "07faa95f-cfcb-40f9-a48b-f6f5db4c3b2e"
      },
      "execution_count": null,
      "outputs": [
        {
          "output_type": "stream",
          "name": "stdout",
          "text": [
            "Hello\n",
            "world!\n"
          ]
        }
      ]
    },
    {
      "cell_type": "markdown",
      "source": [
        "Functions to convert inches to cm"
      ],
      "metadata": {
        "id": "iTVMgd5uOmpR"
      }
    },
    {
      "cell_type": "code",
      "source": [
        "inches= int(input())\n",
        "def convert_tocm(inches):\n",
        "  return(inches*2.54)\n",
        "print(convert_tocm(inches))"
      ],
      "metadata": {
        "colab": {
          "base_uri": "https://localhost:8080/"
        },
        "id": "SrAdswX_OmVR",
        "outputId": "44812207-0c03-454c-9455-a3c815e626f4"
      },
      "execution_count": null,
      "outputs": [
        {
          "output_type": "stream",
          "name": "stdout",
          "text": [
            "3\n",
            "7.62\n"
          ]
        }
      ]
    },
    {
      "cell_type": "markdown",
      "source": [
        "write a python function to remove a word from the list and add it at the same place"
      ],
      "metadata": {
        "id": "gd1PsD9zQLgV"
      }
    },
    {
      "cell_type": "code",
      "source": [
        "list = [\" apple \", \"banana\", \"  apple  \", \"grape\"]\n",
        "def replace(mango, banana_word):\n",
        " for i in range(len(list)):\n",
        "  list[i]= list[i].strip()\n",
        "  if list[i]=='banana_word':\n",
        "   list[i]=='mango'\n",
        "  return list\n",
        "print(replace(mango, banana))"
      ],
      "metadata": {
        "colab": {
          "base_uri": "https://localhost:8080/",
          "height": 176
        },
        "id": "hb9YmFIkcauS",
        "outputId": "5da5766c-a304-483d-9071-bf56f4f49bbc"
      },
      "execution_count": null,
      "outputs": [
        {
          "output_type": "error",
          "ename": "NameError",
          "evalue": "name 'mango' is not defined",
          "traceback": [
            "\u001b[0;31m---------------------------------------------------------------------------\u001b[0m",
            "\u001b[0;31mNameError\u001b[0m                                 Traceback (most recent call last)",
            "\u001b[0;32m/tmp/ipython-input-2074205896.py\u001b[0m in \u001b[0;36m<cell line: 0>\u001b[0;34m()\u001b[0m\n\u001b[1;32m      6\u001b[0m    \u001b[0mlist\u001b[0m\u001b[0;34m[\u001b[0m\u001b[0mi\u001b[0m\u001b[0;34m]\u001b[0m\u001b[0;34m==\u001b[0m\u001b[0;34m'mango'\u001b[0m\u001b[0;34m\u001b[0m\u001b[0;34m\u001b[0m\u001b[0m\n\u001b[1;32m      7\u001b[0m   \u001b[0;32mreturn\u001b[0m \u001b[0mlist\u001b[0m\u001b[0;34m\u001b[0m\u001b[0;34m\u001b[0m\u001b[0m\n\u001b[0;32m----> 8\u001b[0;31m \u001b[0mprint\u001b[0m\u001b[0;34m(\u001b[0m\u001b[0mreplace\u001b[0m\u001b[0;34m(\u001b[0m\u001b[0mmango\u001b[0m\u001b[0;34m,\u001b[0m \u001b[0mbanana\u001b[0m\u001b[0;34m)\u001b[0m\u001b[0;34m)\u001b[0m\u001b[0;34m\u001b[0m\u001b[0;34m\u001b[0m\u001b[0m\n\u001b[0m",
            "\u001b[0;31mNameError\u001b[0m: name 'mango' is not defined"
          ]
        }
      ]
    },
    {
      "cell_type": "code",
      "source": [
        "fruits = [\" apple \", \"banana\", \"  apple  \", \"grape\"]\n",
        "\n",
        "fruits = [\"mango\" if fruit.strip() == \"banana\" else fruit.strip() for fruit in fruits]\n",
        "\n",
        "print(fruits)\n"
      ],
      "metadata": {
        "colab": {
          "base_uri": "https://localhost:8080/"
        },
        "id": "HDRl1AqRQS_Q",
        "outputId": "68e2d047-9f5a-485b-bccb-ac759d0e8e79"
      },
      "execution_count": null,
      "outputs": [
        {
          "output_type": "stream",
          "name": "stdout",
          "text": [
            "['apple', 'mango', 'apple', 'grape']\n"
          ]
        }
      ]
    },
    {
      "cell_type": "markdown",
      "source": [
        "is called a list comprehension with a conditional expression.\n",
        "Let’s break it step-by-step:\n",
        "\n",
        "for fruit in fruits\n",
        "\n",
        "Loops over each element of the list fruits and stores it in fruit.\n",
        "\n",
        "Example loop values: \" apple \", \"banana\", \" apple \", \"grape\".\n",
        "\n",
        "fruit.strip()\n",
        "\n",
        "Removes whitespace at the start and end of the string.\n",
        "\n",
        "\" apple \" → \"apple\", \" apple \" → \"apple\".\n",
        "\n",
        "if fruit.strip() == \"banana\" else fruit.strip()\n",
        "\n",
        "This is a conditional expression (like a mini if-else in one line).\n",
        "\n",
        "It means:\n",
        "\n",
        "If the stripped fruit is \"banana\", use \"mango\".\n",
        "\n",
        "Otherwise, just use the stripped fruit as it is.\n",
        "\n",
        "Wrapping it all in [...]\n",
        "\n",
        "Collects all the processed results into a new list."
      ],
      "metadata": {
        "id": "JGymHLROgM0Q"
      }
    },
    {
      "cell_type": "markdown",
      "source": [
        "Print a program of a multiplication table for a given number"
      ],
      "metadata": {
        "id": "DDPRknbBgsDC"
      }
    },
    {
      "cell_type": "markdown",
      "source": [
        "Catch the difference between three codes. why only the last code ran"
      ],
      "metadata": {
        "id": "zXKdIwyJwPM6"
      }
    },
    {
      "cell_type": "code",
      "source": [
        "n=int(input())\n",
        "\n",
        "def multi_table(n):\n",
        " for i in range(1, 11):\n",
        "    return n*i\n",
        "print(multi_table(n))\n"
      ],
      "metadata": {
        "colab": {
          "base_uri": "https://localhost:8080/"
        },
        "id": "VtrAPL9OgOXZ",
        "outputId": "bc12c416-5170-443f-8679-942a07a308c0"
      },
      "execution_count": null,
      "outputs": [
        {
          "output_type": "stream",
          "name": "stdout",
          "text": [
            "3\n",
            "3\n"
          ]
        }
      ]
    },
    {
      "cell_type": "code",
      "source": [
        "n = int(input())\n",
        "def multi_table(n):\n",
        "    for i in range(1, 11):\n",
        "        print(n*i)"
      ],
      "metadata": {
        "colab": {
          "base_uri": "https://localhost:8080/"
        },
        "id": "shKjxCD_wCnI",
        "outputId": "268d702b-50f0-432e-f555-62bab657783c"
      },
      "execution_count": null,
      "outputs": [
        {
          "name": "stdout",
          "output_type": "stream",
          "text": [
            "3\n"
          ]
        }
      ]
    },
    {
      "cell_type": "code",
      "source": [
        "def multi_table(n):\n",
        "    for i in range(1, 11):\n",
        "        print(f\"{n} x {i} = {n*i}\")\n",
        "\n",
        "n = int(input())\n",
        "multi_table(n)\n"
      ],
      "metadata": {
        "colab": {
          "base_uri": "https://localhost:8080/"
        },
        "id": "06XTMjohvkbl",
        "outputId": "4c3886c2-7a2c-4d73-9bd6-4e4325137cf1"
      },
      "execution_count": null,
      "outputs": [
        {
          "output_type": "stream",
          "name": "stdout",
          "text": [
            "3\n",
            "3 x 1 = 3\n",
            "3 x 2 = 6\n",
            "3 x 3 = 9\n",
            "3 x 4 = 12\n",
            "3 x 5 = 15\n",
            "3 x 6 = 18\n",
            "3 x 7 = 21\n",
            "3 x 8 = 24\n",
            "3 x 9 = 27\n",
            "3 x 10 = 30\n"
          ]
        }
      ]
    },
    {
      "cell_type": "markdown",
      "source": [
        "abdc"
      ],
      "metadata": {
        "id": "GGHxuvxq13iE"
      }
    },
    {
      "cell_type": "code",
      "source": [],
      "metadata": {
        "id": "-TiNBdSI15Ly"
      },
      "execution_count": null,
      "outputs": []
    }
  ]
}