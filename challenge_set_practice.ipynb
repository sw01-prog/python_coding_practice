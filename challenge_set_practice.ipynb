{
  "nbformat": 4,
  "nbformat_minor": 0,
  "metadata": {
    "colab": {
      "provenance": [],
      "include_colab_link": true
    },
    "kernelspec": {
      "name": "python3",
      "display_name": "Python 3"
    },
    "language_info": {
      "name": "python"
    }
  },
  "cells": [
    {
      "cell_type": "markdown",
      "metadata": {
        "id": "view-in-github",
        "colab_type": "text"
      },
      "source": [
        "<a href=\"https://colab.research.google.com/github/sw01-prog/python_coding_practice/blob/main/challenge_set_practice.ipynb\" target=\"_parent\"><img src=\"https://colab.research.google.com/assets/colab-badge.svg\" alt=\"Open In Colab\"/></a>"
      ]
    },
    {
      "cell_type": "markdown",
      "source": [
        "Fibonacci series"
      ],
      "metadata": {
        "id": "lq1HSmRICQIA"
      }
    },
    {
      "cell_type": "markdown",
      "source": [
        "It is used to find the 7th indexed number in the fibonacci series"
      ],
      "metadata": {
        "id": "YaNLbftU4A4J"
      }
    },
    {
      "cell_type": "code",
      "source": [
        "n=int(input())"
      ],
      "metadata": {
        "colab": {
          "base_uri": "https://localhost:8080/"
        },
        "id": "dt4uIRXjCtlr",
        "outputId": "b8b72f22-211e-4d96-a72d-4d1c521bc38d"
      },
      "execution_count": null,
      "outputs": [
        {
          "name": "stdout",
          "output_type": "stream",
          "text": [
            "7\n"
          ]
        }
      ]
    },
    {
      "cell_type": "code",
      "execution_count": null,
      "metadata": {
        "colab": {
          "base_uri": "https://localhost:8080/"
        },
        "id": "cyg4KEtsCLHJ",
        "outputId": "424cefbe-507a-4d05-fc3e-366909ee0728"
      },
      "outputs": [
        {
          "output_type": "stream",
          "name": "stdout",
          "text": [
            "13\n"
          ]
        }
      ],
      "source": [
        "def fibonacci(n):\n",
        " if n==1 or n==2:\n",
        "  return 1\n",
        " else:\n",
        "  return fibonacci(n-1)+fibonacci(n-2)\n",
        "\n",
        "print(fibonacci(n))"
      ]
    },
    {
      "cell_type": "markdown",
      "source": [
        "Sum of even and odd numbers"
      ],
      "metadata": {
        "id": "DG8yLltIDUmt"
      }
    },
    {
      "cell_type": "code",
      "source": [
        "l1=[1,2,3,4,5,6,7,8]\n",
        "even_sum =0\n",
        "odd_sum = 0\n",
        "\n",
        "def sum_even_odd(l1):\n",
        " even_sum =0\n",
        " odd_sum = 0\n",
        " for i in l1:\n",
        "  if i%2==0:\n",
        "   print(even_sum+=i)\n",
        "\n",
        "\n",
        "  else:\n",
        "   print(odd_sum+=i)\n",
        "\n",
        "\n",
        "sum_even_odd(l1) # call the function to execute it"
      ],
      "metadata": {
        "colab": {
          "base_uri": "https://localhost:8080/",
          "height": 106
        },
        "id": "ZYJiE70PDY8T",
        "outputId": "85e7684b-52d0-4246-a9b8-c687e7026699"
      },
      "execution_count": null,
      "outputs": [
        {
          "output_type": "error",
          "ename": "SyntaxError",
          "evalue": "invalid syntax (ipython-input-2029275473.py, line 10)",
          "traceback": [
            "\u001b[0;36m  File \u001b[0;32m\"/tmp/ipython-input-2029275473.py\"\u001b[0;36m, line \u001b[0;32m10\u001b[0m\n\u001b[0;31m    print(even_sum+=i)\u001b[0m\n\u001b[0m                  ^\u001b[0m\n\u001b[0;31mSyntaxError\u001b[0m\u001b[0;31m:\u001b[0m invalid syntax\n"
          ]
        }
      ]
    },
    {
      "cell_type": "code",
      "source": [
        "l1=[1,2,3,4,5,6,7,8]\n",
        "#even_sum =0\n",
        "#odd_sum = 0\n",
        "\n",
        "def sum_even_odd(l1):\n",
        " even_sum =0\n",
        " odd_sum = 0\n",
        " for i in l1:\n",
        "  if i%2==0:\n",
        "   even_sum+=i\n",
        "  elif i%2!=0:\n",
        "   odd_sum+=i\n",
        "\n",
        " return(even_sum,odd_sum)\n",
        "\n",
        "even_sum, odd_sum = sum_even_odd(l1)\n",
        "print(even_sum, odd_sum)\n"
      ],
      "metadata": {
        "colab": {
          "base_uri": "https://localhost:8080/",
          "height": 332
        },
        "id": "4Rzv8RlEGZ_b",
        "outputId": "e8e50830-02b1-4362-caba-280f40ecf6ac"
      },
      "execution_count": null,
      "outputs": [
        {
          "output_type": "error",
          "ename": "UnboundLocalError",
          "evalue": "cannot access local variable 'odd_sum' where it is not associated with a value",
          "traceback": [
            "\u001b[0;31m---------------------------------------------------------------------------\u001b[0m",
            "\u001b[0;31mUnboundLocalError\u001b[0m                         Traceback (most recent call last)",
            "\u001b[0;32m/tmp/ipython-input-4256493178.py\u001b[0m in \u001b[0;36m<cell line: 0>\u001b[0;34m()\u001b[0m\n\u001b[1;32m     13\u001b[0m  \u001b[0;32mreturn\u001b[0m\u001b[0;34m(\u001b[0m\u001b[0meven_sum\u001b[0m\u001b[0;34m,\u001b[0m\u001b[0modd_sum\u001b[0m\u001b[0;34m)\u001b[0m\u001b[0;34m\u001b[0m\u001b[0;34m\u001b[0m\u001b[0m\n\u001b[1;32m     14\u001b[0m \u001b[0;34m\u001b[0m\u001b[0m\n\u001b[0;32m---> 15\u001b[0;31m \u001b[0meven_sum\u001b[0m\u001b[0;34m,\u001b[0m \u001b[0modd_sum\u001b[0m \u001b[0;34m=\u001b[0m \u001b[0msum_even_odd\u001b[0m\u001b[0;34m(\u001b[0m\u001b[0ml1\u001b[0m\u001b[0;34m)\u001b[0m\u001b[0;34m\u001b[0m\u001b[0;34m\u001b[0m\u001b[0m\n\u001b[0m\u001b[1;32m     16\u001b[0m \u001b[0mprint\u001b[0m\u001b[0;34m(\u001b[0m\u001b[0meven_sum\u001b[0m\u001b[0;34m,\u001b[0m \u001b[0modd_sum\u001b[0m\u001b[0;34m)\u001b[0m\u001b[0;34m\u001b[0m\u001b[0;34m\u001b[0m\u001b[0m\n\u001b[1;32m     17\u001b[0m \u001b[0;34m\u001b[0m\u001b[0m\n",
            "\u001b[0;32m/tmp/ipython-input-4256493178.py\u001b[0m in \u001b[0;36msum_even_odd\u001b[0;34m(l1)\u001b[0m\n\u001b[1;32m      9\u001b[0m    \u001b[0meven_sum\u001b[0m\u001b[0;34m+=\u001b[0m\u001b[0mi\u001b[0m\u001b[0;34m\u001b[0m\u001b[0;34m\u001b[0m\u001b[0m\n\u001b[1;32m     10\u001b[0m   \u001b[0;32melif\u001b[0m \u001b[0mi\u001b[0m\u001b[0;34m%\u001b[0m\u001b[0;36m2\u001b[0m\u001b[0;34m!=\u001b[0m\u001b[0;36m0\u001b[0m\u001b[0;34m:\u001b[0m\u001b[0;34m\u001b[0m\u001b[0;34m\u001b[0m\u001b[0m\n\u001b[0;32m---> 11\u001b[0;31m    \u001b[0modd_sum\u001b[0m\u001b[0;34m+=\u001b[0m\u001b[0mi\u001b[0m\u001b[0;34m\u001b[0m\u001b[0;34m\u001b[0m\u001b[0m\n\u001b[0m\u001b[1;32m     12\u001b[0m \u001b[0;34m\u001b[0m\u001b[0m\n\u001b[1;32m     13\u001b[0m  \u001b[0;32mreturn\u001b[0m\u001b[0;34m(\u001b[0m\u001b[0meven_sum\u001b[0m\u001b[0;34m,\u001b[0m\u001b[0modd_sum\u001b[0m\u001b[0;34m)\u001b[0m\u001b[0;34m\u001b[0m\u001b[0;34m\u001b[0m\u001b[0m\n",
            "\u001b[0;31mUnboundLocalError\u001b[0m: cannot access local variable 'odd_sum' where it is not associated with a value"
          ]
        }
      ]
    },
    {
      "cell_type": "markdown",
      "source": [
        "the error happens because of Python’s variable scope rules.\n",
        "\n",
        "Inside your function sum_even_odd,\n",
        "\n",
        "When you write even_sum += i or odd_sum += i,\n",
        "Python assumes even_sum and odd_sum are local variables to the function.\n",
        "\n",
        "But you never created them inside the function, so they are “unbound” → hence UnboundLocalError."
      ],
      "metadata": {
        "id": "S0PsIwZDHz-z"
      }
    },
    {
      "cell_type": "code",
      "source": [
        "l1=[1,2,3,4,5,6,7,8]\n",
        "#even_sum =0\n",
        "#odd_sum = 0\n",
        "\n",
        "def sum_even_odd(l1):\n",
        " even_sum =0\n",
        " odd_sum = 0\n",
        " for i in l1:\n",
        "  if i%2==0:\n",
        "   even_sum+=i\n",
        "  elif i%2!=0:\n",
        "   odd_sum+=i\n",
        "\n",
        " return(even_sum,odd_sum)\n",
        "\n",
        "even_sum, odd_sum = sum_even_odd(l1)\n",
        "print(even_sum, odd_sum)"
      ],
      "metadata": {
        "colab": {
          "base_uri": "https://localhost:8080/"
        },
        "id": "YbboW0ZWHxfS",
        "outputId": "83f12e25-ff24-45b9-ee8d-1a601aab3ec5"
      },
      "execution_count": null,
      "outputs": [
        {
          "output_type": "stream",
          "name": "stdout",
          "text": [
            "20 16\n"
          ]
        }
      ]
    },
    {
      "cell_type": "markdown",
      "source": [
        "Palindrome number"
      ],
      "metadata": {
        "id": "e1aGunJuH-f7"
      }
    },
    {
      "cell_type": "code",
      "source": [
        "l1=[1,2,1]\n",
        "\n",
        "def check_palindrome(l1):\n",
        " string_m= ''.join(l1)\n",
        " if string_m == string_m[::-1]:\n",
        "  print('Palindrome')\n",
        " else:\n",
        "  print('Not Palindrome')\n",
        "check_palindrome(l1)"
      ],
      "metadata": {
        "colab": {
          "base_uri": "https://localhost:8080/",
          "height": 297
        },
        "id": "q1fljEUkJJAV",
        "outputId": "8de6505c-6b26-48b6-a07f-4bace30822f2"
      },
      "execution_count": null,
      "outputs": [
        {
          "output_type": "error",
          "ename": "TypeError",
          "evalue": "sequence item 0: expected str instance, int found",
          "traceback": [
            "\u001b[0;31m---------------------------------------------------------------------------\u001b[0m",
            "\u001b[0;31mTypeError\u001b[0m                                 Traceback (most recent call last)",
            "\u001b[0;32m/tmp/ipython-input-765302902.py\u001b[0m in \u001b[0;36m<cell line: 0>\u001b[0;34m()\u001b[0m\n\u001b[1;32m      7\u001b[0m  \u001b[0;32melse\u001b[0m\u001b[0;34m:\u001b[0m\u001b[0;34m\u001b[0m\u001b[0;34m\u001b[0m\u001b[0m\n\u001b[1;32m      8\u001b[0m   \u001b[0mprint\u001b[0m\u001b[0;34m(\u001b[0m\u001b[0;34m'Not Palindrome'\u001b[0m\u001b[0;34m)\u001b[0m\u001b[0;34m\u001b[0m\u001b[0;34m\u001b[0m\u001b[0m\n\u001b[0;32m----> 9\u001b[0;31m \u001b[0mcheck_palindrome\u001b[0m\u001b[0;34m(\u001b[0m\u001b[0ml1\u001b[0m\u001b[0;34m)\u001b[0m\u001b[0;34m\u001b[0m\u001b[0;34m\u001b[0m\u001b[0m\n\u001b[0m",
            "\u001b[0;32m/tmp/ipython-input-765302902.py\u001b[0m in \u001b[0;36mcheck_palindrome\u001b[0;34m(l1)\u001b[0m\n\u001b[1;32m      2\u001b[0m \u001b[0;34m\u001b[0m\u001b[0m\n\u001b[1;32m      3\u001b[0m \u001b[0;32mdef\u001b[0m \u001b[0mcheck_palindrome\u001b[0m\u001b[0;34m(\u001b[0m\u001b[0ml1\u001b[0m\u001b[0;34m)\u001b[0m\u001b[0;34m:\u001b[0m\u001b[0;34m\u001b[0m\u001b[0;34m\u001b[0m\u001b[0m\n\u001b[0;32m----> 4\u001b[0;31m  \u001b[0mstring_m\u001b[0m\u001b[0;34m=\u001b[0m \u001b[0;34m''\u001b[0m\u001b[0;34m.\u001b[0m\u001b[0mjoin\u001b[0m\u001b[0;34m(\u001b[0m\u001b[0ml1\u001b[0m\u001b[0;34m)\u001b[0m\u001b[0;34m\u001b[0m\u001b[0;34m\u001b[0m\u001b[0m\n\u001b[0m\u001b[1;32m      5\u001b[0m  \u001b[0;32mif\u001b[0m \u001b[0mstring_m\u001b[0m \u001b[0;34m==\u001b[0m \u001b[0mstring_m\u001b[0m\u001b[0;34m[\u001b[0m\u001b[0;34m:\u001b[0m\u001b[0;34m:\u001b[0m\u001b[0;34m-\u001b[0m\u001b[0;36m1\u001b[0m\u001b[0;34m]\u001b[0m\u001b[0;34m:\u001b[0m\u001b[0;34m\u001b[0m\u001b[0;34m\u001b[0m\u001b[0m\n\u001b[1;32m      6\u001b[0m   \u001b[0mprint\u001b[0m\u001b[0;34m(\u001b[0m\u001b[0;34m'Palindrome'\u001b[0m\u001b[0;34m)\u001b[0m\u001b[0;34m\u001b[0m\u001b[0;34m\u001b[0m\u001b[0m\n",
            "\u001b[0;31mTypeError\u001b[0m: sequence item 0: expected str instance, int found"
          ]
        }
      ]
    },
    {
      "cell_type": "markdown",
      "source": [
        "The error happens because ''.join() only works on sequences of strings, but your list l1 contains integers.\n",
        "\n"
      ],
      "metadata": {
        "id": "-lG6DNq1MiAx"
      }
    },
    {
      "cell_type": "code",
      "source": [
        "l1 = [1, 2, 1]\n",
        "\n",
        "def check_palindrome(l1):\n",
        "    # Convert all integers to strings first\n",
        "    string_m = ''.join(map(str, l1))\n",
        "    if string_m == string_m[::-1]:\n",
        "        print('Palindrome')\n",
        "    else:\n",
        "        print('Not Palindrome')\n",
        "\n",
        "check_palindrome(l1)\n"
      ],
      "metadata": {
        "colab": {
          "base_uri": "https://localhost:8080/"
        },
        "id": "msIZViUrMjJs",
        "outputId": "c12f085b-fd90-4961-b1bb-f98d1fc74b9b"
      },
      "execution_count": null,
      "outputs": [
        {
          "output_type": "stream",
          "name": "stdout",
          "text": [
            "Palindrome\n"
          ]
        }
      ]
    },
    {
      "cell_type": "markdown",
      "source": [
        "one more thing to check"
      ],
      "metadata": {
        "id": "r_o1-8PvMv83"
      }
    },
    {
      "cell_type": "code",
      "source": [
        "l1 = [1, 2, 1]\n",
        "\n",
        "def check_palindrome(l1):\n",
        "    # Convert all integers to strings first\n",
        "    string_m = ''.join(map(str, l1))\n",
        "    if string_m == string_m[::-1]:\n",
        "        return True\n",
        "    else:\n",
        "        return False\n",
        "\n",
        "print(check_palindrome(l1))"
      ],
      "metadata": {
        "colab": {
          "base_uri": "https://localhost:8080/"
        },
        "id": "5COseFF1M0SA",
        "outputId": "e6fdb29a-baf1-461d-fa11-52ed21751625"
      },
      "execution_count": null,
      "outputs": [
        {
          "output_type": "stream",
          "name": "stdout",
          "text": [
            "True\n"
          ]
        }
      ]
    },
    {
      "cell_type": "code",
      "source": [
        "l1 = [1, 2, 1]\n",
        "\n",
        "def check_palindrome(l1):\n",
        "    # Convert all integers to strings first\n",
        "    string_m = ''.join(map(str, l1))\n",
        "    if string_m == string_m[::-1]:\n",
        "        return True\n",
        "    else:\n",
        "        return False\n",
        "\n",
        "check_palindrome(l1)"
      ],
      "metadata": {
        "colab": {
          "base_uri": "https://localhost:8080/"
        },
        "id": "_FRFm1VENEJm",
        "outputId": "dfa1124a-8afa-496b-a89e-31bdab2dc445"
      },
      "execution_count": null,
      "outputs": [
        {
          "output_type": "execute_result",
          "data": {
            "text/plain": [
              "True"
            ]
          },
          "metadata": {},
          "execution_count": 29
        }
      ]
    },
    {
      "cell_type": "markdown",
      "source": [
        "string reverse"
      ],
      "metadata": {
        "id": "zA91aJklPKtx"
      }
    },
    {
      "cell_type": "code",
      "source": [
        "n= input()\n",
        "def reverse(n):\n",
        " rev= int(str(n)[::-1])  # int() removes leading zeros\n",
        " return rev\n",
        "reverse(n)"
      ],
      "metadata": {
        "colab": {
          "base_uri": "https://localhost:8080/"
        },
        "id": "9WCVzLSfPMdc",
        "outputId": "f1832de6-9895-4921-d1ed-c4b23ba6fa8c"
      },
      "execution_count": null,
      "outputs": [
        {
          "name": "stdout",
          "output_type": "stream",
          "text": [
            "4678\n"
          ]
        },
        {
          "output_type": "execute_result",
          "data": {
            "text/plain": [
              "8764"
            ]
          },
          "metadata": {},
          "execution_count": 31
        }
      ]
    },
    {
      "cell_type": "markdown",
      "source": [
        "Calculator based on conditions"
      ],
      "metadata": {
        "id": "3y-JAKp39pwt"
      }
    },
    {
      "cell_type": "code",
      "source": [
        "n= int(input())\n",
        "\n",
        "def simple_calculator(n):\n",
        "\n",
        " for _ in range(n):\n",
        "  op= int(input())\n",
        "\n",
        "  if op==6:\n",
        "   break\n",
        "\n",
        "  if op>=1 and op<=5:\n",
        "   a=int(input())\n",
        "   b=int(input())\n",
        "\n",
        "   if op==1:\n",
        "    print(a+b)\n",
        "   elif op==2:\n",
        "    print(a-b)\n",
        "   elif op==3:\n",
        "    print(a*b)\n",
        "   elif op==4:\n",
        "    print(a//b)\n",
        "   elif op==5:\n",
        "    print(a%b)\n",
        "\n",
        "  else:\n",
        "   print('invalid')\n",
        "   break\n",
        "\n",
        "#simple_calculator(n)"
      ],
      "metadata": {
        "colab": {
          "base_uri": "https://localhost:8080/"
        },
        "id": "UhCQtcIm94eK",
        "outputId": "69e44065-2846-48e0-d911-e156d060e506"
      },
      "execution_count": null,
      "outputs": [
        {
          "name": "stdout",
          "output_type": "stream",
          "text": [
            "3\n"
          ]
        }
      ]
    },
    {
      "cell_type": "code",
      "source": [
        "\n",
        "simple_calculator(n)"
      ],
      "metadata": {
        "id": "yyexzkDBDf4k"
      },
      "execution_count": null,
      "outputs": []
    },
    {
      "cell_type": "code",
      "source": [
        "def simple_calculator(n):\n",
        "    for _ in range(n):\n",
        "        op = int(input())  # Operation code\n",
        "\n",
        "        if op == 6:\n",
        "            break  # Exit immediately\n",
        "\n",
        "        if 1 <= op <= 5:\n",
        "            a = int(input())\n",
        "            b = int(input())\n",
        "\n",
        "            if op == 1:\n",
        "                print(a + b)\n",
        "            elif op == 2:\n",
        "                print(a - b)\n",
        "            elif op == 3:\n",
        "                print(a * b)\n",
        "            elif op == 4:\n",
        "                print(a // b)  # Integer division\n",
        "            elif op == 5:\n",
        "                print(a % b)\n",
        "        else:\n",
        "            print(\"Invalid Operation\")\n",
        "\n",
        "\n",
        "# Example usage\n",
        "n = int(input())  # Number of operations\n",
        "simple_calculator(n)\n"
      ],
      "metadata": {
        "colab": {
          "base_uri": "https://localhost:8080/"
        },
        "id": "SAmjsaQYDvJI",
        "outputId": "ac895261-5c03-4fcc-a0b7-09fefa2f0752"
      },
      "execution_count": null,
      "outputs": [
        {
          "output_type": "stream",
          "name": "stdout",
          "text": [
            "1\n",
            "2\n",
            "4\n",
            "4\n",
            "0\n"
          ]
        }
      ]
    },
    {
      "cell_type": "code",
      "source": [
        "# Number of operations\n",
        "n = int(input())\n",
        "\n",
        "for _ in range(n):\n",
        "    op = int(input())  # Operation code\n",
        "\n",
        "    if op == 6:\n",
        "        break  # Exit the program\n",
        "\n",
        "    if op >= 1 and op <= 5:\n",
        "        a = int(input())\n",
        "        b = int(input())\n",
        "\n",
        "        if op == 1:\n",
        "            print(a + b)\n",
        "        elif op == 2:\n",
        "            print(a - b)\n",
        "        elif op == 3:\n",
        "            print(a * b)\n",
        "        elif op == 4:\n",
        "            print(a // b)  # Integer division\n",
        "        elif op == 5:\n",
        "            print(a % b)\n",
        "\n",
        "    else:\n",
        "        print(\"Invalid Operation\")\n"
      ],
      "metadata": {
        "colab": {
          "base_uri": "https://localhost:8080/",
          "height": 443
        },
        "id": "3uLrYroFB21m",
        "outputId": "e6b2b28d-2e25-45dc-ba37-3a8db3964c44"
      },
      "execution_count": null,
      "outputs": [
        {
          "output_type": "stream",
          "name": "stdout",
          "text": [
            "4\n",
            "1\n",
            "2\n",
            "4\n",
            "6\n"
          ]
        },
        {
          "output_type": "error",
          "ename": "KeyboardInterrupt",
          "evalue": "Interrupted by user",
          "traceback": [
            "\u001b[0;31m---------------------------------------------------------------------------\u001b[0m",
            "\u001b[0;31mKeyboardInterrupt\u001b[0m                         Traceback (most recent call last)",
            "\u001b[0;32m/tmp/ipython-input-1784660673.py\u001b[0m in \u001b[0;36m<cell line: 0>\u001b[0;34m()\u001b[0m\n\u001b[1;32m      3\u001b[0m \u001b[0;34m\u001b[0m\u001b[0m\n\u001b[1;32m      4\u001b[0m \u001b[0;32mfor\u001b[0m \u001b[0m_\u001b[0m \u001b[0;32min\u001b[0m \u001b[0mrange\u001b[0m\u001b[0;34m(\u001b[0m\u001b[0mn\u001b[0m\u001b[0;34m)\u001b[0m\u001b[0;34m:\u001b[0m\u001b[0;34m\u001b[0m\u001b[0;34m\u001b[0m\u001b[0m\n\u001b[0;32m----> 5\u001b[0;31m     \u001b[0mop\u001b[0m \u001b[0;34m=\u001b[0m \u001b[0mint\u001b[0m\u001b[0;34m(\u001b[0m\u001b[0minput\u001b[0m\u001b[0;34m(\u001b[0m\u001b[0;34m)\u001b[0m\u001b[0;34m)\u001b[0m  \u001b[0;31m# Operation code\u001b[0m\u001b[0;34m\u001b[0m\u001b[0;34m\u001b[0m\u001b[0m\n\u001b[0m\u001b[1;32m      6\u001b[0m \u001b[0;34m\u001b[0m\u001b[0m\n\u001b[1;32m      7\u001b[0m     \u001b[0;32mif\u001b[0m \u001b[0mop\u001b[0m \u001b[0;34m==\u001b[0m \u001b[0;36m6\u001b[0m\u001b[0;34m:\u001b[0m\u001b[0;34m\u001b[0m\u001b[0;34m\u001b[0m\u001b[0m\n",
            "\u001b[0;32m/usr/local/lib/python3.11/dist-packages/ipykernel/kernelbase.py\u001b[0m in \u001b[0;36mraw_input\u001b[0;34m(self, prompt)\u001b[0m\n\u001b[1;32m   1175\u001b[0m                 \u001b[0;34m\"raw_input was called, but this frontend does not support input requests.\"\u001b[0m\u001b[0;34m\u001b[0m\u001b[0;34m\u001b[0m\u001b[0m\n\u001b[1;32m   1176\u001b[0m             )\n\u001b[0;32m-> 1177\u001b[0;31m         return self._input_request(\n\u001b[0m\u001b[1;32m   1178\u001b[0m             \u001b[0mstr\u001b[0m\u001b[0;34m(\u001b[0m\u001b[0mprompt\u001b[0m\u001b[0;34m)\u001b[0m\u001b[0;34m,\u001b[0m\u001b[0;34m\u001b[0m\u001b[0;34m\u001b[0m\u001b[0m\n\u001b[1;32m   1179\u001b[0m             \u001b[0mself\u001b[0m\u001b[0;34m.\u001b[0m\u001b[0m_parent_ident\u001b[0m\u001b[0;34m[\u001b[0m\u001b[0;34m\"shell\"\u001b[0m\u001b[0;34m]\u001b[0m\u001b[0;34m,\u001b[0m\u001b[0;34m\u001b[0m\u001b[0;34m\u001b[0m\u001b[0m\n",
            "\u001b[0;32m/usr/local/lib/python3.11/dist-packages/ipykernel/kernelbase.py\u001b[0m in \u001b[0;36m_input_request\u001b[0;34m(self, prompt, ident, parent, password)\u001b[0m\n\u001b[1;32m   1217\u001b[0m             \u001b[0;32mexcept\u001b[0m \u001b[0mKeyboardInterrupt\u001b[0m\u001b[0;34m:\u001b[0m\u001b[0;34m\u001b[0m\u001b[0;34m\u001b[0m\u001b[0m\n\u001b[1;32m   1218\u001b[0m                 \u001b[0;31m# re-raise KeyboardInterrupt, to truncate traceback\u001b[0m\u001b[0;34m\u001b[0m\u001b[0;34m\u001b[0m\u001b[0m\n\u001b[0;32m-> 1219\u001b[0;31m                 \u001b[0;32mraise\u001b[0m \u001b[0mKeyboardInterrupt\u001b[0m\u001b[0;34m(\u001b[0m\u001b[0;34m\"Interrupted by user\"\u001b[0m\u001b[0;34m)\u001b[0m \u001b[0;32mfrom\u001b[0m \u001b[0;32mNone\u001b[0m\u001b[0;34m\u001b[0m\u001b[0;34m\u001b[0m\u001b[0m\n\u001b[0m\u001b[1;32m   1220\u001b[0m             \u001b[0;32mexcept\u001b[0m \u001b[0mException\u001b[0m\u001b[0;34m:\u001b[0m\u001b[0;34m\u001b[0m\u001b[0;34m\u001b[0m\u001b[0m\n\u001b[1;32m   1221\u001b[0m                 \u001b[0mself\u001b[0m\u001b[0;34m.\u001b[0m\u001b[0mlog\u001b[0m\u001b[0;34m.\u001b[0m\u001b[0mwarning\u001b[0m\u001b[0;34m(\u001b[0m\u001b[0;34m\"Invalid Message:\"\u001b[0m\u001b[0;34m,\u001b[0m \u001b[0mexc_info\u001b[0m\u001b[0;34m=\u001b[0m\u001b[0;32mTrue\u001b[0m\u001b[0;34m)\u001b[0m\u001b[0;34m\u001b[0m\u001b[0;34m\u001b[0m\u001b[0m\n",
            "\u001b[0;31mKeyboardInterrupt\u001b[0m: Interrupted by user"
          ]
        }
      ]
    },
    {
      "cell_type": "code",
      "source": [
        "n = int(input())\n",
        "for _ in range(n):\n",
        "    choice = int(input())\n",
        "    if choice == 1:\n",
        "        num1 = int(input())\n",
        "        num2 = int(input())\n",
        "        print(num1 + num2)\n",
        "    elif choice == 2:\n",
        "        num1 = int(input())\n",
        "        num2 = int(input())\n",
        "        print(num1 - num2)\n",
        "    elif choice == 3:\n",
        "        num1 = int(input())\n",
        "        num2 = int(input())\n",
        "        print(num1 * num2)\n",
        "    elif choice == 4:\n",
        "        num1 = int(input())\n",
        "        num2 = int(input())\n",
        "        # To handle potential division by zero, though constraints\n",
        "        # might imply this won't happen.\n",
        "        if num2 != 0:\n",
        "            print(num1 // num2)\n",
        "        else:\n",
        "            print(\"Error: Division by zero\")\n",
        "    elif choice == 5:\n",
        "        num1 = int(input())\n",
        "        num2 = int(input())\n",
        "        # To handle potential modulo by zero.\n",
        "        if num2 != 0:\n",
        "            print(num1 % num2)\n",
        "        else:\n",
        "            print(\"Error: Modulo by zero\")\n",
        "    elif choice == 6:\n",
        "        break\n",
        "    else:\n",
        "        print(\"Invalid Operation\")"
      ],
      "metadata": {
        "colab": {
          "base_uri": "https://localhost:8080/"
        },
        "id": "RW8m-JssGZ2p",
        "outputId": "fd2751ec-0bdc-426b-fede-e7f9c06121e1"
      },
      "execution_count": null,
      "outputs": [
        {
          "output_type": "stream",
          "name": "stdout",
          "text": [
            "3\n",
            "1\n",
            "2\n",
            "4\n",
            "6\n",
            "2\n",
            "1\n",
            "3\n",
            "-2\n",
            "2\n",
            "6\n",
            "7\n",
            "-1\n"
          ]
        }
      ]
    },
    {
      "cell_type": "markdown",
      "source": [
        "Sol provided by manshu based on calculator based on condition"
      ],
      "metadata": {
        "id": "8YEc9bgmO0Nk"
      }
    },
    {
      "cell_type": "code",
      "source": [
        "def solution ():\n",
        "   option = int(input())\n",
        "   if option==6:\n",
        "       return\n",
        "   if option>=7:\n",
        "       print(\"Invalid Operation\")\n",
        "       return solution()\n",
        "\n",
        "\n",
        "   num1 = int(input())\n",
        "   num2 = int(input())\n",
        "\n",
        "\n",
        "   if option==1:\n",
        "       print(num1+num2)\n",
        "   elif option==2:\n",
        "       print(num1-num2)\n",
        "   elif option==3:\n",
        "       print(num1*num2)\n",
        "   elif option==4:\n",
        "       print(num1//num2)\n",
        "   elif option==5:\n",
        "       print(num1%num2)\n",
        "\n",
        "\n",
        "   return solution()\n",
        "solution()\n"
      ],
      "metadata": {
        "id": "cS1m-dk8O7B3"
      },
      "execution_count": null,
      "outputs": []
    },
    {
      "cell_type": "markdown",
      "source": [
        "Convert fareinheit to celsius"
      ],
      "metadata": {
        "id": "lNWuw8uhJvpM"
      }
    },
    {
      "cell_type": "code",
      "source": [
        "s= int(input())\n",
        "e= int(input())\n",
        "w= int(input())\n",
        "\n",
        "def convrt_to_c(F):\n",
        " return((F-32)*5/9)\n",
        "\n",
        "for F in range(s, e+1, w):\n",
        "  print(convrt_to_c(F))"
      ],
      "metadata": {
        "colab": {
          "base_uri": "https://localhost:8080/"
        },
        "id": "R8TVF_uUKLsX",
        "outputId": "192a129f-71a2-4104-8f14-43241aee0b78"
      },
      "execution_count": null,
      "outputs": [
        {
          "output_type": "stream",
          "name": "stdout",
          "text": [
            "0\n",
            "100\n",
            "20\n",
            "-17.77777777777778\n",
            "-6.666666666666667\n",
            "4.444444444444445\n",
            "15.555555555555555\n",
            "26.666666666666668\n",
            "37.77777777777778\n"
          ]
        }
      ]
    },
    {
      "cell_type": "code",
      "source": [
        "S = int(input())\n",
        "E = int(input())\n",
        "W = int(input())\n",
        "\n",
        "def convrt_to_c(F):\n",
        "    return int((F - 32) * 5 / 9)\n",
        "\n",
        "for F in range(S, E + 1, W):\n",
        "    print(F, convrt_to_c(F))\n"
      ],
      "metadata": {
        "colab": {
          "base_uri": "https://localhost:8080/"
        },
        "id": "mnXzoy9xMKJB",
        "outputId": "928727ae-628a-44cb-8f82-8e8b1b9d4c4d"
      },
      "execution_count": null,
      "outputs": [
        {
          "output_type": "stream",
          "name": "stdout",
          "text": [
            "0\n",
            "100\n",
            "20\n",
            "0 -17\n",
            "20 -6\n",
            "40 4\n",
            "60 15\n",
            "80 26\n",
            "100 37\n"
          ]
        }
      ]
    },
    {
      "cell_type": "markdown",
      "source": [
        "lambda is one liner anonymous function"
      ],
      "metadata": {
        "id": "Oew1cBsf8eqg"
      }
    },
    {
      "cell_type": "markdown",
      "source": [
        "we defined a lambda function(upper) to convert a string to its upper case using upper()."
      ],
      "metadata": {
        "id": "7U15eEKt-7bK"
      }
    },
    {
      "cell_type": "code",
      "source": [
        "s1 = 'geeksforgeeks'\n",
        "s2= lambda func: func.upper()\n",
        "print(s2(s1))"
      ],
      "metadata": {
        "colab": {
          "base_uri": "https://localhost:8080/"
        },
        "id": "ps3Jh-5W8xDA",
        "outputId": "242d6bed-e9b9-489a-e7cd-743d2201c7c5"
      },
      "execution_count": null,
      "outputs": [
        {
          "output_type": "stream",
          "name": "stdout",
          "text": [
            "GEEKSFORGEEKS\n"
          ]
        }
      ]
    },
    {
      "cell_type": "markdown",
      "source": [
        "lambda with Condition Checking\n",
        "- # Example: Check if a number is positive, negative, or zero"
      ],
      "metadata": {
        "id": "rBXY_GNQ_XYP"
      }
    },
    {
      "cell_type": "code",
      "source": [
        "z= lambda x: if x>0 print('positive') else print('negative')"
      ],
      "metadata": {
        "colab": {
          "base_uri": "https://localhost:8080/",
          "height": 106
        },
        "id": "7Ey28yON_qBD",
        "outputId": "7d15728d-8f69-42b9-c6bd-fa2f652c73bb"
      },
      "execution_count": null,
      "outputs": [
        {
          "output_type": "error",
          "ename": "SyntaxError",
          "evalue": "invalid syntax (ipython-input-1359977569.py, line 1)",
          "traceback": [
            "\u001b[0;36m  File \u001b[0;32m\"/tmp/ipython-input-1359977569.py\"\u001b[0;36m, line \u001b[0;32m1\u001b[0m\n\u001b[0;31m    z= lambda x: if x>0 print('positive') else print('negative')\u001b[0m\n\u001b[0m                 ^\u001b[0m\n\u001b[0;31mSyntaxError\u001b[0m\u001b[0;31m:\u001b[0m invalid syntax\n"
          ]
        }
      ]
    },
    {
      "cell_type": "code",
      "source": [
        "z= lambda x: 'positive' if x>0 else 'negative'"
      ],
      "metadata": {
        "id": "4iH97xbLAE5O"
      },
      "execution_count": null,
      "outputs": []
    },
    {
      "cell_type": "code",
      "source": [
        "z = lambda x: str(x)[::-1]"
      ],
      "metadata": {
        "id": "d4uFVTfmAVwV"
      },
      "execution_count": null,
      "outputs": []
    },
    {
      "cell_type": "code",
      "source": [
        "print(z(234678))"
      ],
      "metadata": {
        "colab": {
          "base_uri": "https://localhost:8080/"
        },
        "id": "q4xDuRTbAdV0",
        "outputId": "de2dd1f7-417b-42c1-b946-b3728e9a022d"
      },
      "execution_count": null,
      "outputs": [
        {
          "output_type": "stream",
          "name": "stdout",
          "text": [
            "876432\n"
          ]
        }
      ]
    },
    {
      "cell_type": "markdown",
      "source": [
        "Lambda with List Comprehension"
      ],
      "metadata": {
        "id": "YOVmnapNAVER"
      }
    },
    {
      "cell_type": "code",
      "source": [
        "z = [lambda arg=x: arg*10 for x in range(1, 5)]\n",
        "for i in z:\n",
        "  print(i())"
      ],
      "metadata": {
        "colab": {
          "base_uri": "https://localhost:8080/"
        },
        "id": "8e7RfcKmB3Xj",
        "outputId": "5deec89e-e8c6-4d45-f33d-6bda44fe1843"
      },
      "execution_count": null,
      "outputs": [
        {
          "output_type": "stream",
          "name": "stdout",
          "text": [
            "10\n",
            "20\n",
            "30\n",
            "40\n"
          ]
        }
      ]
    },
    {
      "cell_type": "code",
      "source": [
        "# Example: Check if a number is even or odd\n",
        "check = lambda x: \"Even\" if x % 2 == 0 else \"Odd\"\n",
        "\n",
        "print(check(4))\n",
        "print(check(7))"
      ],
      "metadata": {
        "colab": {
          "base_uri": "https://localhost:8080/"
        },
        "id": "inzobGMqDqGj",
        "outputId": "7be2a64c-7e18-4cec-df08-a00fb2fdaf80"
      },
      "execution_count": null,
      "outputs": [
        {
          "output_type": "stream",
          "name": "stdout",
          "text": [
            "Even\n",
            "Odd\n"
          ]
        }
      ]
    },
    {
      "cell_type": "code",
      "source": [
        "# Example: Perform addition and multiplication in a single line\n",
        "calc = lambda x, y: (x + y, x * y)\n",
        "\n",
        "res = calc(3, 4)\n",
        "print(res)"
      ],
      "metadata": {
        "colab": {
          "base_uri": "https://localhost:8080/"
        },
        "id": "EpU9yUSOD55G",
        "outputId": "5d2bf0f2-e6e5-4e8f-8968-37916232edf2"
      },
      "execution_count": null,
      "outputs": [
        {
          "output_type": "stream",
          "name": "stdout",
          "text": [
            "(7, 12)\n"
          ]
        }
      ]
    },
    {
      "cell_type": "markdown",
      "source": [
        "if the strings has too much space between words or lettrs how to cut down"
      ],
      "metadata": {
        "id": "9bu40DNHN2TG"
      }
    },
    {
      "cell_type": "code",
      "source": [
        "text = \"Hello     this    has     too   many spaces\"\n",
        "f = \" \".join(text.split())\n",
        "print(f)"
      ],
      "metadata": {
        "colab": {
          "base_uri": "https://localhost:8080/"
        },
        "id": "ahvQOF-6D7_T",
        "outputId": "ef7f39f9-ccc4-45ed-b64c-b3b31971a7f7"
      },
      "execution_count": null,
      "outputs": [
        {
          "output_type": "stream",
          "name": "stdout",
          "text": [
            "Hello this has too many spaces\n"
          ]
        }
      ]
    },
    {
      "cell_type": "code",
      "source": [
        "text = \"H e l l o,   W o r l d\"\n",
        "f= ' '.join(text.split())\n",
        "print(f)"
      ],
      "metadata": {
        "colab": {
          "base_uri": "https://localhost:8080/"
        },
        "id": "f1rjsmxBUK63",
        "outputId": "51a16675-1204-43f4-e7d4-71f10b940447"
      },
      "execution_count": null,
      "outputs": [
        {
          "output_type": "stream",
          "name": "stdout",
          "text": [
            "H e l l o, W o r l d\n"
          ]
        }
      ]
    },
    {
      "cell_type": "markdown",
      "source": [
        "T check if a string is emty\n"
      ],
      "metadata": {
        "id": "WcihMpnLW5EJ"
      }
    },
    {
      "cell_type": "code",
      "source": [
        "s= ''\n",
        "if len(s)==0:\n",
        "  print('empty')\n",
        "else:\n",
        "  print('not')"
      ],
      "metadata": {
        "colab": {
          "base_uri": "https://localhost:8080/"
        },
        "id": "QfBJPtVAW7eZ",
        "outputId": "5a04b1af-c5c5-45f6-f79a-78ef6eb022b6"
      },
      "execution_count": null,
      "outputs": [
        {
          "output_type": "stream",
          "name": "stdout",
          "text": [
            "empty\n"
          ]
        }
      ]
    },
    {
      "cell_type": "markdown",
      "source": [
        "Problem statement\n",
        "Print the following pattern for the given N number of rows.\n",
        "Pattern for N = 4\n",
        "4444\n",
        "4444\n",
        "4444\n",
        "4444\n",
        "\n",
        "Detailed explanation ( Input/output format, Notes, Images )\n",
        "Constraints\n",
        "0 <= N <= 50\n",
        "Sample Input 1:\n",
        "7\n",
        "Sample Output 1:\n",
        "7777777\n",
        "7777777\n",
        "7777777\n",
        "7777777\n",
        "7777777\n",
        "7777777\n",
        "7777777\n",
        "Sample Input 1:\n",
        "6\n",
        "Sample Output 1:\n",
        "666666\n",
        "666666\n",
        "666666\n",
        "666666\n",
        "666666\n",
        "666666\n"
      ],
      "metadata": {
        "id": "hOu14xjPPC9r"
      }
    },
    {
      "cell_type": "code",
      "source": [
        "n= int(input())\n",
        "for i in range(n):\n",
        " print(str(n)*n)"
      ],
      "metadata": {
        "colab": {
          "base_uri": "https://localhost:8080/"
        },
        "id": "asGAds2ePI_O",
        "outputId": "f4ca696b-554b-4be2-d4ef-2bb22f417da3"
      },
      "execution_count": 2,
      "outputs": [
        {
          "output_type": "stream",
          "name": "stdout",
          "text": [
            "4\n",
            "4444\n",
            "4444\n",
            "4444\n",
            "4444\n"
          ]
        }
      ]
    },
    {
      "cell_type": "markdown",
      "source": [
        "Problem statement\n",
        "Print the following pattern for the given N number of rows.\n",
        "Pattern for N = 4\n",
        "*\n",
        "**\n",
        "***\n",
        "****\n",
        "\n",
        "Note : There are no spaces between the stars (*).\n",
        "Detailed explanation ( Input/output format, Notes, Images )\n",
        "Constraints\n",
        "0 <= N <= 50\n",
        "Sample Input 1:\n",
        "5\n",
        "Sample Output 1:\n",
        "*\n",
        "**\n",
        "***\n",
        "****\n",
        "*****\n",
        "Sample Input 2:\n",
        "6\n",
        "Sample Output 2:\n",
        "*\n",
        "**\n",
        "***\n",
        "****\n",
        "*****\n",
        "******\n"
      ],
      "metadata": {
        "id": "WRQHIIMcZktI"
      }
    },
    {
      "cell_type": "code",
      "source": [
        "n= int(input())\n",
        "for i in range(1, n+1):\n",
        "  print('*'* i)"
      ],
      "metadata": {
        "colab": {
          "base_uri": "https://localhost:8080/"
        },
        "id": "c4jYHpYaZoFn",
        "outputId": "38a945a1-4e21-4d44-b7f3-0f7a4bf9e2d2"
      },
      "execution_count": 6,
      "outputs": [
        {
          "output_type": "stream",
          "name": "stdout",
          "text": [
            "4\n",
            "*\n",
            "**\n",
            "***\n",
            "****\n"
          ]
        }
      ]
    },
    {
      "cell_type": "markdown",
      "source": [
        "Problem statement\n",
        "Print the following pattern for the given N number of rows.\n",
        "Pattern for N = 4\n",
        "1\n",
        "22\n",
        "333\n",
        "4444\n",
        "\n",
        "Detailed explanation ( Input/output format, Notes, Images )\n",
        "Constraints\n",
        "0 <= N <= 50\n",
        "Sample Input 1:\n",
        "5\n",
        "Sample Output 1:\n",
        "1\n",
        "22\n",
        "333\n",
        "4444\n",
        "55555\n",
        "Sample Input 2:\n",
        "6\n",
        "Sample Output 2:\n",
        "1\n",
        "22\n",
        "333\n",
        "4444\n",
        "55555\n",
        "666666\n"
      ],
      "metadata": {
        "id": "C6HI3phkg8mv"
      }
    },
    {
      "cell_type": "code",
      "source": [
        "n= int(input())\n",
        "for i in range(1, n+1):\n",
        "  print(str(i)*i)"
      ],
      "metadata": {
        "colab": {
          "base_uri": "https://localhost:8080/"
        },
        "id": "WWkA-A0Yg-_G",
        "outputId": "c82633b5-b42b-4fc6-e0ed-6cffc736a2f3"
      },
      "execution_count": 7,
      "outputs": [
        {
          "output_type": "stream",
          "name": "stdout",
          "text": [
            "4\n",
            "1\n",
            "22\n",
            "333\n",
            "4444\n"
          ]
        }
      ]
    },
    {
      "cell_type": "markdown",
      "source": [
        "Problem statement\n",
        "Print the following pattern for the given N number of rows.\n",
        "Pattern for N = 4\n",
        "1\n",
        "11\n",
        "121\n",
        "1221\n",
        "\n",
        "Detailed explanation ( Input/output format, Notes, Images )\n",
        "Sample Input :\n",
        "5\n",
        "\n",
        "Sample Output :\n",
        "1\n",
        "11\n",
        "121\n",
        "1221\n",
        "12221\n"
      ],
      "metadata": {
        "id": "tJaGL2JnwqjQ"
      }
    },
    {
      "cell_type": "code",
      "source": [
        "n= int(input())\n",
        "for i in range(1, n+1):\n",
        "  if i ==1:\n",
        "    print(1)\n",
        "  elif i ==2:\n",
        "   print(11)\n",
        "  else:\n",
        "    print(str('1'+'2'*(i-2)+'1'))"
      ],
      "metadata": {
        "colab": {
          "base_uri": "https://localhost:8080/"
        },
        "id": "NH4NF7rGw_QL",
        "outputId": "5861c785-935a-422a-bd5c-7e1b8d7fda3a"
      },
      "execution_count": 6,
      "outputs": [
        {
          "output_type": "stream",
          "name": "stdout",
          "text": [
            "6\n",
            "1\n",
            "11\n",
            "121\n",
            "1221\n",
            "12221\n",
            "122221\n"
          ]
        }
      ]
    },
    {
      "cell_type": "markdown",
      "source": [
        "Problem statement\n",
        "Print the following pattern for the given N number of rows.\n",
        "Pattern for N = 4\n",
        "1\n",
        "21\n",
        "321\n",
        "4321\n",
        "\n",
        "Detailed explanation ( Input/output format, Notes, Images )\n",
        "Constraints\n",
        "0 <= N <= 50\n",
        "Sample Input 1:\n",
        "5\n",
        "Sample Output 1:\n",
        "1\n",
        "21\n",
        "321\n",
        "4321\n",
        "54321\n",
        "Sample Input 2:\n",
        "6\n",
        "Sample Output 2:\n",
        "1\n",
        "21\n",
        "321\n",
        "4321\n",
        "54321\n"
      ],
      "metadata": {
        "id": "d8hPp_mYxsAo"
      }
    },
    {
      "cell_type": "code",
      "source": [
        "n= int(input())\n",
        "for i in range(1, n+1):\n",
        " if i ==1:\n",
        "  print(1)\n",
        " if i ==2:\n",
        "   print(i+str(i-1))"
      ],
      "metadata": {
        "colab": {
          "base_uri": "https://localhost:8080/",
          "height": 211
        },
        "id": "PKsciAMOxtEx",
        "outputId": "e2c827b7-44f9-4c99-b701-c5c1ab32796e"
      },
      "execution_count": 2,
      "outputs": [
        {
          "output_type": "stream",
          "name": "stdout",
          "text": [
            "2\n",
            "1\n"
          ]
        },
        {
          "output_type": "error",
          "ename": "TypeError",
          "evalue": "unsupported operand type(s) for +: 'int' and 'str'",
          "traceback": [
            "\u001b[0;31m---------------------------------------------------------------------------\u001b[0m",
            "\u001b[0;31mTypeError\u001b[0m                                 Traceback (most recent call last)",
            "\u001b[0;32m/tmp/ipython-input-394305500.py\u001b[0m in \u001b[0;36m<cell line: 0>\u001b[0;34m()\u001b[0m\n\u001b[1;32m      4\u001b[0m   \u001b[0mprint\u001b[0m\u001b[0;34m(\u001b[0m\u001b[0;36m1\u001b[0m\u001b[0;34m)\u001b[0m\u001b[0;34m\u001b[0m\u001b[0;34m\u001b[0m\u001b[0m\n\u001b[1;32m      5\u001b[0m  \u001b[0;32mif\u001b[0m \u001b[0mi\u001b[0m \u001b[0;34m==\u001b[0m\u001b[0;36m2\u001b[0m\u001b[0;34m:\u001b[0m\u001b[0;34m\u001b[0m\u001b[0;34m\u001b[0m\u001b[0m\n\u001b[0;32m----> 6\u001b[0;31m    \u001b[0mprint\u001b[0m\u001b[0;34m(\u001b[0m\u001b[0mi\u001b[0m\u001b[0;34m+\u001b[0m\u001b[0mstr\u001b[0m\u001b[0;34m(\u001b[0m\u001b[0mi\u001b[0m\u001b[0;34m-\u001b[0m\u001b[0;36m1\u001b[0m\u001b[0;34m)\u001b[0m\u001b[0;34m)\u001b[0m\u001b[0;34m\u001b[0m\u001b[0;34m\u001b[0m\u001b[0m\n\u001b[0m",
            "\u001b[0;31mTypeError\u001b[0m: unsupported operand type(s) for +: 'int' and 'str'"
          ]
        }
      ]
    },
    {
      "cell_type": "code",
      "source": [
        "n= int(input())\n",
        "for i in range(1, n+1):\n",
        "  for j in range(i, 0, -1):\n",
        "    print(j, end=\"\")\n",
        "  print()\n"
      ],
      "metadata": {
        "colab": {
          "base_uri": "https://localhost:8080/"
        },
        "id": "xRsbVr2ANjuG",
        "outputId": "69ab2235-bcfa-4338-bf3c-de84fbd7fb91"
      },
      "execution_count": 5,
      "outputs": [
        {
          "output_type": "stream",
          "name": "stdout",
          "text": [
            "7\n",
            "1\n",
            "21\n",
            "321\n",
            "4321\n",
            "54321\n",
            "654321\n",
            "7654321\n"
          ]
        }
      ]
    },
    {
      "cell_type": "markdown",
      "source": [
        "Step 2: What does print(j, end=\"\") mean?\n",
        "Normally, print(j) adds a newline after each number.\n",
        "\n",
        "But end=\"\" tells Python not to add a newline, just print numbers side by side."
      ],
      "metadata": {
        "id": "SvHq0mlhOY-Z"
      }
    },
    {
      "cell_type": "markdown",
      "source": [
        "But since end=\"\" is used, it does not move to the next line after finishing the row.\n",
        "\n",
        "So after finishing, the cursor is still at the end of the same line.\n",
        "\n"
      ],
      "metadata": {
        "id": "lMvKlsPaSM-n"
      }
    },
    {
      "cell_type": "markdown",
      "source": [
        "This empty print() just moves the cursor to the next line.\n",
        "\n",
        "Without it, all rows would get printed on the same line.\n",
        "\n"
      ],
      "metadata": {
        "id": "qwXYMzrnSSSF"
      }
    },
    {
      "cell_type": "markdown",
      "source": [
        "Problem statement\n",
        "Print the following pattern for the given N number of rows.\n",
        "Pattern for N = 4\n",
        "A\n",
        "BC\n",
        "CDE\n",
        "DEFG\n",
        "\n",
        "Detailed explanation ( Input/output format, Notes, Images )\n",
        "Constraints\n",
        "0 <= N <= 13\n",
        "\n",
        "Sample Input 1:\n",
        "5\n",
        "\n",
        "Sample Output 1:\n",
        "A\n",
        "BC\n",
        "CDE\n",
        "DEFG\n",
        "EFGHI\n",
        "\n",
        "Sample Input 2:\n",
        "6\n",
        "\n",
        "Sample Output 2:\n",
        "A\n",
        "BC\n",
        "CDE\n",
        "DEFG\n",
        "EFGHI\n",
        "FGHIJK\n",
        "\n"
      ],
      "metadata": {
        "id": "vxTkq__0SbnM"
      }
    },
    {
      "cell_type": "code",
      "source": [
        "n = int(input())\n",
        "for i in range(1, n+1):\n",
        " row= \"\"\n",
        " start= 65+ (i-1)\n",
        " for j in range(i):\n",
        "  row +=chr(start+j)\n",
        " print(row)"
      ],
      "metadata": {
        "colab": {
          "base_uri": "https://localhost:8080/"
        },
        "id": "mUvhlRZaSR1h",
        "outputId": "9aa96aaa-ed20-4d55-d0cf-0e3d421451b7"
      },
      "execution_count": 7,
      "outputs": [
        {
          "output_type": "stream",
          "name": "stdout",
          "text": [
            "8\n",
            "A\n",
            "BC\n",
            "CDE\n",
            "DEFG\n",
            "EFGHI\n",
            "FGHIJK\n",
            "GHIJKLM\n",
            "HIJKLMNO\n"
          ]
        }
      ]
    },
    {
      "cell_type": "markdown",
      "source": [
        "🔹 Step-by-step Explanation\n",
        "1. Input\n",
        "python\n",
        "Copy\n",
        "Edit\n",
        "N = int(input())\n",
        "Reads the number of rows.\n",
        "\n",
        "Example: If N = 4, we want 4 rows.\n",
        "\n",
        "2. Outer loop (rows)\n",
        "python\n",
        "Copy\n",
        "Edit\n",
        "for i in range(1, N+1):\n",
        "Runs from 1 to N.\n",
        "\n",
        "Controls which row we are printing.\n",
        "\n",
        "So for N=4: i = 1, 2, 3, 4.\n",
        "\n",
        "3. Initialize row string\n",
        "python\n",
        "Copy\n",
        "Edit\n",
        "row = \"\"\n",
        "We’ll build each row as a string before printing.\n",
        "\n",
        "4. Find the starting character of the row\n",
        "python\n",
        "Copy\n",
        "Edit\n",
        "start = 65 + (i - 1)\n",
        "Recall: chr(65) = 'A'.\n",
        "\n",
        "So 65 + (i-1) gives the ASCII code of the row’s first letter.\n",
        "\n",
        "Example:\n",
        "\n",
        "Row 1 → 65 + (1-1) = 65 → 'A'\n",
        "\n",
        "Row 2 → 65 + (2-1) = 66 → 'B'\n",
        "\n",
        "Row 3 → 65 + (3-1) = 67 → 'C'\n",
        "\n",
        "Row 4 → 65 + (4-1) = 68 → 'D'\n",
        "\n",
        "5. Inner loop (characters in a row)\n",
        "python\n",
        "Copy\n",
        "Edit\n",
        "for j in range(i):\n",
        "    row += chr(start + j)\n",
        "This loop adds characters to the row.\n",
        "\n",
        "It runs exactly i times (so row i has i characters).\n",
        "\n",
        "Each time, it takes the next alphabet using chr(start + j).\n",
        "\n",
        "Example (Row 3, i=3):\n",
        "\n",
        "start = 67 ('C')\n",
        "\n",
        "Iterations:\n",
        "\n",
        "j=0 → chr(67+0) = 'C'\n",
        "\n",
        "j=1 → chr(67+1) = 'D'\n",
        "\n",
        "j=2 → chr(67+2) = 'E'\n",
        "\n",
        "Row string becomes \"CDE\".\n",
        "\n",
        "6. Print the row\n",
        "python\n",
        "Copy\n",
        "Edit\n",
        "print(row)\n",
        "After building one row, we print it.\n",
        "\n",
        "Then outer loop moves to the next row.\n",
        "\n"
      ],
      "metadata": {
        "id": "8Hf-C_6gWE3M"
      }
    },
    {
      "cell_type": "markdown",
      "source": [
        "Problem statement\n",
        "Print the following pattern for the given number of rows.\n",
        "Pattern for N = 5\n",
        "E\n",
        "DE\n",
        "CDE\n",
        "BCDE\n",
        "ABCDE\n",
        "\n",
        "Detailed explanation ( Input/output format, Notes, Images )\n",
        "Constraints\n",
        "0 <= N <= 26\n",
        "\n",
        "Sample Input 1:\n",
        "8\n",
        "\n",
        "Sample Output 1:\n",
        "H\n",
        "GH\n",
        "FGH\n",
        "EFGH\n",
        "DEFGH\n",
        "CDEFGH\n",
        "BCDEFGH\n",
        "ABCDEFGH\n",
        "Sample Input 2:\n",
        "7\n",
        "Sample Output 2:\n",
        "G\n",
        "FG\n",
        "EFG\n",
        "DEFG\n",
        "CDEFG\n",
        "BCDEFG\n",
        "ABCDEFG\n",
        "\n"
      ],
      "metadata": {
        "id": "xqt0epOTWgTh"
      }
    },
    {
      "cell_type": "code",
      "source": [
        "n= int(input())\n",
        "for i in range(1, n+1):\n",
        " start = 65 + (n-i)\n",
        " end = 65+n\n",
        " row= \"\".join(chr(ch) for ch in range(start, end))\n",
        " print(row)"
      ],
      "metadata": {
        "colab": {
          "base_uri": "https://localhost:8080/"
        },
        "id": "hftPCnaKWmcs",
        "outputId": "683628b1-05f2-41cd-9c7a-8b925c22dc21"
      },
      "execution_count": 10,
      "outputs": [
        {
          "output_type": "stream",
          "name": "stdout",
          "text": [
            "6\n",
            "F\n",
            "EF\n",
            "DEF\n",
            "CDEF\n",
            "BCDEF\n",
            "ABCDEF\n"
          ]
        }
      ]
    },
    {
      "cell_type": "markdown",
      "source": [
        "🔹 Step-by-Step Breakdown\n",
        "1. Input\n",
        "python\n",
        "Copy\n",
        "Edit\n",
        "N = int(input())\n",
        "Reads the number of rows.\n",
        "\n",
        "Example: If N = 5, we want 5 rows.\n",
        "\n",
        "2. Outer loop\n",
        "python\n",
        "Copy\n",
        "Edit\n",
        "for i in range(1, N+1):\n",
        "Runs from 1 to N.\n",
        "\n",
        "Controls which row we are printing.\n",
        "\n",
        "So if N=5, i = 1,2,3,4,5.\n",
        "\n",
        "3. Find starting letter\n",
        "python\n",
        "Copy\n",
        "Edit\n",
        "start = 65 + (N - i)\n",
        "chr(65) → 'A', chr(66) → 'B', …, chr(90) → 'Z'.\n",
        "\n",
        "So 65 is ASCII code of 'A'.\n",
        "\n",
        "For each row, we calculate the ASCII code of the first character.\n",
        "\n",
        "Example when N=5:\n",
        "\n",
        "Row 1 (i=1): 65 + (5-1) = 69 → 'E'\n",
        "\n",
        "Row 2 (i=2): 65 + (5-2) = 68 → 'D'\n",
        "\n",
        "Row 3 (i=3): 65 + (5-3) = 67 → 'C'\n",
        "\n",
        "Row 4 (i=4): 65 + (5-4) = 66 → 'B'\n",
        "\n",
        "Row 5 (i=5): 65 + (5-5) = 65 → 'A'\n",
        "\n",
        "✅ That matches the expected starting letters.\n",
        "\n",
        "4. Find ending letter\n",
        "python\n",
        "Copy\n",
        "Edit\n",
        "end = 65 + N\n",
        "The row must always end at the N-th alphabet.\n",
        "\n",
        "For N=5, that means end=70 ('F') → so range goes until just before 'F', i.e. up to 'E'.\n",
        "\n",
        "5. Build the row\n",
        "python\n",
        "Copy\n",
        "Edit\n",
        "row = \"\".join(chr(ch) for ch in range(start, end))\n",
        "range(start, end) → generates all ASCII values from start to end-1.\n",
        "\n",
        "chr(ch) converts each ASCII number to a character.\n",
        "\n",
        "\"\".join(...) concatenates them into a single string with no spaces.\n",
        "\n",
        "Example (N=5, i=3 → Row 3):\n",
        "\n",
        "start = 67 ('C'), end = 70 ('F')\n",
        "\n",
        "Characters: 'C' 'D' 'E'\n",
        "\n",
        "\"\".join(...) → \"CDE\"\n",
        "\n",
        "6. Print the row\n",
        "python\n",
        "Copy\n",
        "Edit\n",
        "print(row)\n",
        "After building one row string, print it.\n",
        "\n",
        "Then go back to the outer loop for the next row.\n",
        "\n"
      ],
      "metadata": {
        "id": "zz2y1JmYZP6x"
      }
    },
    {
      "cell_type": "markdown",
      "source": [
        "Problem statement\n",
        "Print the following pattern for the given N number of rows.\n",
        "Pattern for N = 4\n",
        "1\n",
        "11\n",
        "111\n",
        "1111\n",
        "\n",
        "Detailed explanation ( Input/output format, Notes, Images )\n",
        "Sample Input :\n",
        "5\n",
        "\n",
        "Sample Output :\n",
        "1\n",
        "11\n",
        "111\n",
        "1111\n",
        "11111\n"
      ],
      "metadata": {
        "id": "sHHeeamtZRUt"
      }
    },
    {
      "cell_type": "code",
      "source": [
        "n= int(input())\n",
        "for i in range(1, n+1):\n",
        " if i ==1:\n",
        "  print(1)\n",
        " elif i ==2:\n",
        "  print(11)\n",
        " else:\n",
        "  print('1'*i)"
      ],
      "metadata": {
        "colab": {
          "base_uri": "https://localhost:8080/"
        },
        "id": "lb10bwedZYBP",
        "outputId": "f6cc243b-2c92-4081-dd84-f4d8f8a996ca"
      },
      "execution_count": 12,
      "outputs": [
        {
          "output_type": "stream",
          "name": "stdout",
          "text": [
            "6\n",
            "1\n",
            "11\n",
            "111\n",
            "1111\n",
            "11111\n",
            "111111\n"
          ]
        }
      ]
    },
    {
      "cell_type": "markdown",
      "source": [
        "# or"
      ],
      "metadata": {
        "id": "XY_APHG8dP-_"
      }
    },
    {
      "cell_type": "code",
      "source": [
        "N = int(input())\n",
        "\n",
        "for i in range(1, N+1):\n",
        "    print(\"1\" * i)\n"
      ],
      "metadata": {
        "colab": {
          "base_uri": "https://localhost:8080/"
        },
        "id": "WgeVwaOldPZg",
        "outputId": "5ef7989c-b334-45b7-a971-e3c89ed9a649"
      },
      "execution_count": 13,
      "outputs": [
        {
          "output_type": "stream",
          "name": "stdout",
          "text": [
            "8\n",
            "1\n",
            "11\n",
            "111\n",
            "1111\n",
            "11111\n",
            "111111\n",
            "1111111\n",
            "11111111\n"
          ]
        }
      ]
    },
    {
      "cell_type": "markdown",
      "source": [
        "Problem statement\n",
        "Print the following pattern for the given N number of rows.\n",
        "Pattern for N = 4\n",
        "1\n",
        "11\n",
        "202\n",
        "3003\n",
        "\n",
        "Detailed explanation ( Input/output format, Notes, Images )\n",
        "Constraints:\n",
        "1 <= n <= 50\n",
        "\n",
        "Output format :\n",
        "Pattern in N lines\n",
        "\n",
        "Sample Input :\n",
        "5\n",
        "\n",
        "Sample Output :\n",
        "1\n",
        "11\n",
        "202\n",
        "3003\n",
        "40004\n"
      ],
      "metadata": {
        "id": "0xklhwemdWKB"
      }
    },
    {
      "cell_type": "code",
      "source": [
        "n= int(input())\n",
        "for i in range(1, n+1):\n",
        "  if i ==1:\n",
        "    print(1)\n",
        "  if i ==2:\n",
        "    print(11)\n",
        "  else:\n",
        "    print(str(i-1)+'0'*(i-2)+str(i-1))\n"
      ],
      "metadata": {
        "colab": {
          "base_uri": "https://localhost:8080/"
        },
        "id": "yfw6bs3OdcuH",
        "outputId": "d10080e2-f230-436a-fff0-a69c9f86fee1"
      },
      "execution_count": 14,
      "outputs": [
        {
          "output_type": "stream",
          "name": "stdout",
          "text": [
            "5\n",
            "1\n",
            "00\n",
            "11\n",
            "202\n",
            "3003\n",
            "40004\n"
          ]
        }
      ]
    },
    {
      "cell_type": "markdown",
      "source": [
        "Problem statement\n",
        "Print the following pattern for the given N number of rows.\n",
        "Pattern for N = 4\n",
        "1234\n",
        "123\n",
        "12\n",
        "1\n",
        "\n",
        "Detailed explanation ( Input/output format, Notes, Images )\n",
        "Sample Input :\n",
        "5\n",
        "\n",
        "Sample Output :\n",
        "12345\n",
        "1234\n",
        "123\n",
        "12\n",
        "1\n"
      ],
      "metadata": {
        "id": "mKFNw8QghTFY"
      }
    },
    {
      "cell_type": "code",
      "source": [
        "n= int(input())\n",
        "for i in range(1, n+1):\n",
        "  for j in range(i, 0, +1)\n",
        "   print('i')"
      ],
      "metadata": {
        "id": "vXdRtQushgN_"
      },
      "execution_count": null,
      "outputs": []
    },
    {
      "cell_type": "markdown",
      "source": [
        "why my code didnt work because- for the no of rows which is denoted by i it contins 5 elements in the first row\n",
        "- and j tells us what kind of elements to add"
      ],
      "metadata": {
        "id": "dIzrYiDZlHT-"
      }
    },
    {
      "cell_type": "code",
      "source": [
        "N = int(input())\n",
        "\n",
        "for i in range(N, 0, -1):   # from N down to 1\n",
        "    for j in range(1, i+1): # print numbers 1 to i\n",
        "        print(j, end=\"\")\n",
        "    print()  # move to next line\n"
      ],
      "metadata": {
        "colab": {
          "base_uri": "https://localhost:8080/"
        },
        "id": "zTgvA6XOkqf6",
        "outputId": "51db4760-ede0-481e-8a7d-82f559895f90"
      },
      "execution_count": 15,
      "outputs": [
        {
          "output_type": "stream",
          "name": "stdout",
          "text": [
            "4\n",
            "1234\n",
            "123\n",
            "12\n",
            "1\n"
          ]
        }
      ]
    },
    {
      "cell_type": "markdown",
      "source": [
        "Print the following pattern for the given N number of rows.\n",
        "Pattern for N = 3\n",
        "A\n",
        "BB\n",
        "CCC\n",
        "\n",
        "Detailed explanation ( Input/output format, Notes, Images )\n",
        "Constraints\n",
        "0 <= N <= 26\n",
        "Sample Input 1:\n",
        "7\n",
        "Sample Output 1:\n",
        "A\n",
        "BB\n",
        "CCC\n",
        "DDDD\n",
        "EEEEE\n",
        "FFFFFF\n",
        "GGGGGGG\n",
        "Sample Input 2:\n",
        "6\n",
        "Sample Output 2:\n",
        "A\n",
        "BB\n",
        "CCC\n",
        "DDDD\n",
        "EEEEE\n",
        "FFFFFF\n",
        "\n"
      ],
      "metadata": {
        "id": "7iKKQj8rlhnQ"
      }
    },
    {
      "cell_type": "code",
      "source": [
        "n= int(input())\n",
        "for i in range(1, n+1):\n",
        "  ch= chr(65+i-1)\n",
        "  print(ch*i)\n"
      ],
      "metadata": {
        "colab": {
          "base_uri": "https://localhost:8080/"
        },
        "id": "wVHFztwzmWWX",
        "outputId": "8e77ebef-2e92-4abe-9008-58a9ae0997ff"
      },
      "execution_count": 16,
      "outputs": [
        {
          "output_type": "stream",
          "name": "stdout",
          "text": [
            "5\n",
            "A\n",
            "BB\n",
            "CCC\n",
            "DDDD\n",
            "EEEEE\n"
          ]
        }
      ]
    },
    {
      "cell_type": "markdown",
      "source": [
        "Problem statement\n",
        "Print the following pattern for the given N number of rows.\n",
        "Pattern for N = 4\n",
        "4444\n",
        "333\n",
        "22\n",
        "1\n",
        "\n",
        "Detailed explanation ( Input/output format, Notes, Images )\n",
        "Constraints :\n",
        "0 <= N <= 50\n",
        "\n",
        "Sample Input 1:\n",
        "5\n",
        "\n",
        "Sample Output 1:\n",
        "55555\n",
        "4444\n",
        "333\n",
        "22\n",
        "1\n",
        "\n",
        "Sample Input 2:\n",
        "6\n",
        "\n",
        "Sample Output 2:\n",
        "666666\n",
        "55555\n",
        "4444\n",
        "333\n",
        "22\n",
        "1\n",
        "\n",
        "\n"
      ],
      "metadata": {
        "id": "QIoLLaQtqGZg"
      }
    },
    {
      "cell_type": "code",
      "source": [
        "n= int(input())\n",
        "for i in range(n, 0, -1):\n",
        "  print(str(i)*i)"
      ],
      "metadata": {
        "colab": {
          "base_uri": "https://localhost:8080/"
        },
        "id": "LRIUNVdHqF_q",
        "outputId": "ef748fa2-5761-4a90-f7b8-abcdf86565fd"
      },
      "execution_count": 17,
      "outputs": [
        {
          "output_type": "stream",
          "name": "stdout",
          "text": [
            "4\n",
            "4444\n",
            "333\n",
            "22\n",
            "1\n"
          ]
        }
      ]
    },
    {
      "cell_type": "markdown",
      "source": [
        "Problem statement\n",
        "Print the following pattern for the given N number of rows.\n",
        "Pattern for N = 4\n",
        "\n",
        "The dots represent spaces.\n",
        "Detailed explanation ( Input/output format, Notes, Images )\n",
        "Constraints\n",
        "0 <= N <= 50\n",
        "\n",
        "Sample Input 1:\n",
        "3\n",
        "\n",
        "Sample Output 1:\n",
        "     1\n",
        "    12\n",
        "  123\n",
        "\n",
        "Sample Input 2:\n",
        "4\n",
        "\n",
        "Sample Output 2:\n",
        "     1\n",
        "    12\n",
        "  123\n",
        "1234\n",
        "\n"
      ],
      "metadata": {
        "id": "WrfDOiqOqv-2"
      }
    },
    {
      "cell_type": "code",
      "source": [
        "n= int(input())\n",
        "for i in range(1, n+1):\n",
        " spaces = \"\"*(n-i)\n",
        " char= \"\".join(str(j) for j in range(1, i+1))\n",
        " print(spaces+char)"
      ],
      "metadata": {
        "colab": {
          "base_uri": "https://localhost:8080/"
        },
        "id": "OJ3YDWBrt-T7",
        "outputId": "7ecd6e41-8685-4805-8df5-0548570e61b4"
      },
      "execution_count": 20,
      "outputs": [
        {
          "output_type": "stream",
          "name": "stdout",
          "text": [
            "6\n",
            "1\n",
            "12\n",
            "123\n",
            "1234\n",
            "12345\n",
            "123456\n"
          ]
        }
      ]
    },
    {
      "cell_type": "markdown",
      "source": [
        "Problem statement\n",
        "Print the following pattern for the given number of rows.\n",
        "Pattern for N = 4\n",
        "1111\n",
        "000\n",
        "11\n",
        "0\n",
        "\n",
        "Input format : N (Total no. of rows)\n",
        "Output format : Pattern in N lines\n",
        "Sample Input :\n",
        "5\n",
        "\n",
        "Sample Output :\n",
        "11111\n",
        "0000\n",
        "111\n",
        "00\n",
        "1\n",
        "\n"
      ],
      "metadata": {
        "id": "3KvmgWW4M-QQ"
      }
    },
    {
      "cell_type": "code",
      "source": [
        "n= int(input())\n",
        "for i in range(n):\n",
        " length= n-i\n",
        " if i%2==0:\n",
        "  print('1'* length)\n",
        " else:\n",
        "  print('0'*length)"
      ],
      "metadata": {
        "colab": {
          "base_uri": "https://localhost:8080/"
        },
        "id": "JUliczAoNCNc",
        "outputId": "58f3aa64-8506-43d4-8a52-43538039b0c9"
      },
      "execution_count": 23,
      "outputs": [
        {
          "output_type": "stream",
          "name": "stdout",
          "text": [
            "6\n",
            "111111\n",
            "00000\n",
            "1111\n",
            "000\n",
            "11\n",
            "0\n"
          ]
        }
      ]
    },
    {
      "cell_type": "markdown",
      "source": [
        "Problem statement\n",
        "Print the following pattern for a given n.\n",
        "For eg. N = 6\n",
        "123456\n",
        "  23456\n",
        "    3456\n",
        "      456\n",
        "        56\n",
        "          6\n",
        "        56\n",
        "      456\n",
        "    3456\n",
        "  23456\n",
        "123456\n",
        "\n",
        "Sample Input 1 :\n",
        "4\n",
        "\n",
        "Sample Output 1 :\n",
        "1234\n",
        "  234\n",
        "    34\n",
        "      4\n",
        "    34\n",
        "  234\n",
        "1234\n"
      ],
      "metadata": {
        "id": "54jTSfPFRLZn"
      }
    },
    {
      "cell_type": "code",
      "source": [
        "n= int(input())\n",
        "for i in range(1, n+1):\n",
        " print(\"\"*2*(i-1)+ \"\".join(str(j)for j in range(i, n+1)))\n",
        "for i in range(n-1, 0, -1):\n",
        " print(\"\"*2*(i-1)+ \"\".join(str(j)for j in range(i, n+1)))"
      ],
      "metadata": {
        "colab": {
          "base_uri": "https://localhost:8080/"
        },
        "id": "dTvaU13gRKn7",
        "outputId": "15f253b4-0241-4e97-d9dd-919f2098dffb"
      },
      "execution_count": 2,
      "outputs": [
        {
          "output_type": "stream",
          "name": "stdout",
          "text": [
            "5\n",
            "12345\n",
            "2345\n",
            "345\n",
            "45\n",
            "5\n",
            "45\n",
            "345\n",
            "2345\n",
            "12345\n"
          ]
        }
      ]
    },
    {
      "cell_type": "code",
      "source": [
        "n= int(input())\n",
        "for i in range(1, n+1):\n",
        " print(\"\".join(str(j)for j in range(i, n+1)))\n",
        "for i in range(n-1, 0, -1):\n",
        " print(\"\".join(str(j)for j in range(i, n+1)))"
      ],
      "metadata": {
        "colab": {
          "base_uri": "https://localhost:8080/"
        },
        "id": "phPIJKN32FDN",
        "outputId": "c33c00f5-d73a-4f1d-ff4e-703b68537e01"
      },
      "execution_count": 6,
      "outputs": [
        {
          "output_type": "stream",
          "name": "stdout",
          "text": [
            "5\n",
            "12345\n",
            "2345\n",
            "345\n",
            "45\n",
            "5\n",
            "45\n",
            "345\n",
            "2345\n",
            "12345\n"
          ]
        }
      ]
    },
    {
      "cell_type": "code",
      "source": [
        "def print_pattern(n):\n",
        "    # First half\n",
        "    for i in range(1, n+1):\n",
        "        print(\" \" * (2*(i-1)) + \"\".join(str(x) for x in range(i, n+1)))\n",
        "    # Second half\n",
        "    for i in range(n-1, 0, -1):\n",
        "        print(\" \" * (2*(i-1)) + \"\".join(str(x) for x in range(i, n+1)))\n"
      ],
      "metadata": {
        "id": "QOWTLBvQyOg6"
      },
      "execution_count": 3,
      "outputs": []
    },
    {
      "cell_type": "code",
      "source": [
        "n=int(input())"
      ],
      "metadata": {
        "colab": {
          "base_uri": "https://localhost:8080/"
        },
        "id": "flz8lQBsyQLw",
        "outputId": "fc9c050f-b886-4ea0-c0ce-d755b51f5315"
      },
      "execution_count": 4,
      "outputs": [
        {
          "name": "stdout",
          "output_type": "stream",
          "text": [
            "5\n"
          ]
        }
      ]
    },
    {
      "cell_type": "code",
      "source": [
        "print(print_pattern(n))"
      ],
      "metadata": {
        "colab": {
          "base_uri": "https://localhost:8080/"
        },
        "id": "0shtfvepyVtA",
        "outputId": "3d9c3019-ad19-44a8-ed4a-a8c011583b00"
      },
      "execution_count": 5,
      "outputs": [
        {
          "output_type": "stream",
          "name": "stdout",
          "text": [
            "12345\n",
            "  2345\n",
            "    345\n",
            "      45\n",
            "        5\n",
            "      45\n",
            "    345\n",
            "  2345\n",
            "12345\n",
            "None\n"
          ]
        }
      ]
    },
    {
      "cell_type": "markdown",
      "source": [
        "See the difference between above two"
      ],
      "metadata": {
        "id": "Lb48ZQ55yllN"
      }
    },
    {
      "cell_type": "markdown",
      "source": [
        "Just because of a bracket it turned out to be different"
      ],
      "metadata": {
        "id": "8D-SXQeLzju0"
      }
    },
    {
      "cell_type": "markdown",
      "source": [
        "Ahh got it 👍 thanks for pointing that out — you’re absolutely right ✅\n",
        "The **first code does run**, but the pattern is different because of **operator precedence**.\n",
        "\n",
        "Let’s carefully check:\n",
        "\n",
        "---\n",
        "\n",
        "### 🔹 First code\n",
        "\n",
        "```python\n",
        "print(\"\"*2*(i-1)+ \"\".join(str(j) for j in range(i, n+1)))\n",
        "```\n",
        "\n",
        "Python evaluates from **left to right**:\n",
        "\n",
        "* `\"\"*2*(i-1)` → always `\"\"` (empty string).\n",
        "* So effectively the line becomes:\n",
        "\n",
        "  ```python\n",
        "  print(\"\".join(str(j) for j in range(i, n+1)))\n",
        "  ```\n",
        "\n",
        "This means → **no spaces at all**, just numbers.\n",
        "\n",
        "👉 Output for `n=4`:\n",
        "\n",
        "```\n",
        "1234\n",
        "234\n",
        "34\n",
        "4\n",
        "34\n",
        "234\n",
        "1234\n",
        "```\n",
        "\n",
        "---\n",
        "\n",
        "### 🔹 Second code\n",
        "\n",
        "```python\n",
        "print(\" \" * (2*(i-1)) + \"\".join(str(x) for x in range(i, n+1)))\n",
        "```\n",
        "\n",
        "Here, `\" \"` (a space) is multiplied, so indentation grows line by line.\n",
        "\n",
        "👉 Output for `n=4`:\n",
        "\n",
        "```\n",
        "1234\n",
        "  234\n",
        "    34\n",
        "      4\n",
        "    34\n",
        "  234\n",
        "1234\n",
        "```\n",
        "\n",
        "---\n",
        "\n",
        "### 🔹 Why the difference?\n",
        "\n",
        "* In the first code: `\"\"*2*(i-1)` is **always empty**, so no indentation.\n",
        "* In the second code: `\" \"` contains a space, so multiplying creates indentation.\n",
        "\n",
        "That’s why the first one prints a **straight diamond-like shape without spaces**,\n",
        "while the second one prints the **indented diamond (correct pattern)**.\n",
        "\n",
        "---\n",
        "\n",
        "👉 Would you like me to **draw both patterns for n=6 side by side** so you can visually compare the difference better?\n"
      ],
      "metadata": {
        "id": "xi5JMmK11cxQ"
      }
    },
    {
      "cell_type": "markdown",
      "source": [
        "Problem statement\n",
        "Print the following pattern for the given N number of rows.\n",
        "Pattern for N = 4\n",
        "\n",
        "The dots represent spaces.\n",
        "Detailed explanation ( Input/output format, Notes, Images )\n",
        "Constraints\n",
        "0 <= N <= 50\n",
        "\n",
        "Sample Input 1:\n",
        "3\n",
        "\n",
        "Sample Output 1:\n",
        "     1\n",
        "    12\n",
        "  123\n",
        "\n",
        "Sample Input 2:\n",
        "4\n",
        "\n",
        "Sample Output 2:\n",
        "     1\n",
        "    12\n",
        "  123\n",
        "1234\n"
      ],
      "metadata": {
        "id": "FX9bfE2s4I70"
      }
    },
    {
      "cell_type": "code",
      "source": [
        "n= int(input())\n",
        "for i in range(1, n+1):\n",
        " space= \" \"*(n-i)\n",
        " num= \"\".join(str(j)for j in range(i, n+1))\n",
        " print(space+num)"
      ],
      "metadata": {
        "colab": {
          "base_uri": "https://localhost:8080/"
        },
        "id": "F66kFJOJzi5R",
        "outputId": "994b0370-be7d-4d11-83c4-ed15f7dda47f"
      },
      "execution_count": 8,
      "outputs": [
        {
          "output_type": "stream",
          "name": "stdout",
          "text": [
            "4\n",
            "   1234\n",
            "  234\n",
            " 34\n",
            "4\n"
          ]
        }
      ]
    },
    {
      "cell_type": "code",
      "source": [
        "def print_pattern(N):\n",
        "    for i in range(1, N+1):\n",
        "        spaces = \" \" * (N - i)\n",
        "        numbers = \"\".join(str(x) for x in range(1, i+1))\n",
        "        print(spaces + numbers)\n",
        "\n",
        "# Example usage\n",
        "print_pattern(4)\n"
      ],
      "metadata": {
        "colab": {
          "base_uri": "https://localhost:8080/"
        },
        "id": "TQwvG8KZ5S1I",
        "outputId": "9932cbb7-7a0a-4bf4-d86d-42138c1828df"
      },
      "execution_count": 9,
      "outputs": [
        {
          "output_type": "stream",
          "name": "stdout",
          "text": [
            "   1\n",
            "  12\n",
            " 123\n",
            "1234\n"
          ]
        }
      ]
    },
    {
      "cell_type": "markdown",
      "source": [
        "Difference between my understanding of the logic"
      ],
      "metadata": {
        "id": "Y_eeuqYh5w0J"
      }
    },
    {
      "cell_type": "markdown",
      "source": [
        "Aha, I see the confusion 👌 Let’s compare carefully.\n",
        "\n",
        "---\n",
        "\n",
        "### 🔹 Your Code\n",
        "\n",
        "```python\n",
        "n = int(input())\n",
        "for i in range(1, n+1):\n",
        "    space = \" \" * (n - i)\n",
        "    num = \"\".join(str(j) for j in range(i, n+1))\n",
        "    print(space + num)\n",
        "```\n",
        "\n",
        "### 🔹 My Code\n",
        "\n",
        "```python\n",
        "for i in range(1, n+1):\n",
        "    space = \" \" * (n - i)\n",
        "    num = \"\".join(str(j) for j in range(1, i+1))\n",
        "    print(space + num)\n",
        "```\n",
        "\n",
        "---\n",
        "\n",
        "### 🔑 Difference is in this line:\n",
        "\n",
        "* **Your code**:\n",
        "\n",
        "  ```python\n",
        "  num = \"\".join(str(j) for j in range(i, n+1))\n",
        "  ```\n",
        "\n",
        "  → Prints numbers **from i to n**.\n",
        "\n",
        "* **Correct code**:\n",
        "\n",
        "  ```python\n",
        "  num = \"\".join(str(j) for j in range(1, i+1))\n",
        "  ```\n",
        "\n",
        "  → Prints numbers **from 1 to i**.\n",
        "\n",
        "---\n",
        "\n",
        "### 🔹 Example for n=4\n",
        "\n",
        "#### Your output:\n",
        "\n",
        "```\n",
        "   1234   (i=1 → numbers from 1 to 4)\n",
        "  234     (i=2 → numbers from 2 to 4)\n",
        " 34       (i=3 → numbers from 3 to 4)\n",
        "4         (i=4 → numbers from 4 to 4)\n",
        "```\n",
        "\n",
        "#### Expected output:\n",
        "\n",
        "```\n",
        "   1      (i=1 → numbers from 1 to 1)\n",
        "  12      (i=2 → numbers from 1 to 2)\n",
        " 123      (i=3 → numbers from 1 to 3)\n",
        "1234      (i=4 → numbers from 1 to 4)\n",
        "```\n",
        "\n",
        "---\n",
        "\n",
        "✅ So the **misunderstanding**:\n",
        "You thought the numbers should go from `i` to `n`, but actually they should go from `1` to `i`.\n",
        "\n",
        "That’s why your triangle looked **upside-down**, while the expected one grows from left to right.\n",
        "\n",
        "---\n",
        "\n",
        "Do you want me to **show both patterns side by side for n=5** so you can clearly see the difference?\n"
      ],
      "metadata": {
        "id": "EIK76Zfc52Tm"
      }
    },
    {
      "cell_type": "markdown",
      "source": [
        "Problem statement\n",
        "Print the following pattern\n",
        "Pattern for N = 4\n",
        "\n",
        "\n",
        "Hint\n",
        "As taught in the video, you just have to modify the code so that instead of printing numbers, it should output stars ('*').\n",
        "\n",
        "The dots represent spaces.\n",
        "\n",
        "\n",
        "\n",
        "Detailed explanation ( Input/output format, Notes, Images )\n",
        "Constraints :\n",
        "0 <= N <= 50\n",
        "\n",
        "Sample Input 1 :\n",
        "3\n",
        "\n",
        "Sample Output 1 :\n",
        "  *\n",
        "  ***\n",
        " *****\n",
        "\n",
        "Sample Input 2 :\n",
        "4\n",
        "\n",
        "Sample Output 2 :\n",
        "   *\n",
        "   ***\n",
        "  *****\n",
        " *******\n"
      ],
      "metadata": {
        "id": "dIr7RkiY54NX"
      }
    },
    {
      "cell_type": "code",
      "source": [
        "n= int(input())\n",
        "for i in range(1, n+1):\n",
        "  space= \" \"*(n-i)\n",
        "  stars= \"*\"*(2*i-1)\n",
        "  print(space+stars)"
      ],
      "metadata": {
        "colab": {
          "base_uri": "https://localhost:8080/"
        },
        "id": "nmpkDJO451z1",
        "outputId": "eeb821f7-c58a-467c-8698-03b7052170b5"
      },
      "execution_count": 10,
      "outputs": [
        {
          "output_type": "stream",
          "name": "stdout",
          "text": [
            "5\n",
            "    *\n",
            "   ***\n",
            "  *****\n",
            " *******\n",
            "*********\n"
          ]
        }
      ]
    },
    {
      "cell_type": "markdown",
      "source": [
        "Problem statement\n",
        "Print the following pattern for the given number of rows.\n",
        "Pattern for N = 4\n",
        "\n",
        "\n",
        "The dots represent spaces.\n",
        "\n",
        "\n",
        "\n",
        "Detailed explanation ( Input/output format, Notes, Images )\n",
        "Constraints :\n",
        "0 <= N <= 50\n",
        "\n",
        "Sample Input 1:\n",
        "5\n",
        "\n",
        "Sample Output 1:\n",
        "          1\n",
        "          232\n",
        "         34543\n",
        "        4567654\n",
        "       567898765\n",
        "\n",
        "Sample Input 2:\n",
        "4\n",
        "\n",
        "Sample Output 2:\n",
        "          1\n",
        "          232\n",
        "         34543\n",
        "        4567654\n"
      ],
      "metadata": {
        "id": "fSTXkVii7wxY"
      }
    },
    {
      "cell_type": "code",
      "source": [
        "n= int(input())\n",
        "for i in range(1, n+1):\n",
        "  space= \" \"*(n-i)\n",
        "  asc_nu= \"\".join(str(j)for j in range(i, 2*i))\n",
        "  desc_nu= \"\".join(str(j)for j in range(2*i-2, i-1, -1))\n",
        "  print(space+asc_nu+desc_nu)"
      ],
      "metadata": {
        "colab": {
          "base_uri": "https://localhost:8080/"
        },
        "id": "2EILn6Vp_kF6",
        "outputId": "a770d759-d4f1-45fc-8f7f-59dc047e52d7"
      },
      "execution_count": 11,
      "outputs": [
        {
          "output_type": "stream",
          "name": "stdout",
          "text": [
            "5\n",
            "    1\n",
            "   232\n",
            "  34543\n",
            " 4567654\n",
            "567898765\n"
          ]
        }
      ]
    },
    {
      "cell_type": "markdown",
      "source": [
        "Print the following pattern for the given number of rows.\n",
        "Note: N is always odd.\n",
        "Pattern for N = 5\n",
        "\n",
        "\n",
        "The dots represent spaces.\n",
        "\n",
        "\n",
        "\n",
        "Detailed explanation ( Input/output format, Notes, Images )\n",
        "Constraints :\n",
        "1 <= N <= 49\n",
        "\n",
        "Sample Input 1:\n",
        "5\n",
        "\n",
        "Sample Output 1:\n",
        " *\n",
        " ***\n",
        "*****\n",
        " ***\n",
        "  *\n",
        "\n",
        "Sample Input 2:\n",
        "3\n",
        "\n",
        "Sample Output 2:\n",
        " *\n",
        " ***\n",
        "  *\n"
      ],
      "metadata": {
        "id": "0KTFZs80AsFX"
      }
    },
    {
      "cell_type": "code",
      "source": [
        "n= int(input())\n",
        "for i in range(1, n+1):\n",
        "  upper_half= ' '*(2*i-1)+ \"*\"*(i, n+1)"
      ],
      "metadata": {
        "id": "ZXMMoCMHAv3D"
      },
      "execution_count": null,
      "outputs": []
    },
    {
      "cell_type": "code",
      "source": [
        "n= int(input())\n",
        "def diamond_of_stars(n):\n",
        " mid= (n//2)+1\n",
        " for i in range(1,n+1):\n",
        "   space= mid -i\n",
        "   stars= \"*\"*(2*i-1)\n",
        "   print(space+stars)\n",
        " for i in range(n-1, 0, -1):\n",
        "   space= mid -i\n",
        "   stars= \"*\"*(2*i-1)\n",
        "   print(space+stars)\n",
        "diamond_of_stars(n)"
      ],
      "metadata": {
        "colab": {
          "base_uri": "https://localhost:8080/",
          "height": 315
        },
        "id": "FscG_wXjD7kB",
        "outputId": "8ac0a080-0304-4584-9a6a-68a43a32e1df"
      },
      "execution_count": 13,
      "outputs": [
        {
          "name": "stdout",
          "output_type": "stream",
          "text": [
            "3\n"
          ]
        },
        {
          "output_type": "error",
          "ename": "TypeError",
          "evalue": "unsupported operand type(s) for +: 'int' and 'str'",
          "traceback": [
            "\u001b[0;31m---------------------------------------------------------------------------\u001b[0m",
            "\u001b[0;31mTypeError\u001b[0m                                 Traceback (most recent call last)",
            "\u001b[0;32m/tmp/ipython-input-3672645789.py\u001b[0m in \u001b[0;36m<cell line: 0>\u001b[0;34m()\u001b[0m\n\u001b[1;32m     10\u001b[0m    \u001b[0mstars\u001b[0m\u001b[0;34m=\u001b[0m \u001b[0;34m\"*\"\u001b[0m\u001b[0;34m*\u001b[0m\u001b[0;34m(\u001b[0m\u001b[0;36m2\u001b[0m\u001b[0;34m*\u001b[0m\u001b[0mi\u001b[0m\u001b[0;34m-\u001b[0m\u001b[0;36m1\u001b[0m\u001b[0;34m)\u001b[0m\u001b[0;34m\u001b[0m\u001b[0;34m\u001b[0m\u001b[0m\n\u001b[1;32m     11\u001b[0m    \u001b[0mprint\u001b[0m\u001b[0;34m(\u001b[0m\u001b[0mspace\u001b[0m\u001b[0;34m+\u001b[0m\u001b[0mstars\u001b[0m\u001b[0;34m)\u001b[0m\u001b[0;34m\u001b[0m\u001b[0;34m\u001b[0m\u001b[0m\n\u001b[0;32m---> 12\u001b[0;31m \u001b[0mdiamond_of_stars\u001b[0m\u001b[0;34m(\u001b[0m\u001b[0mn\u001b[0m\u001b[0;34m)\u001b[0m\u001b[0;34m\u001b[0m\u001b[0;34m\u001b[0m\u001b[0m\n\u001b[0m",
            "\u001b[0;32m/tmp/ipython-input-3672645789.py\u001b[0m in \u001b[0;36mdiamond_of_stars\u001b[0;34m(n)\u001b[0m\n\u001b[1;32m      5\u001b[0m    \u001b[0mspace\u001b[0m\u001b[0;34m=\u001b[0m \u001b[0mmid\u001b[0m \u001b[0;34m-\u001b[0m\u001b[0mi\u001b[0m\u001b[0;34m\u001b[0m\u001b[0;34m\u001b[0m\u001b[0m\n\u001b[1;32m      6\u001b[0m    \u001b[0mstars\u001b[0m\u001b[0;34m=\u001b[0m \u001b[0;34m\"*\"\u001b[0m\u001b[0;34m*\u001b[0m\u001b[0;34m(\u001b[0m\u001b[0;36m2\u001b[0m\u001b[0;34m*\u001b[0m\u001b[0mi\u001b[0m\u001b[0;34m-\u001b[0m\u001b[0;36m1\u001b[0m\u001b[0;34m)\u001b[0m\u001b[0;34m\u001b[0m\u001b[0;34m\u001b[0m\u001b[0m\n\u001b[0;32m----> 7\u001b[0;31m    \u001b[0mprint\u001b[0m\u001b[0;34m(\u001b[0m\u001b[0mspace\u001b[0m\u001b[0;34m+\u001b[0m\u001b[0mstars\u001b[0m\u001b[0;34m)\u001b[0m\u001b[0;34m\u001b[0m\u001b[0;34m\u001b[0m\u001b[0m\n\u001b[0m\u001b[1;32m      8\u001b[0m  \u001b[0;32mfor\u001b[0m \u001b[0mi\u001b[0m \u001b[0;32min\u001b[0m \u001b[0mrange\u001b[0m\u001b[0;34m(\u001b[0m\u001b[0mn\u001b[0m\u001b[0;34m-\u001b[0m\u001b[0;36m1\u001b[0m\u001b[0;34m,\u001b[0m \u001b[0;36m0\u001b[0m\u001b[0;34m,\u001b[0m \u001b[0;34m-\u001b[0m\u001b[0;36m1\u001b[0m\u001b[0;34m)\u001b[0m\u001b[0;34m:\u001b[0m\u001b[0;34m\u001b[0m\u001b[0;34m\u001b[0m\u001b[0m\n\u001b[1;32m      9\u001b[0m    \u001b[0mspace\u001b[0m\u001b[0;34m=\u001b[0m \u001b[0mmid\u001b[0m \u001b[0;34m-\u001b[0m\u001b[0mi\u001b[0m\u001b[0;34m\u001b[0m\u001b[0;34m\u001b[0m\u001b[0m\n",
            "\u001b[0;31mTypeError\u001b[0m: unsupported operand type(s) for +: 'int' and 'str'"
          ]
        }
      ]
    },
    {
      "cell_type": "markdown",
      "source": [
        "Aha 🔥 great catch — let’s unpack this.\n",
        "\n",
        "---\n",
        "\n",
        "### 🔹 Your Code\n",
        "\n",
        "```python\n",
        "space = mid - i\n",
        "stars = \"*\" * (2*i - 1)\n",
        "print(space + stars)\n",
        "```\n",
        "\n",
        "---\n",
        "\n",
        "### 🔑 Problem here\n",
        "\n",
        "* `space` is currently an **integer** (like 2, 3, …).\n",
        "* `stars` is a **string** (like `\"***\"`).\n",
        "* In Python, you **cannot add int + str** → it throws a `TypeError`.\n",
        "\n",
        "That’s why it doesn’t work unless you “convert” the spaces into a string.\n",
        "\n",
        "---\n",
        "\n",
        "### 🔹 Correct Way\n",
        "\n",
        "Instead of keeping `space` as an integer, you should **build a string of spaces**:\n",
        "\n",
        "```python\n",
        "space = \" \" * (mid - i)   # string of spaces\n",
        "stars = \"*\" * (2*i - 1)   # string of stars\n",
        "print(space + stars)      # string + string works\n",
        "```\n",
        "\n",
        "---\n",
        "\n",
        "### 🔹 Why do we need this?\n",
        "\n",
        "* `\" \" * k` → repeats a space `k` times, giving `\"   \"` (k spaces).\n",
        "* If you just use `k` (an integer), Python doesn’t know how to “add” that to a string.\n",
        "\n",
        "Example:\n",
        "\n",
        "```python\n",
        "print(3 + \"***\")   # ❌ Error (int + str not allowed)\n",
        "print(\" \" * 3 + \"***\")  # ✅ \"   ***\"\n",
        "```\n",
        "\n"
      ],
      "metadata": {
        "id": "LIllbNuyF8_k"
      }
    },
    {
      "cell_type": "code",
      "source": [
        "n= int(input())\n",
        "def diamond_of_stars(n):\n",
        " mid= (n//2)+1\n",
        " for i in range(1,n+1):\n",
        "   space= \" \"*(mid -i)\n",
        "   stars= \"*\"*(2*i-1)\n",
        "   print(space+stars)\n",
        " for i in range(n-1, 0, -1):\n",
        "   space= \" \"*(mid -i)\n",
        "   stars= \"*\"*(2*i-1)\n",
        "   print(space+stars)\n",
        "diamond_of_stars(n)"
      ],
      "metadata": {
        "colab": {
          "base_uri": "https://localhost:8080/"
        },
        "id": "_E5cHy19E8sW",
        "outputId": "0e300c67-f990-41b8-e63a-61e585e68020"
      },
      "execution_count": 14,
      "outputs": [
        {
          "output_type": "stream",
          "name": "stdout",
          "text": [
            "4\n",
            "  *\n",
            " ***\n",
            "*****\n",
            "*******\n",
            "*****\n",
            " ***\n",
            "  *\n"
          ]
        }
      ]
    },
    {
      "cell_type": "markdown",
      "source": [
        "number pattern"
      ],
      "metadata": {
        "id": "4hoptugQH_9H"
      }
    },
    {
      "cell_type": "markdown",
      "source": [
        "Problem statement\n",
        "Print the following pattern for n number of rows.\n",
        "Note: each line consist of equal number of characters + spaces. Suppose you are printing xth line for N=n. You need to print 1..x followed by (n-x) spaces, again (n-x) spaces followed by x..1\n",
        "For eg. N = 5\n",
        "Sample Input 1 :\n",
        "4\n",
        "\n",
        "Sample Output 1 :\n",
        "\n",
        "\n"
      ],
      "metadata": {
        "id": "Uo7mp3qKH5_K"
      }
    },
    {
      "cell_type": "code",
      "source": [
        "n= int(input())\n",
        "def num_patt(n):\n",
        " for i in range(1, n+1):\n",
        "  p1= \"\".join(str(j)for j in range(1, i+1))\n",
        "  space= \" \"*(n-i)\n",
        "  p2=\"\".join(str(j)for j in range(i, 0, -1))\n",
        "  print(p1+space+p2)\n",
        "num_patt(n)"
      ],
      "metadata": {
        "colab": {
          "base_uri": "https://localhost:8080/"
        },
        "id": "rzA_k3O_IB_s",
        "outputId": "391cc4f7-45b3-4f47-b6f4-05d48789ea2d"
      },
      "execution_count": 16,
      "outputs": [
        {
          "output_type": "stream",
          "name": "stdout",
          "text": [
            "4\n",
            "1   1\n",
            "12  21\n",
            "123 321\n",
            "12344321\n"
          ]
        }
      ]
    },
    {
      "cell_type": "markdown",
      "source": [
        "Problem statement\n",
        "Print the following pattern for the given number of rows.\n",
        "Pattern for N = 4\n",
        "  1\n",
        "  212\n",
        " 32123\n",
        "4321234\n",
        "\n",
        "Input format : N (Total no. of rows)\n",
        "Output format : Pattern in N lines\n",
        "Sample Input :\n",
        "5\n",
        "\n",
        "Sample Output :\n",
        "   1\n",
        "   212\n",
        "  32123\n",
        " 4321234\n",
        "543212345\n"
      ],
      "metadata": {
        "id": "NcFPmD98LvwV"
      }
    },
    {
      "cell_type": "code",
      "source": [
        "n=int(input())\n",
        "for i in range(1, n+1):\n",
        " space= \" \"*(n-i)\n",
        " desc= \"\".join(str(j)for j in range(i, 0, -1))\n",
        " asc= \"\".join(str(j)for j in range(2, i+1))\n",
        " print(space+desc+asc)"
      ],
      "metadata": {
        "colab": {
          "base_uri": "https://localhost:8080/"
        },
        "id": "m02bSsY0LvSI",
        "outputId": "2a1a98c8-9f69-407b-87c4-9b95a4df3802"
      },
      "execution_count": 18,
      "outputs": [
        {
          "output_type": "stream",
          "name": "stdout",
          "text": [
            "4\n",
            "   1\n",
            "  212\n",
            " 32123\n",
            "4321234\n"
          ]
        }
      ]
    },
    {
      "cell_type": "markdown",
      "source": [
        "Problem statement\n",
        "Print the following pattern for the given number of rows.\n",
        "Assume N is always odd.\n",
        "Note : There is space after every star. Pattern for N = 7\n",
        "*\n",
        " * *\n",
        "   * * *\n",
        "     * * * *\n",
        "   * * *\n",
        " * *\n",
        "*\n",
        "\n",
        "Detailed explanation ( Input/output format, Notes, Images )\n",
        "Sample Input :\n",
        "11\n",
        "\n",
        "Sample Output :\n",
        "*\n",
        " * *\n",
        "   * * *\n",
        "     * * * *\n",
        "       * * * * *\n",
        "         * * * * * *\n",
        "       * * * * *\n",
        "     * * * *\n",
        "   * * *\n",
        " * *\n",
        "*\n",
        "\n"
      ],
      "metadata": {
        "id": "KWqN-1O5Nh5i"
      }
    },
    {
      "cell_type": "code",
      "source": [
        "n=int(input())\n",
        "m= n//2+1\n",
        "for i in range(1, m+1):\n",
        " space=\" \"*(i-1)\n",
        " st1= \"*\"*(i)\n",
        " print(space+st1)\n",
        "for i in range(m-1, 0, -1):\n",
        " space=\" \"*(i-1)\n",
        " st2= \"*\"*(i)\n",
        "print(space+st2)"
      ],
      "metadata": {
        "colab": {
          "base_uri": "https://localhost:8080/"
        },
        "id": "TC3oVh2rNjLQ",
        "outputId": "4dfab802-d825-4735-91db-ac0c9e0860ac"
      },
      "execution_count": 20,
      "outputs": [
        {
          "output_type": "stream",
          "name": "stdout",
          "text": [
            "4\n",
            "*\n",
            " **\n",
            "  ***\n",
            "*\n"
          ]
        }
      ]
    },
    {
      "cell_type": "code",
      "source": [
        "N=int(input())\n",
        "def diamond_pattern(N):\n",
        "    mid = N // 2 + 1\n",
        "\n",
        "    # Top half including middle\n",
        "    for i in range(1, mid + 1):\n",
        "        spaces = \" \" * (i - 1)\n",
        "        stars = \"* \" * i\n",
        "        print(spaces + stars)\n",
        "\n",
        "    # Bottom half\n",
        "    for i in range(mid - 1, 0, -1):\n",
        "        spaces = \" \" * (i - 1)\n",
        "        stars = \"* \" * i\n",
        "        print(spaces + stars)\n",
        "\n",
        "diamond_pattern(N)\n"
      ],
      "metadata": {
        "colab": {
          "base_uri": "https://localhost:8080/"
        },
        "id": "mEmQ4C_TPKV8",
        "outputId": "c6096774-88d4-47e4-c624-ee05354ff7fd"
      },
      "execution_count": 24,
      "outputs": [
        {
          "output_type": "stream",
          "name": "stdout",
          "text": [
            "4\n",
            "* \n",
            " * * \n",
            "  * * * \n",
            " * * \n",
            "* \n"
          ]
        }
      ]
    },
    {
      "cell_type": "markdown",
      "source": [
        "Problem statement\n",
        "Print the following pattern\n",
        "Pattern for N = 4\n",
        "*000*000*\n",
        "0*00*00*0\n",
        "00*0*0*00\n",
        "000***000\n",
        "\n",
        "Detailed explanation ( Input/output format, Notes, Images )\n",
        "Sample Input 1 :\n",
        "3\n",
        "\n",
        "Sample Output 1 :\n",
        "*00*00*\n",
        "0*0*0*0\n",
        "00***00\n",
        "\n",
        "Sample Input 2 :\n",
        "5\n",
        "\n",
        "Sample Output 2 :\n",
        "*0000*0000*\n",
        "0*000*000*0\n",
        "00*00*00*00\n",
        "000*0*0*000\n",
        "0000***0000\n"
      ],
      "metadata": {
        "id": "VbBeSuCHRMaq"
      }
    },
    {
      "cell_type": "code",
      "source": [
        "n=int(input())\n",
        "width= 2*n+1\n",
        "for i in range(1, n+1):\n",
        " row=[] # Initialize row as an empty list\n",
        " for j in range(width):\n",
        "  if j==i or j==n or j==(2*n-i):\n",
        "    row.append('*')\n",
        "  else:\n",
        "    row.append('0')\n",
        " print(\"\".join(row)) # Print the row after building it"
      ],
      "metadata": {
        "colab": {
          "base_uri": "https://localhost:8080/"
        },
        "id": "p08mvH0HRN8Y",
        "outputId": "6dd3ca45-eebb-4427-f0fc-e1e0b60750ca"
      },
      "execution_count": 27,
      "outputs": [
        {
          "output_type": "stream",
          "name": "stdout",
          "text": [
            "3\n",
            "0*0*0*0\n",
            "00***00\n",
            "000*000\n"
          ]
        }
      ]
    },
    {
      "cell_type": "code",
      "source": [
        "n = int(input().strip())\n",
        "width = 2 * n + 1\n",
        "\n",
        "for i in range(n):            # i = 0 .. n-1\n",
        "    row = []\n",
        "    for j in range(width):    # j = 0 .. 2n\n",
        "        if j == i or j == n or j == 2*n - i:\n",
        "            row.append('*')\n",
        "        else:\n",
        "            row.append('0')\n",
        "    print(''.join(row))\n"
      ],
      "metadata": {
        "colab": {
          "base_uri": "https://localhost:8080/"
        },
        "id": "oyZeuuFsS7M0",
        "outputId": "b8a90461-a51e-41f7-dc78-8ce8469041cf"
      },
      "execution_count": 28,
      "outputs": [
        {
          "output_type": "stream",
          "name": "stdout",
          "text": [
            "3\n",
            "*00*00*\n",
            "0*0*0*0\n",
            "00***00\n"
          ]
        }
      ]
    },
    {
      "cell_type": "markdown",
      "source": [
        "differece between the above two code- **difference between range(1, n+1) and range(n)**\n",
        "\n",
        "\n"
      ],
      "metadata": {
        "id": "ocCqGoONS_l-"
      }
    },
    {
      "cell_type": "markdown",
      "source": [
        "Ahh good that you asked this specifically for **the above star/zero pattern question** 👍\n",
        "\n",
        "Let’s carefully connect it:\n",
        "\n",
        "---\n",
        "\n",
        "### 🔹 Problem recap (for `n = 3`):\n",
        "\n",
        "```\n",
        "*00*00*\n",
        "0*0*0*0\n",
        "00***00\n",
        "```\n",
        "\n",
        "---\n",
        "\n",
        "### Code structure you saw:\n",
        "\n",
        "```python\n",
        "for i in range(1, n+1):   # (1 … n)\n",
        "    for j in range(1, n+1):\n",
        "        ...\n",
        "```\n",
        "\n",
        "Here, `i` is the **row number** (1-based), and `j` is the **column number** (also 1-based).\n",
        "We decide where to put `\"*\"` depending on positions like `(i, j)`.\n",
        "\n",
        "---\n",
        "\n",
        "### If we use `range(1, n+1)`:\n",
        "\n",
        "* Rows go from **1 to n** (matches the way problem statement is written: row 1, row 2, etc).\n",
        "* Columns go from **1 to n+1** or similar (depending on logic).\n",
        "* Conditions like\n",
        "\n",
        "  ```python\n",
        "  if j == i or j == n-i+1 or ...\n",
        "  ```\n",
        "\n",
        "  work naturally, because they are **1-based math conditions**.\n",
        "\n",
        "---\n",
        "\n",
        "### If we use `range(n)`:\n",
        "\n",
        "* Rows go from **0 to n-1**.\n",
        "* Columns go from **0 to n-1**.\n",
        "* Then, the same conditions **won’t match** the intended positions, because the formula is off by one.\n",
        "  Example:\n",
        "\n",
        "  * In row 1 (1-based), the first `*` should appear when `j == 1`.\n",
        "  * But if you’re looping with 0-based, that condition becomes `j == 0`.\n",
        "\n",
        "So you would need to **shift your conditions**:\n",
        "\n",
        "```python\n",
        "if j == i or j == n-i+1   # (for 1-based)\n",
        "```\n",
        "\n",
        "becomes\n",
        "\n",
        "```python\n",
        "if j == i or j == n-1-i   # (for 0-based)\n",
        "```\n",
        "\n",
        "---\n",
        "\n",
        "### ✅ Conclusion:\n",
        "\n",
        "Both `range(1, n+1)` and `range(n)` can work.\n",
        "\n",
        "* If you pick `range(1, n+1)` → the math is **natural, matches the question**.\n",
        "* If you pick `range(n)` → you must **adjust all conditions** to be 0-based.\n",
        "\n",
        "---\n",
        "\n",
        "Do you want me to **show both versions of the code (1-based and 0-based)** for your star/zero pattern so you can see the difference side by side?\n"
      ],
      "metadata": {
        "id": "WLNwEVnXTtWH"
      }
    },
    {
      "cell_type": "markdown",
      "source": [
        "We used:\n",
        "\n",
        "python\n",
        "Copy\n",
        "Edit\n",
        "n = int(input().strip())\n",
        "The reason is .strip() removes leading and trailing whitespace or newline characters from the input string.\n",
        "\n",
        "Why it’s used here?\n",
        "When you enter input in coding platforms (like HackerRank, Coding Ninjas, LeetCode, etc.), sometimes the input may contain:\n",
        "\n",
        "Extra spaces\n",
        "\n",
        "A trailing newline (\"\\n\")\n",
        "\n",
        "If you directly write int(input()), it usually still works, because int() ignores spaces around numbers (\" 5 \" → 5).\n",
        "\n",
        "But strip() makes it safer and prevents issues if input has extra unwanted spaces.\n",
        "\n"
      ],
      "metadata": {
        "id": "qQFQ8BMUsQHE"
      }
    },
    {
      "cell_type": "markdown",
      "source": [
        "# Ques\n",
        "Problem statement\n",
        "Print the following pattern for a given n.\n",
        "For eg. N = 6\n",
        "123456\n",
        "  23456\n",
        "    3456\n",
        "      456\n",
        "        56\n",
        "          6\n",
        "        56\n",
        "      456\n",
        "    3456\n",
        "  23456\n",
        "123456\n",
        "\n",
        "Sample Input 1 :\n",
        "4\n",
        "\n",
        "Sample Output 1 :\n",
        "1234\n",
        "  234\n",
        "    34\n",
        "      4\n",
        "    34\n",
        "  234\n",
        "1234\n",
        "\n"
      ],
      "metadata": {
        "id": "ah-PYptiufRm"
      }
    },
    {
      "cell_type": "code",
      "source": [
        "n= int(input())\n",
        "for i in range(1, n+1):\n",
        " spaces= \" \"*(i-1)\n",
        " up= \"\".join(str(j) for j in range(i, n+1))\n",
        " print(spaces+up)\n",
        "for i in range(n-1, 0, -1):\n",
        "  spaces= \" \"*(i-1)\n",
        "  dp= \"\".join(str(j) for j in range(i, n+1))\n",
        "  print(spaces+dp)\n",
        "print()"
      ],
      "metadata": {
        "colab": {
          "base_uri": "https://localhost:8080/"
        },
        "id": "dlO4v-CgsFEk",
        "outputId": "afd49fe7-131a-4db9-e564-472201717414"
      },
      "execution_count": 2,
      "outputs": [
        {
          "output_type": "stream",
          "name": "stdout",
          "text": [
            "4\n",
            "1234\n",
            " 234\n",
            "  34\n",
            "   4\n",
            "  34\n",
            " 234\n",
            "1234\n",
            "\n"
          ]
        }
      ]
    },
    {
      "cell_type": "markdown",
      "source": [
        "# Diamond shaped numbers"
      ],
      "metadata": {
        "id": "5FQtfpKlxApg"
      }
    },
    {
      "cell_type": "code",
      "source": [
        "n = int(input())\n",
        "\n",
        "# First half\n",
        "for i in range(1, n+1):\n",
        "    space = \" \" * (i-1) * 2   # each space actually counts as 2 so numbers stay aligned\n",
        "    num = \"\".join(str(j) for j in range(i, n+1))\n",
        "    print(space + num)\n",
        "\n",
        "# Second half\n",
        "for i in range(n-1, 0, -1):\n",
        "    space = \" \" * (i-1) * 2\n",
        "    num = \"\".join(str(j) for j in range(i, n+1))\n",
        "    print(space + num)\n"
      ],
      "metadata": {
        "colab": {
          "base_uri": "https://localhost:8080/"
        },
        "id": "f61X6jlbxFgp",
        "outputId": "e6604de9-8732-4341-cd48-00bb211e2257"
      },
      "execution_count": 3,
      "outputs": [
        {
          "output_type": "stream",
          "name": "stdout",
          "text": [
            "4\n",
            "1234\n",
            "  234\n",
            "    34\n",
            "      4\n",
            "    34\n",
            "  234\n",
            "1234\n"
          ]
        }
      ]
    },
    {
      "cell_type": "code",
      "source": [
        "n = int(input())\n",
        "\n",
        "# First half\n",
        "for i in range(1, n+1):\n",
        "    space = \" \" * i   # each space actually counts as 2 so numbers stay aligned\n",
        "    num = \"\".join(str(j) for j in range(i, n+1))\n",
        "    print(space + num)\n",
        "\n",
        "# Second half\n",
        "for i in range(n-1, 0, -1):\n",
        "    space = \" \" * i\n",
        "    num = \"\".join(str(j) for j in range(i, n+1))\n",
        "    print(space + num)\n"
      ],
      "metadata": {
        "colab": {
          "base_uri": "https://localhost:8080/"
        },
        "id": "uqPjSlKBxIUV",
        "outputId": "51384939-0baf-4d33-bb69-3b245b11ab26"
      },
      "execution_count": 4,
      "outputs": [
        {
          "output_type": "stream",
          "name": "stdout",
          "text": [
            "4\n",
            " 1234\n",
            "  234\n",
            "   34\n",
            "    4\n",
            "   34\n",
            "  234\n",
            " 1234\n"
          ]
        }
      ]
    },
    {
      "cell_type": "markdown",
      "source": [
        "Problem statement\n",
        "Print the following pattern for the given number of rows.\n",
        "Note: N is always odd.\n",
        "Pattern for N = 5\n",
        "\n",
        "\n",
        "The dots represent spaces.\n",
        "\n",
        "\n",
        "\n",
        "Detailed explanation ( Input/output format, Notes, Images )\n",
        "Constraints :\n",
        "1 <= N <= 49\n",
        "\n",
        "Sample Input 1:\n",
        "5\n",
        "\n",
        "Sample Output 1:\n",
        " *\n",
        " ***\n",
        "*****\n",
        " ***\n",
        "  *\n",
        "\n",
        "Sample Input 2:\n",
        "3\n",
        "\n",
        "Sample Output 2:\n",
        " *\n",
        " ***\n",
        "  *\n"
      ],
      "metadata": {
        "id": "uLA6saPbIsLk"
      }
    },
    {
      "cell_type": "markdown",
      "source": [
        "Diamond of stars"
      ],
      "metadata": {
        "id": "z-_w_OalIyCF"
      }
    },
    {
      "cell_type": "markdown",
      "source": [
        "For this problem n is always odd"
      ],
      "metadata": {
        "id": "w00uYTY1QVbf"
      }
    },
    {
      "cell_type": "code",
      "source": [
        "n= int(input())\n",
        "mid= n//2\n",
        "for i in range(1, n+1):\n",
        "  space= \" \"*(mid-i)\n",
        "  stars= \"*\"*(2*i-1)\n",
        "  print(space+stars)\n",
        "for i in range(n-1, 0, -1):\n",
        "  space= \" \"*(mid-i)\n",
        "  stars= \"*\"*(2*i-1)\n",
        "  print(space+stars)\n",
        "print()"
      ],
      "metadata": {
        "colab": {
          "base_uri": "https://localhost:8080/"
        },
        "id": "Lks_USowO66N",
        "outputId": "e236db84-824c-4180-e85c-1452ff5802bb"
      },
      "execution_count": 8,
      "outputs": [
        {
          "output_type": "stream",
          "name": "stdout",
          "text": [
            "5\n",
            " *\n",
            "***\n",
            "*****\n",
            "*******\n",
            "*********\n",
            "*******\n",
            "*****\n",
            "***\n",
            " *\n",
            "\n"
          ]
        }
      ]
    },
    {
      "cell_type": "code",
      "source": [
        "n = int(input())\n",
        "\n",
        "def diamond_of_stars(n):\n",
        "    mid = n // 2   # middle row index (0-based)\n",
        "\n",
        "    for i in range(n):\n",
        "        if i <= mid:\n",
        "            # First half (increasing stars)\n",
        "            spaces = \" \" * (mid - i)\n",
        "            stars = \"*\" * (2*i + 1)\n",
        "        else:\n",
        "            # Second half (decreasing stars)\n",
        "            spaces = \" \" * (i - mid)\n",
        "            stars = \"*\" * (2*(n-i-1) + 1)\n",
        "        print(spaces + stars)\n",
        "\n",
        "diamond_of_stars(n)\n"
      ],
      "metadata": {
        "colab": {
          "base_uri": "https://localhost:8080/"
        },
        "id": "X7AHF8fUQM4_",
        "outputId": "76a421da-ce7e-4d47-dca3-f6d5c7f0eb13"
      },
      "execution_count": 7,
      "outputs": [
        {
          "output_type": "stream",
          "name": "stdout",
          "text": [
            "5\n",
            "  *\n",
            " ***\n",
            "*****\n",
            " ***\n",
            "  *\n"
          ]
        }
      ]
    },
    {
      "cell_type": "markdown",
      "source": [
        "Note the difference between my solution and chatgpt's"
      ],
      "metadata": {
        "id": "Mo7vMJ8mQcqX"
      }
    },
    {
      "cell_type": "markdown",
      "source": [
        "Problem statement\n",
        "Print the following pattern for the given number of rows.\n",
        "Pattern for N = 4\n",
        "4444444\n",
        "4333334\n",
        "4322234\n",
        "4321234\n",
        "4322234\n",
        "4333334  \n",
        "4444444\n",
        "\n",
        "Input format : N (Total no. of rows)\n",
        "Output format : Pattern in N lines\n",
        "Sample Input :\n",
        "3\n",
        "\n",
        "Sample Output :\n",
        "33333\n",
        "32223\n",
        "32123\n",
        "32223\n",
        "33333\n"
      ],
      "metadata": {
        "id": "2BLhB47WWqKo"
      }
    },
    {
      "cell_type": "code",
      "source": [
        "n = int(input())\n",
        "\n",
        "size = 2*n - 1   # total rows & columns in the square\n",
        "for i in range(size):\n",
        "    for j in range(size):\n",
        "        # find minimum distance to any border (top, left, bottom, right)\n",
        "        min_dist = min(i, j, size-1-i, size-1-j)\n",
        "\n",
        "        # number decreases as you go inward\n",
        "        print(n - min_dist, end=\"\")\n",
        "    print()\n"
      ],
      "metadata": {
        "colab": {
          "base_uri": "https://localhost:8080/"
        },
        "id": "ii3JD-uKWvHO",
        "outputId": "28287800-e30e-4ac6-f0a5-511fbfd0ff01"
      },
      "execution_count": 9,
      "outputs": [
        {
          "output_type": "stream",
          "name": "stdout",
          "text": [
            "3\n",
            "33333\n",
            "32223\n",
            "32123\n",
            "32223\n",
            "33333\n"
          ]
        }
      ]
    },
    {
      "cell_type": "markdown",
      "source": [
        "how did this work? didnt understand how the pattern worked"
      ],
      "metadata": {
        "id": "Tur_elzsXIdI"
      }
    },
    {
      "cell_type": "markdown",
      "source": [
        "Problem statement\n",
        "Print the following pattern for the given number of rows.\n",
        "Pattern for N = 5\n",
        "1    2   3    4   5\n",
        " 11   12  13   14  15\n",
        " 21   22  23   24  25\n",
        " 16   17  18   19  20\n",
        " 6    7    8   9   10\n",
        "\n",
        "Input format : N (Total no. of rows)\n",
        "Output format : Pattern in N lines\n",
        "Sample Input :\n",
        "4\n",
        "\n",
        "Sample Output :\n",
        "1  2  3  4\n",
        " 9 10 11 12\n",
        "13 14 15 16\n",
        " 5  6  7  8\n",
        "\n"
      ],
      "metadata": {
        "id": "nDGhzb_-XOrK"
      }
    },
    {
      "cell_type": "code",
      "source": [
        "n=int(input())\n",
        "matrix= [[0]*n for _ in range(n)]\n",
        "num=1\n",
        "for j in range(n):\n",
        "  for i in range(n):\n",
        "    matrix[i][j]=num\n",
        "    num+=1\n",
        "\n",
        "for row in matrix:\n",
        " print(\"\".join(str(x) for x in row))"
      ],
      "metadata": {
        "colab": {
          "base_uri": "https://localhost:8080/"
        },
        "id": "Nq2Yym__XWoa",
        "outputId": "b20be8b7-99a7-426b-d6ae-a40dd307f10d"
      },
      "execution_count": 10,
      "outputs": [
        {
          "output_type": "stream",
          "name": "stdout",
          "text": [
            "3\n",
            "147\n",
            "258\n",
            "369\n"
          ]
        }
      ]
    },
    {
      "cell_type": "code",
      "source": [
        "n = int(input())\n",
        "\n",
        "# create an empty matrix\n",
        "matrix = [[0]*n for _ in range(n)]\n",
        "\n",
        "num = 1\n",
        "for j in range(n):           # loop through columns\n",
        "    for i in range(n):       # loop through rows\n",
        "        matrix[i][j] = num   # fill column-wise\n",
        "        num += 1\n",
        "\n",
        "# print the matrix row by row\n",
        "for row in matrix:\n",
        "    print(\" \".join(str(x) for x in row))\n"
      ],
      "metadata": {
        "colab": {
          "base_uri": "https://localhost:8080/"
        },
        "id": "Su3yVwskf9Gu",
        "outputId": "f11c1e7c-08d8-4ac7-ee07-09e12faa55d7"
      },
      "execution_count": 11,
      "outputs": [
        {
          "output_type": "stream",
          "name": "stdout",
          "text": [
            "3\n",
            "1 4 7\n",
            "2 5 8\n",
            "3 6 9\n"
          ]
        }
      ]
    },
    {
      "cell_type": "markdown",
      "source": [
        "Perfect 🙌 let’s simulate **step by step filling** of the matrix so you can clearly see how numbers go in.\n",
        "\n",
        "We’ll take the example **N = 4**.\n",
        "\n",
        "---\n",
        "\n",
        "### 🔹 Step 1: Empty Matrix\n",
        "\n",
        "Initially after\n",
        "\n",
        "```python\n",
        "matrix = [[0]*4 for _ in range(4)]\n",
        "```\n",
        "\n",
        "we have:\n",
        "\n",
        "```\n",
        "0 0 0 0\n",
        "0 0 0 0\n",
        "0 0 0 0\n",
        "0 0 0 0\n",
        "```\n",
        "\n",
        "---\n",
        "\n",
        "### 🔹 Step 2: Filling Numbers (column by column)\n",
        "\n",
        "We use:\n",
        "\n",
        "```python\n",
        "for j in range(n):   # column loop\n",
        "    for i in range(n):   # row loop\n",
        "        matrix[i][j] = num\n",
        "        num += 1\n",
        "```\n",
        "\n",
        "---\n",
        "\n",
        "#### ✅ Column `j = 0`\n",
        "\n",
        "* `i=0` → put `1`\n",
        "* `i=1` → put `2`\n",
        "* `i=2` → put `3`\n",
        "* `i=3` → put `4`\n",
        "\n",
        "Matrix now:\n",
        "\n",
        "```\n",
        "1 0 0 0\n",
        "2 0 0 0\n",
        "3 0 0 0\n",
        "4 0 0 0\n",
        "```\n",
        "\n",
        "---\n",
        "\n",
        "#### ✅ Column `j = 1`\n",
        "\n",
        "* `i=0` → put `5`\n",
        "* `i=1` → put `6`\n",
        "* `i=2` → put `7`\n",
        "* `i=3` → put `8`\n",
        "\n",
        "Matrix now:\n",
        "\n",
        "```\n",
        "1  5 0 0\n",
        "2  6 0 0\n",
        "3  7 0 0\n",
        "4  8 0 0\n",
        "```\n",
        "\n",
        "---\n",
        "\n",
        "#### ✅ Column `j = 2`\n",
        "\n",
        "* `i=0` → put `9`\n",
        "* `i=1` → put `10`\n",
        "* `i=2` → put `11`\n",
        "* `i=3` → put `12`\n",
        "\n",
        "Matrix now:\n",
        "\n",
        "```\n",
        "1  5  9  0\n",
        "2  6 10  0\n",
        "3  7 11  0\n",
        "4  8 12  0\n",
        "```\n",
        "\n",
        "---\n",
        "\n",
        "#### ✅ Column `j = 3`\n",
        "\n",
        "* `i=0` → put `13`\n",
        "* `i=1` → put `14`\n",
        "* `i=2` → put `15`\n",
        "* `i=3` → put `16`\n",
        "\n",
        "Final matrix:\n",
        "\n",
        "```\n",
        "1  5  9 13\n",
        "2  6 10 14\n",
        "3  7 11 15\n",
        "4  8 12 16\n",
        "```\n",
        "\n",
        "---\n",
        "\n",
        "### 🔹 Step 3: Print Row by Row\n",
        "\n",
        "When we print each row:\n",
        "\n",
        "```\n",
        "1  5  9 13\n",
        "2  6 10 14\n",
        "3  7 11 15\n",
        "4  8 12 16\n",
        "```\n",
        "\n",
        "---\n",
        "\n",
        "👉 BUT in the problem statement output for `N=4` is:\n",
        "\n",
        "```\n",
        "1  2  3  4\n",
        "9 10 11 12\n",
        "13 14 15 16\n",
        "5  6  7  8\n",
        "```\n",
        "\n",
        "This means we don’t just **fill straight column-wise**, but we must **rearrange rows** (like a snake pattern).\n",
        "\n",
        "So, after filling column-wise, we actually **rotate rows** so they match the required snake-like format.\n",
        "\n",
        "---\n",
        "\n",
        "⚡ Would you like me to **rewrite the code to directly produce the problem’s expected output** (without needing to rearrange later)?\n"
      ],
      "metadata": {
        "id": "bAiDcVVGgKWT"
      }
    },
    {
      "cell_type": "markdown",
      "source": [
        "Ah! Now I see your exact confusion 😄 — you’re thinking:\n",
        "\n",
        "> “If `i` and `j` are both in `range(n)` → how can the numbers go beyond `n`? Like 5, 6, 7…?”\n",
        "\n",
        "Let’s clarify carefully.\n",
        "\n",
        "---\n",
        "\n",
        "### 1️⃣ What `range(n)` does\n",
        "\n",
        "```python\n",
        "for i in range(n):  # 0,1,2,...,n-1\n",
        "    for j in range(n):\n",
        "```\n",
        "\n",
        "* `i` goes from `0` to `n-1` → **row index**\n",
        "* `j` goes from `0` to `n-1` → **column index**\n",
        "* These are just **indexes**, not the numbers we print.\n",
        "\n",
        "---\n",
        "\n",
        "### 2️⃣ Where the actual numbers come from\n",
        "\n",
        "```python\n",
        "num = 1\n",
        "matrix[i][j] = num\n",
        "num += 1\n",
        "```\n",
        "\n",
        "* `num` **starts at 1**, and **increases by 1 every time we fill a cell**.\n",
        "* It is **independent of `i` and `j`**.\n",
        "\n",
        "Even though `i` and `j` only go from `0` to `n-1`:\n",
        "\n",
        "* There are `n * n` cells in total.\n",
        "* Each time we visit a cell, we assign `num` and then increment `num`.\n",
        "* So numbers naturally go **from 1 up to n\\*n**.\n",
        "\n",
        "✅ That’s why for `n=4` we end up with numbers `1` → `16` even though `i` and `j` are only 0–3.\n",
        "\n",
        "---\n",
        "\n",
        "### 3️⃣ Visualization for n=4\n",
        "\n",
        "| i | j | num assigned |\n",
        "| - | - | ------------ |\n",
        "| 0 | 0 | 1            |\n",
        "| 1 | 0 | 2            |\n",
        "| 2 | 0 | 3            |\n",
        "| 3 | 0 | 4            |\n",
        "| 0 | 1 | 5            |\n",
        "| 1 | 1 | 6            |\n",
        "| … | … | …            |\n",
        "| 3 | 3 | 16           |\n",
        "\n",
        "* `range(n)` just gives **position**.\n",
        "* `num` is the **value we print**.\n",
        "\n",
        "---\n",
        "\n",
        "### ✅ Key takeaway\n",
        "\n",
        "* `i` and `j` → indexes (0 to n-1)\n",
        "* `num` → actual value assigned to the cell\n",
        "* `num` keeps incrementing → can go beyond `n` easily, up to `n*n`\n",
        "\n",
        "---\n",
        "\n",
        "If you want, I can **draw a full 4×4 grid and show how `num` fills each cell step by step**, so it’s crystal clear visually.\n",
        "\n",
        "Do you want me to do that?\n"
      ],
      "metadata": {
        "id": "a1Lz89r1gMbl"
      }
    },
    {
      "cell_type": "markdown",
      "source": [
        "Ah, that’s a common question! Let’s break it down carefully.\n",
        "\n",
        "---\n",
        "\n",
        "### The code:\n",
        "\n",
        "```python\n",
        "matrix = [[0]*n for _ in range(n)]\n",
        "```\n",
        "\n",
        "---\n",
        "\n",
        "### 1️⃣ What this is doing\n",
        "\n",
        "* This is a **list comprehension** to create a 2D list (matrix) of size `n × n`.\n",
        "* `[[0]*n for _ in range(n)]` means:\n",
        "\n",
        "  1. `[0]*n` → creates a list of `n` zeros. Example: if `n=3` → `[0, 0, 0]`.\n",
        "  2. `for _ in range(n)` → repeats this `n` times to create `n` rows.\n",
        "\n",
        "So the final result is a **matrix filled with zeros**:\n",
        "\n",
        "```python\n",
        "[\n",
        " [0, 0, 0],\n",
        " [0, 0, 0],\n",
        " [0, 0, 0]\n",
        "]\n",
        "```\n",
        "\n",
        "---\n",
        "\n",
        "### 2️⃣ Why the underscore `_`?\n",
        "\n",
        "* `_` is a **conventional variable name in Python** when you **don’t actually need the variable**.\n",
        "* In this case, we just need to **repeat something `n` times**, we don’t care about the loop index.\n",
        "* You could also write:\n",
        "\n",
        "```python\n",
        "matrix = [[0]*n for i in range(n)]\n",
        "```\n",
        "\n",
        "* But `i` isn’t used inside the loop, so Python programmers usually write `_` to indicate **“this variable is ignored”**.\n",
        "\n",
        "---\n",
        "\n",
        "### ✅ Summary\n",
        "\n",
        "* `[0]*n` → creates a single row of zeros\n",
        "* `for _ in range(n)` → repeat to make multiple rows\n",
        "* `_` → just a placeholder since we don’t need the loop variable\n",
        "\n",
        "---\n",
        "\n",
        "If you want, I can also **draw a step-by-step picture showing how this builds a 2D matrix**, which usually makes it super clear.\n",
        "\n",
        "Do you want me to do that?\n"
      ],
      "metadata": {
        "id": "VtEWNOyYgRUh"
      }
    },
    {
      "cell_type": "markdown",
      "source": [
        "Problem statement\n",
        "Given three values - Start Fahrenheit Value (S), End Fahrenheit value (E) and Step Size (W), you need to convert all Fahrenheit values from Start to End at the gap of W, into their corresponding Celsius values and print the table.\n",
        "Note: You don't have to write the main function or take input. It has already been taken care of and you need to just print the integer value . Just write the code that prints Fahrenheit to Celsius table in the function itself.\n",
        "Formula is C = (F - 32) * 5/9\n",
        "\n",
        "Detailed explanation ( Input/output format, Notes, Images )\n",
        "Constraints :\n",
        "0 <= S <= 1000\n",
        "0 <= E <= 1000\n",
        "0 <= W <= 1000\n",
        "\n",
        "Sample Input 1:\n",
        "0\n",
        "100\n",
        "20\n",
        "\n",
        "Sample Output 1:\n",
        "0   -17\n",
        "20  -6\n",
        "40  4\n",
        "60  15\n",
        "80  26\n",
        "100 37\n",
        "\n",
        "Sample Input 2:\n",
        "120\n",
        "200\n",
        "40\n",
        "\n",
        "Sample Output 2:\n",
        "120 48\n",
        "160 71\n",
        "200 93\n"
      ],
      "metadata": {
        "id": "7iu3MEKCnwC_"
      }
    },
    {
      "cell_type": "code",
      "source": [
        "for f in range(0, 100, 20):\n",
        "  c= int((f-32)*5/9)\n",
        "  print(f\"{f} {c}\")"
      ],
      "metadata": {
        "colab": {
          "base_uri": "https://localhost:8080/"
        },
        "id": "XDDqNta8gJ6J",
        "outputId": "a30123ae-b73b-4f83-be58-a683310cbad8"
      },
      "execution_count": 15,
      "outputs": [
        {
          "output_type": "stream",
          "name": "stdout",
          "text": [
            "0 -17\n",
            "20 -6\n",
            "40 4\n",
            "60 15\n",
            "80 26\n"
          ]
        }
      ]
    },
    {
      "cell_type": "markdown",
      "source": [
        "Problem statement\n",
        "Create a function that determines whether a given number N belongs to the Fibonacci sequence. If N is found in the Fibonacci sequence, the function should return true; otherwise, it should return false.\n",
        "Detailed explanation ( Input/output format, Notes, Images )\n",
        "Constraints :\n",
        "0 <= n <= 10^4\n",
        "\n",
        "Sample Input 1 :\n",
        "5\n",
        "\n",
        "Sample Output 1 :\n",
        "true\n",
        "\n",
        "Explanation :\n",
        "Fibonacci sequence begins 0, 1, 1, 2, 3, 5, ... and so on. Since 5 appears in the sequence.\n",
        "\n",
        "Sample Input 2 :\n",
        "14\n",
        "\n",
        "Sample Output 2 :\n",
        "false    \n"
      ],
      "metadata": {
        "id": "khqZhNwrrh3s"
      }
    },
    {
      "cell_type": "markdown",
      "source": [
        "Tells us if the n exist in fibonacci series"
      ],
      "metadata": {
        "id": "lNU4SJhY7r-N"
      }
    },
    {
      "cell_type": "code",
      "source": [
        "def is_fibonacci(n): # Added colon\n",
        " if n==0 or n==1: # Added colon\n",
        "  return True\n",
        "\n",
        " a,b= 0,1\n",
        " while b < n: # Corrected While to while and added colon\n",
        "   a,b= b, a+b\n",
        " return n==b # Corrected indentation"
      ],
      "metadata": {
        "id": "_9jLTvPvrizK"
      },
      "execution_count": 18,
      "outputs": []
    },
    {
      "cell_type": "code",
      "source": [
        "n= int(input())\n",
        "is_fibonacci(n)"
      ],
      "metadata": {
        "colab": {
          "base_uri": "https://localhost:8080/"
        },
        "id": "mKA97le17KwG",
        "outputId": "6ff3cc45-463f-4136-abff-386a040af35a"
      },
      "execution_count": 19,
      "outputs": [
        {
          "name": "stdout",
          "output_type": "stream",
          "text": [
            "6\n"
          ]
        },
        {
          "output_type": "execute_result",
          "data": {
            "text/plain": [
              "False"
            ]
          },
          "metadata": {},
          "execution_count": 19
        }
      ]
    },
    {
      "cell_type": "markdown",
      "source": [
        "Problem statement\n",
        "Check whether a given number ’n’ is a palindrome number.\n",
        "Note :\n",
        "Palindrome numbers are the numbers that don't change when reversed.\n",
        "You don’t need to print anything. Just implement the given function.\n",
        "\n",
        "Example:\n",
        "Input: 'n' = 51415\n",
        "Output: true\n",
        "Explanation: On reversing, 51415 gives 51415.\n",
        "\n",
        "Detailed explanation ( Input/output format, Notes, Images )\n",
        "Sample Input 1 :\n",
        "1032\n",
        "\n",
        "Sample Output 1 :\n",
        "false\n",
        "\n",
        "Explanation Of Sample Input 1:\n",
        "1032, on being reversed, gives 2301, which is a totally different number.\n",
        "\n",
        "Sample Input 2 :\n",
        "121\n",
        "\n",
        "Sample Output 2 :\n",
        "true\n",
        "\n",
        "Explanation Of Sample Input 2:\n",
        "121, on being reversed, gives 121, which is the same.\n",
        "\n",
        "Expected time complexity:\n",
        "The expected time complexity is O(log(n)).\n",
        "\n",
        "Constraints :\n",
        "1 <= n <= 10^9\n",
        "Time Limit: 1 sec\n"
      ],
      "metadata": {
        "id": "OR3Xbwap7yCt"
      }
    },
    {
      "cell_type": "code",
      "source": [
        "n= int(input())\n",
        "def check_pal(n):\n",
        " rev= int(str(n)[::-1]) # Convert reversed string directly to int\n",
        " if n == rev:\n",
        "  return True\n",
        " else:\n",
        "  return False\n",
        "\n",
        "check_pal(n)"
      ],
      "metadata": {
        "colab": {
          "base_uri": "https://localhost:8080/"
        },
        "id": "vok7lMME77g_",
        "outputId": "76c99b36-12c6-45a1-b425-40986ef59f09"
      },
      "execution_count": 1,
      "outputs": [
        {
          "name": "stdout",
          "output_type": "stream",
          "text": [
            "757\n"
          ]
        },
        {
          "output_type": "execute_result",
          "data": {
            "text/plain": [
              "True"
            ]
          },
          "metadata": {},
          "execution_count": 1
        }
      ]
    },
    {
      "cell_type": "markdown",
      "source": [
        "Problem statement\n",
        "You are given an integer 'n'. Return 'true' if 'n' is an Armstrong number, and 'false' otherwise.\n",
        "\n",
        "An Armstrong number is a number (with 'k' digits) such that the sum of its digits raised to 'kth' power is equal to the number itself. For example, 371 is an Armstrong number because 3^3 + 7^3 + 1^3 = 371.\n",
        "Detailed explanation ( Input/output format, Notes, Images )\n",
        "Sample Input 1 :\n",
        "1\n",
        "\n",
        "Sample Output 1 :\n",
        "true\n",
        "\n",
        "Explanation of Sample Input 1 :\n",
        "1 is an Armstrong number as, 1^1 = 1.\n",
        "\n",
        "Sample Input 2 :\n",
        "103\n",
        "\n",
        "Sample Output 2 :\n",
        "false\n",
        "\n",
        "Sample Input 3 :\n",
        "1634\n",
        "\n",
        "Sample Output 3 :\n",
        "true\n",
        "\n",
        "Explanation of Sample Input 3 :\n",
        "1634 is an Armstrong number, as 1^4 + 6^4 + 3^4 + 4^4 = 1634\n",
        "\n",
        "\n"
      ],
      "metadata": {
        "id": "8VESP6lE8_Wd"
      }
    },
    {
      "cell_type": "code",
      "source": [
        "n=int(input())\n",
        "def check_armstrong(n):\n",
        " for i in n:\n",
        "  k= len(str(n))\n",
        "  v= sum(int(i)**k for i in n)\n",
        "  if v==n:\n",
        "    return True\n",
        "  else:\n",
        "    return False\n"
      ],
      "metadata": {
        "id": "rEe-pYob9J-Y",
        "outputId": "436471ba-5da3-4c4e-bd08-98c977b84130",
        "colab": {
          "base_uri": "https://localhost:8080/",
          "height": 193
        }
      },
      "execution_count": 12,
      "outputs": [
        {
          "name": "stdout",
          "output_type": "stream",
          "text": [
            "345\n"
          ]
        },
        {
          "output_type": "error",
          "ename": "NameError",
          "evalue": "name 'v' is not defined",
          "traceback": [
            "\u001b[0;31m---------------------------------------------------------------------------\u001b[0m",
            "\u001b[0;31mNameError\u001b[0m                                 Traceback (most recent call last)",
            "\u001b[0;32m/tmp/ipython-input-3046946968.py\u001b[0m in \u001b[0;36m<cell line: 0>\u001b[0;34m()\u001b[0m\n\u001b[1;32m      8\u001b[0m   \u001b[0;32melse\u001b[0m\u001b[0;34m:\u001b[0m\u001b[0;34m\u001b[0m\u001b[0;34m\u001b[0m\u001b[0m\n\u001b[1;32m      9\u001b[0m     \u001b[0;32mreturn\u001b[0m \u001b[0;32mFalse\u001b[0m\u001b[0;34m\u001b[0m\u001b[0;34m\u001b[0m\u001b[0m\n\u001b[0;32m---> 10\u001b[0;31m \u001b[0mprint\u001b[0m\u001b[0;34m(\u001b[0m\u001b[0mv\u001b[0m\u001b[0;34m)\u001b[0m\u001b[0;34m\u001b[0m\u001b[0;34m\u001b[0m\u001b[0m\n\u001b[0m",
            "\u001b[0;31mNameError\u001b[0m: name 'v' is not defined"
          ]
        }
      ]
    },
    {
      "cell_type": "code",
      "source": [
        "check_armstrong(n)"
      ],
      "metadata": {
        "id": "wGwU6D7A9x28",
        "outputId": "79d8b49d-d860-4855-a7a4-3ed3edfddec7",
        "colab": {
          "base_uri": "https://localhost:8080/",
          "height": 263
        }
      },
      "execution_count": 10,
      "outputs": [
        {
          "output_type": "error",
          "ename": "TypeError",
          "evalue": "'int' object is not iterable",
          "traceback": [
            "\u001b[0;31m---------------------------------------------------------------------------\u001b[0m",
            "\u001b[0;31mTypeError\u001b[0m                                 Traceback (most recent call last)",
            "\u001b[0;32m/tmp/ipython-input-3244113663.py\u001b[0m in \u001b[0;36m<cell line: 0>\u001b[0;34m()\u001b[0m\n\u001b[0;32m----> 1\u001b[0;31m \u001b[0mcheck_armstrong\u001b[0m\u001b[0;34m(\u001b[0m\u001b[0mn\u001b[0m\u001b[0;34m)\u001b[0m\u001b[0;34m\u001b[0m\u001b[0;34m\u001b[0m\u001b[0m\n\u001b[0m",
            "\u001b[0;32m/tmp/ipython-input-1775686887.py\u001b[0m in \u001b[0;36mcheck_armstrong\u001b[0;34m(n)\u001b[0m\n\u001b[1;32m      1\u001b[0m \u001b[0mn\u001b[0m\u001b[0;34m=\u001b[0m\u001b[0mint\u001b[0m\u001b[0;34m(\u001b[0m\u001b[0minput\u001b[0m\u001b[0;34m(\u001b[0m\u001b[0;34m)\u001b[0m\u001b[0;34m)\u001b[0m\u001b[0;34m\u001b[0m\u001b[0;34m\u001b[0m\u001b[0m\n\u001b[1;32m      2\u001b[0m \u001b[0;32mdef\u001b[0m \u001b[0mcheck_armstrong\u001b[0m\u001b[0;34m(\u001b[0m\u001b[0mn\u001b[0m\u001b[0;34m)\u001b[0m\u001b[0;34m:\u001b[0m\u001b[0;34m\u001b[0m\u001b[0;34m\u001b[0m\u001b[0m\n\u001b[0;32m----> 3\u001b[0;31m  \u001b[0;32mfor\u001b[0m \u001b[0mi\u001b[0m \u001b[0;32min\u001b[0m \u001b[0mn\u001b[0m\u001b[0;34m:\u001b[0m\u001b[0;34m\u001b[0m\u001b[0;34m\u001b[0m\u001b[0m\n\u001b[0m\u001b[1;32m      4\u001b[0m   \u001b[0mk\u001b[0m\u001b[0;34m=\u001b[0m \u001b[0mlen\u001b[0m\u001b[0;34m(\u001b[0m\u001b[0mstr\u001b[0m\u001b[0;34m(\u001b[0m\u001b[0mn\u001b[0m\u001b[0;34m)\u001b[0m\u001b[0;34m)\u001b[0m\u001b[0;34m\u001b[0m\u001b[0;34m\u001b[0m\u001b[0m\n\u001b[1;32m      5\u001b[0m   \u001b[0mv\u001b[0m\u001b[0;34m=\u001b[0m \u001b[0msum\u001b[0m\u001b[0;34m(\u001b[0m\u001b[0mint\u001b[0m\u001b[0;34m(\u001b[0m\u001b[0mi\u001b[0m\u001b[0;34m)\u001b[0m\u001b[0;34m**\u001b[0m\u001b[0mk\u001b[0m \u001b[0;32mfor\u001b[0m \u001b[0mi\u001b[0m \u001b[0;32min\u001b[0m \u001b[0mn\u001b[0m\u001b[0;34m)\u001b[0m\u001b[0;34m\u001b[0m\u001b[0;34m\u001b[0m\u001b[0m\n",
            "\u001b[0;31mTypeError\u001b[0m: 'int' object is not iterable"
          ]
        }
      ]
    },
    {
      "cell_type": "code",
      "source": [
        "def is_armstrong(n):\n",
        "    # Convert number to string to count digits\n",
        "    k = len(str(n))\n",
        "\n",
        "    # Calculate sum of digits raised to k\n",
        "    total = sum(int(digit) ** k for digit in str(n))\n",
        "\n",
        "    # Check Armstrong condition\n",
        "    return total == n\n"
      ],
      "metadata": {
        "id": "CtQ1H00d-yNo"
      },
      "execution_count": 7,
      "outputs": []
    },
    {
      "cell_type": "code",
      "source": [
        "n=int(input())\n",
        "is_armstrong(n)"
      ],
      "metadata": {
        "id": "-vewvZXw-zvt",
        "outputId": "b29858a1-322f-4947-d427-fce8b0b0a5c3",
        "colab": {
          "base_uri": "https://localhost:8080/"
        }
      },
      "execution_count": 8,
      "outputs": [
        {
          "name": "stdout",
          "output_type": "stream",
          "text": [
            "567\n"
          ]
        },
        {
          "output_type": "execute_result",
          "data": {
            "text/plain": [
              "False"
            ]
          },
          "metadata": {},
          "execution_count": 8
        }
      ]
    },
    {
      "cell_type": "markdown",
      "source": [
        "corrected my code"
      ],
      "metadata": {
        "id": "yB1esp2G_Z22"
      }
    },
    {
      "cell_type": "markdown",
      "source": [
        "Ah, I see where your code is going wrong 👍. Let’s carefully break it down.\n",
        "\n",
        "You wrote:\n",
        "\n",
        "```python\n",
        "n=int(input())\n",
        "def check_armstrong(n):\n",
        " for i in n:   # ❌ Problem here\n",
        "  k= len(str(n))\n",
        "  v= sum(int(i)**k for i in n)   # ❌ Another problem here\n",
        "  if v==n:\n",
        "    return True\n",
        "  else:\n",
        "    return False\n",
        "```\n",
        "\n",
        "---\n",
        "\n",
        "### 🔴 Problems in your code:\n",
        "\n",
        "1. **`for i in n:` is invalid** → `n` is an integer, and integers are not iterable. You cannot loop directly over `n`.\n",
        "   ✅ Instead, you should loop over the **string version** of `n` (like `for i in str(n)`).\n",
        "\n",
        "2. **You don’t need a loop at all here.**\n",
        "   You’re already using `sum(int(i)**k for i in str(n))`, which handles iteration. The `for i in n:` loop is redundant and wrong.\n",
        "\n",
        "3. **Indentation of return statements** → Right now, your code returns inside the loop, so it stops after the first digit. It should only return after checking the whole number.\n",
        "\n",
        "---\n",
        "\n",
        "### ✅ Corrected code:\n",
        "\n",
        "```python\n",
        "def check_armstrong(n):\n",
        "    k = len(str(n))  # count digits\n",
        "    v = sum(int(i)**k for i in str(n))  # powered sum of digits\n",
        "    return v == n\n",
        "```\n",
        "\n",
        "---\n",
        "\n",
        "### 🔹 Example Run:\n",
        "\n",
        "```python\n",
        "print(check_armstrong(371))   # True\n",
        "print(check_armstrong(103))   # False\n",
        "print(check_armstrong(1634))  # True\n",
        "```\n",
        "\n",
        "---\n",
        "\n",
        "👉 So the **main mistake** in your code is that you tried to loop over `n` (an integer) instead of looping over `str(n)`, and you were returning too early.\n",
        "\n",
        "Do you want me to also fix your version **using a `for` loop explicitly** instead of `sum(...)` comprehension, so it looks closer to what you first attempted?\n"
      ],
      "metadata": {
        "id": "unT-2Xo1_eV4"
      }
    },
    {
      "cell_type": "code",
      "source": [
        "def check_armstrong(n):\n",
        "    k = len(str(n))  # count digits\n",
        "    v = sum(int(i)**k for i in str(n))  # powered sum of digits\n",
        "    return v == n\n"
      ],
      "metadata": {
        "id": "lmMSMuHe_Y_R"
      },
      "execution_count": null,
      "outputs": []
    }
  ]
}