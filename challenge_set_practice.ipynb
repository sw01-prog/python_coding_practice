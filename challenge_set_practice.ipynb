{
  "nbformat": 4,
  "nbformat_minor": 0,
  "metadata": {
    "colab": {
      "provenance": [],
      "authorship_tag": "ABX9TyMysXpnP9wwDpwS59SEY5Pe",
      "include_colab_link": true
    },
    "kernelspec": {
      "name": "python3",
      "display_name": "Python 3"
    },
    "language_info": {
      "name": "python"
    }
  },
  "cells": [
    {
      "cell_type": "markdown",
      "metadata": {
        "id": "view-in-github",
        "colab_type": "text"
      },
      "source": [
        "<a href=\"https://colab.research.google.com/github/sw01-prog/python_coding_practice/blob/main/challenge_set_practice.ipynb\" target=\"_parent\"><img src=\"https://colab.research.google.com/assets/colab-badge.svg\" alt=\"Open In Colab\"/></a>"
      ]
    },
    {
      "cell_type": "markdown",
      "source": [
        "Fibonacci series"
      ],
      "metadata": {
        "id": "lq1HSmRICQIA"
      }
    },
    {
      "cell_type": "code",
      "source": [
        "n=int(input())"
      ],
      "metadata": {
        "colab": {
          "base_uri": "https://localhost:8080/"
        },
        "id": "dt4uIRXjCtlr",
        "outputId": "b8b72f22-211e-4d96-a72d-4d1c521bc38d"
      },
      "execution_count": 5,
      "outputs": [
        {
          "name": "stdout",
          "output_type": "stream",
          "text": [
            "7\n"
          ]
        }
      ]
    },
    {
      "cell_type": "code",
      "execution_count": 6,
      "metadata": {
        "colab": {
          "base_uri": "https://localhost:8080/"
        },
        "id": "cyg4KEtsCLHJ",
        "outputId": "424cefbe-507a-4d05-fc3e-366909ee0728"
      },
      "outputs": [
        {
          "output_type": "stream",
          "name": "stdout",
          "text": [
            "13\n"
          ]
        }
      ],
      "source": [
        "def fibonacci(n):\n",
        " if n==1 or n==2:\n",
        "  return 1\n",
        " else:\n",
        "  return fibonacci(n-1)+fibonacci(n-2)\n",
        "\n",
        "print(fibonacci(n))"
      ]
    },
    {
      "cell_type": "markdown",
      "source": [
        "Sum of even and odd numbers"
      ],
      "metadata": {
        "id": "DG8yLltIDUmt"
      }
    },
    {
      "cell_type": "code",
      "source": [
        "l1=[1,2,3,4,5,6,7,8]\n",
        "even_sum =0\n",
        "odd_sum = 0\n",
        "\n",
        "def sum_even_odd(l1):\n",
        " even_sum =0\n",
        " odd_sum = 0\n",
        " for i in l1:\n",
        "  if i%2==0:\n",
        "   print(even_sum+=i)\n",
        "\n",
        "\n",
        "  else:\n",
        "   print(odd_sum+=i)\n",
        "\n",
        "\n",
        "sum_even_odd(l1) # call the function to execute it"
      ],
      "metadata": {
        "colab": {
          "base_uri": "https://localhost:8080/",
          "height": 106
        },
        "id": "ZYJiE70PDY8T",
        "outputId": "85e7684b-52d0-4246-a9b8-c687e7026699"
      },
      "execution_count": 22,
      "outputs": [
        {
          "output_type": "error",
          "ename": "SyntaxError",
          "evalue": "invalid syntax (ipython-input-2029275473.py, line 10)",
          "traceback": [
            "\u001b[0;36m  File \u001b[0;32m\"/tmp/ipython-input-2029275473.py\"\u001b[0;36m, line \u001b[0;32m10\u001b[0m\n\u001b[0;31m    print(even_sum+=i)\u001b[0m\n\u001b[0m                  ^\u001b[0m\n\u001b[0;31mSyntaxError\u001b[0m\u001b[0;31m:\u001b[0m invalid syntax\n"
          ]
        }
      ]
    },
    {
      "cell_type": "code",
      "source": [
        "l1=[1,2,3,4,5,6,7,8]\n",
        "#even_sum =0\n",
        "#odd_sum = 0\n",
        "\n",
        "def sum_even_odd(l1):\n",
        " even_sum =0\n",
        " odd_sum = 0\n",
        " for i in l1:\n",
        "  if i%2==0:\n",
        "   even_sum+=i\n",
        "  elif i%2!=0:\n",
        "   odd_sum+=i\n",
        "\n",
        " return(even_sum,odd_sum)\n",
        "\n",
        "even_sum, odd_sum = sum_even_odd(l1)\n",
        "print(even_sum, odd_sum)\n",
        ""
      ],
      "metadata": {
        "colab": {
          "base_uri": "https://localhost:8080/",
          "height": 332
        },
        "id": "4Rzv8RlEGZ_b",
        "outputId": "e8e50830-02b1-4362-caba-280f40ecf6ac"
      },
      "execution_count": 20,
      "outputs": [
        {
          "output_type": "error",
          "ename": "UnboundLocalError",
          "evalue": "cannot access local variable 'odd_sum' where it is not associated with a value",
          "traceback": [
            "\u001b[0;31m---------------------------------------------------------------------------\u001b[0m",
            "\u001b[0;31mUnboundLocalError\u001b[0m                         Traceback (most recent call last)",
            "\u001b[0;32m/tmp/ipython-input-4256493178.py\u001b[0m in \u001b[0;36m<cell line: 0>\u001b[0;34m()\u001b[0m\n\u001b[1;32m     13\u001b[0m  \u001b[0;32mreturn\u001b[0m\u001b[0;34m(\u001b[0m\u001b[0meven_sum\u001b[0m\u001b[0;34m,\u001b[0m\u001b[0modd_sum\u001b[0m\u001b[0;34m)\u001b[0m\u001b[0;34m\u001b[0m\u001b[0;34m\u001b[0m\u001b[0m\n\u001b[1;32m     14\u001b[0m \u001b[0;34m\u001b[0m\u001b[0m\n\u001b[0;32m---> 15\u001b[0;31m \u001b[0meven_sum\u001b[0m\u001b[0;34m,\u001b[0m \u001b[0modd_sum\u001b[0m \u001b[0;34m=\u001b[0m \u001b[0msum_even_odd\u001b[0m\u001b[0;34m(\u001b[0m\u001b[0ml1\u001b[0m\u001b[0;34m)\u001b[0m\u001b[0;34m\u001b[0m\u001b[0;34m\u001b[0m\u001b[0m\n\u001b[0m\u001b[1;32m     16\u001b[0m \u001b[0mprint\u001b[0m\u001b[0;34m(\u001b[0m\u001b[0meven_sum\u001b[0m\u001b[0;34m,\u001b[0m \u001b[0modd_sum\u001b[0m\u001b[0;34m)\u001b[0m\u001b[0;34m\u001b[0m\u001b[0;34m\u001b[0m\u001b[0m\n\u001b[1;32m     17\u001b[0m \u001b[0;34m\u001b[0m\u001b[0m\n",
            "\u001b[0;32m/tmp/ipython-input-4256493178.py\u001b[0m in \u001b[0;36msum_even_odd\u001b[0;34m(l1)\u001b[0m\n\u001b[1;32m      9\u001b[0m    \u001b[0meven_sum\u001b[0m\u001b[0;34m+=\u001b[0m\u001b[0mi\u001b[0m\u001b[0;34m\u001b[0m\u001b[0;34m\u001b[0m\u001b[0m\n\u001b[1;32m     10\u001b[0m   \u001b[0;32melif\u001b[0m \u001b[0mi\u001b[0m\u001b[0;34m%\u001b[0m\u001b[0;36m2\u001b[0m\u001b[0;34m!=\u001b[0m\u001b[0;36m0\u001b[0m\u001b[0;34m:\u001b[0m\u001b[0;34m\u001b[0m\u001b[0;34m\u001b[0m\u001b[0m\n\u001b[0;32m---> 11\u001b[0;31m    \u001b[0modd_sum\u001b[0m\u001b[0;34m+=\u001b[0m\u001b[0mi\u001b[0m\u001b[0;34m\u001b[0m\u001b[0;34m\u001b[0m\u001b[0m\n\u001b[0m\u001b[1;32m     12\u001b[0m \u001b[0;34m\u001b[0m\u001b[0m\n\u001b[1;32m     13\u001b[0m  \u001b[0;32mreturn\u001b[0m\u001b[0;34m(\u001b[0m\u001b[0meven_sum\u001b[0m\u001b[0;34m,\u001b[0m\u001b[0modd_sum\u001b[0m\u001b[0;34m)\u001b[0m\u001b[0;34m\u001b[0m\u001b[0;34m\u001b[0m\u001b[0m\n",
            "\u001b[0;31mUnboundLocalError\u001b[0m: cannot access local variable 'odd_sum' where it is not associated with a value"
          ]
        }
      ]
    },
    {
      "cell_type": "markdown",
      "source": [
        "the error happens because of Python’s variable scope rules.\n",
        "\n",
        "Inside your function sum_even_odd,\n",
        "\n",
        "When you write even_sum += i or odd_sum += i,\n",
        "Python assumes even_sum and odd_sum are local variables to the function.\n",
        "\n",
        "But you never created them inside the function, so they are “unbound” → hence UnboundLocalError."
      ],
      "metadata": {
        "id": "S0PsIwZDHz-z"
      }
    },
    {
      "cell_type": "code",
      "source": [
        "l1=[1,2,3,4,5,6,7,8]\n",
        "#even_sum =0\n",
        "#odd_sum = 0\n",
        "\n",
        "def sum_even_odd(l1):\n",
        " even_sum =0\n",
        " odd_sum = 0\n",
        " for i in l1:\n",
        "  if i%2==0:\n",
        "   even_sum+=i\n",
        "  elif i%2!=0:\n",
        "   odd_sum+=i\n",
        "\n",
        " return(even_sum,odd_sum)\n",
        "\n",
        "even_sum, odd_sum = sum_even_odd(l1)\n",
        "print(even_sum, odd_sum)"
      ],
      "metadata": {
        "colab": {
          "base_uri": "https://localhost:8080/"
        },
        "id": "YbboW0ZWHxfS",
        "outputId": "83f12e25-ff24-45b9-ee8d-1a601aab3ec5"
      },
      "execution_count": 21,
      "outputs": [
        {
          "output_type": "stream",
          "name": "stdout",
          "text": [
            "20 16\n"
          ]
        }
      ]
    },
    {
      "cell_type": "markdown",
      "source": [
        "Palindrome number"
      ],
      "metadata": {
        "id": "e1aGunJuH-f7"
      }
    },
    {
      "cell_type": "code",
      "source": [
        "l1=[1,2,1]\n",
        "\n",
        "def check_palindrome(l1):\n",
        " string_m= ''.join(l1)\n",
        " if string_m == string_m[::-1]:\n",
        "  print('Palindrome')\n",
        " else:\n",
        "  print('Not Palindrome')\n",
        "check_palindrome(l1)"
      ],
      "metadata": {
        "colab": {
          "base_uri": "https://localhost:8080/",
          "height": 297
        },
        "id": "q1fljEUkJJAV",
        "outputId": "8de6505c-6b26-48b6-a07f-4bace30822f2"
      },
      "execution_count": 26,
      "outputs": [
        {
          "output_type": "error",
          "ename": "TypeError",
          "evalue": "sequence item 0: expected str instance, int found",
          "traceback": [
            "\u001b[0;31m---------------------------------------------------------------------------\u001b[0m",
            "\u001b[0;31mTypeError\u001b[0m                                 Traceback (most recent call last)",
            "\u001b[0;32m/tmp/ipython-input-765302902.py\u001b[0m in \u001b[0;36m<cell line: 0>\u001b[0;34m()\u001b[0m\n\u001b[1;32m      7\u001b[0m  \u001b[0;32melse\u001b[0m\u001b[0;34m:\u001b[0m\u001b[0;34m\u001b[0m\u001b[0;34m\u001b[0m\u001b[0m\n\u001b[1;32m      8\u001b[0m   \u001b[0mprint\u001b[0m\u001b[0;34m(\u001b[0m\u001b[0;34m'Not Palindrome'\u001b[0m\u001b[0;34m)\u001b[0m\u001b[0;34m\u001b[0m\u001b[0;34m\u001b[0m\u001b[0m\n\u001b[0;32m----> 9\u001b[0;31m \u001b[0mcheck_palindrome\u001b[0m\u001b[0;34m(\u001b[0m\u001b[0ml1\u001b[0m\u001b[0;34m)\u001b[0m\u001b[0;34m\u001b[0m\u001b[0;34m\u001b[0m\u001b[0m\n\u001b[0m",
            "\u001b[0;32m/tmp/ipython-input-765302902.py\u001b[0m in \u001b[0;36mcheck_palindrome\u001b[0;34m(l1)\u001b[0m\n\u001b[1;32m      2\u001b[0m \u001b[0;34m\u001b[0m\u001b[0m\n\u001b[1;32m      3\u001b[0m \u001b[0;32mdef\u001b[0m \u001b[0mcheck_palindrome\u001b[0m\u001b[0;34m(\u001b[0m\u001b[0ml1\u001b[0m\u001b[0;34m)\u001b[0m\u001b[0;34m:\u001b[0m\u001b[0;34m\u001b[0m\u001b[0;34m\u001b[0m\u001b[0m\n\u001b[0;32m----> 4\u001b[0;31m  \u001b[0mstring_m\u001b[0m\u001b[0;34m=\u001b[0m \u001b[0;34m''\u001b[0m\u001b[0;34m.\u001b[0m\u001b[0mjoin\u001b[0m\u001b[0;34m(\u001b[0m\u001b[0ml1\u001b[0m\u001b[0;34m)\u001b[0m\u001b[0;34m\u001b[0m\u001b[0;34m\u001b[0m\u001b[0m\n\u001b[0m\u001b[1;32m      5\u001b[0m  \u001b[0;32mif\u001b[0m \u001b[0mstring_m\u001b[0m \u001b[0;34m==\u001b[0m \u001b[0mstring_m\u001b[0m\u001b[0;34m[\u001b[0m\u001b[0;34m:\u001b[0m\u001b[0;34m:\u001b[0m\u001b[0;34m-\u001b[0m\u001b[0;36m1\u001b[0m\u001b[0;34m]\u001b[0m\u001b[0;34m:\u001b[0m\u001b[0;34m\u001b[0m\u001b[0;34m\u001b[0m\u001b[0m\n\u001b[1;32m      6\u001b[0m   \u001b[0mprint\u001b[0m\u001b[0;34m(\u001b[0m\u001b[0;34m'Palindrome'\u001b[0m\u001b[0;34m)\u001b[0m\u001b[0;34m\u001b[0m\u001b[0;34m\u001b[0m\u001b[0m\n",
            "\u001b[0;31mTypeError\u001b[0m: sequence item 0: expected str instance, int found"
          ]
        }
      ]
    },
    {
      "cell_type": "markdown",
      "source": [
        "The error happens because ''.join() only works on sequences of strings, but your list l1 contains integers.\n",
        "\n"
      ],
      "metadata": {
        "id": "-lG6DNq1MiAx"
      }
    },
    {
      "cell_type": "code",
      "source": [
        "l1 = [1, 2, 1]\n",
        "\n",
        "def check_palindrome(l1):\n",
        "    # Convert all integers to strings first\n",
        "    string_m = ''.join(map(str, l1))\n",
        "    if string_m == string_m[::-1]:\n",
        "        print('Palindrome')\n",
        "    else:\n",
        "        print('Not Palindrome')\n",
        "\n",
        "check_palindrome(l1)\n"
      ],
      "metadata": {
        "colab": {
          "base_uri": "https://localhost:8080/"
        },
        "id": "msIZViUrMjJs",
        "outputId": "c12f085b-fd90-4961-b1bb-f98d1fc74b9b"
      },
      "execution_count": 27,
      "outputs": [
        {
          "output_type": "stream",
          "name": "stdout",
          "text": [
            "Palindrome\n"
          ]
        }
      ]
    },
    {
      "cell_type": "markdown",
      "source": [
        "one more thing to check"
      ],
      "metadata": {
        "id": "r_o1-8PvMv83"
      }
    },
    {
      "cell_type": "code",
      "source": [
        "l1 = [1, 2, 1]\n",
        "\n",
        "def check_palindrome(l1):\n",
        "    # Convert all integers to strings first\n",
        "    string_m = ''.join(map(str, l1))\n",
        "    if string_m == string_m[::-1]:\n",
        "        return True\n",
        "    else:\n",
        "        return False\n",
        "\n",
        "print(check_palindrome(l1))"
      ],
      "metadata": {
        "colab": {
          "base_uri": "https://localhost:8080/"
        },
        "id": "5COseFF1M0SA",
        "outputId": "e6fdb29a-baf1-461d-fa11-52ed21751625"
      },
      "execution_count": 28,
      "outputs": [
        {
          "output_type": "stream",
          "name": "stdout",
          "text": [
            "True\n"
          ]
        }
      ]
    },
    {
      "cell_type": "code",
      "source": [
        "l1 = [1, 2, 1]\n",
        "\n",
        "def check_palindrome(l1):\n",
        "    # Convert all integers to strings first\n",
        "    string_m = ''.join(map(str, l1))\n",
        "    if string_m == string_m[::-1]:\n",
        "        return True\n",
        "    else:\n",
        "        return False\n",
        "\n",
        "check_palindrome(l1)"
      ],
      "metadata": {
        "colab": {
          "base_uri": "https://localhost:8080/"
        },
        "id": "_FRFm1VENEJm",
        "outputId": "dfa1124a-8afa-496b-a89e-31bdab2dc445"
      },
      "execution_count": 29,
      "outputs": [
        {
          "output_type": "execute_result",
          "data": {
            "text/plain": [
              "True"
            ]
          },
          "metadata": {},
          "execution_count": 29
        }
      ]
    },
    {
      "cell_type": "markdown",
      "source": [
        "string reverse"
      ],
      "metadata": {
        "id": "zA91aJklPKtx"
      }
    },
    {
      "cell_type": "code",
      "source": [
        "n= input()\n",
        "def reverse(n):\n",
        " rev= int(str(n)[::-1])  # int() removes leading zeros\n",
        " return rev\n",
        "reverse(n)"
      ],
      "metadata": {
        "colab": {
          "base_uri": "https://localhost:8080/"
        },
        "id": "9WCVzLSfPMdc",
        "outputId": "f1832de6-9895-4921-d1ed-c4b23ba6fa8c"
      },
      "execution_count": 31,
      "outputs": [
        {
          "name": "stdout",
          "output_type": "stream",
          "text": [
            "4678\n"
          ]
        },
        {
          "output_type": "execute_result",
          "data": {
            "text/plain": [
              "8764"
            ]
          },
          "metadata": {},
          "execution_count": 31
        }
      ]
    },
    {
      "cell_type": "markdown",
      "source": [
        "Calculator based on conditions"
      ],
      "metadata": {
        "id": "3y-JAKp39pwt"
      }
    },
    {
      "cell_type": "code",
      "source": [
        "n= int(input())\n",
        "\n",
        "def simple_calculator(n):\n",
        "\n",
        " for _ in range(n):\n",
        "  op= int(input())\n",
        "\n",
        "  if op==6:\n",
        "   break\n",
        "\n",
        "  if op>=1 and op<=5:\n",
        "   a=int(input())\n",
        "   b=int(input())\n",
        "\n",
        "   if op==1:\n",
        "    print(a+b)\n",
        "   elif op==2:\n",
        "    print(a-b)\n",
        "   elif op==3:\n",
        "    print(a*b)\n",
        "   elif op==4:\n",
        "    print(a//b)\n",
        "   elif op==5:\n",
        "    print(a%b)\n",
        "\n",
        "  else:\n",
        "   print('invalid')\n",
        "   break\n",
        "\n",
        "#simple_calculator(n)"
      ],
      "metadata": {
        "colab": {
          "base_uri": "https://localhost:8080/"
        },
        "id": "UhCQtcIm94eK",
        "outputId": "69e44065-2846-48e0-d911-e156d060e506"
      },
      "execution_count": 6,
      "outputs": [
        {
          "name": "stdout",
          "output_type": "stream",
          "text": [
            "3\n"
          ]
        }
      ]
    },
    {
      "cell_type": "code",
      "source": [
        "\n",
        "simple_calculator(n)"
      ],
      "metadata": {
        "id": "yyexzkDBDf4k"
      },
      "execution_count": null,
      "outputs": []
    },
    {
      "cell_type": "code",
      "source": [
        "def simple_calculator(n):\n",
        "    for _ in range(n):\n",
        "        op = int(input())  # Operation code\n",
        "\n",
        "        if op == 6:\n",
        "            break  # Exit immediately\n",
        "\n",
        "        if 1 <= op <= 5:\n",
        "            a = int(input())\n",
        "            b = int(input())\n",
        "\n",
        "            if op == 1:\n",
        "                print(a + b)\n",
        "            elif op == 2:\n",
        "                print(a - b)\n",
        "            elif op == 3:\n",
        "                print(a * b)\n",
        "            elif op == 4:\n",
        "                print(a // b)  # Integer division\n",
        "            elif op == 5:\n",
        "                print(a % b)\n",
        "        else:\n",
        "            print(\"Invalid Operation\")\n",
        "\n",
        "\n",
        "# Example usage\n",
        "n = int(input())  # Number of operations\n",
        "simple_calculator(n)\n"
      ],
      "metadata": {
        "colab": {
          "base_uri": "https://localhost:8080/"
        },
        "id": "SAmjsaQYDvJI",
        "outputId": "ac895261-5c03-4fcc-a0b7-09fefa2f0752"
      },
      "execution_count": 7,
      "outputs": [
        {
          "output_type": "stream",
          "name": "stdout",
          "text": [
            "1\n",
            "2\n",
            "4\n",
            "4\n",
            "0\n"
          ]
        }
      ]
    },
    {
      "cell_type": "code",
      "source": [
        "# Number of operations\n",
        "n = int(input())\n",
        "\n",
        "for _ in range(n):\n",
        "    op = int(input())  # Operation code\n",
        "\n",
        "    if op == 6:\n",
        "        break  # Exit the program\n",
        "\n",
        "    if op >= 1 and op <= 5:\n",
        "        a = int(input())\n",
        "        b = int(input())\n",
        "\n",
        "        if op == 1:\n",
        "            print(a + b)\n",
        "        elif op == 2:\n",
        "            print(a - b)\n",
        "        elif op == 3:\n",
        "            print(a * b)\n",
        "        elif op == 4:\n",
        "            print(a // b)  # Integer division\n",
        "        elif op == 5:\n",
        "            print(a % b)\n",
        "\n",
        "    else:\n",
        "        print(\"Invalid Operation\")\n"
      ],
      "metadata": {
        "colab": {
          "base_uri": "https://localhost:8080/",
          "height": 443
        },
        "id": "3uLrYroFB21m",
        "outputId": "e6b2b28d-2e25-45dc-ba37-3a8db3964c44"
      },
      "execution_count": 3,
      "outputs": [
        {
          "output_type": "stream",
          "name": "stdout",
          "text": [
            "4\n",
            "1\n",
            "2\n",
            "4\n",
            "6\n"
          ]
        },
        {
          "output_type": "error",
          "ename": "KeyboardInterrupt",
          "evalue": "Interrupted by user",
          "traceback": [
            "\u001b[0;31m---------------------------------------------------------------------------\u001b[0m",
            "\u001b[0;31mKeyboardInterrupt\u001b[0m                         Traceback (most recent call last)",
            "\u001b[0;32m/tmp/ipython-input-1784660673.py\u001b[0m in \u001b[0;36m<cell line: 0>\u001b[0;34m()\u001b[0m\n\u001b[1;32m      3\u001b[0m \u001b[0;34m\u001b[0m\u001b[0m\n\u001b[1;32m      4\u001b[0m \u001b[0;32mfor\u001b[0m \u001b[0m_\u001b[0m \u001b[0;32min\u001b[0m \u001b[0mrange\u001b[0m\u001b[0;34m(\u001b[0m\u001b[0mn\u001b[0m\u001b[0;34m)\u001b[0m\u001b[0;34m:\u001b[0m\u001b[0;34m\u001b[0m\u001b[0;34m\u001b[0m\u001b[0m\n\u001b[0;32m----> 5\u001b[0;31m     \u001b[0mop\u001b[0m \u001b[0;34m=\u001b[0m \u001b[0mint\u001b[0m\u001b[0;34m(\u001b[0m\u001b[0minput\u001b[0m\u001b[0;34m(\u001b[0m\u001b[0;34m)\u001b[0m\u001b[0;34m)\u001b[0m  \u001b[0;31m# Operation code\u001b[0m\u001b[0;34m\u001b[0m\u001b[0;34m\u001b[0m\u001b[0m\n\u001b[0m\u001b[1;32m      6\u001b[0m \u001b[0;34m\u001b[0m\u001b[0m\n\u001b[1;32m      7\u001b[0m     \u001b[0;32mif\u001b[0m \u001b[0mop\u001b[0m \u001b[0;34m==\u001b[0m \u001b[0;36m6\u001b[0m\u001b[0;34m:\u001b[0m\u001b[0;34m\u001b[0m\u001b[0;34m\u001b[0m\u001b[0m\n",
            "\u001b[0;32m/usr/local/lib/python3.11/dist-packages/ipykernel/kernelbase.py\u001b[0m in \u001b[0;36mraw_input\u001b[0;34m(self, prompt)\u001b[0m\n\u001b[1;32m   1175\u001b[0m                 \u001b[0;34m\"raw_input was called, but this frontend does not support input requests.\"\u001b[0m\u001b[0;34m\u001b[0m\u001b[0;34m\u001b[0m\u001b[0m\n\u001b[1;32m   1176\u001b[0m             )\n\u001b[0;32m-> 1177\u001b[0;31m         return self._input_request(\n\u001b[0m\u001b[1;32m   1178\u001b[0m             \u001b[0mstr\u001b[0m\u001b[0;34m(\u001b[0m\u001b[0mprompt\u001b[0m\u001b[0;34m)\u001b[0m\u001b[0;34m,\u001b[0m\u001b[0;34m\u001b[0m\u001b[0;34m\u001b[0m\u001b[0m\n\u001b[1;32m   1179\u001b[0m             \u001b[0mself\u001b[0m\u001b[0;34m.\u001b[0m\u001b[0m_parent_ident\u001b[0m\u001b[0;34m[\u001b[0m\u001b[0;34m\"shell\"\u001b[0m\u001b[0;34m]\u001b[0m\u001b[0;34m,\u001b[0m\u001b[0;34m\u001b[0m\u001b[0;34m\u001b[0m\u001b[0m\n",
            "\u001b[0;32m/usr/local/lib/python3.11/dist-packages/ipykernel/kernelbase.py\u001b[0m in \u001b[0;36m_input_request\u001b[0;34m(self, prompt, ident, parent, password)\u001b[0m\n\u001b[1;32m   1217\u001b[0m             \u001b[0;32mexcept\u001b[0m \u001b[0mKeyboardInterrupt\u001b[0m\u001b[0;34m:\u001b[0m\u001b[0;34m\u001b[0m\u001b[0;34m\u001b[0m\u001b[0m\n\u001b[1;32m   1218\u001b[0m                 \u001b[0;31m# re-raise KeyboardInterrupt, to truncate traceback\u001b[0m\u001b[0;34m\u001b[0m\u001b[0;34m\u001b[0m\u001b[0m\n\u001b[0;32m-> 1219\u001b[0;31m                 \u001b[0;32mraise\u001b[0m \u001b[0mKeyboardInterrupt\u001b[0m\u001b[0;34m(\u001b[0m\u001b[0;34m\"Interrupted by user\"\u001b[0m\u001b[0;34m)\u001b[0m \u001b[0;32mfrom\u001b[0m \u001b[0;32mNone\u001b[0m\u001b[0;34m\u001b[0m\u001b[0;34m\u001b[0m\u001b[0m\n\u001b[0m\u001b[1;32m   1220\u001b[0m             \u001b[0;32mexcept\u001b[0m \u001b[0mException\u001b[0m\u001b[0;34m:\u001b[0m\u001b[0;34m\u001b[0m\u001b[0;34m\u001b[0m\u001b[0m\n\u001b[1;32m   1221\u001b[0m                 \u001b[0mself\u001b[0m\u001b[0;34m.\u001b[0m\u001b[0mlog\u001b[0m\u001b[0;34m.\u001b[0m\u001b[0mwarning\u001b[0m\u001b[0;34m(\u001b[0m\u001b[0;34m\"Invalid Message:\"\u001b[0m\u001b[0;34m,\u001b[0m \u001b[0mexc_info\u001b[0m\u001b[0;34m=\u001b[0m\u001b[0;32mTrue\u001b[0m\u001b[0;34m)\u001b[0m\u001b[0;34m\u001b[0m\u001b[0;34m\u001b[0m\u001b[0m\n",
            "\u001b[0;31mKeyboardInterrupt\u001b[0m: Interrupted by user"
          ]
        }
      ]
    },
    {
      "cell_type": "code",
      "source": [
        "n = int(input())\n",
        "for _ in range(n):\n",
        "    choice = int(input())\n",
        "    if choice == 1:\n",
        "        num1 = int(input())\n",
        "        num2 = int(input())\n",
        "        print(num1 + num2)\n",
        "    elif choice == 2:\n",
        "        num1 = int(input())\n",
        "        num2 = int(input())\n",
        "        print(num1 - num2)\n",
        "    elif choice == 3:\n",
        "        num1 = int(input())\n",
        "        num2 = int(input())\n",
        "        print(num1 * num2)\n",
        "    elif choice == 4:\n",
        "        num1 = int(input())\n",
        "        num2 = int(input())\n",
        "        # To handle potential division by zero, though constraints\n",
        "        # might imply this won't happen.\n",
        "        if num2 != 0:\n",
        "            print(num1 // num2)\n",
        "        else:\n",
        "            print(\"Error: Division by zero\")\n",
        "    elif choice == 5:\n",
        "        num1 = int(input())\n",
        "        num2 = int(input())\n",
        "        # To handle potential modulo by zero.\n",
        "        if num2 != 0:\n",
        "            print(num1 % num2)\n",
        "        else:\n",
        "            print(\"Error: Modulo by zero\")\n",
        "    elif choice == 6:\n",
        "        break\n",
        "    else:\n",
        "        print(\"Invalid Operation\")"
      ],
      "metadata": {
        "colab": {
          "base_uri": "https://localhost:8080/"
        },
        "id": "RW8m-JssGZ2p",
        "outputId": "fd2751ec-0bdc-426b-fede-e7f9c06121e1"
      },
      "execution_count": 14,
      "outputs": [
        {
          "output_type": "stream",
          "name": "stdout",
          "text": [
            "3\n",
            "1\n",
            "2\n",
            "4\n",
            "6\n",
            "2\n",
            "1\n",
            "3\n",
            "-2\n",
            "2\n",
            "6\n",
            "7\n",
            "-1\n"
          ]
        }
      ]
    },
    {
      "cell_type": "markdown",
      "source": [
        "Convert fareinheit to celsius"
      ],
      "metadata": {
        "id": "lNWuw8uhJvpM"
      }
    },
    {
      "cell_type": "code",
      "source": [
        "s= int(input())\n",
        "e= int(input())\n",
        "w= int(input())\n",
        "\n",
        "def convrt_to_c(F):\n",
        " return((F-32)*5/9)\n",
        "\n",
        "for F in range(s, e+1, w):\n",
        "  print(convrt_to_c(F))"
      ],
      "metadata": {
        "colab": {
          "base_uri": "https://localhost:8080/"
        },
        "id": "R8TVF_uUKLsX",
        "outputId": "192a129f-71a2-4104-8f14-43241aee0b78"
      },
      "execution_count": 10,
      "outputs": [
        {
          "output_type": "stream",
          "name": "stdout",
          "text": [
            "0\n",
            "100\n",
            "20\n",
            "-17.77777777777778\n",
            "-6.666666666666667\n",
            "4.444444444444445\n",
            "15.555555555555555\n",
            "26.666666666666668\n",
            "37.77777777777778\n"
          ]
        }
      ]
    },
    {
      "cell_type": "code",
      "source": [
        "S = int(input())\n",
        "E = int(input())\n",
        "W = int(input())\n",
        "\n",
        "def convrt_to_c(F):\n",
        "    return int((F - 32) * 5 / 9)\n",
        "\n",
        "for F in range(S, E + 1, W):\n",
        "    print(F, convrt_to_c(F))\n"
      ],
      "metadata": {
        "colab": {
          "base_uri": "https://localhost:8080/"
        },
        "id": "mnXzoy9xMKJB",
        "outputId": "928727ae-628a-44cb-8f82-8e8b1b9d4c4d"
      },
      "execution_count": 11,
      "outputs": [
        {
          "output_type": "stream",
          "name": "stdout",
          "text": [
            "0\n",
            "100\n",
            "20\n",
            "0 -17\n",
            "20 -6\n",
            "40 4\n",
            "60 15\n",
            "80 26\n",
            "100 37\n"
          ]
        }
      ]
    },
    {
      "cell_type": "markdown",
      "source": [],
      "metadata": {
        "id": "eNMwxHlQ8do6"
      }
    },
    {
      "cell_type": "markdown",
      "source": [],
      "metadata": {
        "id": "i5MfCktf8eKr"
      }
    },
    {
      "cell_type": "markdown",
      "source": [
        "lambda is one liner anonymous function"
      ],
      "metadata": {
        "id": "Oew1cBsf8eqg"
      }
    },
    {
      "cell_type": "markdown",
      "source": [
        "we defined a lambda function(upper) to convert a string to its upper case using upper()."
      ],
      "metadata": {
        "id": "7U15eEKt-7bK"
      }
    },
    {
      "cell_type": "code",
      "source": [
        "s1 = 'geeksforgeeks'\n",
        "s2= lambda func: func.upper()\n",
        "print(s2(s1))"
      ],
      "metadata": {
        "colab": {
          "base_uri": "https://localhost:8080/"
        },
        "id": "ps3Jh-5W8xDA",
        "outputId": "242d6bed-e9b9-489a-e7cd-743d2201c7c5"
      },
      "execution_count": 2,
      "outputs": [
        {
          "output_type": "stream",
          "name": "stdout",
          "text": [
            "GEEKSFORGEEKS\n"
          ]
        }
      ]
    },
    {
      "cell_type": "markdown",
      "source": [
        "lambda with Condition Checking\n",
        "- # Example: Check if a number is positive, negative, or zero"
      ],
      "metadata": {
        "id": "rBXY_GNQ_XYP"
      }
    },
    {
      "cell_type": "code",
      "source": [
        "z= lambda x: if x>0 print('positive') else print('negative')"
      ],
      "metadata": {
        "colab": {
          "base_uri": "https://localhost:8080/",
          "height": 106
        },
        "id": "7Ey28yON_qBD",
        "outputId": "7d15728d-8f69-42b9-c6bd-fa2f652c73bb"
      },
      "execution_count": 5,
      "outputs": [
        {
          "output_type": "error",
          "ename": "SyntaxError",
          "evalue": "invalid syntax (ipython-input-1359977569.py, line 1)",
          "traceback": [
            "\u001b[0;36m  File \u001b[0;32m\"/tmp/ipython-input-1359977569.py\"\u001b[0;36m, line \u001b[0;32m1\u001b[0m\n\u001b[0;31m    z= lambda x: if x>0 print('positive') else print('negative')\u001b[0m\n\u001b[0m                 ^\u001b[0m\n\u001b[0;31mSyntaxError\u001b[0m\u001b[0;31m:\u001b[0m invalid syntax\n"
          ]
        }
      ]
    },
    {
      "cell_type": "code",
      "source": [
        "z= lambda x: 'positive' if x>0 else 'negative'"
      ],
      "metadata": {
        "id": "4iH97xbLAE5O"
      },
      "execution_count": null,
      "outputs": []
    },
    {
      "cell_type": "code",
      "source": [
        "z = lambda x: str(x)[::-1]"
      ],
      "metadata": {
        "id": "d4uFVTfmAVwV"
      },
      "execution_count": 8,
      "outputs": []
    },
    {
      "cell_type": "code",
      "source": [
        "print(z(234678))"
      ],
      "metadata": {
        "colab": {
          "base_uri": "https://localhost:8080/"
        },
        "id": "q4xDuRTbAdV0",
        "outputId": "de2dd1f7-417b-42c1-b946-b3728e9a022d"
      },
      "execution_count": 9,
      "outputs": [
        {
          "output_type": "stream",
          "name": "stdout",
          "text": [
            "876432\n"
          ]
        }
      ]
    },
    {
      "cell_type": "markdown",
      "source": [
        "Lambda with List Comprehension"
      ],
      "metadata": {
        "id": "YOVmnapNAVER"
      }
    },
    {
      "cell_type": "code",
      "source": [
        "z = [lambda arg=x: arg*10 for x in range(1, 5)]\n",
        "for i in z:\n",
        "  print(i())"
      ],
      "metadata": {
        "colab": {
          "base_uri": "https://localhost:8080/"
        },
        "id": "8e7RfcKmB3Xj",
        "outputId": "5deec89e-e8c6-4d45-f33d-6bda44fe1843"
      },
      "execution_count": 11,
      "outputs": [
        {
          "output_type": "stream",
          "name": "stdout",
          "text": [
            "10\n",
            "20\n",
            "30\n",
            "40\n"
          ]
        }
      ]
    },
    {
      "cell_type": "code",
      "source": [
        "# Example: Check if a number is even or odd\n",
        "check = lambda x: \"Even\" if x % 2 == 0 else \"Odd\"\n",
        "\n",
        "print(check(4))\n",
        "print(check(7))"
      ],
      "metadata": {
        "colab": {
          "base_uri": "https://localhost:8080/"
        },
        "id": "inzobGMqDqGj",
        "outputId": "7be2a64c-7e18-4cec-df08-a00fb2fdaf80"
      },
      "execution_count": 12,
      "outputs": [
        {
          "output_type": "stream",
          "name": "stdout",
          "text": [
            "Even\n",
            "Odd\n"
          ]
        }
      ]
    },
    {
      "cell_type": "code",
      "source": [
        "# Example: Perform addition and multiplication in a single line\n",
        "calc = lambda x, y: (x + y, x * y)\n",
        "\n",
        "res = calc(3, 4)\n",
        "print(res)"
      ],
      "metadata": {
        "colab": {
          "base_uri": "https://localhost:8080/"
        },
        "id": "EpU9yUSOD55G",
        "outputId": "5d2bf0f2-e6e5-4e8f-8968-37916232edf2"
      },
      "execution_count": 13,
      "outputs": [
        {
          "output_type": "stream",
          "name": "stdout",
          "text": [
            "(7, 12)\n"
          ]
        }
      ]
    },
    {
      "cell_type": "markdown",
      "source": [
        "if the strings has too much space between words or lettrs how to cut down"
      ],
      "metadata": {
        "id": "9bu40DNHN2TG"
      }
    },
    {
      "cell_type": "code",
      "source": [
        "text = \"Hello     this    has     too   many spaces\"\n",
        "f = \" \".join(text.split())\n",
        "print(f)"
      ],
      "metadata": {
        "colab": {
          "base_uri": "https://localhost:8080/"
        },
        "id": "ahvQOF-6D7_T",
        "outputId": "ef7f39f9-ccc4-45ed-b64c-b3b31971a7f7"
      },
      "execution_count": 15,
      "outputs": [
        {
          "output_type": "stream",
          "name": "stdout",
          "text": [
            "Hello this has too many spaces\n"
          ]
        }
      ]
    },
    {
      "cell_type": "code",
      "source": [
        "text = \"H e l l o,   W o r l d\"\n",
        "f= ' '.join(text.split())\n",
        "print(f)"
      ],
      "metadata": {
        "colab": {
          "base_uri": "https://localhost:8080/"
        },
        "id": "f1rjsmxBUK63",
        "outputId": "51a16675-1204-43f4-e7d4-71f10b940447"
      },
      "execution_count": 20,
      "outputs": [
        {
          "output_type": "stream",
          "name": "stdout",
          "text": [
            "H e l l o, W o r l d\n"
          ]
        }
      ]
    },
    {
      "cell_type": "markdown",
      "source": [
        "T check if a string is emty\n"
      ],
      "metadata": {
        "id": "WcihMpnLW5EJ"
      }
    },
    {
      "cell_type": "code",
      "source": [
        "s= ''\n",
        "if len(s)==0:\n",
        "  print('empty')\n",
        "else:\n",
        "  print('not')"
      ],
      "metadata": {
        "colab": {
          "base_uri": "https://localhost:8080/"
        },
        "id": "QfBJPtVAW7eZ",
        "outputId": "5a04b1af-c5c5-45f6-f79a-78ef6eb022b6"
      },
      "execution_count": 21,
      "outputs": [
        {
          "output_type": "stream",
          "name": "stdout",
          "text": [
            "empty\n"
          ]
        }
      ]
    },
    {
      "cell_type": "markdown",
      "source": [
        "challenge calculator"
      ],
      "metadata": {
        "id": "AWILWexI0ux0"
      }
    },
    {
      "cell_type": "code",
      "source": [
        "def solution ():\n",
        "   option = int(input())\n",
        "   if option==6:\n",
        "       return\n",
        "   if option>=7:\n",
        "       print(\"Invalid Operation\")\n",
        "       return solution()\n",
        "\n",
        "\n",
        "   num1 = int(input())\n",
        "   num2 = int(input())\n",
        "\n",
        "\n",
        "   if option==1:\n",
        "       print(num1+num2)\n",
        "   elif option==2:\n",
        "       print(num1-num2)\n",
        "   elif option==3:\n",
        "       print(num1*num2)\n",
        "   elif option==4:\n",
        "       print(num1//num2)\n",
        "   elif option==5:\n",
        "       print(num1%num2)\n",
        "\n",
        "\n",
        "   return solution()\n",
        "solution()"
      ],
      "metadata": {
        "id": "UmLHg9wH0tUL"
      },
      "execution_count": null,
      "outputs": []
    }
  ]
}