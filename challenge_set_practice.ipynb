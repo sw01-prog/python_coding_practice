{
  "nbformat": 4,
  "nbformat_minor": 0,
  "metadata": {
    "colab": {
      "provenance": [],
      "include_colab_link": true
    },
    "kernelspec": {
      "name": "python3",
      "display_name": "Python 3"
    },
    "language_info": {
      "name": "python"
    }
  },
  "cells": [
    {
      "cell_type": "markdown",
      "metadata": {
        "id": "view-in-github",
        "colab_type": "text"
      },
      "source": [
        "<a href=\"https://colab.research.google.com/github/sw01-prog/python_coding_practice/blob/main/challenge_set_practice.ipynb\" target=\"_parent\"><img src=\"https://colab.research.google.com/assets/colab-badge.svg\" alt=\"Open In Colab\"/></a>"
      ]
    },
    {
      "cell_type": "markdown",
      "source": [
        "Fibonacci series"
      ],
      "metadata": {
        "id": "lq1HSmRICQIA"
      }
    },
    {
      "cell_type": "code",
      "source": [
        "n=int(input())"
      ],
      "metadata": {
        "colab": {
          "base_uri": "https://localhost:8080/"
        },
        "id": "dt4uIRXjCtlr",
        "outputId": "b8b72f22-211e-4d96-a72d-4d1c521bc38d"
      },
      "execution_count": null,
      "outputs": [
        {
          "name": "stdout",
          "output_type": "stream",
          "text": [
            "7\n"
          ]
        }
      ]
    },
    {
      "cell_type": "code",
      "execution_count": null,
      "metadata": {
        "colab": {
          "base_uri": "https://localhost:8080/"
        },
        "id": "cyg4KEtsCLHJ",
        "outputId": "424cefbe-507a-4d05-fc3e-366909ee0728"
      },
      "outputs": [
        {
          "output_type": "stream",
          "name": "stdout",
          "text": [
            "13\n"
          ]
        }
      ],
      "source": [
        "def fibonacci(n):\n",
        " if n==1 or n==2:\n",
        "  return 1\n",
        " else:\n",
        "  return fibonacci(n-1)+fibonacci(n-2)\n",
        "\n",
        "print(fibonacci(n))"
      ]
    },
    {
      "cell_type": "markdown",
      "source": [
        "Sum of even and odd numbers"
      ],
      "metadata": {
        "id": "DG8yLltIDUmt"
      }
    },
    {
      "cell_type": "code",
      "source": [
        "l1=[1,2,3,4,5,6,7,8]\n",
        "even_sum =0\n",
        "odd_sum = 0\n",
        "\n",
        "def sum_even_odd(l1):\n",
        " even_sum =0\n",
        " odd_sum = 0\n",
        " for i in l1:\n",
        "  if i%2==0:\n",
        "   print(even_sum+=i)\n",
        "\n",
        "\n",
        "  else:\n",
        "   print(odd_sum+=i)\n",
        "\n",
        "\n",
        "sum_even_odd(l1) # call the function to execute it"
      ],
      "metadata": {
        "colab": {
          "base_uri": "https://localhost:8080/",
          "height": 106
        },
        "id": "ZYJiE70PDY8T",
        "outputId": "85e7684b-52d0-4246-a9b8-c687e7026699"
      },
      "execution_count": null,
      "outputs": [
        {
          "output_type": "error",
          "ename": "SyntaxError",
          "evalue": "invalid syntax (ipython-input-2029275473.py, line 10)",
          "traceback": [
            "\u001b[0;36m  File \u001b[0;32m\"/tmp/ipython-input-2029275473.py\"\u001b[0;36m, line \u001b[0;32m10\u001b[0m\n\u001b[0;31m    print(even_sum+=i)\u001b[0m\n\u001b[0m                  ^\u001b[0m\n\u001b[0;31mSyntaxError\u001b[0m\u001b[0;31m:\u001b[0m invalid syntax\n"
          ]
        }
      ]
    },
    {
      "cell_type": "code",
      "source": [
        "l1=[1,2,3,4,5,6,7,8]\n",
        "#even_sum =0\n",
        "#odd_sum = 0\n",
        "\n",
        "def sum_even_odd(l1):\n",
        " even_sum =0\n",
        " odd_sum = 0\n",
        " for i in l1:\n",
        "  if i%2==0:\n",
        "   even_sum+=i\n",
        "  elif i%2!=0:\n",
        "   odd_sum+=i\n",
        "\n",
        " return(even_sum,odd_sum)\n",
        "\n",
        "even_sum, odd_sum = sum_even_odd(l1)\n",
        "print(even_sum, odd_sum)\n"
      ],
      "metadata": {
        "colab": {
          "base_uri": "https://localhost:8080/",
          "height": 332
        },
        "id": "4Rzv8RlEGZ_b",
        "outputId": "e8e50830-02b1-4362-caba-280f40ecf6ac"
      },
      "execution_count": null,
      "outputs": [
        {
          "output_type": "error",
          "ename": "UnboundLocalError",
          "evalue": "cannot access local variable 'odd_sum' where it is not associated with a value",
          "traceback": [
            "\u001b[0;31m---------------------------------------------------------------------------\u001b[0m",
            "\u001b[0;31mUnboundLocalError\u001b[0m                         Traceback (most recent call last)",
            "\u001b[0;32m/tmp/ipython-input-4256493178.py\u001b[0m in \u001b[0;36m<cell line: 0>\u001b[0;34m()\u001b[0m\n\u001b[1;32m     13\u001b[0m  \u001b[0;32mreturn\u001b[0m\u001b[0;34m(\u001b[0m\u001b[0meven_sum\u001b[0m\u001b[0;34m,\u001b[0m\u001b[0modd_sum\u001b[0m\u001b[0;34m)\u001b[0m\u001b[0;34m\u001b[0m\u001b[0;34m\u001b[0m\u001b[0m\n\u001b[1;32m     14\u001b[0m \u001b[0;34m\u001b[0m\u001b[0m\n\u001b[0;32m---> 15\u001b[0;31m \u001b[0meven_sum\u001b[0m\u001b[0;34m,\u001b[0m \u001b[0modd_sum\u001b[0m \u001b[0;34m=\u001b[0m \u001b[0msum_even_odd\u001b[0m\u001b[0;34m(\u001b[0m\u001b[0ml1\u001b[0m\u001b[0;34m)\u001b[0m\u001b[0;34m\u001b[0m\u001b[0;34m\u001b[0m\u001b[0m\n\u001b[0m\u001b[1;32m     16\u001b[0m \u001b[0mprint\u001b[0m\u001b[0;34m(\u001b[0m\u001b[0meven_sum\u001b[0m\u001b[0;34m,\u001b[0m \u001b[0modd_sum\u001b[0m\u001b[0;34m)\u001b[0m\u001b[0;34m\u001b[0m\u001b[0;34m\u001b[0m\u001b[0m\n\u001b[1;32m     17\u001b[0m \u001b[0;34m\u001b[0m\u001b[0m\n",
            "\u001b[0;32m/tmp/ipython-input-4256493178.py\u001b[0m in \u001b[0;36msum_even_odd\u001b[0;34m(l1)\u001b[0m\n\u001b[1;32m      9\u001b[0m    \u001b[0meven_sum\u001b[0m\u001b[0;34m+=\u001b[0m\u001b[0mi\u001b[0m\u001b[0;34m\u001b[0m\u001b[0;34m\u001b[0m\u001b[0m\n\u001b[1;32m     10\u001b[0m   \u001b[0;32melif\u001b[0m \u001b[0mi\u001b[0m\u001b[0;34m%\u001b[0m\u001b[0;36m2\u001b[0m\u001b[0;34m!=\u001b[0m\u001b[0;36m0\u001b[0m\u001b[0;34m:\u001b[0m\u001b[0;34m\u001b[0m\u001b[0;34m\u001b[0m\u001b[0m\n\u001b[0;32m---> 11\u001b[0;31m    \u001b[0modd_sum\u001b[0m\u001b[0;34m+=\u001b[0m\u001b[0mi\u001b[0m\u001b[0;34m\u001b[0m\u001b[0;34m\u001b[0m\u001b[0m\n\u001b[0m\u001b[1;32m     12\u001b[0m \u001b[0;34m\u001b[0m\u001b[0m\n\u001b[1;32m     13\u001b[0m  \u001b[0;32mreturn\u001b[0m\u001b[0;34m(\u001b[0m\u001b[0meven_sum\u001b[0m\u001b[0;34m,\u001b[0m\u001b[0modd_sum\u001b[0m\u001b[0;34m)\u001b[0m\u001b[0;34m\u001b[0m\u001b[0;34m\u001b[0m\u001b[0m\n",
            "\u001b[0;31mUnboundLocalError\u001b[0m: cannot access local variable 'odd_sum' where it is not associated with a value"
          ]
        }
      ]
    },
    {
      "cell_type": "markdown",
      "source": [
        "the error happens because of Python’s variable scope rules.\n",
        "\n",
        "Inside your function sum_even_odd,\n",
        "\n",
        "When you write even_sum += i or odd_sum += i,\n",
        "Python assumes even_sum and odd_sum are local variables to the function.\n",
        "\n",
        "But you never created them inside the function, so they are “unbound” → hence UnboundLocalError."
      ],
      "metadata": {
        "id": "S0PsIwZDHz-z"
      }
    },
    {
      "cell_type": "code",
      "source": [
        "l1=[1,2,3,4,5,6,7,8]\n",
        "#even_sum =0\n",
        "#odd_sum = 0\n",
        "\n",
        "def sum_even_odd(l1):\n",
        " even_sum =0\n",
        " odd_sum = 0\n",
        " for i in l1:\n",
        "  if i%2==0:\n",
        "   even_sum+=i\n",
        "  elif i%2!=0:\n",
        "   odd_sum+=i\n",
        "\n",
        " return(even_sum,odd_sum)\n",
        "\n",
        "even_sum, odd_sum = sum_even_odd(l1)\n",
        "print(even_sum, odd_sum)"
      ],
      "metadata": {
        "colab": {
          "base_uri": "https://localhost:8080/"
        },
        "id": "YbboW0ZWHxfS",
        "outputId": "83f12e25-ff24-45b9-ee8d-1a601aab3ec5"
      },
      "execution_count": null,
      "outputs": [
        {
          "output_type": "stream",
          "name": "stdout",
          "text": [
            "20 16\n"
          ]
        }
      ]
    },
    {
      "cell_type": "markdown",
      "source": [
        "Palindrome number"
      ],
      "metadata": {
        "id": "e1aGunJuH-f7"
      }
    },
    {
      "cell_type": "code",
      "source": [
        "l1=[1,2,1]\n",
        "\n",
        "def check_palindrome(l1):\n",
        " string_m= ''.join(l1)\n",
        " if string_m == string_m[::-1]:\n",
        "  print('Palindrome')\n",
        " else:\n",
        "  print('Not Palindrome')\n",
        "check_palindrome(l1)"
      ],
      "metadata": {
        "colab": {
          "base_uri": "https://localhost:8080/",
          "height": 297
        },
        "id": "q1fljEUkJJAV",
        "outputId": "8de6505c-6b26-48b6-a07f-4bace30822f2"
      },
      "execution_count": null,
      "outputs": [
        {
          "output_type": "error",
          "ename": "TypeError",
          "evalue": "sequence item 0: expected str instance, int found",
          "traceback": [
            "\u001b[0;31m---------------------------------------------------------------------------\u001b[0m",
            "\u001b[0;31mTypeError\u001b[0m                                 Traceback (most recent call last)",
            "\u001b[0;32m/tmp/ipython-input-765302902.py\u001b[0m in \u001b[0;36m<cell line: 0>\u001b[0;34m()\u001b[0m\n\u001b[1;32m      7\u001b[0m  \u001b[0;32melse\u001b[0m\u001b[0;34m:\u001b[0m\u001b[0;34m\u001b[0m\u001b[0;34m\u001b[0m\u001b[0m\n\u001b[1;32m      8\u001b[0m   \u001b[0mprint\u001b[0m\u001b[0;34m(\u001b[0m\u001b[0;34m'Not Palindrome'\u001b[0m\u001b[0;34m)\u001b[0m\u001b[0;34m\u001b[0m\u001b[0;34m\u001b[0m\u001b[0m\n\u001b[0;32m----> 9\u001b[0;31m \u001b[0mcheck_palindrome\u001b[0m\u001b[0;34m(\u001b[0m\u001b[0ml1\u001b[0m\u001b[0;34m)\u001b[0m\u001b[0;34m\u001b[0m\u001b[0;34m\u001b[0m\u001b[0m\n\u001b[0m",
            "\u001b[0;32m/tmp/ipython-input-765302902.py\u001b[0m in \u001b[0;36mcheck_palindrome\u001b[0;34m(l1)\u001b[0m\n\u001b[1;32m      2\u001b[0m \u001b[0;34m\u001b[0m\u001b[0m\n\u001b[1;32m      3\u001b[0m \u001b[0;32mdef\u001b[0m \u001b[0mcheck_palindrome\u001b[0m\u001b[0;34m(\u001b[0m\u001b[0ml1\u001b[0m\u001b[0;34m)\u001b[0m\u001b[0;34m:\u001b[0m\u001b[0;34m\u001b[0m\u001b[0;34m\u001b[0m\u001b[0m\n\u001b[0;32m----> 4\u001b[0;31m  \u001b[0mstring_m\u001b[0m\u001b[0;34m=\u001b[0m \u001b[0;34m''\u001b[0m\u001b[0;34m.\u001b[0m\u001b[0mjoin\u001b[0m\u001b[0;34m(\u001b[0m\u001b[0ml1\u001b[0m\u001b[0;34m)\u001b[0m\u001b[0;34m\u001b[0m\u001b[0;34m\u001b[0m\u001b[0m\n\u001b[0m\u001b[1;32m      5\u001b[0m  \u001b[0;32mif\u001b[0m \u001b[0mstring_m\u001b[0m \u001b[0;34m==\u001b[0m \u001b[0mstring_m\u001b[0m\u001b[0;34m[\u001b[0m\u001b[0;34m:\u001b[0m\u001b[0;34m:\u001b[0m\u001b[0;34m-\u001b[0m\u001b[0;36m1\u001b[0m\u001b[0;34m]\u001b[0m\u001b[0;34m:\u001b[0m\u001b[0;34m\u001b[0m\u001b[0;34m\u001b[0m\u001b[0m\n\u001b[1;32m      6\u001b[0m   \u001b[0mprint\u001b[0m\u001b[0;34m(\u001b[0m\u001b[0;34m'Palindrome'\u001b[0m\u001b[0;34m)\u001b[0m\u001b[0;34m\u001b[0m\u001b[0;34m\u001b[0m\u001b[0m\n",
            "\u001b[0;31mTypeError\u001b[0m: sequence item 0: expected str instance, int found"
          ]
        }
      ]
    },
    {
      "cell_type": "markdown",
      "source": [
        "The error happens because ''.join() only works on sequences of strings, but your list l1 contains integers.\n",
        "\n"
      ],
      "metadata": {
        "id": "-lG6DNq1MiAx"
      }
    },
    {
      "cell_type": "code",
      "source": [
        "l1 = [1, 2, 1]\n",
        "\n",
        "def check_palindrome(l1):\n",
        "    # Convert all integers to strings first\n",
        "    string_m = ''.join(map(str, l1))\n",
        "    if string_m == string_m[::-1]:\n",
        "        print('Palindrome')\n",
        "    else:\n",
        "        print('Not Palindrome')\n",
        "\n",
        "check_palindrome(l1)\n"
      ],
      "metadata": {
        "colab": {
          "base_uri": "https://localhost:8080/"
        },
        "id": "msIZViUrMjJs",
        "outputId": "c12f085b-fd90-4961-b1bb-f98d1fc74b9b"
      },
      "execution_count": null,
      "outputs": [
        {
          "output_type": "stream",
          "name": "stdout",
          "text": [
            "Palindrome\n"
          ]
        }
      ]
    },
    {
      "cell_type": "markdown",
      "source": [
        "one more thing to check"
      ],
      "metadata": {
        "id": "r_o1-8PvMv83"
      }
    },
    {
      "cell_type": "code",
      "source": [
        "l1 = [1, 2, 1]\n",
        "\n",
        "def check_palindrome(l1):\n",
        "    # Convert all integers to strings first\n",
        "    string_m = ''.join(map(str, l1))\n",
        "    if string_m == string_m[::-1]:\n",
        "        return True\n",
        "    else:\n",
        "        return False\n",
        "\n",
        "print(check_palindrome(l1))"
      ],
      "metadata": {
        "colab": {
          "base_uri": "https://localhost:8080/"
        },
        "id": "5COseFF1M0SA",
        "outputId": "e6fdb29a-baf1-461d-fa11-52ed21751625"
      },
      "execution_count": null,
      "outputs": [
        {
          "output_type": "stream",
          "name": "stdout",
          "text": [
            "True\n"
          ]
        }
      ]
    },
    {
      "cell_type": "code",
      "source": [
        "l1 = [1, 2, 1]\n",
        "\n",
        "def check_palindrome(l1):\n",
        "    # Convert all integers to strings first\n",
        "    string_m = ''.join(map(str, l1))\n",
        "    if string_m == string_m[::-1]:\n",
        "        return True\n",
        "    else:\n",
        "        return False\n",
        "\n",
        "check_palindrome(l1)"
      ],
      "metadata": {
        "colab": {
          "base_uri": "https://localhost:8080/"
        },
        "id": "_FRFm1VENEJm",
        "outputId": "dfa1124a-8afa-496b-a89e-31bdab2dc445"
      },
      "execution_count": null,
      "outputs": [
        {
          "output_type": "execute_result",
          "data": {
            "text/plain": [
              "True"
            ]
          },
          "metadata": {},
          "execution_count": 29
        }
      ]
    },
    {
      "cell_type": "markdown",
      "source": [
        "string reverse"
      ],
      "metadata": {
        "id": "zA91aJklPKtx"
      }
    },
    {
      "cell_type": "code",
      "source": [
        "n= input()\n",
        "def reverse(n):\n",
        " rev= int(str(n)[::-1])  # int() removes leading zeros\n",
        " return rev\n",
        "reverse(n)"
      ],
      "metadata": {
        "colab": {
          "base_uri": "https://localhost:8080/"
        },
        "id": "9WCVzLSfPMdc",
        "outputId": "f1832de6-9895-4921-d1ed-c4b23ba6fa8c"
      },
      "execution_count": null,
      "outputs": [
        {
          "name": "stdout",
          "output_type": "stream",
          "text": [
            "4678\n"
          ]
        },
        {
          "output_type": "execute_result",
          "data": {
            "text/plain": [
              "8764"
            ]
          },
          "metadata": {},
          "execution_count": 31
        }
      ]
    },
    {
      "cell_type": "markdown",
      "source": [
        "Calculator based on conditions"
      ],
      "metadata": {
        "id": "3y-JAKp39pwt"
      }
    },
    {
      "cell_type": "code",
      "source": [
        "n= int(input())\n",
        "\n",
        "def simple_calculator(n):\n",
        "\n",
        " for _ in range(n):\n",
        "  op= int(input())\n",
        "\n",
        "  if op==6:\n",
        "   break\n",
        "\n",
        "  if op>=1 and op<=5:\n",
        "   a=int(input())\n",
        "   b=int(input())\n",
        "\n",
        "   if op==1:\n",
        "    print(a+b)\n",
        "   elif op==2:\n",
        "    print(a-b)\n",
        "   elif op==3:\n",
        "    print(a*b)\n",
        "   elif op==4:\n",
        "    print(a//b)\n",
        "   elif op==5:\n",
        "    print(a%b)\n",
        "\n",
        "  else:\n",
        "   print('invalid')\n",
        "   break\n",
        "\n",
        "#simple_calculator(n)"
      ],
      "metadata": {
        "colab": {
          "base_uri": "https://localhost:8080/"
        },
        "id": "UhCQtcIm94eK",
        "outputId": "69e44065-2846-48e0-d911-e156d060e506"
      },
      "execution_count": null,
      "outputs": [
        {
          "name": "stdout",
          "output_type": "stream",
          "text": [
            "3\n"
          ]
        }
      ]
    },
    {
      "cell_type": "code",
      "source": [
        "\n",
        "simple_calculator(n)"
      ],
      "metadata": {
        "id": "yyexzkDBDf4k"
      },
      "execution_count": null,
      "outputs": []
    },
    {
      "cell_type": "code",
      "source": [
        "def simple_calculator(n):\n",
        "    for _ in range(n):\n",
        "        op = int(input())  # Operation code\n",
        "\n",
        "        if op == 6:\n",
        "            break  # Exit immediately\n",
        "\n",
        "        if 1 <= op <= 5:\n",
        "            a = int(input())\n",
        "            b = int(input())\n",
        "\n",
        "            if op == 1:\n",
        "                print(a + b)\n",
        "            elif op == 2:\n",
        "                print(a - b)\n",
        "            elif op == 3:\n",
        "                print(a * b)\n",
        "            elif op == 4:\n",
        "                print(a // b)  # Integer division\n",
        "            elif op == 5:\n",
        "                print(a % b)\n",
        "        else:\n",
        "            print(\"Invalid Operation\")\n",
        "\n",
        "\n",
        "# Example usage\n",
        "n = int(input())  # Number of operations\n",
        "simple_calculator(n)\n"
      ],
      "metadata": {
        "colab": {
          "base_uri": "https://localhost:8080/"
        },
        "id": "SAmjsaQYDvJI",
        "outputId": "ac895261-5c03-4fcc-a0b7-09fefa2f0752"
      },
      "execution_count": null,
      "outputs": [
        {
          "output_type": "stream",
          "name": "stdout",
          "text": [
            "1\n",
            "2\n",
            "4\n",
            "4\n",
            "0\n"
          ]
        }
      ]
    },
    {
      "cell_type": "code",
      "source": [
        "# Number of operations\n",
        "n = int(input())\n",
        "\n",
        "for _ in range(n):\n",
        "    op = int(input())  # Operation code\n",
        "\n",
        "    if op == 6:\n",
        "        break  # Exit the program\n",
        "\n",
        "    if op >= 1 and op <= 5:\n",
        "        a = int(input())\n",
        "        b = int(input())\n",
        "\n",
        "        if op == 1:\n",
        "            print(a + b)\n",
        "        elif op == 2:\n",
        "            print(a - b)\n",
        "        elif op == 3:\n",
        "            print(a * b)\n",
        "        elif op == 4:\n",
        "            print(a // b)  # Integer division\n",
        "        elif op == 5:\n",
        "            print(a % b)\n",
        "\n",
        "    else:\n",
        "        print(\"Invalid Operation\")\n"
      ],
      "metadata": {
        "colab": {
          "base_uri": "https://localhost:8080/",
          "height": 443
        },
        "id": "3uLrYroFB21m",
        "outputId": "e6b2b28d-2e25-45dc-ba37-3a8db3964c44"
      },
      "execution_count": null,
      "outputs": [
        {
          "output_type": "stream",
          "name": "stdout",
          "text": [
            "4\n",
            "1\n",
            "2\n",
            "4\n",
            "6\n"
          ]
        },
        {
          "output_type": "error",
          "ename": "KeyboardInterrupt",
          "evalue": "Interrupted by user",
          "traceback": [
            "\u001b[0;31m---------------------------------------------------------------------------\u001b[0m",
            "\u001b[0;31mKeyboardInterrupt\u001b[0m                         Traceback (most recent call last)",
            "\u001b[0;32m/tmp/ipython-input-1784660673.py\u001b[0m in \u001b[0;36m<cell line: 0>\u001b[0;34m()\u001b[0m\n\u001b[1;32m      3\u001b[0m \u001b[0;34m\u001b[0m\u001b[0m\n\u001b[1;32m      4\u001b[0m \u001b[0;32mfor\u001b[0m \u001b[0m_\u001b[0m \u001b[0;32min\u001b[0m \u001b[0mrange\u001b[0m\u001b[0;34m(\u001b[0m\u001b[0mn\u001b[0m\u001b[0;34m)\u001b[0m\u001b[0;34m:\u001b[0m\u001b[0;34m\u001b[0m\u001b[0;34m\u001b[0m\u001b[0m\n\u001b[0;32m----> 5\u001b[0;31m     \u001b[0mop\u001b[0m \u001b[0;34m=\u001b[0m \u001b[0mint\u001b[0m\u001b[0;34m(\u001b[0m\u001b[0minput\u001b[0m\u001b[0;34m(\u001b[0m\u001b[0;34m)\u001b[0m\u001b[0;34m)\u001b[0m  \u001b[0;31m# Operation code\u001b[0m\u001b[0;34m\u001b[0m\u001b[0;34m\u001b[0m\u001b[0m\n\u001b[0m\u001b[1;32m      6\u001b[0m \u001b[0;34m\u001b[0m\u001b[0m\n\u001b[1;32m      7\u001b[0m     \u001b[0;32mif\u001b[0m \u001b[0mop\u001b[0m \u001b[0;34m==\u001b[0m \u001b[0;36m6\u001b[0m\u001b[0;34m:\u001b[0m\u001b[0;34m\u001b[0m\u001b[0;34m\u001b[0m\u001b[0m\n",
            "\u001b[0;32m/usr/local/lib/python3.11/dist-packages/ipykernel/kernelbase.py\u001b[0m in \u001b[0;36mraw_input\u001b[0;34m(self, prompt)\u001b[0m\n\u001b[1;32m   1175\u001b[0m                 \u001b[0;34m\"raw_input was called, but this frontend does not support input requests.\"\u001b[0m\u001b[0;34m\u001b[0m\u001b[0;34m\u001b[0m\u001b[0m\n\u001b[1;32m   1176\u001b[0m             )\n\u001b[0;32m-> 1177\u001b[0;31m         return self._input_request(\n\u001b[0m\u001b[1;32m   1178\u001b[0m             \u001b[0mstr\u001b[0m\u001b[0;34m(\u001b[0m\u001b[0mprompt\u001b[0m\u001b[0;34m)\u001b[0m\u001b[0;34m,\u001b[0m\u001b[0;34m\u001b[0m\u001b[0;34m\u001b[0m\u001b[0m\n\u001b[1;32m   1179\u001b[0m             \u001b[0mself\u001b[0m\u001b[0;34m.\u001b[0m\u001b[0m_parent_ident\u001b[0m\u001b[0;34m[\u001b[0m\u001b[0;34m\"shell\"\u001b[0m\u001b[0;34m]\u001b[0m\u001b[0;34m,\u001b[0m\u001b[0;34m\u001b[0m\u001b[0;34m\u001b[0m\u001b[0m\n",
            "\u001b[0;32m/usr/local/lib/python3.11/dist-packages/ipykernel/kernelbase.py\u001b[0m in \u001b[0;36m_input_request\u001b[0;34m(self, prompt, ident, parent, password)\u001b[0m\n\u001b[1;32m   1217\u001b[0m             \u001b[0;32mexcept\u001b[0m \u001b[0mKeyboardInterrupt\u001b[0m\u001b[0;34m:\u001b[0m\u001b[0;34m\u001b[0m\u001b[0;34m\u001b[0m\u001b[0m\n\u001b[1;32m   1218\u001b[0m                 \u001b[0;31m# re-raise KeyboardInterrupt, to truncate traceback\u001b[0m\u001b[0;34m\u001b[0m\u001b[0;34m\u001b[0m\u001b[0m\n\u001b[0;32m-> 1219\u001b[0;31m                 \u001b[0;32mraise\u001b[0m \u001b[0mKeyboardInterrupt\u001b[0m\u001b[0;34m(\u001b[0m\u001b[0;34m\"Interrupted by user\"\u001b[0m\u001b[0;34m)\u001b[0m \u001b[0;32mfrom\u001b[0m \u001b[0;32mNone\u001b[0m\u001b[0;34m\u001b[0m\u001b[0;34m\u001b[0m\u001b[0m\n\u001b[0m\u001b[1;32m   1220\u001b[0m             \u001b[0;32mexcept\u001b[0m \u001b[0mException\u001b[0m\u001b[0;34m:\u001b[0m\u001b[0;34m\u001b[0m\u001b[0;34m\u001b[0m\u001b[0m\n\u001b[1;32m   1221\u001b[0m                 \u001b[0mself\u001b[0m\u001b[0;34m.\u001b[0m\u001b[0mlog\u001b[0m\u001b[0;34m.\u001b[0m\u001b[0mwarning\u001b[0m\u001b[0;34m(\u001b[0m\u001b[0;34m\"Invalid Message:\"\u001b[0m\u001b[0;34m,\u001b[0m \u001b[0mexc_info\u001b[0m\u001b[0;34m=\u001b[0m\u001b[0;32mTrue\u001b[0m\u001b[0;34m)\u001b[0m\u001b[0;34m\u001b[0m\u001b[0;34m\u001b[0m\u001b[0m\n",
            "\u001b[0;31mKeyboardInterrupt\u001b[0m: Interrupted by user"
          ]
        }
      ]
    },
    {
      "cell_type": "code",
      "source": [
        "n = int(input())\n",
        "for _ in range(n):\n",
        "    choice = int(input())\n",
        "    if choice == 1:\n",
        "        num1 = int(input())\n",
        "        num2 = int(input())\n",
        "        print(num1 + num2)\n",
        "    elif choice == 2:\n",
        "        num1 = int(input())\n",
        "        num2 = int(input())\n",
        "        print(num1 - num2)\n",
        "    elif choice == 3:\n",
        "        num1 = int(input())\n",
        "        num2 = int(input())\n",
        "        print(num1 * num2)\n",
        "    elif choice == 4:\n",
        "        num1 = int(input())\n",
        "        num2 = int(input())\n",
        "        # To handle potential division by zero, though constraints\n",
        "        # might imply this won't happen.\n",
        "        if num2 != 0:\n",
        "            print(num1 // num2)\n",
        "        else:\n",
        "            print(\"Error: Division by zero\")\n",
        "    elif choice == 5:\n",
        "        num1 = int(input())\n",
        "        num2 = int(input())\n",
        "        # To handle potential modulo by zero.\n",
        "        if num2 != 0:\n",
        "            print(num1 % num2)\n",
        "        else:\n",
        "            print(\"Error: Modulo by zero\")\n",
        "    elif choice == 6:\n",
        "        break\n",
        "    else:\n",
        "        print(\"Invalid Operation\")"
      ],
      "metadata": {
        "colab": {
          "base_uri": "https://localhost:8080/"
        },
        "id": "RW8m-JssGZ2p",
        "outputId": "fd2751ec-0bdc-426b-fede-e7f9c06121e1"
      },
      "execution_count": null,
      "outputs": [
        {
          "output_type": "stream",
          "name": "stdout",
          "text": [
            "3\n",
            "1\n",
            "2\n",
            "4\n",
            "6\n",
            "2\n",
            "1\n",
            "3\n",
            "-2\n",
            "2\n",
            "6\n",
            "7\n",
            "-1\n"
          ]
        }
      ]
    },
    {
      "cell_type": "markdown",
      "source": [
        "Sol provided by manshu based on calculator based on condition"
      ],
      "metadata": {
        "id": "8YEc9bgmO0Nk"
      }
    },
    {
      "cell_type": "code",
      "source": [
        "def solution ():\n",
        "   option = int(input())\n",
        "   if option==6:\n",
        "       return\n",
        "   if option>=7:\n",
        "       print(\"Invalid Operation\")\n",
        "       return solution()\n",
        "\n",
        "\n",
        "   num1 = int(input())\n",
        "   num2 = int(input())\n",
        "\n",
        "\n",
        "   if option==1:\n",
        "       print(num1+num2)\n",
        "   elif option==2:\n",
        "       print(num1-num2)\n",
        "   elif option==3:\n",
        "       print(num1*num2)\n",
        "   elif option==4:\n",
        "       print(num1//num2)\n",
        "   elif option==5:\n",
        "       print(num1%num2)\n",
        "\n",
        "\n",
        "   return solution()\n",
        "solution()\n"
      ],
      "metadata": {
        "id": "cS1m-dk8O7B3"
      },
      "execution_count": null,
      "outputs": []
    },
    {
      "cell_type": "markdown",
      "source": [
        "Convert fareinheit to celsius"
      ],
      "metadata": {
        "id": "lNWuw8uhJvpM"
      }
    },
    {
      "cell_type": "code",
      "source": [
        "s= int(input())\n",
        "e= int(input())\n",
        "w= int(input())\n",
        "\n",
        "def convrt_to_c(F):\n",
        " return((F-32)*5/9)\n",
        "\n",
        "for F in range(s, e+1, w):\n",
        "  print(convrt_to_c(F))"
      ],
      "metadata": {
        "colab": {
          "base_uri": "https://localhost:8080/"
        },
        "id": "R8TVF_uUKLsX",
        "outputId": "192a129f-71a2-4104-8f14-43241aee0b78"
      },
      "execution_count": null,
      "outputs": [
        {
          "output_type": "stream",
          "name": "stdout",
          "text": [
            "0\n",
            "100\n",
            "20\n",
            "-17.77777777777778\n",
            "-6.666666666666667\n",
            "4.444444444444445\n",
            "15.555555555555555\n",
            "26.666666666666668\n",
            "37.77777777777778\n"
          ]
        }
      ]
    },
    {
      "cell_type": "code",
      "source": [
        "S = int(input())\n",
        "E = int(input())\n",
        "W = int(input())\n",
        "\n",
        "def convrt_to_c(F):\n",
        "    return int((F - 32) * 5 / 9)\n",
        "\n",
        "for F in range(S, E + 1, W):\n",
        "    print(F, convrt_to_c(F))\n"
      ],
      "metadata": {
        "colab": {
          "base_uri": "https://localhost:8080/"
        },
        "id": "mnXzoy9xMKJB",
        "outputId": "928727ae-628a-44cb-8f82-8e8b1b9d4c4d"
      },
      "execution_count": null,
      "outputs": [
        {
          "output_type": "stream",
          "name": "stdout",
          "text": [
            "0\n",
            "100\n",
            "20\n",
            "0 -17\n",
            "20 -6\n",
            "40 4\n",
            "60 15\n",
            "80 26\n",
            "100 37\n"
          ]
        }
      ]
    },
    {
      "cell_type": "markdown",
      "source": [
        "lambda is one liner anonymous function"
      ],
      "metadata": {
        "id": "Oew1cBsf8eqg"
      }
    },
    {
      "cell_type": "markdown",
      "source": [
        "we defined a lambda function(upper) to convert a string to its upper case using upper()."
      ],
      "metadata": {
        "id": "7U15eEKt-7bK"
      }
    },
    {
      "cell_type": "code",
      "source": [
        "s1 = 'geeksforgeeks'\n",
        "s2= lambda func: func.upper()\n",
        "print(s2(s1))"
      ],
      "metadata": {
        "colab": {
          "base_uri": "https://localhost:8080/"
        },
        "id": "ps3Jh-5W8xDA",
        "outputId": "242d6bed-e9b9-489a-e7cd-743d2201c7c5"
      },
      "execution_count": null,
      "outputs": [
        {
          "output_type": "stream",
          "name": "stdout",
          "text": [
            "GEEKSFORGEEKS\n"
          ]
        }
      ]
    },
    {
      "cell_type": "markdown",
      "source": [
        "lambda with Condition Checking\n",
        "- # Example: Check if a number is positive, negative, or zero"
      ],
      "metadata": {
        "id": "rBXY_GNQ_XYP"
      }
    },
    {
      "cell_type": "code",
      "source": [
        "z= lambda x: if x>0 print('positive') else print('negative')"
      ],
      "metadata": {
        "colab": {
          "base_uri": "https://localhost:8080/",
          "height": 106
        },
        "id": "7Ey28yON_qBD",
        "outputId": "7d15728d-8f69-42b9-c6bd-fa2f652c73bb"
      },
      "execution_count": null,
      "outputs": [
        {
          "output_type": "error",
          "ename": "SyntaxError",
          "evalue": "invalid syntax (ipython-input-1359977569.py, line 1)",
          "traceback": [
            "\u001b[0;36m  File \u001b[0;32m\"/tmp/ipython-input-1359977569.py\"\u001b[0;36m, line \u001b[0;32m1\u001b[0m\n\u001b[0;31m    z= lambda x: if x>0 print('positive') else print('negative')\u001b[0m\n\u001b[0m                 ^\u001b[0m\n\u001b[0;31mSyntaxError\u001b[0m\u001b[0;31m:\u001b[0m invalid syntax\n"
          ]
        }
      ]
    },
    {
      "cell_type": "code",
      "source": [
        "z= lambda x: 'positive' if x>0 else 'negative'"
      ],
      "metadata": {
        "id": "4iH97xbLAE5O"
      },
      "execution_count": null,
      "outputs": []
    },
    {
      "cell_type": "code",
      "source": [
        "z = lambda x: str(x)[::-1]"
      ],
      "metadata": {
        "id": "d4uFVTfmAVwV"
      },
      "execution_count": null,
      "outputs": []
    },
    {
      "cell_type": "code",
      "source": [
        "print(z(234678))"
      ],
      "metadata": {
        "colab": {
          "base_uri": "https://localhost:8080/"
        },
        "id": "q4xDuRTbAdV0",
        "outputId": "de2dd1f7-417b-42c1-b946-b3728e9a022d"
      },
      "execution_count": null,
      "outputs": [
        {
          "output_type": "stream",
          "name": "stdout",
          "text": [
            "876432\n"
          ]
        }
      ]
    },
    {
      "cell_type": "markdown",
      "source": [
        "Lambda with List Comprehension"
      ],
      "metadata": {
        "id": "YOVmnapNAVER"
      }
    },
    {
      "cell_type": "code",
      "source": [
        "z = [lambda arg=x: arg*10 for x in range(1, 5)]\n",
        "for i in z:\n",
        "  print(i())"
      ],
      "metadata": {
        "colab": {
          "base_uri": "https://localhost:8080/"
        },
        "id": "8e7RfcKmB3Xj",
        "outputId": "5deec89e-e8c6-4d45-f33d-6bda44fe1843"
      },
      "execution_count": null,
      "outputs": [
        {
          "output_type": "stream",
          "name": "stdout",
          "text": [
            "10\n",
            "20\n",
            "30\n",
            "40\n"
          ]
        }
      ]
    },
    {
      "cell_type": "code",
      "source": [
        "# Example: Check if a number is even or odd\n",
        "check = lambda x: \"Even\" if x % 2 == 0 else \"Odd\"\n",
        "\n",
        "print(check(4))\n",
        "print(check(7))"
      ],
      "metadata": {
        "colab": {
          "base_uri": "https://localhost:8080/"
        },
        "id": "inzobGMqDqGj",
        "outputId": "7be2a64c-7e18-4cec-df08-a00fb2fdaf80"
      },
      "execution_count": null,
      "outputs": [
        {
          "output_type": "stream",
          "name": "stdout",
          "text": [
            "Even\n",
            "Odd\n"
          ]
        }
      ]
    },
    {
      "cell_type": "code",
      "source": [
        "# Example: Perform addition and multiplication in a single line\n",
        "calc = lambda x, y: (x + y, x * y)\n",
        "\n",
        "res = calc(3, 4)\n",
        "print(res)"
      ],
      "metadata": {
        "colab": {
          "base_uri": "https://localhost:8080/"
        },
        "id": "EpU9yUSOD55G",
        "outputId": "5d2bf0f2-e6e5-4e8f-8968-37916232edf2"
      },
      "execution_count": null,
      "outputs": [
        {
          "output_type": "stream",
          "name": "stdout",
          "text": [
            "(7, 12)\n"
          ]
        }
      ]
    },
    {
      "cell_type": "markdown",
      "source": [
        "if the strings has too much space between words or lettrs how to cut down"
      ],
      "metadata": {
        "id": "9bu40DNHN2TG"
      }
    },
    {
      "cell_type": "code",
      "source": [
        "text = \"Hello     this    has     too   many spaces\"\n",
        "f = \" \".join(text.split())\n",
        "print(f)"
      ],
      "metadata": {
        "colab": {
          "base_uri": "https://localhost:8080/"
        },
        "id": "ahvQOF-6D7_T",
        "outputId": "ef7f39f9-ccc4-45ed-b64c-b3b31971a7f7"
      },
      "execution_count": null,
      "outputs": [
        {
          "output_type": "stream",
          "name": "stdout",
          "text": [
            "Hello this has too many spaces\n"
          ]
        }
      ]
    },
    {
      "cell_type": "code",
      "source": [
        "text = \"H e l l o,   W o r l d\"\n",
        "f= ' '.join(text.split())\n",
        "print(f)"
      ],
      "metadata": {
        "colab": {
          "base_uri": "https://localhost:8080/"
        },
        "id": "f1rjsmxBUK63",
        "outputId": "51a16675-1204-43f4-e7d4-71f10b940447"
      },
      "execution_count": null,
      "outputs": [
        {
          "output_type": "stream",
          "name": "stdout",
          "text": [
            "H e l l o, W o r l d\n"
          ]
        }
      ]
    },
    {
      "cell_type": "markdown",
      "source": [
        "T check if a string is emty\n"
      ],
      "metadata": {
        "id": "WcihMpnLW5EJ"
      }
    },
    {
      "cell_type": "code",
      "source": [
        "s= ''\n",
        "if len(s)==0:\n",
        "  print('empty')\n",
        "else:\n",
        "  print('not')"
      ],
      "metadata": {
        "colab": {
          "base_uri": "https://localhost:8080/"
        },
        "id": "QfBJPtVAW7eZ",
        "outputId": "5a04b1af-c5c5-45f6-f79a-78ef6eb022b6"
      },
      "execution_count": null,
      "outputs": [
        {
          "output_type": "stream",
          "name": "stdout",
          "text": [
            "empty\n"
          ]
        }
      ]
    },
    {
      "cell_type": "markdown",
      "source": [
        "Problem statement\n",
        "Print the following pattern for the given N number of rows.\n",
        "Pattern for N = 4\n",
        "4444\n",
        "4444\n",
        "4444\n",
        "4444\n",
        "\n",
        "Detailed explanation ( Input/output format, Notes, Images )\n",
        "Constraints\n",
        "0 <= N <= 50\n",
        "Sample Input 1:\n",
        "7\n",
        "Sample Output 1:\n",
        "7777777\n",
        "7777777\n",
        "7777777\n",
        "7777777\n",
        "7777777\n",
        "7777777\n",
        "7777777\n",
        "Sample Input 1:\n",
        "6\n",
        "Sample Output 1:\n",
        "666666\n",
        "666666\n",
        "666666\n",
        "666666\n",
        "666666\n",
        "666666\n"
      ],
      "metadata": {
        "id": "hOu14xjPPC9r"
      }
    },
    {
      "cell_type": "code",
      "source": [
        "n= int(input())\n",
        "for i in range(n):\n",
        " print(str(n)*n)"
      ],
      "metadata": {
        "id": "asGAds2ePI_O",
        "outputId": "f4ca696b-554b-4be2-d4ef-2bb22f417da3",
        "colab": {
          "base_uri": "https://localhost:8080/"
        }
      },
      "execution_count": 2,
      "outputs": [
        {
          "output_type": "stream",
          "name": "stdout",
          "text": [
            "4\n",
            "4444\n",
            "4444\n",
            "4444\n",
            "4444\n"
          ]
        }
      ]
    },
    {
      "cell_type": "markdown",
      "source": [
        "Problem statement\n",
        "Print the following pattern for the given N number of rows.\n",
        "Pattern for N = 4\n",
        "*\n",
        "**\n",
        "***\n",
        "****\n",
        "\n",
        "Note : There are no spaces between the stars (*).\n",
        "Detailed explanation ( Input/output format, Notes, Images )\n",
        "Constraints\n",
        "0 <= N <= 50\n",
        "Sample Input 1:\n",
        "5\n",
        "Sample Output 1:\n",
        "*\n",
        "**\n",
        "***\n",
        "****\n",
        "*****\n",
        "Sample Input 2:\n",
        "6\n",
        "Sample Output 2:\n",
        "*\n",
        "**\n",
        "***\n",
        "****\n",
        "*****\n",
        "******\n"
      ],
      "metadata": {
        "id": "WRQHIIMcZktI"
      }
    },
    {
      "cell_type": "code",
      "source": [
        "n= int(input())\n",
        "for i in range(1, n+1):\n",
        "  print('*'* i)"
      ],
      "metadata": {
        "id": "c4jYHpYaZoFn",
        "outputId": "38a945a1-4e21-4d44-b7f3-0f7a4bf9e2d2",
        "colab": {
          "base_uri": "https://localhost:8080/"
        }
      },
      "execution_count": 6,
      "outputs": [
        {
          "output_type": "stream",
          "name": "stdout",
          "text": [
            "4\n",
            "*\n",
            "**\n",
            "***\n",
            "****\n"
          ]
        }
      ]
    },
    {
      "cell_type": "markdown",
      "source": [
        "Problem statement\n",
        "Print the following pattern for the given N number of rows.\n",
        "Pattern for N = 4\n",
        "1\n",
        "22\n",
        "333\n",
        "4444\n",
        "\n",
        "Detailed explanation ( Input/output format, Notes, Images )\n",
        "Constraints\n",
        "0 <= N <= 50\n",
        "Sample Input 1:\n",
        "5\n",
        "Sample Output 1:\n",
        "1\n",
        "22\n",
        "333\n",
        "4444\n",
        "55555\n",
        "Sample Input 2:\n",
        "6\n",
        "Sample Output 2:\n",
        "1\n",
        "22\n",
        "333\n",
        "4444\n",
        "55555\n",
        "666666\n"
      ],
      "metadata": {
        "id": "C6HI3phkg8mv"
      }
    },
    {
      "cell_type": "code",
      "source": [
        "n= int(input())\n",
        "for i in range(1, n+1):\n",
        "  print(str(i)*i)"
      ],
      "metadata": {
        "id": "WWkA-A0Yg-_G",
        "outputId": "c82633b5-b42b-4fc6-e0ed-6cffc736a2f3",
        "colab": {
          "base_uri": "https://localhost:8080/"
        }
      },
      "execution_count": 7,
      "outputs": [
        {
          "output_type": "stream",
          "name": "stdout",
          "text": [
            "4\n",
            "1\n",
            "22\n",
            "333\n",
            "4444\n"
          ]
        }
      ]
    },
    {
      "cell_type": "markdown",
      "source": [
        "Problem statement\n",
        "Print the following pattern for the given N number of rows.\n",
        "Pattern for N = 4\n",
        "1\n",
        "11\n",
        "121\n",
        "1221\n",
        "\n",
        "Detailed explanation ( Input/output format, Notes, Images )\n",
        "Sample Input :\n",
        "5\n",
        "\n",
        "Sample Output :\n",
        "1\n",
        "11\n",
        "121\n",
        "1221\n",
        "12221\n"
      ],
      "metadata": {
        "id": "tJaGL2JnwqjQ"
      }
    },
    {
      "cell_type": "code",
      "source": [
        "n= int(input())\n",
        "for i in range(1, n+1):\n",
        "  if i ==1:\n",
        "    print(1)\n",
        "  elif i ==2:\n",
        "   print(11)\n",
        "  else:\n",
        "    print(str('1'+'2'*(i-2)+'1'))"
      ],
      "metadata": {
        "id": "NH4NF7rGw_QL",
        "outputId": "5861c785-935a-422a-bd5c-7e1b8d7fda3a",
        "colab": {
          "base_uri": "https://localhost:8080/"
        }
      },
      "execution_count": 6,
      "outputs": [
        {
          "output_type": "stream",
          "name": "stdout",
          "text": [
            "6\n",
            "1\n",
            "11\n",
            "121\n",
            "1221\n",
            "12221\n",
            "122221\n"
          ]
        }
      ]
    },
    {
      "cell_type": "markdown",
      "source": [
        "Problem statement\n",
        "Print the following pattern for the given N number of rows.\n",
        "Pattern for N = 4\n",
        "1\n",
        "21\n",
        "321\n",
        "4321\n",
        "\n",
        "Detailed explanation ( Input/output format, Notes, Images )\n",
        "Constraints\n",
        "0 <= N <= 50\n",
        "Sample Input 1:\n",
        "5\n",
        "Sample Output 1:\n",
        "1\n",
        "21\n",
        "321\n",
        "4321\n",
        "54321\n",
        "Sample Input 2:\n",
        "6\n",
        "Sample Output 2:\n",
        "1\n",
        "21\n",
        "321\n",
        "4321\n",
        "54321\n"
      ],
      "metadata": {
        "id": "d8hPp_mYxsAo"
      }
    },
    {
      "cell_type": "code",
      "source": [
        "n= int(input())\n",
        "for i in range(1, n+1):\n",
        " if i ==1:\n",
        "  print(1)\n",
        " if i ==2:\n",
        "   print(i+str(i-1))"
      ],
      "metadata": {
        "id": "PKsciAMOxtEx",
        "outputId": "e2c827b7-44f9-4c99-b701-c5c1ab32796e",
        "colab": {
          "base_uri": "https://localhost:8080/",
          "height": 211
        }
      },
      "execution_count": 2,
      "outputs": [
        {
          "output_type": "stream",
          "name": "stdout",
          "text": [
            "2\n",
            "1\n"
          ]
        },
        {
          "output_type": "error",
          "ename": "TypeError",
          "evalue": "unsupported operand type(s) for +: 'int' and 'str'",
          "traceback": [
            "\u001b[0;31m---------------------------------------------------------------------------\u001b[0m",
            "\u001b[0;31mTypeError\u001b[0m                                 Traceback (most recent call last)",
            "\u001b[0;32m/tmp/ipython-input-394305500.py\u001b[0m in \u001b[0;36m<cell line: 0>\u001b[0;34m()\u001b[0m\n\u001b[1;32m      4\u001b[0m   \u001b[0mprint\u001b[0m\u001b[0;34m(\u001b[0m\u001b[0;36m1\u001b[0m\u001b[0;34m)\u001b[0m\u001b[0;34m\u001b[0m\u001b[0;34m\u001b[0m\u001b[0m\n\u001b[1;32m      5\u001b[0m  \u001b[0;32mif\u001b[0m \u001b[0mi\u001b[0m \u001b[0;34m==\u001b[0m\u001b[0;36m2\u001b[0m\u001b[0;34m:\u001b[0m\u001b[0;34m\u001b[0m\u001b[0;34m\u001b[0m\u001b[0m\n\u001b[0;32m----> 6\u001b[0;31m    \u001b[0mprint\u001b[0m\u001b[0;34m(\u001b[0m\u001b[0mi\u001b[0m\u001b[0;34m+\u001b[0m\u001b[0mstr\u001b[0m\u001b[0;34m(\u001b[0m\u001b[0mi\u001b[0m\u001b[0;34m-\u001b[0m\u001b[0;36m1\u001b[0m\u001b[0;34m)\u001b[0m\u001b[0;34m)\u001b[0m\u001b[0;34m\u001b[0m\u001b[0;34m\u001b[0m\u001b[0m\n\u001b[0m",
            "\u001b[0;31mTypeError\u001b[0m: unsupported operand type(s) for +: 'int' and 'str'"
          ]
        }
      ]
    },
    {
      "cell_type": "code",
      "source": [
        "n= int(input())\n",
        "for i in range(1, n+1):\n",
        "  for j in range(i, 0, -1):\n",
        "    print(j, end=\"\")\n",
        "  print()\n"
      ],
      "metadata": {
        "id": "xRsbVr2ANjuG",
        "outputId": "69ab2235-bcfa-4338-bf3c-de84fbd7fb91",
        "colab": {
          "base_uri": "https://localhost:8080/"
        }
      },
      "execution_count": 5,
      "outputs": [
        {
          "output_type": "stream",
          "name": "stdout",
          "text": [
            "7\n",
            "1\n",
            "21\n",
            "321\n",
            "4321\n",
            "54321\n",
            "654321\n",
            "7654321\n"
          ]
        }
      ]
    },
    {
      "cell_type": "markdown",
      "source": [
        "Step 2: What does print(j, end=\"\") mean?\n",
        "Normally, print(j) adds a newline after each number.\n",
        "\n",
        "But end=\"\" tells Python not to add a newline, just print numbers side by side."
      ],
      "metadata": {
        "id": "SvHq0mlhOY-Z"
      }
    },
    {
      "cell_type": "markdown",
      "source": [
        "But since end=\"\" is used, it does not move to the next line after finishing the row.\n",
        "\n",
        "So after finishing, the cursor is still at the end of the same line.\n",
        "\n"
      ],
      "metadata": {
        "id": "lMvKlsPaSM-n"
      }
    },
    {
      "cell_type": "markdown",
      "source": [
        "This empty print() just moves the cursor to the next line.\n",
        "\n",
        "Without it, all rows would get printed on the same line.\n",
        "\n"
      ],
      "metadata": {
        "id": "qwXYMzrnSSSF"
      }
    },
    {
      "cell_type": "markdown",
      "source": [
        "Problem statement\n",
        "Print the following pattern for the given N number of rows.\n",
        "Pattern for N = 4\n",
        "A\n",
        "BC\n",
        "CDE\n",
        "DEFG\n",
        "\n",
        "Detailed explanation ( Input/output format, Notes, Images )\n",
        "Constraints\n",
        "0 <= N <= 13\n",
        "\n",
        "Sample Input 1:\n",
        "5\n",
        "\n",
        "Sample Output 1:\n",
        "A\n",
        "BC\n",
        "CDE\n",
        "DEFG\n",
        "EFGHI\n",
        "\n",
        "Sample Input 2:\n",
        "6\n",
        "\n",
        "Sample Output 2:\n",
        "A\n",
        "BC\n",
        "CDE\n",
        "DEFG\n",
        "EFGHI\n",
        "FGHIJK\n",
        "\n"
      ],
      "metadata": {
        "id": "vxTkq__0SbnM"
      }
    },
    {
      "cell_type": "code",
      "source": [
        "n = int(input())\n",
        "for i in range(1, n+1):\n",
        " row= \"\"\n",
        " start= 65+ (i-1)\n",
        " for j in range(i):\n",
        "  row +=chr(start+j)\n",
        " print(row)"
      ],
      "metadata": {
        "id": "mUvhlRZaSR1h",
        "outputId": "9aa96aaa-ed20-4d55-d0cf-0e3d421451b7",
        "colab": {
          "base_uri": "https://localhost:8080/"
        }
      },
      "execution_count": 7,
      "outputs": [
        {
          "output_type": "stream",
          "name": "stdout",
          "text": [
            "8\n",
            "A\n",
            "BC\n",
            "CDE\n",
            "DEFG\n",
            "EFGHI\n",
            "FGHIJK\n",
            "GHIJKLM\n",
            "HIJKLMNO\n"
          ]
        }
      ]
    },
    {
      "cell_type": "markdown",
      "source": [
        "🔹 Step-by-step Explanation\n",
        "1. Input\n",
        "python\n",
        "Copy\n",
        "Edit\n",
        "N = int(input())\n",
        "Reads the number of rows.\n",
        "\n",
        "Example: If N = 4, we want 4 rows.\n",
        "\n",
        "2. Outer loop (rows)\n",
        "python\n",
        "Copy\n",
        "Edit\n",
        "for i in range(1, N+1):\n",
        "Runs from 1 to N.\n",
        "\n",
        "Controls which row we are printing.\n",
        "\n",
        "So for N=4: i = 1, 2, 3, 4.\n",
        "\n",
        "3. Initialize row string\n",
        "python\n",
        "Copy\n",
        "Edit\n",
        "row = \"\"\n",
        "We’ll build each row as a string before printing.\n",
        "\n",
        "4. Find the starting character of the row\n",
        "python\n",
        "Copy\n",
        "Edit\n",
        "start = 65 + (i - 1)\n",
        "Recall: chr(65) = 'A'.\n",
        "\n",
        "So 65 + (i-1) gives the ASCII code of the row’s first letter.\n",
        "\n",
        "Example:\n",
        "\n",
        "Row 1 → 65 + (1-1) = 65 → 'A'\n",
        "\n",
        "Row 2 → 65 + (2-1) = 66 → 'B'\n",
        "\n",
        "Row 3 → 65 + (3-1) = 67 → 'C'\n",
        "\n",
        "Row 4 → 65 + (4-1) = 68 → 'D'\n",
        "\n",
        "5. Inner loop (characters in a row)\n",
        "python\n",
        "Copy\n",
        "Edit\n",
        "for j in range(i):\n",
        "    row += chr(start + j)\n",
        "This loop adds characters to the row.\n",
        "\n",
        "It runs exactly i times (so row i has i characters).\n",
        "\n",
        "Each time, it takes the next alphabet using chr(start + j).\n",
        "\n",
        "Example (Row 3, i=3):\n",
        "\n",
        "start = 67 ('C')\n",
        "\n",
        "Iterations:\n",
        "\n",
        "j=0 → chr(67+0) = 'C'\n",
        "\n",
        "j=1 → chr(67+1) = 'D'\n",
        "\n",
        "j=2 → chr(67+2) = 'E'\n",
        "\n",
        "Row string becomes \"CDE\".\n",
        "\n",
        "6. Print the row\n",
        "python\n",
        "Copy\n",
        "Edit\n",
        "print(row)\n",
        "After building one row, we print it.\n",
        "\n",
        "Then outer loop moves to the next row.\n",
        "\n"
      ],
      "metadata": {
        "id": "8Hf-C_6gWE3M"
      }
    },
    {
      "cell_type": "markdown",
      "source": [
        "Problem statement\n",
        "Print the following pattern for the given number of rows.\n",
        "Pattern for N = 5\n",
        "E\n",
        "DE\n",
        "CDE\n",
        "BCDE\n",
        "ABCDE\n",
        "\n",
        "Detailed explanation ( Input/output format, Notes, Images )\n",
        "Constraints\n",
        "0 <= N <= 26\n",
        "\n",
        "Sample Input 1:\n",
        "8\n",
        "\n",
        "Sample Output 1:\n",
        "H\n",
        "GH\n",
        "FGH\n",
        "EFGH\n",
        "DEFGH\n",
        "CDEFGH\n",
        "BCDEFGH\n",
        "ABCDEFGH\n",
        "Sample Input 2:\n",
        "7\n",
        "Sample Output 2:\n",
        "G\n",
        "FG\n",
        "EFG\n",
        "DEFG\n",
        "CDEFG\n",
        "BCDEFG\n",
        "ABCDEFG\n",
        "\n"
      ],
      "metadata": {
        "id": "xqt0epOTWgTh"
      }
    },
    {
      "cell_type": "code",
      "source": [
        "n= int(input())\n",
        "for i in range(1, n+1):\n",
        " start = 65 + (n-i)\n",
        " end = 65+n\n",
        " row= \"\".join(chr(ch) for ch in range(start, end))\n",
        " print(row)"
      ],
      "metadata": {
        "id": "hftPCnaKWmcs",
        "outputId": "683628b1-05f2-41cd-9c7a-8b925c22dc21",
        "colab": {
          "base_uri": "https://localhost:8080/"
        }
      },
      "execution_count": 10,
      "outputs": [
        {
          "output_type": "stream",
          "name": "stdout",
          "text": [
            "6\n",
            "F\n",
            "EF\n",
            "DEF\n",
            "CDEF\n",
            "BCDEF\n",
            "ABCDEF\n"
          ]
        }
      ]
    },
    {
      "cell_type": "markdown",
      "source": [
        "🔹 Step-by-Step Breakdown\n",
        "1. Input\n",
        "python\n",
        "Copy\n",
        "Edit\n",
        "N = int(input())\n",
        "Reads the number of rows.\n",
        "\n",
        "Example: If N = 5, we want 5 rows.\n",
        "\n",
        "2. Outer loop\n",
        "python\n",
        "Copy\n",
        "Edit\n",
        "for i in range(1, N+1):\n",
        "Runs from 1 to N.\n",
        "\n",
        "Controls which row we are printing.\n",
        "\n",
        "So if N=5, i = 1,2,3,4,5.\n",
        "\n",
        "3. Find starting letter\n",
        "python\n",
        "Copy\n",
        "Edit\n",
        "start = 65 + (N - i)\n",
        "chr(65) → 'A', chr(66) → 'B', …, chr(90) → 'Z'.\n",
        "\n",
        "So 65 is ASCII code of 'A'.\n",
        "\n",
        "For each row, we calculate the ASCII code of the first character.\n",
        "\n",
        "Example when N=5:\n",
        "\n",
        "Row 1 (i=1): 65 + (5-1) = 69 → 'E'\n",
        "\n",
        "Row 2 (i=2): 65 + (5-2) = 68 → 'D'\n",
        "\n",
        "Row 3 (i=3): 65 + (5-3) = 67 → 'C'\n",
        "\n",
        "Row 4 (i=4): 65 + (5-4) = 66 → 'B'\n",
        "\n",
        "Row 5 (i=5): 65 + (5-5) = 65 → 'A'\n",
        "\n",
        "✅ That matches the expected starting letters.\n",
        "\n",
        "4. Find ending letter\n",
        "python\n",
        "Copy\n",
        "Edit\n",
        "end = 65 + N\n",
        "The row must always end at the N-th alphabet.\n",
        "\n",
        "For N=5, that means end=70 ('F') → so range goes until just before 'F', i.e. up to 'E'.\n",
        "\n",
        "5. Build the row\n",
        "python\n",
        "Copy\n",
        "Edit\n",
        "row = \"\".join(chr(ch) for ch in range(start, end))\n",
        "range(start, end) → generates all ASCII values from start to end-1.\n",
        "\n",
        "chr(ch) converts each ASCII number to a character.\n",
        "\n",
        "\"\".join(...) concatenates them into a single string with no spaces.\n",
        "\n",
        "Example (N=5, i=3 → Row 3):\n",
        "\n",
        "start = 67 ('C'), end = 70 ('F')\n",
        "\n",
        "Characters: 'C' 'D' 'E'\n",
        "\n",
        "\"\".join(...) → \"CDE\"\n",
        "\n",
        "6. Print the row\n",
        "python\n",
        "Copy\n",
        "Edit\n",
        "print(row)\n",
        "After building one row string, print it.\n",
        "\n",
        "Then go back to the outer loop for the next row.\n",
        "\n"
      ],
      "metadata": {
        "id": "zz2y1JmYZP6x"
      }
    },
    {
      "cell_type": "markdown",
      "source": [
        "Problem statement\n",
        "Print the following pattern for the given N number of rows.\n",
        "Pattern for N = 4\n",
        "1\n",
        "11\n",
        "111\n",
        "1111\n",
        "\n",
        "Detailed explanation ( Input/output format, Notes, Images )\n",
        "Sample Input :\n",
        "5\n",
        "\n",
        "Sample Output :\n",
        "1\n",
        "11\n",
        "111\n",
        "1111\n",
        "11111\n"
      ],
      "metadata": {
        "id": "sHHeeamtZRUt"
      }
    },
    {
      "cell_type": "code",
      "source": [
        "n= int(input())\n",
        "for i in range(1, n+1):\n",
        " if i ==1:\n",
        "  print(1)\n",
        " elif i ==2:\n",
        "  print(11)\n",
        " else:\n",
        "  print('1'*i)"
      ],
      "metadata": {
        "id": "lb10bwedZYBP",
        "outputId": "f6cc243b-2c92-4081-dd84-f4d8f8a996ca",
        "colab": {
          "base_uri": "https://localhost:8080/"
        }
      },
      "execution_count": 12,
      "outputs": [
        {
          "output_type": "stream",
          "name": "stdout",
          "text": [
            "6\n",
            "1\n",
            "11\n",
            "111\n",
            "1111\n",
            "11111\n",
            "111111\n"
          ]
        }
      ]
    },
    {
      "cell_type": "markdown",
      "source": [
        "# or"
      ],
      "metadata": {
        "id": "XY_APHG8dP-_"
      }
    },
    {
      "cell_type": "code",
      "source": [
        "N = int(input())\n",
        "\n",
        "for i in range(1, N+1):\n",
        "    print(\"1\" * i)\n"
      ],
      "metadata": {
        "id": "WgeVwaOldPZg",
        "outputId": "5ef7989c-b334-45b7-a971-e3c89ed9a649",
        "colab": {
          "base_uri": "https://localhost:8080/"
        }
      },
      "execution_count": 13,
      "outputs": [
        {
          "output_type": "stream",
          "name": "stdout",
          "text": [
            "8\n",
            "1\n",
            "11\n",
            "111\n",
            "1111\n",
            "11111\n",
            "111111\n",
            "1111111\n",
            "11111111\n"
          ]
        }
      ]
    },
    {
      "cell_type": "markdown",
      "source": [
        "Problem statement\n",
        "Print the following pattern for the given N number of rows.\n",
        "Pattern for N = 4\n",
        "1\n",
        "11\n",
        "202\n",
        "3003\n",
        "\n",
        "Detailed explanation ( Input/output format, Notes, Images )\n",
        "Constraints:\n",
        "1 <= n <= 50\n",
        "\n",
        "Output format :\n",
        "Pattern in N lines\n",
        "\n",
        "Sample Input :\n",
        "5\n",
        "\n",
        "Sample Output :\n",
        "1\n",
        "11\n",
        "202\n",
        "3003\n",
        "40004\n"
      ],
      "metadata": {
        "id": "0xklhwemdWKB"
      }
    },
    {
      "cell_type": "code",
      "source": [
        "n= int(input())\n",
        "for i in range(1, n+1):\n",
        "  if i ==1:\n",
        "    print(1)\n",
        "  if i ==2:\n",
        "    print(11)\n",
        "  else:\n",
        "    print(str(i-1)+'0'*(i-2)+str(i-1))\n"
      ],
      "metadata": {
        "id": "yfw6bs3OdcuH",
        "outputId": "d10080e2-f230-436a-fff0-a69c9f86fee1",
        "colab": {
          "base_uri": "https://localhost:8080/"
        }
      },
      "execution_count": 14,
      "outputs": [
        {
          "output_type": "stream",
          "name": "stdout",
          "text": [
            "5\n",
            "1\n",
            "00\n",
            "11\n",
            "202\n",
            "3003\n",
            "40004\n"
          ]
        }
      ]
    },
    {
      "cell_type": "markdown",
      "source": [
        "Problem statement\n",
        "Print the following pattern for the given N number of rows.\n",
        "Pattern for N = 4\n",
        "1234\n",
        "123\n",
        "12\n",
        "1\n",
        "\n",
        "Detailed explanation ( Input/output format, Notes, Images )\n",
        "Sample Input :\n",
        "5\n",
        "\n",
        "Sample Output :\n",
        "12345\n",
        "1234\n",
        "123\n",
        "12\n",
        "1\n"
      ],
      "metadata": {
        "id": "mKFNw8QghTFY"
      }
    },
    {
      "cell_type": "code",
      "source": [
        "n= int(input())\n",
        "for i in range(1, n+1):\n",
        "  for j in range(i, 0, +1)\n",
        "   print('i')"
      ],
      "metadata": {
        "id": "vXdRtQushgN_"
      },
      "execution_count": null,
      "outputs": []
    },
    {
      "cell_type": "markdown",
      "source": [
        "why my code didnt work because- for the no of rows which is denoted by i it contins 5 elements in the first row\n",
        "- and j tells us what kind of elements to add"
      ],
      "metadata": {
        "id": "dIzrYiDZlHT-"
      }
    },
    {
      "cell_type": "code",
      "source": [
        "N = int(input())\n",
        "\n",
        "for i in range(N, 0, -1):   # from N down to 1\n",
        "    for j in range(1, i+1): # print numbers 1 to i\n",
        "        print(j, end=\"\")\n",
        "    print()  # move to next line\n"
      ],
      "metadata": {
        "id": "zTgvA6XOkqf6",
        "outputId": "51db4760-ede0-481e-8a7d-82f559895f90",
        "colab": {
          "base_uri": "https://localhost:8080/"
        }
      },
      "execution_count": 15,
      "outputs": [
        {
          "output_type": "stream",
          "name": "stdout",
          "text": [
            "4\n",
            "1234\n",
            "123\n",
            "12\n",
            "1\n"
          ]
        }
      ]
    },
    {
      "cell_type": "markdown",
      "source": [
        "Print the following pattern for the given N number of rows.\n",
        "Pattern for N = 3\n",
        "A\n",
        "BB\n",
        "CCC\n",
        "\n",
        "Detailed explanation ( Input/output format, Notes, Images )\n",
        "Constraints\n",
        "0 <= N <= 26\n",
        "Sample Input 1:\n",
        "7\n",
        "Sample Output 1:\n",
        "A\n",
        "BB\n",
        "CCC\n",
        "DDDD\n",
        "EEEEE\n",
        "FFFFFF\n",
        "GGGGGGG\n",
        "Sample Input 2:\n",
        "6\n",
        "Sample Output 2:\n",
        "A\n",
        "BB\n",
        "CCC\n",
        "DDDD\n",
        "EEEEE\n",
        "FFFFFF\n",
        "\n"
      ],
      "metadata": {
        "id": "7iKKQj8rlhnQ"
      }
    },
    {
      "cell_type": "code",
      "source": [
        "n= int(input())\n",
        "for i in range(1, n+1):\n",
        "  ch= chr(65+i-1)\n",
        "  print(ch*i)\n"
      ],
      "metadata": {
        "id": "wVHFztwzmWWX",
        "outputId": "8e77ebef-2e92-4abe-9008-58a9ae0997ff",
        "colab": {
          "base_uri": "https://localhost:8080/"
        }
      },
      "execution_count": 16,
      "outputs": [
        {
          "output_type": "stream",
          "name": "stdout",
          "text": [
            "5\n",
            "A\n",
            "BB\n",
            "CCC\n",
            "DDDD\n",
            "EEEEE\n"
          ]
        }
      ]
    },
    {
      "cell_type": "markdown",
      "source": [
        "Problem statement\n",
        "Print the following pattern for the given N number of rows.\n",
        "Pattern for N = 4\n",
        "4444\n",
        "333\n",
        "22\n",
        "1\n",
        "\n",
        "Detailed explanation ( Input/output format, Notes, Images )\n",
        "Constraints :\n",
        "0 <= N <= 50\n",
        "\n",
        "Sample Input 1:\n",
        "5\n",
        "\n",
        "Sample Output 1:\n",
        "55555\n",
        "4444\n",
        "333\n",
        "22\n",
        "1\n",
        "\n",
        "Sample Input 2:\n",
        "6\n",
        "\n",
        "Sample Output 2:\n",
        "666666\n",
        "55555\n",
        "4444\n",
        "333\n",
        "22\n",
        "1\n",
        "\n",
        "\n"
      ],
      "metadata": {
        "id": "QIoLLaQtqGZg"
      }
    },
    {
      "cell_type": "code",
      "source": [
        "n= int(input())\n",
        "for i in range(n, 0, -1):\n",
        "  print(str(i)*i)"
      ],
      "metadata": {
        "id": "LRIUNVdHqF_q",
        "outputId": "ef748fa2-5761-4a90-f7b8-abcdf86565fd",
        "colab": {
          "base_uri": "https://localhost:8080/"
        }
      },
      "execution_count": 17,
      "outputs": [
        {
          "output_type": "stream",
          "name": "stdout",
          "text": [
            "4\n",
            "4444\n",
            "333\n",
            "22\n",
            "1\n"
          ]
        }
      ]
    },
    {
      "cell_type": "markdown",
      "source": [
        "Problem statement\n",
        "Print the following pattern for the given N number of rows.\n",
        "Pattern for N = 4\n",
        "\n",
        "The dots represent spaces.\n",
        "Detailed explanation ( Input/output format, Notes, Images )\n",
        "Constraints\n",
        "0 <= N <= 50\n",
        "\n",
        "Sample Input 1:\n",
        "3\n",
        "\n",
        "Sample Output 1:\n",
        "     1\n",
        "    12\n",
        "  123\n",
        "\n",
        "Sample Input 2:\n",
        "4\n",
        "\n",
        "Sample Output 2:\n",
        "     1\n",
        "    12\n",
        "  123\n",
        "1234\n",
        "\n"
      ],
      "metadata": {
        "id": "WrfDOiqOqv-2"
      }
    },
    {
      "cell_type": "code",
      "source": [
        "n= int(input())\n",
        "for i in range(1, n+1):\n",
        " spaces = \"\"*(n-i)\n",
        " char= \"\".join(str(j) for j in range(1, i+1))\n",
        " print(spaces+char)"
      ],
      "metadata": {
        "id": "OJ3YDWBrt-T7",
        "outputId": "7ecd6e41-8685-4805-8df5-0548570e61b4",
        "colab": {
          "base_uri": "https://localhost:8080/"
        }
      },
      "execution_count": 20,
      "outputs": [
        {
          "output_type": "stream",
          "name": "stdout",
          "text": [
            "6\n",
            "1\n",
            "12\n",
            "123\n",
            "1234\n",
            "12345\n",
            "123456\n"
          ]
        }
      ]
    },
    {
      "cell_type": "markdown",
      "source": [
        "Problem statement\n",
        "Print the following pattern for the given number of rows.\n",
        "Pattern for N = 4\n",
        "1111\n",
        "000\n",
        "11\n",
        "0\n",
        "\n",
        "Input format : N (Total no. of rows)\n",
        "Output format : Pattern in N lines\n",
        "Sample Input :\n",
        "5\n",
        "\n",
        "Sample Output :\n",
        "11111\n",
        "0000\n",
        "111\n",
        "00\n",
        "1\n",
        "\n"
      ],
      "metadata": {
        "id": "3KvmgWW4M-QQ"
      }
    },
    {
      "cell_type": "code",
      "source": [
        "n= int(input())\n",
        "for i in range(n):\n",
        " length= n-i\n",
        " if i%2==0:\n",
        "  print('1'* length)\n",
        " else:\n",
        "  print('0'*length)"
      ],
      "metadata": {
        "id": "JUliczAoNCNc",
        "outputId": "58f3aa64-8506-43d4-8a52-43538039b0c9",
        "colab": {
          "base_uri": "https://localhost:8080/"
        }
      },
      "execution_count": 23,
      "outputs": [
        {
          "output_type": "stream",
          "name": "stdout",
          "text": [
            "6\n",
            "111111\n",
            "00000\n",
            "1111\n",
            "000\n",
            "11\n",
            "0\n"
          ]
        }
      ]
    },
    {
      "cell_type": "markdown",
      "source": [
        "Problem statement\n",
        "Print the following pattern for a given n.\n",
        "For eg. N = 6\n",
        "123456\n",
        "  23456\n",
        "    3456\n",
        "      456\n",
        "        56\n",
        "          6\n",
        "        56\n",
        "      456\n",
        "    3456\n",
        "  23456\n",
        "123456\n",
        "\n",
        "Sample Input 1 :\n",
        "4\n",
        "\n",
        "Sample Output 1 :\n",
        "1234\n",
        "  234\n",
        "    34\n",
        "      4\n",
        "    34\n",
        "  234\n",
        "1234\n"
      ],
      "metadata": {
        "id": "54jTSfPFRLZn"
      }
    },
    {
      "cell_type": "code",
      "source": [],
      "metadata": {
        "id": "dTvaU13gRKn7"
      },
      "execution_count": null,
      "outputs": []
    }
  ]
}